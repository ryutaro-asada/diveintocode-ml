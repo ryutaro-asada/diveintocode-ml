{
 "cells": [
  {
   "cell_type": "code",
   "execution_count": 5,
   "metadata": {},
   "outputs": [],
   "source": [
    "import numpy as np"
   ]
  },
  {
   "cell_type": "code",
   "execution_count": 2,
   "metadata": {},
   "outputs": [
    {
     "name": "stderr",
     "output_type": "stream",
     "text": [
      "/opt/anaconda3/lib/python3.7/site-packages/tensorflow/python/framework/dtypes.py:516: FutureWarning: Passing (type, 1) or '1type' as a synonym of type is deprecated; in a future version of numpy, it will be understood as (type, (1,)) / '(1,)type'.\n",
      "  _np_qint8 = np.dtype([(\"qint8\", np.int8, 1)])\n",
      "/opt/anaconda3/lib/python3.7/site-packages/tensorflow/python/framework/dtypes.py:517: FutureWarning: Passing (type, 1) or '1type' as a synonym of type is deprecated; in a future version of numpy, it will be understood as (type, (1,)) / '(1,)type'.\n",
      "  _np_quint8 = np.dtype([(\"quint8\", np.uint8, 1)])\n",
      "/opt/anaconda3/lib/python3.7/site-packages/tensorflow/python/framework/dtypes.py:518: FutureWarning: Passing (type, 1) or '1type' as a synonym of type is deprecated; in a future version of numpy, it will be understood as (type, (1,)) / '(1,)type'.\n",
      "  _np_qint16 = np.dtype([(\"qint16\", np.int16, 1)])\n",
      "/opt/anaconda3/lib/python3.7/site-packages/tensorflow/python/framework/dtypes.py:519: FutureWarning: Passing (type, 1) or '1type' as a synonym of type is deprecated; in a future version of numpy, it will be understood as (type, (1,)) / '(1,)type'.\n",
      "  _np_quint16 = np.dtype([(\"quint16\", np.uint16, 1)])\n",
      "/opt/anaconda3/lib/python3.7/site-packages/tensorflow/python/framework/dtypes.py:520: FutureWarning: Passing (type, 1) or '1type' as a synonym of type is deprecated; in a future version of numpy, it will be understood as (type, (1,)) / '(1,)type'.\n",
      "  _np_qint32 = np.dtype([(\"qint32\", np.int32, 1)])\n",
      "/opt/anaconda3/lib/python3.7/site-packages/tensorflow/python/framework/dtypes.py:525: FutureWarning: Passing (type, 1) or '1type' as a synonym of type is deprecated; in a future version of numpy, it will be understood as (type, (1,)) / '(1,)type'.\n",
      "  np_resource = np.dtype([(\"resource\", np.ubyte, 1)])\n",
      "/opt/anaconda3/lib/python3.7/site-packages/tensorboard/compat/tensorflow_stub/dtypes.py:541: FutureWarning: Passing (type, 1) or '1type' as a synonym of type is deprecated; in a future version of numpy, it will be understood as (type, (1,)) / '(1,)type'.\n",
      "  _np_qint8 = np.dtype([(\"qint8\", np.int8, 1)])\n",
      "/opt/anaconda3/lib/python3.7/site-packages/tensorboard/compat/tensorflow_stub/dtypes.py:542: FutureWarning: Passing (type, 1) or '1type' as a synonym of type is deprecated; in a future version of numpy, it will be understood as (type, (1,)) / '(1,)type'.\n",
      "  _np_quint8 = np.dtype([(\"quint8\", np.uint8, 1)])\n",
      "/opt/anaconda3/lib/python3.7/site-packages/tensorboard/compat/tensorflow_stub/dtypes.py:543: FutureWarning: Passing (type, 1) or '1type' as a synonym of type is deprecated; in a future version of numpy, it will be understood as (type, (1,)) / '(1,)type'.\n",
      "  _np_qint16 = np.dtype([(\"qint16\", np.int16, 1)])\n",
      "/opt/anaconda3/lib/python3.7/site-packages/tensorboard/compat/tensorflow_stub/dtypes.py:544: FutureWarning: Passing (type, 1) or '1type' as a synonym of type is deprecated; in a future version of numpy, it will be understood as (type, (1,)) / '(1,)type'.\n",
      "  _np_quint16 = np.dtype([(\"quint16\", np.uint16, 1)])\n",
      "/opt/anaconda3/lib/python3.7/site-packages/tensorboard/compat/tensorflow_stub/dtypes.py:545: FutureWarning: Passing (type, 1) or '1type' as a synonym of type is deprecated; in a future version of numpy, it will be understood as (type, (1,)) / '(1,)type'.\n",
      "  _np_qint32 = np.dtype([(\"qint32\", np.int32, 1)])\n",
      "/opt/anaconda3/lib/python3.7/site-packages/tensorboard/compat/tensorflow_stub/dtypes.py:550: FutureWarning: Passing (type, 1) or '1type' as a synonym of type is deprecated; in a future version of numpy, it will be understood as (type, (1,)) / '(1,)type'.\n",
      "  np_resource = np.dtype([(\"resource\", np.ubyte, 1)])\n"
     ]
    },
    {
     "name": "stdout",
     "output_type": "stream",
     "text": [
      "WARNING:tensorflow:From /opt/anaconda3/lib/python3.7/site-packages/tensorflow/python/ops/init_ops.py:1251: calling VarianceScaling.__init__ (from tensorflow.python.ops.init_ops) with dtype is deprecated and will be removed in a future version.\n",
      "Instructions for updating:\n",
      "Call initializer instance with the dtype argument instead of passing it to the constructor\n"
     ]
    }
   ],
   "source": [
    "import tensorflow as tfs\n",
    "model = tf.keras.Sequential([tf.keras.layers.Dense(1, activation = tf.nn.sigmoid, input_shape=(2,))])"
   ]
  },
  {
   "cell_type": "markdown",
   "metadata": {},
   "source": [
    "### 【問題1】公式チュートリアルモデルを分担して実行\n",
    "TensorFLowの公式チュートリアルモデルを分担して実行してください。"
   ]
  },
  {
   "cell_type": "markdown",
   "metadata": {},
   "source": [
    "### 別ファイルの2_2_tensorflow_tutorial_testで実行した。"
   ]
  },
  {
   "cell_type": "markdown",
   "metadata": {},
   "source": [
    "### 【問題3】Iris（2値分類）をKerasで学習\n",
    "TensorFlowによるIrisデータセットに対する2値分類をKerasに書き換えてください。"
   ]
  },
  {
   "cell_type": "code",
   "execution_count": 1,
   "metadata": {},
   "outputs": [],
   "source": [
    "# データセットの読み込み\n",
    "import pandas as pd\n",
    "from sklearn import datasets\n",
    "\n",
    "# import some data to play with\n",
    "iris = datasets.load_iris()\n",
    "X = iris.data[:100]  # we only take the first two features.\n",
    "y = iris.target[:100]"
   ]
  },
  {
   "cell_type": "code",
   "execution_count": 2,
   "metadata": {},
   "outputs": [
    {
     "data": {
      "text/plain": [
       "(100, 4)"
      ]
     },
     "execution_count": 2,
     "metadata": {},
     "output_type": "execute_result"
    }
   ],
   "source": [
    "X.shape"
   ]
  },
  {
   "cell_type": "code",
   "execution_count": 3,
   "metadata": {},
   "outputs": [
    {
     "data": {
      "text/plain": [
       "(100,)"
      ]
     },
     "execution_count": 3,
     "metadata": {},
     "output_type": "execute_result"
    }
   ],
   "source": [
    "y.shape"
   ]
  },
  {
   "cell_type": "code",
   "execution_count": 6,
   "metadata": {},
   "outputs": [
    {
     "name": "stderr",
     "output_type": "stream",
     "text": [
      "/opt/anaconda3/lib/python3.7/site-packages/sklearn/preprocessing/_encoders.py:415: FutureWarning: The handling of integer data will change in version 0.22. Currently, the categories are determined based on the range [0, max(values)], while in the future they will be determined based on the unique values.\n",
      "If you want the future behaviour and silence this warning, you can specify \"categories='auto'\".\n",
      "In case you used a LabelEncoder before this OneHotEncoder to convert the categories to integers, then you can now use the OneHotEncoder directly.\n",
      "  warnings.warn(msg, FutureWarning)\n"
     ]
    }
   ],
   "source": [
    "from sklearn.datasets import load_iris\n",
    "from sklearn.model_selection import train_test_split\n",
    "from sklearn.preprocessing import OneHotEncoder, StandardScaler\n",
    "\n",
    "iris = load_iris()\n",
    "X = iris['data'][:100]\n",
    "y = iris['target'][:100]\n",
    "names = iris['target_names']\n",
    "feature_names = iris['feature_names']\n",
    "\n",
    "# One hot encoding\n",
    "enc = OneHotEncoder()\n",
    "Y = enc.fit_transform(y[:, np.newaxis]).toarray()\n",
    "\n",
    "# Scale data to have mean 0 and variance 1 \n",
    "# which is importance for convergence of the neural network\n",
    "scaler = StandardScaler()\n",
    "X_scaled = scaler.fit_transform(X)\n",
    "\n",
    "# Split the data set into training and testing\n",
    "X_train_2, X_test_2, y_train_2, y_test_2 = train_test_split(\n",
    "    X_scaled, Y, test_size=0.5, random_state=2)"
   ]
  },
  {
   "cell_type": "code",
   "execution_count": 7,
   "metadata": {},
   "outputs": [
    {
     "name": "stderr",
     "output_type": "stream",
     "text": [
      "Using TensorFlow backend.\n"
     ]
    },
    {
     "name": "stdout",
     "output_type": "stream",
     "text": [
      "Model: \"sequential_1\"\n",
      "_________________________________________________________________\n",
      "Layer (type)                 Output Shape              Param #   \n",
      "=================================================================\n",
      "dense_1 (Dense)              (None, 10)                50        \n",
      "_________________________________________________________________\n",
      "dense_2 (Dense)              (None, 8)                 88        \n",
      "_________________________________________________________________\n",
      "dense_3 (Dense)              (None, 6)                 54        \n",
      "_________________________________________________________________\n",
      "dense_4 (Dense)              (None, 2)                 14        \n",
      "=================================================================\n",
      "Total params: 206\n",
      "Trainable params: 206\n",
      "Non-trainable params: 0\n",
      "_________________________________________________________________\n"
     ]
    }
   ],
   "source": [
    "#Defining the model \n",
    "\n",
    "from keras.models import Sequential\n",
    "from keras.layers import Dense\n",
    "from keras.optimizers import SGD,Adam\n",
    "\n",
    "\n",
    "model = Sequential()\n",
    "\n",
    "model.add(Dense(10,input_shape=(4,),activation='tanh'))\n",
    "model.add(Dense(8,activation='tanh'))\n",
    "model.add(Dense(6,activation='tanh'))\n",
    "model.add(Dense(2,activation='softmax'))\n",
    "\n",
    "model.compile(Adam(lr=0.04),'categorical_crossentropy',metrics=['accuracy'])\n",
    "\n",
    "model.summary()"
   ]
  },
  {
   "cell_type": "code",
   "execution_count": 8,
   "metadata": {},
   "outputs": [
    {
     "name": "stdout",
     "output_type": "stream",
     "text": [
      "Epoch 1/3\n",
      "50/50 [==============================] - 1s 11ms/step - loss: 0.7367 - accuracy: 0.4000\n",
      "Epoch 2/3\n",
      "50/50 [==============================] - 0s 240us/step - loss: 0.4304 - accuracy: 0.9200\n",
      "Epoch 3/3\n",
      "50/50 [==============================] - 0s 192us/step - loss: 0.2128 - accuracy: 1.0000\n"
     ]
    }
   ],
   "source": [
    "#fitting the model and predicting \n",
    "model.fit(X_train_2,y_train_2,epochs=3)\n",
    "y_pred_2 = model.predict(X_test_2)\n",
    "\n",
    "y_test_class_2 = np.argmax(y_test_2,axis=1)\n",
    "y_pred_class_2 = np.argmax(y_pred_2,axis=1)"
   ]
  },
  {
   "cell_type": "code",
   "execution_count": 9,
   "metadata": {},
   "outputs": [
    {
     "data": {
      "text/plain": [
       "1.0"
      ]
     },
     "execution_count": 9,
     "metadata": {},
     "output_type": "execute_result"
    }
   ],
   "source": [
    "from sklearn.metrics import accuracy_score\n",
    "\n",
    "accuracy_score(y_test_class_2, y_pred_class_2)"
   ]
  },
  {
   "cell_type": "markdown",
   "metadata": {},
   "source": [
    "### 【問題4】Iris（多値分類）をKerasで学習\n",
    "TensorFlowによるIrisデータセットに対する3値分類をKerasに書き換えてください。"
   ]
  },
  {
   "cell_type": "code",
   "execution_count": 10,
   "metadata": {},
   "outputs": [
    {
     "name": "stderr",
     "output_type": "stream",
     "text": [
      "/opt/anaconda3/lib/python3.7/site-packages/sklearn/preprocessing/_encoders.py:415: FutureWarning: The handling of integer data will change in version 0.22. Currently, the categories are determined based on the range [0, max(values)], while in the future they will be determined based on the unique values.\n",
      "If you want the future behaviour and silence this warning, you can specify \"categories='auto'\".\n",
      "In case you used a LabelEncoder before this OneHotEncoder to convert the categories to integers, then you can now use the OneHotEncoder directly.\n",
      "  warnings.warn(msg, FutureWarning)\n"
     ]
    }
   ],
   "source": [
    "from sklearn.datasets import load_iris\n",
    "from sklearn.model_selection import train_test_split\n",
    "from sklearn.preprocessing import OneHotEncoder, StandardScaler\n",
    "\n",
    "iris = load_iris()\n",
    "X = iris['data']\n",
    "y = iris['target']\n",
    "names = iris['target_names']\n",
    "feature_names = iris['feature_names']\n",
    "\n",
    "# One hot encoding\n",
    "enc = OneHotEncoder()\n",
    "Y = enc.fit_transform(y[:, np.newaxis]).toarray()\n",
    "\n",
    "# Scale data to have mean 0 and variance 1 \n",
    "# which is importance for convergence of the neural network\n",
    "scaler = StandardScaler()\n",
    "X_scaled = scaler.fit_transform(X)\n",
    "\n",
    "# Split the data set into training and testing\n",
    "X_train, X_test, y_train, y_test = train_test_split(\n",
    "    X_scaled, Y, test_size=0.5, random_state=2)\n",
    "\n",
    "n_features = X.shape[1]\n",
    "n_classes = Y.shape[1]"
   ]
  },
  {
   "cell_type": "code",
   "execution_count": 11,
   "metadata": {},
   "outputs": [
    {
     "name": "stdout",
     "output_type": "stream",
     "text": [
      "Model: \"sequential_2\"\n",
      "_________________________________________________________________\n",
      "Layer (type)                 Output Shape              Param #   \n",
      "=================================================================\n",
      "dense_5 (Dense)              (None, 10)                50        \n",
      "_________________________________________________________________\n",
      "dense_6 (Dense)              (None, 8)                 88        \n",
      "_________________________________________________________________\n",
      "dense_7 (Dense)              (None, 6)                 54        \n",
      "_________________________________________________________________\n",
      "dense_8 (Dense)              (None, 3)                 21        \n",
      "=================================================================\n",
      "Total params: 213\n",
      "Trainable params: 213\n",
      "Non-trainable params: 0\n",
      "_________________________________________________________________\n"
     ]
    }
   ],
   "source": [
    "#Defining the model \n",
    "\n",
    "from keras.models import Sequential\n",
    "from keras.layers import Dense\n",
    "from keras.optimizers import SGD,Adam\n",
    "\n",
    "\n",
    "model = Sequential()\n",
    "\n",
    "model.add(Dense(10,input_shape=(4,),activation='tanh'))\n",
    "model.add(Dense(8,activation='tanh'))\n",
    "model.add(Dense(6,activation='tanh'))\n",
    "model.add(Dense(3,activation='softmax'))\n",
    "\n",
    "model.compile(Adam(lr=0.04),'categorical_crossentropy',metrics=['accuracy'])\n",
    "\n",
    "model.summary()"
   ]
  },
  {
   "cell_type": "code",
   "execution_count": 12,
   "metadata": {},
   "outputs": [
    {
     "name": "stdout",
     "output_type": "stream",
     "text": [
      "Epoch 1/50\n",
      "75/75 [==============================] - 0s 2ms/step - loss: 1.0768 - accuracy: 0.4133\n",
      "Epoch 2/50\n",
      "75/75 [==============================] - 0s 137us/step - loss: 0.6335 - accuracy: 0.6667\n",
      "Epoch 3/50\n",
      "75/75 [==============================] - 0s 196us/step - loss: 0.4816 - accuracy: 0.8133\n",
      "Epoch 4/50\n",
      "75/75 [==============================] - 0s 104us/step - loss: 0.4049 - accuracy: 0.8400\n",
      "Epoch 5/50\n",
      "75/75 [==============================] - 0s 210us/step - loss: 0.3307 - accuracy: 0.8667\n",
      "Epoch 6/50\n",
      "75/75 [==============================] - 0s 157us/step - loss: 0.2899 - accuracy: 0.8933\n",
      "Epoch 7/50\n",
      "75/75 [==============================] - 0s 152us/step - loss: 0.2175 - accuracy: 0.9467\n",
      "Epoch 8/50\n",
      "75/75 [==============================] - 0s 148us/step - loss: 0.1653 - accuracy: 0.9600\n",
      "Epoch 9/50\n",
      "75/75 [==============================] - 0s 182us/step - loss: 0.1264 - accuracy: 0.9600\n",
      "Epoch 10/50\n",
      "75/75 [==============================] - 0s 118us/step - loss: 0.1013 - accuracy: 0.9733\n",
      "Epoch 11/50\n",
      "75/75 [==============================] - 0s 223us/step - loss: 0.0857 - accuracy: 0.9867\n",
      "Epoch 12/50\n",
      "75/75 [==============================] - 0s 154us/step - loss: 0.1131 - accuracy: 0.9600\n",
      "Epoch 13/50\n",
      "75/75 [==============================] - 0s 102us/step - loss: 0.0639 - accuracy: 0.9867\n",
      "Epoch 14/50\n",
      "75/75 [==============================] - 0s 153us/step - loss: 0.1575 - accuracy: 0.9333\n",
      "Epoch 15/50\n",
      "75/75 [==============================] - 0s 105us/step - loss: 0.0629 - accuracy: 0.9867\n",
      "Epoch 16/50\n",
      "75/75 [==============================] - 0s 167us/step - loss: 0.1879 - accuracy: 0.9333\n",
      "Epoch 17/50\n",
      "75/75 [==============================] - 0s 102us/step - loss: 0.1058 - accuracy: 0.9600\n",
      "Epoch 18/50\n",
      "75/75 [==============================] - 0s 160us/step - loss: 0.1796 - accuracy: 0.9467\n",
      "Epoch 19/50\n",
      "75/75 [==============================] - 0s 113us/step - loss: 0.0913 - accuracy: 0.9733\n",
      "Epoch 20/50\n",
      "75/75 [==============================] - 0s 129us/step - loss: 0.0918 - accuracy: 0.9600\n",
      "Epoch 21/50\n",
      "75/75 [==============================] - 0s 138us/step - loss: 0.0813 - accuracy: 0.9733\n",
      "Epoch 22/50\n",
      "75/75 [==============================] - 0s 201us/step - loss: 0.0492 - accuracy: 0.9733\n",
      "Epoch 23/50\n",
      "75/75 [==============================] - 0s 129us/step - loss: 0.0635 - accuracy: 0.9733\n",
      "Epoch 24/50\n",
      "75/75 [==============================] - 0s 170us/step - loss: 0.0676 - accuracy: 0.9867\n",
      "Epoch 25/50\n",
      "75/75 [==============================] - 0s 127us/step - loss: 0.0596 - accuracy: 0.9733\n",
      "Epoch 26/50\n",
      "75/75 [==============================] - 0s 144us/step - loss: 0.0471 - accuracy: 0.9733\n",
      "Epoch 27/50\n",
      "75/75 [==============================] - 0s 135us/step - loss: 0.0444 - accuracy: 0.9733\n",
      "Epoch 28/50\n",
      "75/75 [==============================] - 0s 147us/step - loss: 0.0419 - accuracy: 0.9733\n",
      "Epoch 29/50\n",
      "75/75 [==============================] - 0s 170us/step - loss: 0.0432 - accuracy: 0.9733\n",
      "Epoch 30/50\n",
      "75/75 [==============================] - 0s 119us/step - loss: 0.0395 - accuracy: 0.9867\n",
      "Epoch 31/50\n",
      "75/75 [==============================] - 0s 120us/step - loss: 0.0343 - accuracy: 0.9733\n",
      "Epoch 32/50\n",
      "75/75 [==============================] - 0s 187us/step - loss: 0.0359 - accuracy: 0.9867\n",
      "Epoch 33/50\n",
      "75/75 [==============================] - 0s 149us/step - loss: 0.0360 - accuracy: 0.9867\n",
      "Epoch 34/50\n",
      "75/75 [==============================] - 0s 150us/step - loss: 0.0296 - accuracy: 0.9867\n",
      "Epoch 35/50\n",
      "75/75 [==============================] - 0s 138us/step - loss: 0.0373 - accuracy: 0.9867\n",
      "Epoch 36/50\n",
      "75/75 [==============================] - 0s 114us/step - loss: 0.0375 - accuracy: 0.9867\n",
      "Epoch 37/50\n",
      "75/75 [==============================] - 0s 173us/step - loss: 0.0278 - accuracy: 0.9733\n",
      "Epoch 38/50\n",
      "75/75 [==============================] - 0s 126us/step - loss: 0.0349 - accuracy: 0.9867\n",
      "Epoch 39/50\n",
      "75/75 [==============================] - 0s 149us/step - loss: 0.0369 - accuracy: 0.9867\n",
      "Epoch 40/50\n",
      "75/75 [==============================] - 0s 116us/step - loss: 0.0456 - accuracy: 0.9867\n",
      "Epoch 41/50\n",
      "75/75 [==============================] - 0s 93us/step - loss: 0.0315 - accuracy: 0.9867\n",
      "Epoch 42/50\n",
      "75/75 [==============================] - 0s 150us/step - loss: 0.0258 - accuracy: 0.9867\n",
      "Epoch 43/50\n",
      "75/75 [==============================] - 0s 129us/step - loss: 0.0310 - accuracy: 0.9867\n",
      "Epoch 44/50\n",
      "75/75 [==============================] - 0s 124us/step - loss: 0.0229 - accuracy: 1.0000\n",
      "Epoch 45/50\n",
      "75/75 [==============================] - 0s 161us/step - loss: 0.0319 - accuracy: 0.9867\n",
      "Epoch 46/50\n",
      "75/75 [==============================] - 0s 117us/step - loss: 0.0252 - accuracy: 0.9867\n",
      "Epoch 47/50\n",
      "75/75 [==============================] - 0s 143us/step - loss: 0.0196 - accuracy: 0.9867\n",
      "Epoch 48/50\n",
      "75/75 [==============================] - 0s 147us/step - loss: 0.0283 - accuracy: 0.9867\n",
      "Epoch 49/50\n",
      "75/75 [==============================] - 0s 115us/step - loss: 0.0314 - accuracy: 0.9867\n",
      "Epoch 50/50\n",
      "75/75 [==============================] - 0s 113us/step - loss: 0.0302 - accuracy: 0.9867\n"
     ]
    }
   ],
   "source": [
    "#fitting the model and predicting \n",
    "model.fit(X_train,y_train,epochs=50)\n",
    "y_pred = model.predict(X_test)\n",
    "\n",
    "y_test_class = np.argmax(y_test,axis=1)\n",
    "y_pred_class = np.argmax(y_pred,axis=1)"
   ]
  },
  {
   "cell_type": "code",
   "execution_count": 14,
   "metadata": {},
   "outputs": [
    {
     "data": {
      "text/plain": [
       "0.9466666666666667"
      ]
     },
     "execution_count": 14,
     "metadata": {},
     "output_type": "execute_result"
    }
   ],
   "source": [
    "from sklearn.metrics import accuracy_score\n",
    "\n",
    "accuracy_score(y_test_class, y_pred_class)"
   ]
  },
  {
   "cell_type": "markdown",
   "metadata": {},
   "source": [
    "### 【問題5】House PricesをKerasで学習\n",
    "TensorFlowによるHouse Pricesデータセットに対する回帰をKerasに書き換えてください。"
   ]
  },
  {
   "cell_type": "markdown",
   "metadata": {},
   "source": [
    "#### この中のtrain.csvをダウンロードし、  \n",
    "## 目的変数としてSalePrice、   \n",
    "## 説明変数として、GrLivAreaとYearBuilt  \n",
    "を使ってください。説明変数はさらに増やしても構いません。"
   ]
  },
  {
   "cell_type": "code",
   "execution_count": 16,
   "metadata": {},
   "outputs": [
    {
     "name": "stdout",
     "output_type": "stream",
     "text": [
      "Shape of the train data with all features: (1460, 81)\n",
      "Shape of the train data with all features: (1459, 80)\n"
     ]
    }
   ],
   "source": [
    "import itertools\n",
    "\n",
    "import pandas as pd\n",
    "import numpy as np\n",
    "import matplotlib.pyplot as plt\n",
    "from pylab import rcParams\n",
    "import matplotlib\n",
    "\n",
    "from sklearn.model_selection import train_test_split\n",
    "from sklearn.preprocessing import MinMaxScaler\n",
    "\n",
    "train = pd.read_csv('/Users/user/Downloads/house-prices-advanced-regression-techniques/train.csv')\n",
    "print('Shape of the train data with all features:', train.shape)\n",
    "\n",
    "\n",
    "test = pd.read_csv('/Users/user/Downloads/house-prices-advanced-regression-techniques/test.csv')\n",
    "print('Shape of the train data with all features:', test.shape)\n",
    "# test = test.select_dtypes(exclude=['object'])\n",
    "# ID = test.Id\n",
    "# test.fillna(0,inplace=True)\n",
    "# test.drop('Id',axis = 1, inplace = True)\n",
    "\n",
    "# print(\"\")\n",
    "# print(\"List of features contained our dataset:\",list(train.columns))"
   ]
  },
  {
   "cell_type": "code",
   "execution_count": 17,
   "metadata": {},
   "outputs": [],
   "source": [
    "X_data =  train[['GrLivArea', 'YearBuilt']]\n",
    "X_data_np = np.array(X_data)\n",
    "y_data = train[['SalePrice']]\n",
    "y_data_np = np.array(y_data)"
   ]
  },
  {
   "cell_type": "code",
   "execution_count": 18,
   "metadata": {},
   "outputs": [],
   "source": [
    "# Scale data to have mean 0 and variance 1 \n",
    "# which is importance for convergence of the neural network\n",
    "scalerX = StandardScaler()\n",
    "scalery = StandardScaler()\n",
    "X_scaled = scalerX.fit_transform(X_data_np)\n",
    "y_scaled = scalery.fit_transform(y_data_np)"
   ]
  },
  {
   "cell_type": "code",
   "execution_count": 19,
   "metadata": {},
   "outputs": [],
   "source": [
    "# Split the data set into training and testing\n",
    "X_train, X_test, y_train, y_test = train_test_split(X_scaled , y_scaled, test_size=0.3, random_state=8)"
   ]
  },
  {
   "cell_type": "code",
   "execution_count": 20,
   "metadata": {},
   "outputs": [],
   "source": [
    "import numpy as np\n",
    "from keras.models import Sequential\n",
    "from keras.layers import Dense\n",
    "from keras import optimizers\n",
    "\n",
    "seed = 7\n",
    "np.random.seed(seed)\n",
    "\n",
    "# Model\n",
    "model = Sequential()\n",
    "model.add(Dense(200, input_dim=2, kernel_initializer='normal', activation='relu'))\n",
    "model.add(Dense(100, kernel_initializer='normal', activation='relu'))\n",
    "model.add(Dense(50, kernel_initializer='normal', activation='relu'))\n",
    "model.add(Dense(25, kernel_initializer='normal', activation='relu'))\n",
    "model.add(Dense(1, kernel_initializer='normal'))\n",
    "# Compile model\n",
    "model.compile(loss='mean_squared_error', optimizer= optimizers.Adagrad(learning_rate=0.01))"
   ]
  },
  {
   "cell_type": "code",
   "execution_count": 21,
   "metadata": {},
   "outputs": [
    {
     "name": "stdout",
     "output_type": "stream",
     "text": [
      "Epoch 1/100\n",
      "1022/1022 [==============================] - 0s 254us/step - loss: 0.4684\n",
      "Epoch 2/100\n",
      "1022/1022 [==============================] - 0s 80us/step - loss: 0.3238\n",
      "Epoch 3/100\n",
      "1022/1022 [==============================] - 0s 97us/step - loss: 0.3805\n",
      "Epoch 4/100\n",
      "1022/1022 [==============================] - 0s 64us/step - loss: 0.3413\n",
      "Epoch 5/100\n",
      "1022/1022 [==============================] - 0s 83us/step - loss: 0.3338\n",
      "Epoch 6/100\n",
      "1022/1022 [==============================] - ETA: 0s - loss: 0.341 - 0s 105us/step - loss: 0.3239\n",
      "Epoch 7/100\n",
      "1022/1022 [==============================] - 0s 99us/step - loss: 0.3214\n",
      "Epoch 8/100\n",
      "1022/1022 [==============================] - 0s 94us/step - loss: 0.3209\n",
      "Epoch 9/100\n",
      "1022/1022 [==============================] - 0s 131us/step - loss: 0.3186\n",
      "Epoch 10/100\n",
      "1022/1022 [==============================] - 0s 76us/step - loss: 0.3180: 0s - loss: 0.322\n",
      "Epoch 11/100\n",
      "1022/1022 [==============================] - 0s 111us/step - loss: 0.3184\n",
      "Epoch 12/100\n",
      "1022/1022 [==============================] - 0s 85us/step - loss: 0.3175\n",
      "Epoch 13/100\n",
      "1022/1022 [==============================] - 0s 84us/step - loss: 0.3154\n",
      "Epoch 14/100\n",
      "1022/1022 [==============================] - 0s 99us/step - loss: 0.3134\n",
      "Epoch 15/100\n",
      "1022/1022 [==============================] - 0s 93us/step - loss: 0.3111\n",
      "Epoch 16/100\n",
      "1022/1022 [==============================] - 0s 80us/step - loss: 0.3128\n",
      "Epoch 17/100\n",
      "1022/1022 [==============================] - 0s 102us/step - loss: 0.3124\n",
      "Epoch 18/100\n",
      "1022/1022 [==============================] - 0s 90us/step - loss: 0.3112\n",
      "Epoch 19/100\n",
      "1022/1022 [==============================] - 0s 80us/step - loss: 0.3064\n",
      "Epoch 20/100\n",
      "1022/1022 [==============================] - 0s 95us/step - loss: 0.3122\n",
      "Epoch 21/100\n",
      "1022/1022 [==============================] - 0s 123us/step - loss: 0.3073\n",
      "Epoch 22/100\n",
      "1022/1022 [==============================] - 0s 121us/step - loss: 0.3102\n",
      "Epoch 23/100\n",
      "1022/1022 [==============================] - 0s 78us/step - loss: 0.3101\n",
      "Epoch 24/100\n",
      "1022/1022 [==============================] - 0s 60us/step - loss: 0.3081\n",
      "Epoch 25/100\n",
      "1022/1022 [==============================] - 0s 82us/step - loss: 0.3075\n",
      "Epoch 26/100\n",
      "1022/1022 [==============================] - 0s 59us/step - loss: 0.3091\n",
      "Epoch 27/100\n",
      "1022/1022 [==============================] - 0s 62us/step - loss: 0.3068\n",
      "Epoch 28/100\n",
      "1022/1022 [==============================] - 0s 78us/step - loss: 0.3059\n",
      "Epoch 29/100\n",
      "1022/1022 [==============================] - 0s 80us/step - loss: 0.3053\n",
      "Epoch 30/100\n",
      "1022/1022 [==============================] - 0s 95us/step - loss: 0.3052\n",
      "Epoch 31/100\n",
      "1022/1022 [==============================] - 0s 101us/step - loss: 0.3050\n",
      "Epoch 32/100\n",
      "1022/1022 [==============================] - 0s 86us/step - loss: 0.3038\n",
      "Epoch 33/100\n",
      "1022/1022 [==============================] - 0s 71us/step - loss: 0.3047\n",
      "Epoch 34/100\n",
      "1022/1022 [==============================] - 0s 72us/step - loss: 0.3041\n",
      "Epoch 35/100\n",
      "1022/1022 [==============================] - 0s 70us/step - loss: 0.3047\n",
      "Epoch 36/100\n",
      "1022/1022 [==============================] - 0s 96us/step - loss: 0.3050\n",
      "Epoch 37/100\n",
      "1022/1022 [==============================] - 0s 77us/step - loss: 0.3028\n",
      "Epoch 38/100\n",
      "1022/1022 [==============================] - 0s 93us/step - loss: 0.2987\n",
      "Epoch 39/100\n",
      "1022/1022 [==============================] - 0s 81us/step - loss: 0.3025\n",
      "Epoch 40/100\n",
      "1022/1022 [==============================] - 0s 70us/step - loss: 0.3018\n",
      "Epoch 41/100\n",
      "1022/1022 [==============================] - 0s 65us/step - loss: 0.3009\n",
      "Epoch 42/100\n",
      "1022/1022 [==============================] - 0s 61us/step - loss: 0.2991\n",
      "Epoch 43/100\n",
      "1022/1022 [==============================] - 0s 64us/step - loss: 0.2986\n",
      "Epoch 44/100\n",
      "1022/1022 [==============================] - 0s 104us/step - loss: 0.2997\n",
      "Epoch 45/100\n",
      "1022/1022 [==============================] - 0s 80us/step - loss: 0.3013\n",
      "Epoch 46/100\n",
      "1022/1022 [==============================] - 0s 76us/step - loss: 0.2999\n",
      "Epoch 47/100\n",
      "1022/1022 [==============================] - 0s 71us/step - loss: 0.3016\n",
      "Epoch 48/100\n",
      "1022/1022 [==============================] - 0s 75us/step - loss: 0.2999\n",
      "Epoch 49/100\n",
      "1022/1022 [==============================] - 0s 79us/step - loss: 0.2997\n",
      "Epoch 50/100\n",
      "1022/1022 [==============================] - 0s 74us/step - loss: 0.3012\n",
      "Epoch 51/100\n",
      "1022/1022 [==============================] - 0s 68us/step - loss: 0.2968\n",
      "Epoch 52/100\n",
      "1022/1022 [==============================] - 0s 68us/step - loss: 0.2989\n",
      "Epoch 53/100\n",
      "1022/1022 [==============================] - 0s 73us/step - loss: 0.2976\n",
      "Epoch 54/100\n",
      "1022/1022 [==============================] - 0s 72us/step - loss: 0.2991: 0s - loss: 0.316\n",
      "Epoch 55/100\n",
      "1022/1022 [==============================] - 0s 89us/step - loss: 0.3000\n",
      "Epoch 56/100\n",
      "1022/1022 [==============================] - 0s 85us/step - loss: 0.2961\n",
      "Epoch 57/100\n",
      "1022/1022 [==============================] - 0s 79us/step - loss: 0.2959\n",
      "Epoch 58/100\n",
      "1022/1022 [==============================] - 0s 98us/step - loss: 0.2974\n",
      "Epoch 59/100\n",
      "1022/1022 [==============================] - 0s 72us/step - loss: 0.2978\n",
      "Epoch 60/100\n",
      "1022/1022 [==============================] - 0s 62us/step - loss: 0.2974\n",
      "Epoch 61/100\n",
      "1022/1022 [==============================] - 0s 78us/step - loss: 0.2961\n",
      "Epoch 62/100\n",
      "1022/1022 [==============================] - 0s 120us/step - loss: 0.2946 0s - loss: 0.306\n",
      "Epoch 63/100\n",
      "1022/1022 [==============================] - 0s 118us/step - loss: 0.2962\n",
      "Epoch 64/100\n",
      "1022/1022 [==============================] - 0s 71us/step - loss: 0.2964\n",
      "Epoch 65/100\n",
      "1022/1022 [==============================] - 0s 96us/step - loss: 0.2953\n",
      "Epoch 66/100\n",
      "1022/1022 [==============================] - 0s 87us/step - loss: 0.2979\n",
      "Epoch 67/100\n",
      "1022/1022 [==============================] - 0s 74us/step - loss: 0.2947\n",
      "Epoch 68/100\n",
      "1022/1022 [==============================] - 0s 78us/step - loss: 0.2953\n",
      "Epoch 69/100\n",
      "1022/1022 [==============================] - 0s 58us/step - loss: 0.2953\n",
      "Epoch 70/100\n",
      "1022/1022 [==============================] - 0s 51us/step - loss: 0.2962\n",
      "Epoch 71/100\n",
      "1022/1022 [==============================] - 0s 58us/step - loss: 0.2944\n",
      "Epoch 72/100\n",
      "1022/1022 [==============================] - 0s 61us/step - loss: 0.2939\n",
      "Epoch 73/100\n",
      "1022/1022 [==============================] - 0s 71us/step - loss: 0.2943\n",
      "Epoch 74/100\n",
      "1022/1022 [==============================] - 0s 138us/step - loss: 0.2955\n",
      "Epoch 75/100\n",
      "1022/1022 [==============================] - 0s 106us/step - loss: 0.2954\n",
      "Epoch 76/100\n",
      "1022/1022 [==============================] - 0s 61us/step - loss: 0.2943\n",
      "Epoch 77/100\n",
      "1022/1022 [==============================] - 0s 79us/step - loss: 0.2924\n",
      "Epoch 78/100\n",
      "1022/1022 [==============================] - 0s 93us/step - loss: 0.2957\n",
      "Epoch 79/100\n",
      "1022/1022 [==============================] - 0s 87us/step - loss: 0.2949\n",
      "Epoch 80/100\n",
      "1022/1022 [==============================] - 0s 60us/step - loss: 0.2945\n",
      "Epoch 81/100\n",
      "1022/1022 [==============================] - 0s 59us/step - loss: 0.2935\n",
      "Epoch 82/100\n",
      "1022/1022 [==============================] - 0s 56us/step - loss: 0.2938\n",
      "Epoch 83/100\n",
      "1022/1022 [==============================] - 0s 58us/step - loss: 0.2939\n",
      "Epoch 84/100\n",
      "1022/1022 [==============================] - 0s 58us/step - loss: 0.2933\n",
      "Epoch 85/100\n",
      "1022/1022 [==============================] - 0s 63us/step - loss: 0.2926\n",
      "Epoch 86/100\n",
      "1022/1022 [==============================] - 0s 119us/step - loss: 0.2927\n",
      "Epoch 87/100\n",
      "1022/1022 [==============================] - 0s 91us/step - loss: 0.2908\n",
      "Epoch 88/100\n",
      "1022/1022 [==============================] - 0s 116us/step - loss: 0.2924\n",
      "Epoch 89/100\n",
      "1022/1022 [==============================] - 0s 81us/step - loss: 0.2936\n",
      "Epoch 90/100\n",
      "1022/1022 [==============================] - 0s 72us/step - loss: 0.2920\n",
      "Epoch 91/100\n",
      "1022/1022 [==============================] - 0s 98us/step - loss: 0.2925\n",
      "Epoch 92/100\n",
      "1022/1022 [==============================] - 0s 103us/step - loss: 0.2920\n",
      "Epoch 93/100\n",
      "1022/1022 [==============================] - 0s 79us/step - loss: 0.2919\n",
      "Epoch 94/100\n",
      "1022/1022 [==============================] - 0s 55us/step - loss: 0.2910\n",
      "Epoch 95/100\n",
      "1022/1022 [==============================] - 0s 51us/step - loss: 0.2917\n",
      "Epoch 96/100\n",
      "1022/1022 [==============================] - 0s 56us/step - loss: 0.2911\n",
      "Epoch 97/100\n",
      "1022/1022 [==============================] - 0s 59us/step - loss: 0.2910\n",
      "Epoch 98/100\n",
      "1022/1022 [==============================] - 0s 70us/step - loss: 0.2913\n",
      "Epoch 99/100\n",
      "1022/1022 [==============================] - 0s 115us/step - loss: 0.2917\n",
      "Epoch 100/100\n",
      "1022/1022 [==============================] - 0s 121us/step - loss: 0.2904\n"
     ]
    }
   ],
   "source": [
    "#fitting the model and predicting \n",
    "model.fit(X_train,y_train,epochs=100)\n",
    "y_pred = model.predict(X_test)"
   ]
  },
  {
   "cell_type": "code",
   "execution_count": 22,
   "metadata": {},
   "outputs": [
    {
     "data": {
      "text/plain": [
       "0.30883334362086634"
      ]
     },
     "execution_count": 22,
     "metadata": {},
     "output_type": "execute_result"
    }
   ],
   "source": [
    "from sklearn.metrics import mean_squared_error\n",
    "\n",
    "mean_squared_error(y_test, y_pred)"
   ]
  },
  {
   "cell_type": "code",
   "execution_count": 24,
   "metadata": {},
   "outputs": [
    {
     "data": {
      "text/plain": [
       "<matplotlib.legend.Legend at 0x13d8cb690>"
      ]
     },
     "execution_count": 24,
     "metadata": {},
     "output_type": "execute_result"
    },
    {
     "data": {
      "image/png": "[encoded data removed]",
      "text/plain": [
       "<Figure size 432x288 with 1 Axes>"
      ]
     },
     "metadata": {
      "needs_background": "light"
     },
     "output_type": "display_data"
    }
   ],
   "source": [
    "import matplotlib.pyplot as plt\n",
    "plt.scatter(X_test[:, 0], y_test, c = 'b', label = 'Real')\n",
    "plt.scatter(X_test[:, 0], y_pred, c = 'r', label = 'prediction')\n",
    "plt.legend()"
   ]
  },
  {
   "cell_type": "code",
   "execution_count": 25,
   "metadata": {},
   "outputs": [
    {
     "data": {
      "text/plain": [
       "<matplotlib.legend.Legend at 0x13d9f7950>"
      ]
     },
     "execution_count": 25,
     "metadata": {},
     "output_type": "execute_result"
    },
    {
     "data": {
      "image/png": "[encoded data removed]",
      "text/plain": [
       "<Figure size 432x288 with 1 Axes>"
      ]
     },
     "metadata": {
      "needs_background": "light"
     },
     "output_type": "display_data"
    }
   ],
   "source": [
    "plt.scatter(X_test[:, 1], y_test, c = 'b', label = 'Real')\n",
    "plt.scatter(X_test[:, 1], y_pred, c = 'r', label = 'prediction')\n",
    "plt.legend()"
   ]
  },
  {
   "cell_type": "markdown",
   "metadata": {},
   "source": [
    "### 【問題6】MNISTをKerasで学習\n",
    "TensorFlowによるMNISTデータセットによる画像の多値分類をKerasに書き換えてください。"
   ]
  },
  {
   "cell_type": "code",
   "execution_count": 26,
   "metadata": {},
   "outputs": [],
   "source": [
    "from keras.datasets import mnist\n",
    "(X_train, y_train), (X_test, y_test) = mnist.load_data()"
   ]
  },
  {
   "cell_type": "code",
   "execution_count": 27,
   "metadata": {},
   "outputs": [
    {
     "name": "stdout",
     "output_type": "stream",
     "text": [
      "1.0\n",
      "0.0\n"
     ]
    }
   ],
   "source": [
    "X_train = X_train.astype(np.float)\n",
    "X_test = X_test.astype(np.float)\n",
    "X_train /= 255\n",
    "X_test /= 255\n",
    "print(X_train.max()) # 1.0\n",
    "print(X_train.min()) # 0.0"
   ]
  },
  {
   "cell_type": "code",
   "execution_count": 28,
   "metadata": {},
   "outputs": [
    {
     "name": "stdout",
     "output_type": "stream",
     "text": [
      "(60000,)\n",
      "(60000, 10)\n",
      "float64\n"
     ]
    }
   ],
   "source": [
    "from sklearn.preprocessing import OneHotEncoder\n",
    "enc = OneHotEncoder(handle_unknown='ignore', sparse=False)\n",
    "y_train_one_hot = enc.fit_transform(y_train[:, np.newaxis])\n",
    "y_test_one_hot = enc.transform(y_test[:, np.newaxis])\n",
    "print(y_train.shape) # (60000,)\n",
    "print(y_train_one_hot.shape) # (60000, 10)\n",
    "print(y_train_one_hot.dtype) # float64"
   ]
  },
  {
   "cell_type": "code",
   "execution_count": 29,
   "metadata": {},
   "outputs": [],
   "source": [
    "X_train_chan = X_train.reshape(-1,28,28,1)\n",
    "X_test_chan = X_test.reshape(-1,28,28,1)"
   ]
  },
  {
   "cell_type": "code",
   "execution_count": 35,
   "metadata": {},
   "outputs": [
    {
     "name": "stdout",
     "output_type": "stream",
     "text": [
      "(60000, 28, 28, 1) (10000, 28, 28, 1) (60000, 10) (10000, 10)\n"
     ]
    }
   ],
   "source": [
    "print(X_train_chan.shape,\n",
    "      X_test_chan.shape,\n",
    "      y_train_one_hot.shape,\n",
    "      y_test_one_hot.shape)\n",
    "      "
   ]
  },
  {
   "cell_type": "code",
   "execution_count": 30,
   "metadata": {},
   "outputs": [],
   "source": [
    "from keras.layers import Dense, Dropout, Flatten, Conv2D, MaxPool2D"
   ]
  },
  {
   "cell_type": "code",
   "execution_count": 31,
   "metadata": {},
   "outputs": [
    {
     "name": "stdout",
     "output_type": "stream",
     "text": [
      "Model: \"sequential_4\"\n",
      "_________________________________________________________________\n",
      "Layer (type)                 Output Shape              Param #   \n",
      "=================================================================\n",
      "conv2d_1 (Conv2D)            (None, 26, 26, 32)        320       \n",
      "_________________________________________________________________\n",
      "max_pooling2d_1 (MaxPooling2 (None, 13, 13, 32)        0         \n",
      "_________________________________________________________________\n",
      "conv2d_2 (Conv2D)            (None, 11, 11, 64)        18496     \n",
      "_________________________________________________________________\n",
      "max_pooling2d_2 (MaxPooling2 (None, 5, 5, 64)          0         \n",
      "_________________________________________________________________\n",
      "conv2d_3 (Conv2D)            (None, 3, 3, 64)          36928     \n",
      "_________________________________________________________________\n",
      "flatten_1 (Flatten)          (None, 576)               0         \n",
      "_________________________________________________________________\n",
      "dense_14 (Dense)             (None, 64)                36928     \n",
      "_________________________________________________________________\n",
      "dense_15 (Dense)             (None, 10)                650       \n",
      "=================================================================\n",
      "Total params: 93,322\n",
      "Trainable params: 93,322\n",
      "Non-trainable params: 0\n",
      "_________________________________________________________________\n"
     ]
    }
   ],
   "source": [
    "from keras import layers\n",
    "from keras import models\n",
    "model = models.Sequential()\n",
    "\n",
    "model.add(layers.Conv2D(32, (3, 3), activation= 'relu', input_shape=(28, 28, 1)))\n",
    "model.add(layers.MaxPooling2D((2, 2)))\n",
    "model.add(layers.Conv2D(64, (3, 3), activation='relu'))\n",
    "model.add(layers.MaxPooling2D((2, 2)))\n",
    "model.add(layers.Conv2D(64, (3, 3), activation='relu'))\n",
    "\n",
    "model.add(layers.Flatten())\n",
    "model.add(layers.Dense(64, activation='relu'))\n",
    "model.add(layers.Dense(10, activation='softmax'))\n",
    "model.summary()"
   ]
  },
  {
   "cell_type": "code",
   "execution_count": 36,
   "metadata": {},
   "outputs": [
    {
     "name": "stdout",
     "output_type": "stream",
     "text": [
      "Epoch 1/5\n",
      "60000/60000 [==============================] - 47s 783us/step - loss: 0.1816 - accuracy: 0.9424\n",
      "Epoch 2/5\n",
      "60000/60000 [==============================] - 51s 846us/step - loss: 0.0467 - accuracy: 0.9857\n",
      "Epoch 3/5\n",
      "60000/60000 [==============================] - 47s 791us/step - loss: 0.0334 - accuracy: 0.9897\n",
      "Epoch 4/5\n",
      "60000/60000 [==============================] - 45s 758us/step - loss: 0.0259 - accuracy: 0.9922\n",
      "Epoch 5/5\n",
      "60000/60000 [==============================] - 41s 685us/step - loss: 0.0201 - accuracy: 0.9937\n"
     ]
    },
    {
     "data": {
      "text/plain": [
       "<keras.callbacks.callbacks.History at 0x13c3ffd50>"
      ]
     },
     "execution_count": 36,
     "metadata": {},
     "output_type": "execute_result"
    }
   ],
   "source": [
    "# train_images = train_images.reshape((60000, 28, 28, 1))\n",
    "# train_images = train_images.astype('float32') / 255\n",
    "# test_images = test_images.reshape((10000, 28, 28, 1))\n",
    "# test_images = test_images.astype('float32') / 255\n",
    "# train_labels = to_categorical(train_labels)\n",
    "# test_labels = to_categorical(test_labels)\n",
    "model.compile(optimizer='rmsprop',\n",
    "loss='categorical_crossentropy',\n",
    "metrics=['accuracy'])\n",
    "model.fit(X_train_chan, y_train_one_hot, epochs=5, batch_size=64)"
   ]
  },
  {
   "cell_type": "code",
   "execution_count": 43,
   "metadata": {},
   "outputs": [],
   "source": [
    "y_pred = model.predict(X_test_chan, batch_size=64)"
   ]
  },
  {
   "cell_type": "code",
   "execution_count": 44,
   "metadata": {},
   "outputs": [
    {
     "data": {
      "text/plain": [
       "0.9915"
      ]
     },
     "execution_count": 44,
     "metadata": {},
     "output_type": "execute_result"
    }
   ],
   "source": [
    "from sklearn.metrics import accuracy_score\n",
    "\n",
    "accuracy_score(np.argmax(y_test_one_hot, axis = 1), np.argmax(y_pred, axis = 1))"
   ]
  },
  {
   "cell_type": "code",
   "execution_count": null,
   "metadata": {},
   "outputs": [],
   "source": []
  }
 ],
 "metadata": {
  "kernelspec": {
   "display_name": "Python 3",
   "language": "python",
   "name": "python3"
  },
  "language_info": {
   "codemirror_mode": {
    "name": "ipython",
    "version": 3
   },
   "file_extension": ".py",
   "mimetype": "text/x-python",
   "name": "python",
   "nbconvert_exporter": "python",
   "pygments_lexer": "ipython3",
   "version": "3.7.4"
  }
 },
 "nbformat": 4,
 "nbformat_minor": 2
}
