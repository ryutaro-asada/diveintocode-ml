{
 "cells": [
  {
   "cell_type": "markdown",
   "metadata": {},
   "source": [
    "### データ用意"
   ]
  },
  {
   "cell_type": "code",
   "execution_count": 3,
   "metadata": {},
   "outputs": [],
   "source": [
    "import numpy as np\n",
    "import pandas as pd"
   ]
  },
  {
   "cell_type": "code",
   "execution_count": 4,
   "metadata": {},
   "outputs": [
    {
     "name": "stderr",
     "output_type": "stream",
     "text": [
      "Using TensorFlow backend.\n",
      "/opt/anaconda3/lib/python3.7/site-packages/tensorflow/python/framework/dtypes.py:516: FutureWarning: Passing (type, 1) or '1type' as a synonym of type is deprecated; in a future version of numpy, it will be understood as (type, (1,)) / '(1,)type'.\n",
      "  _np_qint8 = np.dtype([(\"qint8\", np.int8, 1)])\n",
      "/opt/anaconda3/lib/python3.7/site-packages/tensorflow/python/framework/dtypes.py:517: FutureWarning: Passing (type, 1) or '1type' as a synonym of type is deprecated; in a future version of numpy, it will be understood as (type, (1,)) / '(1,)type'.\n",
      "  _np_quint8 = np.dtype([(\"quint8\", np.uint8, 1)])\n",
      "/opt/anaconda3/lib/python3.7/site-packages/tensorflow/python/framework/dtypes.py:518: FutureWarning: Passing (type, 1) or '1type' as a synonym of type is deprecated; in a future version of numpy, it will be understood as (type, (1,)) / '(1,)type'.\n",
      "  _np_qint16 = np.dtype([(\"qint16\", np.int16, 1)])\n",
      "/opt/anaconda3/lib/python3.7/site-packages/tensorflow/python/framework/dtypes.py:519: FutureWarning: Passing (type, 1) or '1type' as a synonym of type is deprecated; in a future version of numpy, it will be understood as (type, (1,)) / '(1,)type'.\n",
      "  _np_quint16 = np.dtype([(\"quint16\", np.uint16, 1)])\n",
      "/opt/anaconda3/lib/python3.7/site-packages/tensorflow/python/framework/dtypes.py:520: FutureWarning: Passing (type, 1) or '1type' as a synonym of type is deprecated; in a future version of numpy, it will be understood as (type, (1,)) / '(1,)type'.\n",
      "  _np_qint32 = np.dtype([(\"qint32\", np.int32, 1)])\n",
      "/opt/anaconda3/lib/python3.7/site-packages/tensorflow/python/framework/dtypes.py:525: FutureWarning: Passing (type, 1) or '1type' as a synonym of type is deprecated; in a future version of numpy, it will be understood as (type, (1,)) / '(1,)type'.\n",
      "  np_resource = np.dtype([(\"resource\", np.ubyte, 1)])\n",
      "/opt/anaconda3/lib/python3.7/site-packages/tensorboard/compat/tensorflow_stub/dtypes.py:541: FutureWarning: Passing (type, 1) or '1type' as a synonym of type is deprecated; in a future version of numpy, it will be understood as (type, (1,)) / '(1,)type'.\n",
      "  _np_qint8 = np.dtype([(\"qint8\", np.int8, 1)])\n",
      "/opt/anaconda3/lib/python3.7/site-packages/tensorboard/compat/tensorflow_stub/dtypes.py:542: FutureWarning: Passing (type, 1) or '1type' as a synonym of type is deprecated; in a future version of numpy, it will be understood as (type, (1,)) / '(1,)type'.\n",
      "  _np_quint8 = np.dtype([(\"quint8\", np.uint8, 1)])\n",
      "/opt/anaconda3/lib/python3.7/site-packages/tensorboard/compat/tensorflow_stub/dtypes.py:543: FutureWarning: Passing (type, 1) or '1type' as a synonym of type is deprecated; in a future version of numpy, it will be understood as (type, (1,)) / '(1,)type'.\n",
      "  _np_qint16 = np.dtype([(\"qint16\", np.int16, 1)])\n",
      "/opt/anaconda3/lib/python3.7/site-packages/tensorboard/compat/tensorflow_stub/dtypes.py:544: FutureWarning: Passing (type, 1) or '1type' as a synonym of type is deprecated; in a future version of numpy, it will be understood as (type, (1,)) / '(1,)type'.\n",
      "  _np_quint16 = np.dtype([(\"quint16\", np.uint16, 1)])\n",
      "/opt/anaconda3/lib/python3.7/site-packages/tensorboard/compat/tensorflow_stub/dtypes.py:545: FutureWarning: Passing (type, 1) or '1type' as a synonym of type is deprecated; in a future version of numpy, it will be understood as (type, (1,)) / '(1,)type'.\n",
      "  _np_qint32 = np.dtype([(\"qint32\", np.int32, 1)])\n",
      "/opt/anaconda3/lib/python3.7/site-packages/tensorboard/compat/tensorflow_stub/dtypes.py:550: FutureWarning: Passing (type, 1) or '1type' as a synonym of type is deprecated; in a future version of numpy, it will be understood as (type, (1,)) / '(1,)type'.\n",
      "  np_resource = np.dtype([(\"resource\", np.ubyte, 1)])\n"
     ]
    }
   ],
   "source": [
    "from keras.datasets import mnist\n",
    "(X_train, y_train), (X_test, y_test) = mnist.load_data()"
   ]
  },
  {
   "cell_type": "code",
   "execution_count": 5,
   "metadata": {},
   "outputs": [
    {
     "name": "stdout",
     "output_type": "stream",
     "text": [
      "(60000, 28, 28)\n",
      "(10000, 28, 28)\n",
      "uint8\n"
     ]
    }
   ],
   "source": [
    "print(X_train.shape) # (60000, 28, 28)\n",
    "print(X_test.shape) # (10000, 28, 28)\n",
    "print(X_train[0].dtype) # uint8"
   ]
  },
  {
   "cell_type": "code",
   "execution_count": 6,
   "metadata": {},
   "outputs": [],
   "source": [
    "X_train = X_train.reshape(-1, 784)\n",
    "X_test = X_test.reshape(-1, 784)"
   ]
  },
  {
   "cell_type": "code",
   "execution_count": 7,
   "metadata": {},
   "outputs": [
    {
     "data": {
      "image/png": "[encoded data removed]",
      "text/plain": [
       "<Figure size 432x288 with 1 Axes>"
      ]
     },
     "metadata": {
      "needs_background": "light"
     },
     "output_type": "display_data"
    }
   ],
   "source": [
    "import matplotlib.pyplot as plt\n",
    "%matplotlib inline\n",
    "index = 6\n",
    "image = X_train[index].reshape(28,28)\n",
    "# X_train[index]: (784,)\n",
    "# image: (28, 28)\n",
    "plt.imshow(image, 'gray')\n",
    "plt.title('label : {}'.format(y_train[index]))\n",
    "plt.show()"
   ]
  },
  {
   "cell_type": "code",
   "execution_count": 8,
   "metadata": {},
   "outputs": [
    {
     "data": {
      "image/png": "[encoded data removed]",
      "text/plain": [
       "<Figure size 432x288 with 1 Axes>"
      ]
     },
     "metadata": {
      "needs_background": "light"
     },
     "output_type": "display_data"
    }
   ],
   "source": [
    "index = 0\n",
    "image = X_train[index].reshape(28,28)\n",
    "image = image.astype(np.float) # float型に変換\n",
    "image -= 105.35 # 意図的に負の小数値を作り出してみる\n",
    "plt.imshow(image, 'gray')\n",
    "plt.title('label : {}'.format(y_train[index]))\n",
    "plt.show()"
   ]
  },
  {
   "cell_type": "code",
   "execution_count": 9,
   "metadata": {},
   "outputs": [
    {
     "data": {
      "text/plain": [
       "<matplotlib.image.AxesImage at 0x11429cc90>"
      ]
     },
     "execution_count": 9,
     "metadata": {},
     "output_type": "execute_result"
    },
    {
     "data": {
      "image/png": "[encoded data removed]",
      "text/plain": [
       "<Figure size 432x288 with 1 Axes>"
      ]
     },
     "metadata": {
      "needs_background": "light"
     },
     "output_type": "display_data"
    }
   ],
   "source": [
    "plt.imshow(image, 'gray', vmin = 0, vmax = 255)"
   ]
  },
  {
   "cell_type": "code",
   "execution_count": 10,
   "metadata": {},
   "outputs": [
    {
     "name": "stdout",
     "output_type": "stream",
     "text": [
      "1.0\n",
      "0.0\n"
     ]
    }
   ],
   "source": [
    "X_train = X_train.astype(np.float)\n",
    "X_test = X_test.astype(np.float)\n",
    "X_train /= 255\n",
    "X_test /= 255\n",
    "print(X_train.max()) # 1.0\n",
    "print(X_train.min()) # 0.0"
   ]
  },
  {
   "cell_type": "code",
   "execution_count": 11,
   "metadata": {},
   "outputs": [
    {
     "name": "stdout",
     "output_type": "stream",
     "text": [
      "(60000,)\n",
      "(60000, 10)\n",
      "float64\n"
     ]
    }
   ],
   "source": [
    "from sklearn.preprocessing import OneHotEncoder\n",
    "enc = OneHotEncoder(handle_unknown='ignore', sparse=False)\n",
    "y_train_one_hot = enc.fit_transform(y_train[:, np.newaxis])\n",
    "y_test_one_hot = enc.transform(y_test[:, np.newaxis])\n",
    "print(y_train.shape) # (60000,)\n",
    "print(y_train_one_hot.shape) # (60000, 10)\n",
    "print(y_train_one_hot.dtype) # float64"
   ]
  },
  {
   "cell_type": "code",
   "execution_count": 12,
   "metadata": {},
   "outputs": [],
   "source": [
    "from sklearn.model_selection import train_test_split"
   ]
  },
  {
   "cell_type": "code",
   "execution_count": 13,
   "metadata": {},
   "outputs": [
    {
     "name": "stdout",
     "output_type": "stream",
     "text": [
      "(48000, 784)\n",
      "(12000, 784)\n"
     ]
    }
   ],
   "source": [
    "X_train, X_val, y_train, y_val = train_test_split(X_train, y_train_one_hot, test_size=0.2)\n",
    "print(X_train.shape) # (48000, 784)\n",
    "print(X_val.shape) # (12000, 784)"
   ]
  },
  {
   "cell_type": "code",
   "execution_count": 14,
   "metadata": {},
   "outputs": [],
   "source": [
    "from sklearn.metrics import accuracy_score"
   ]
  },
  {
   "cell_type": "markdown",
   "metadata": {},
   "source": [
    "## 【問題1】全結合層のクラス化\n",
    "全結合層のクラス化を行なってください。"
   ]
  },
  {
   "cell_type": "markdown",
   "metadata": {},
   "source": [
    "## 【問題2】初期化方法のクラス化\n",
    "初期化を行うコードをクラス化してください。"
   ]
  },
  {
   "cell_type": "markdown",
   "metadata": {},
   "source": [
    "## 【問題3】最適化手法のクラス化\n",
    "最適化手法のクラス化を行なってください。"
   ]
  },
  {
   "cell_type": "markdown",
   "metadata": {},
   "source": [
    "## 【問題4】活性化関数のクラス化\n",
    "活性化関数のクラス化を行なってください。"
   ]
  },
  {
   "cell_type": "markdown",
   "metadata": {},
   "source": [
    "## 【問題5】ReLUクラスの作成\n",
    "現在一般的に使われている活性化関数であるReLU（Rectified Linear Unit）をReLUクラスとして実装してください。"
   ]
  },
  {
   "cell_type": "markdown",
   "metadata": {},
   "source": [
    "## 【問題6】重みの初期値\n",
    "ここまでは重みやバイアスの初期値は単純にガウス分布で、標準偏差をハイパーパラメータとして扱ってきました。   \n",
    "しかし、どのような値にすると良いかが知られています。シグモイド関数やハイパボリックタンジェント関数のときは Xavierの初期値   \n",
    "（またはGlorotの初期値）、ReLUのときは Heの初期値 が使われます。"
   ]
  },
  {
   "cell_type": "markdown",
   "metadata": {},
   "source": [
    "## 【問題7】最適化手法\n",
    "学習率は学習過程で変化させていく方法が一般的です。基本的な手法である AdaGrad のクラスを作成してください。\n",
    "\n",
    "\n",
    "まず、これまで使ってきたSGDを確認します。"
   ]
  },
  {
   "cell_type": "markdown",
   "metadata": {},
   "source": [
    "## 【問題8】クラスの完成\n",
    "任意の構成で学習と推定が行えるScratchDeepNeuralNetrowkClassifierクラスを完成させてください。"
   ]
  },
  {
   "cell_type": "markdown",
   "metadata": {},
   "source": [
    "## 【問題9】学習と推定\n",
    "層の数や活性化関数を変えたいくつかのネットワークを作成してください。そして、MNISTのデータを学習・推定し、Accuracyを計算してください。"
   ]
  },
  {
   "cell_type": "markdown",
   "metadata": {},
   "source": [
    "# FOWARD and BACKWARD"
   ]
  },
  {
   "cell_type": "code",
   "execution_count": 58,
   "metadata": {},
   "outputs": [],
   "source": [
    "class FC:\n",
    "    \"\"\"\n",
    "    ノード数n_nodes1からn_nodes2への全結合層\n",
    "    Parameters\n",
    "    ----------\n",
    "    n_nodes1 : int\n",
    "      前の層のノード数\n",
    "    n_nodes2 : int\n",
    "      後の層のノード数\n",
    "    initializer : 初期化方法のインスタンス\n",
    "    optimizer : 最適化手法のインスタンス\n",
    "    \"\"\"\n",
    "    def __init__(self, n_nodes1, n_nodes2, initializer, optimizer):\n",
    "        self.optimizer = optimizer\n",
    "        # 初期化\n",
    "        # initializerのメソッドを使い、self.Wとself.Bを初期化する\n",
    "        self.W = initializer.W(n_nodes1, n_nodes2)\n",
    "        self.B = initializer.B(n_nodes2)\n",
    "        self.dB = 0\n",
    "        self.dW = 0\n",
    "        self.ada_W = 0\n",
    "        self.ada_B = 0\n",
    "        self.v_W = 0\n",
    "        self.v_B = 0\n",
    "\n",
    "        \n",
    "    def forward(self, X):\n",
    "        \"\"\"\n",
    "        フォワード\n",
    "        Parameters\n",
    "        ----------\n",
    "        X : 次の形のndarray, shape (batch_size, n_nodes1)\n",
    "            入力\n",
    "        Returns\n",
    "        ----------\n",
    "        A : 次の形のndarray, shape (batch_size, n_nodes2)\n",
    "            出力\n",
    "        \"\"\"\n",
    "        self.forward_Z = X.copy()\n",
    "        A = np.dot(X, self.W) + self.B        \n",
    "        \n",
    "        return A\n",
    "    def backward(self, dA):\n",
    "        \"\"\"\n",
    "        バックワード\n",
    "        Parameters\n",
    "        ----------\n",
    "        dA : 次の形のndarray, shape (batch_size, n_nodes2)\n",
    "            後ろから流れてきた勾配\n",
    "        Returns\n",
    "        ----------\n",
    "        dZ : 次の形のndarray, shape (batch_size, n_nodes1)\n",
    "            前に流す勾配\n",
    "        \"\"\"\n",
    "\n",
    "        self.dB = dA\n",
    "        self.dW = np.dot(self.forward_Z.T, dA)\n",
    "        dZ = np.dot(dA, self.W.T)\n",
    "        # 更新\n",
    "        \n",
    "        self.optimizer.update(self)\n",
    "        \n",
    "        return dZ"
   ]
  },
  {
   "cell_type": "markdown",
   "metadata": {},
   "source": [
    "# ACTIVATION_FUNCTION"
   ]
  },
  {
   "cell_type": "markdown",
   "metadata": {},
   "source": [
    "### SOFT_MAX"
   ]
  },
  {
   "cell_type": "code",
   "execution_count": 59,
   "metadata": {},
   "outputs": [],
   "source": [
    "class Softmax_with_Loss:\n",
    "    \n",
    "    def __init__(self,):\n",
    "        self.forword_A = None\n",
    "        \n",
    "    def forward(self, A):\n",
    "        \"\"\"\n",
    "        フォワード\n",
    "        Parameters\n",
    "        ----------\n",
    "        A : 次の形のndarray, shape (batch_size, n_nodes1)\n",
    "            入力\n",
    "        Returns\n",
    "        ----------\n",
    "        Z : 次の形のndarray, shape (batch_size, n_nodes2)\n",
    "            出力\n",
    "        \"\"\"\n",
    "        Z = np.exp(A)/(np.exp(A).sum(1).reshape(-1, 1))\n",
    "        self.forword_A = Z\n",
    "        \n",
    "        return Z\n",
    "\n",
    "    def backward(self, y):\n",
    "\n",
    "        return self.forword_A - y"
   ]
  },
  {
   "cell_type": "markdown",
   "metadata": {},
   "source": [
    "### HYPABOLIC_TAN"
   ]
  },
  {
   "cell_type": "code",
   "execution_count": 60,
   "metadata": {},
   "outputs": [],
   "source": [
    "class Tanh:\n",
    "\n",
    "    def __init__(self,):\n",
    "        self.forword_A = None\n",
    "        \n",
    "    def forward(self, A):\n",
    "        \"\"\"\n",
    "        フォワード\n",
    "        Parameters\n",
    "        ----------\n",
    "        A : 次の形のndarray, shape (batch_size, n_nodes1)\n",
    "            入力\n",
    "        Returns\n",
    "        ----------\n",
    "        Z : 次の形のndarray, shape (batch_size, n_nodes2)\n",
    "            出力\n",
    "        \"\"\"\n",
    "         Z = np.tanh(A)\n",
    "        self.forward_A = Z\n",
    "        \n",
    "        return Z\n",
    "\n",
    "    def backward(self, dZ):\n",
    "\n",
    "        return dZ*(1 - np.tanh(self.forward_A)**2)\n"
   ]
  },
  {
   "cell_type": "markdown",
   "metadata": {},
   "source": [
    "### SIGMOID"
   ]
  },
  {
   "cell_type": "code",
   "execution_count": 61,
   "metadata": {},
   "outputs": [],
   "source": [
    "class Sigmoid:\n",
    "    def __init__(self):\n",
    "        self.mask = None\n",
    "        \n",
    "    def forward(self, X):\n",
    "        out = 1/(1+np.exp(-X))\n",
    "        self.out = out\n",
    "        return out\n",
    "\n",
    "    def backward (self, dout):\n",
    "        dx = dout*(1 - self.out)*self.out\n",
    "        \n",
    "        return dx"
   ]
  },
  {
   "cell_type": "markdown",
   "metadata": {},
   "source": [
    "### RELU"
   ]
  },
  {
   "cell_type": "code",
   "execution_count": 62,
   "metadata": {},
   "outputs": [],
   "source": [
    "class Relu:\n",
    "\n",
    "    def __init__(self):\n",
    "        self.mask = None\n",
    "        \n",
    "    def forward(self, X):\n",
    "        \"\"\"\n",
    "        ある層の重みやバイアスの更新\n",
    "        Parameters\n",
    "        ----------\n",
    "        layer : 更新前の層のインスタンス\n",
    "        \"\"\"\n",
    "        self.mask = (X <= 0)\n",
    "        out = X.copy()\n",
    "        out[self.mask] = 0\n",
    " \n",
    "        return out\n",
    "\n",
    "    def backward(self, dout):\n",
    "        dout[self.mask] = 0\n",
    "        dX = dout\n",
    "\n",
    "        return dout"
   ]
  },
  {
   "cell_type": "markdown",
   "metadata": {},
   "source": [
    "# OPTIMAIZER"
   ]
  },
  {
   "cell_type": "markdown",
   "metadata": {},
   "source": [
    "### SGD"
   ]
  },
  {
   "cell_type": "code",
   "execution_count": 63,
   "metadata": {},
   "outputs": [],
   "source": [
    "class SGD:\n",
    "    \n",
    "    def __init__(self, lr):\n",
    "        self.lr = lr\n",
    "    def update(self, layer):\n",
    "        \"\"\"\n",
    "        ある層の重みやバイアスの更新\n",
    "        Parameters\n",
    "        ----------\n",
    "        layer : 更新前の層のインスタンス\n",
    "        \"\"\"\n",
    "        layer.W = layer.W - self.lr*layer.dW\n",
    "        layer.B = layer.B - self.lr*layer.dB.mean(axis = 0)\n",
    "\n",
    "        return layer"
   ]
  },
  {
   "cell_type": "markdown",
   "metadata": {},
   "source": [
    "### MOMETUM"
   ]
  },
  {
   "cell_type": "code",
   "execution_count": 64,
   "metadata": {},
   "outputs": [],
   "source": [
    "class Momentum:\n",
    "\n",
    "    def __init__(self, lr=0.01, momentum=0.9):\n",
    "        self.lr = lr\n",
    "        self.momentum = momentum\n",
    "#         self.v_W = None\n",
    "#         self.v_B = None\n",
    "        \n",
    "    def update(self, layer):\n",
    "        \n",
    "#         from(zero tuku)\n",
    "#         if self.v is None:\n",
    "#             self.v = {}\n",
    "#             for key, val in params.items():                                \n",
    "#                 self.v[key] = np.zeros_like(val)\n",
    "                \n",
    "#             for key in params.keys():\n",
    "#                 self.v[key] = self.momentum*self.v[key] - self.lr*grads[key] \n",
    "#                 params[key] += self.v[key]\n",
    "\n",
    "        layer.v_W = self.momentum*layer.v_W - self.lr*layer.dW\n",
    "        layer.W += layer.v_W\n",
    "        \n",
    "        layer.v_B = self.momentum*layer.v_B - self.lr*layer.dB\n",
    "        layer.B += layer.v_B.mean(0)\n",
    "        \n",
    "        return layer"
   ]
  },
  {
   "cell_type": "markdown",
   "metadata": {},
   "source": [
    "### AdaGrad"
   ]
  },
  {
   "cell_type": "code",
   "execution_count": 65,
   "metadata": {},
   "outputs": [],
   "source": [
    "class AdaGrad:\n",
    "    \n",
    "    def __init__(self, lr):\n",
    "        self.lr = lr\n",
    "#         self.h_dW = 0\n",
    "#         self.h_dB = 0\n",
    "        \n",
    "    def update(self, layer):\n",
    "        \"\"\"\n",
    "        ある層の重みやバイアスの更新\n",
    "        Parameters\n",
    "        ----------\n",
    "        layer : 更新前の層のインスタンス\n",
    "        \"\"\"\n",
    "#         from (zerotuku)\n",
    "#         for key in params.keys():\n",
    "#             self.h[key] += grads[key] * grads[key]\n",
    "#             params[key] -= self.lr * grads[key] / (np.sqrt(self.h[key]) + 1e-7)\n",
    "#         print(layer.dW.shape)\n",
    "\n",
    "        layer.ada_W += layer.dW**2\n",
    "        layer.ada_B += layer.dB**2\n",
    "        \n",
    "        layer.W -= self.lr*layer.dW/(np.sqrt(layer.ada_W) + 1e-7)\n",
    "        layer.B -= (self.lr*layer.dB/(np.sqrt(layer.ada_B) + 1e-7)).mean(0)\n",
    "\n",
    "        return layer"
   ]
  },
  {
   "cell_type": "markdown",
   "metadata": {},
   "source": [
    "### Adam"
   ]
  },
  {
   "cell_type": "code",
   "execution_count": 66,
   "metadata": {},
   "outputs": [],
   "source": [
    "class Adam:\n",
    "\n",
    "    def __init__(self, lr=0.001, beta1=0.9, beta2=0.999):\n",
    "        self.lr = lr\n",
    "        self.beta1 = beta1\n",
    "        self.beta2 = beta2\n",
    "        self.iter = 0\n",
    "        self.m_W = None\n",
    "        self.v_W = None\n",
    "        self.m_B = None\n",
    "        self.v_B = None\n",
    "        \n",
    "    def update(self, layer):\n",
    "        \n",
    "#         from(zerotuku)\n",
    "#         self.iter += 1\n",
    "#         lr_t  = self.lr * np.sqrt(1.0 - self.beta2**self.iter) / (1.0 - self.beta1**self.iter)         \n",
    "        \n",
    "#         for key in params.keys():\n",
    "#             #self.m[key] = self.beta1*self.m[key] + (1-self.beta1)*grads[key]\n",
    "#             #self.v[key] = self.beta2*self.v[key] + (1-self.beta2)*(grads[key]**2)\n",
    "#             self.m[key] += (1 - self.beta1) * (grads[key] - self.m[key])\n",
    "#             self.v[key] += (1 - self.beta2) * (grads[key]**2 - self.v[key])\n",
    "            \n",
    "#             params[key] -= lr_t * self.m[key] / (np.sqrt(self.v[key]) + 1e-7)\n",
    "            \n",
    "#             #unbias_m += (1 - self.beta1) * (grads[key] - self.m[key]) # correct bias\n",
    "#             #unbisa_b += (1 - self.beta2) * (grads[key]*grads[key] - self.v[key]) # correct bias\n",
    "#             #params[key] += self.lr * unbias_m / (np.sqrt(unbisa_b) + 1e-7)\n",
    "\n",
    "        self.iter += 1\n",
    "        lr_t  = self.lr * np.sqrt(1.0 - self.beta2**self.iter) / (1.0 - self.beta1**self.iter)   \n",
    "\n",
    "        layer.ada_W += (1 - self.beta1) * (layer.dW - layer.ada_W)\n",
    "        layer.v_W += (1 - self.beta2) * (layer.dW**2 - layer.v_W)\n",
    "        layer.W -= lr_t * layer.ada_W / (np.sqrt(layer.v_W) + 1e-7)\n",
    "\n",
    "        layer.ada_B += (1 - self.beta1) * (layer.dB - layer.ada_B)\n",
    "        layer.v_B += (1 - self.beta2) * (layer.dB**2 - layer.v_B)\n",
    "        layer.B -= (lr_t * layer.ada_B / (np.sqrt(layer.v_B) + 1e-7)).mean(0)\n",
    "        \n",
    "        return layer"
   ]
  },
  {
   "cell_type": "markdown",
   "metadata": {},
   "source": [
    "# INITIALAIZER"
   ]
  },
  {
   "cell_type": "markdown",
   "metadata": {},
   "source": [
    "### SIMPLE"
   ]
  },
  {
   "cell_type": "code",
   "execution_count": 67,
   "metadata": {},
   "outputs": [],
   "source": [
    "class SimpleInitializer():\n",
    "    \"\"\"\n",
    "    ガウス分布によるシンプルな初期化\n",
    "    Parameters\n",
    "    ----------\n",
    "    sigma : float\n",
    "      ガウス分布の標準偏差\n",
    "    \"\"\"\n",
    "    def __init__(self, sigma):\n",
    "        self.sigma = sigma\n",
    "    def W(self, n_nodes1, n_nodes2):\n",
    "        \"\"\"\n",
    "        重みの初期化\n",
    "        Parameters\n",
    "        ----------\n",
    "        n_nodes1 : int\n",
    "          前の層のノード数\n",
    "        n_nodes2 : int\n",
    "          後の層のノード数\n",
    "        Returns\n",
    "        ----------\n",
    "        W :\n",
    "        \"\"\"\n",
    "        W = self.sigma*np.random.randn(n_nodes1, n_nodes2)\n",
    "        return W\n",
    "    def B(self, n_nodes2):\n",
    "        \"\"\"\n",
    "        バイアスの初期化\n",
    "        Parameters\n",
    "        ----------\n",
    "        n_nodes2 : int\n",
    "          後の層のノード数\n",
    "        Returns\n",
    "        ----------\n",
    "        B :\n",
    "        \"\"\"\n",
    "        B = self.sigma*np.random.randn(n_nodes2)\n",
    "        return B\n"
   ]
  },
  {
   "cell_type": "markdown",
   "metadata": {},
   "source": [
    "### Xavier"
   ]
  },
  {
   "cell_type": "code",
   "execution_count": 68,
   "metadata": {},
   "outputs": [],
   "source": [
    "class Xavier:\n",
    "\n",
    "    def __init__(self, sigma):\n",
    "        self.sigma = sigma\n",
    "        \n",
    "    def W(self, n_nodes1, n_nodes2):\n",
    "        \"\"\"\n",
    "        重みの初期化\n",
    "        Parameters\n",
    "        ----------\n",
    "        n_nodes1 : int\n",
    "          前の層のノード数\n",
    "        n_nodes2 : int\n",
    "          後の層のノード数\n",
    "        Returns\n",
    "        ----------\n",
    "        W :\n",
    "        \"\"\"\n",
    "        coef = 1/np.sqrt(n_nodes1)\n",
    "        W = coef*np.random.randn(n_nodes1, n_nodes2)\n",
    "        return W\n",
    "    def B(self, n_nodes2):\n",
    "        \"\"\"\n",
    "        バイアスの初期化\n",
    "        Parameters\n",
    "        ----------\n",
    "        n_nodes2 : int\n",
    "          後の層のノード数\n",
    "        Returns\n",
    "        ----------\n",
    "        B :\n",
    "        \"\"\"\n",
    "        coef = 1/np.sqrt(n_nodes2)\n",
    "        B = coef*np.random.randn(n_nodes2)\n",
    "        return B"
   ]
  },
  {
   "cell_type": "markdown",
   "metadata": {},
   "source": [
    "### He"
   ]
  },
  {
   "cell_type": "code",
   "execution_count": 69,
   "metadata": {},
   "outputs": [],
   "source": [
    "class He:\n",
    "    \"\"\"\n",
    "    ガウス分布によるシンプルな初期化\n",
    "    Parameters\n",
    "    ----------\n",
    "    sigma : float\n",
    "      ガウス分布の標準偏差\n",
    "    \"\"\"\n",
    "    def __init__(self, siguma):\n",
    "        self.siguma = siguma\n",
    "        \n",
    "    def W(self, n_nodes1, n_nodes2):\n",
    "        \"\"\"\n",
    "        重みの初期化\n",
    "        Parameters\n",
    "        ----------\n",
    "        n_nodes1 : int\n",
    "          前の層のノード数\n",
    "        n_nodes2 : int\n",
    "          後の層のノード数\n",
    "        Returns\n",
    "        ----------\n",
    "        W :\n",
    "        \"\"\"\n",
    "        coef = np.sqrt(2/n_nodes1)\n",
    "        W = coef*np.random.randn(n_nodes1, n_nodes2)\n",
    "        return W\n",
    "    def B(self, n_nodes2):\n",
    "        \"\"\"\n",
    "        バイアスの初期化\n",
    "        Parameters\n",
    "        ----------\n",
    "        n_nodes2 : int\n",
    "          後の層のノード数\n",
    "        Returns\n",
    "        ----------\n",
    "        B :\n",
    "        \"\"\"\n",
    "        coef = np.sqrt(2/n_nodes2)\n",
    "        B = coef*np.random.randn(n_nodes2)\n",
    "        return B"
   ]
  },
  {
   "cell_type": "markdown",
   "metadata": {},
   "source": [
    "# Distoributer"
   ]
  },
  {
   "cell_type": "code",
   "execution_count": 70,
   "metadata": {},
   "outputs": [],
   "source": [
    "class GetMiniBatch():\n",
    "    \"\"\"\n",
    "    ミニバッチを取得するイテレータ\n",
    "\n",
    "    Parameters\n",
    "    ----------\n",
    "    X : 次の形のndarray, shape (n_samples, n_features)\n",
    "      訓練データ\n",
    "    y : 次の形のndarray, shape (n_samples, 1)\n",
    "      正解値\n",
    "    batch_size : int\n",
    "      バッチサイズ\n",
    "    seed : int\n",
    "      NumPyの乱数のシード\n",
    "    \"\"\"\n",
    "    def __init__(self, X, y, batch_size = 20, seed=0):\n",
    "        self.batch_size = batch_size\n",
    "        np.random.seed(seed)\n",
    "        shuffle_index = np.random.permutation(np.arange(X.shape[0]))\n",
    "        self._X = X[shuffle_index]\n",
    "        self._y = y[shuffle_index]\n",
    "        self._stop = np.ceil(X.shape[0]/self.batch_size).astype(np.int)\n",
    "    def __len__(self):\n",
    "        return self._stop\n",
    "    def __getitem__(self,item):\n",
    "        p0 = item*self.batch_size\n",
    "        p1 = item*self.batch_size + self.batch_size\n",
    "        return self._X[p0:p1], self._y[p0:p1]        \n",
    "    def __iter__(self):\n",
    "        self._counter = 0\n",
    "        return self\n",
    "    def __next__(self):\n",
    "        if self._counter >= self._stop:\n",
    "            raise StopIteration()\n",
    "        p0 = self._counter*self.batch_size\n",
    "        p1 = self._counter*self.batch_size + self.batch_size\n",
    "        self._counter += 1\n",
    "        return self._X[p0:p1], self._y[p0:p1]"
   ]
  },
  {
   "cell_type": "markdown",
   "metadata": {},
   "source": [
    "# NEWRAL_NET_WORK"
   ]
  },
  {
   "cell_type": "code",
   "execution_count": 71,
   "metadata": {},
   "outputs": [],
   "source": [
    "class ScratchSimpleNeuralNetrowkClassifier():\n",
    "\n",
    "        def __init__(self, verbose = True, epoch = 0 , alpha = 0.01, activater = Tanh,  initializer = SimpleInitializer, optimizer = SGD):\n",
    "            self.verbose = verbose\n",
    "            self.n_features = 784\n",
    "            self.n_nodes1 = 400\n",
    "            self.n_nodes2 = 200\n",
    "            self.n_output = 10\n",
    "            self.sigma = 0.01   # ガウス分布の標準偏差\n",
    "            self.batch_size=10\n",
    "            self.loss_box = []\n",
    "            self.epoch = epoch\n",
    "            self.lr = alpha\n",
    "            self.activater = activater\n",
    "            self.initializer = initializer\n",
    "            self.optimizer = optimizer\n",
    "            pass\n",
    "\n",
    "        def fit(self, X, y, X_val=None, y_val=None):\n",
    "\n",
    "            \"\"\"\n",
    "            初期値\n",
    "            \"\"\"\n",
    "            # self.sigma : ガウス分布の標準偏差\n",
    "            # self.lr : 学習率\n",
    "            # self.n_nodes1 : 1層目のノード数\n",
    "            # self.n_nodes2 : 2層目のノード数\n",
    "            # self.n_output : 出力層のノード数\n",
    "            optimizer = AdaGrad(self.lr)\n",
    "            self.FC1 = FC(self.n_features, self.n_nodes1, self.initializer(self.sigma), self.optimizer(self.lr))\n",
    "            self.activation1 = self.activater()\n",
    "            self.FC2 = FC(self.n_nodes1, self.n_nodes2, self.initializer(self.sigma), self.optimizer(self.lr))\n",
    "            self.activation2 = self.activater()\n",
    "            self.FC3 = FC(self.n_nodes2, self.n_output, self.initializer(self.sigma), self.optimizer(self.lr))\n",
    "            self.activation3 = Softmax_with_Loss()\n",
    "            \"\"\"Get_mini_batch\"\"\"\n",
    "            get_mini_batch = GetMiniBatch(X, y, self.batch_size)\n",
    "\n",
    "            \"\"\"エポック回イテレート\"\"\"\n",
    "            for i in range(self.epoch):\n",
    "                for mini_X_train, mini_y_train in get_mini_batch:\n",
    "\n",
    "                    \"\"\"\n",
    "                    Forword\n",
    "                    \"\"\"\n",
    "                    A1 = self.FC1.forward(mini_X_train)\n",
    "                    Z1 = self.activation1.forward(A1)\n",
    "                    A2 = self.FC2.forward(Z1)\n",
    "                    Z2 = self.activation2.forward(A2)\n",
    "                    A3 = self.FC3.forward(Z2)\n",
    "                    Z3 = self.activation3.forward(A3)\n",
    "                    \"\"\"\n",
    "                    Backword\n",
    "                    \"\"\"\n",
    "                    dA3 = self.activation3.backward(mini_y_train) # 交差エントロピー誤差とソフトマックスを合わせてい\n",
    "                    dZ2 = self.FC3.backward(dA3)\n",
    "                    dA2 = self.activation2.backward(dZ2)\n",
    "                    dZ1 = self.FC2.backward(dA2)\n",
    "                    dA1 = self.activation1.backward(dZ1)\n",
    "                    dZ0 = self.FC1.backward(dA1) # dZ0は使用しない\n",
    "                  \n",
    "                \"\"\"\n",
    "                Forword  after optimized weight\n",
    "                \"\"\"\n",
    "                A1 = self.FC1.forward(X)\n",
    "                Z1 = self.activation1.forward(A1)\n",
    "                A2 = self.FC2.forward(Z1)\n",
    "                Z2 = self.activation2.forward(A2)\n",
    "                A3 = self.FC3.forward(Z2)\n",
    "                Z3 = self.activation3.forward(A3)\n",
    "\n",
    "                \"\"\"\n",
    "                Evaluation\n",
    "                \"\"\"\n",
    "                print('__{}TIMES　of epoch__'.format(i+1))\n",
    "                print('L0SS={}'.format(self.cross_entropy_loss(Z3, y)))\n",
    "                print('ACCURACY_SCORE={}'.format(accuracy_score(y.argmax(1), Z3.argmax(1))))\n",
    "                \n",
    "                self.loss_box.append(self.cross_entropy_loss(Z3, y))\n",
    "\n",
    "            if self.verbose:\n",
    "                print()\n",
    "                #verboseをTrueにした際は学習過程などを出力する\n",
    "            return self.loss_box\n",
    "\n",
    "        def cross_entropy_loss(self, final_Z, y):\n",
    "            l =  -y*(np.log(final_Z))/self.batch_size\n",
    "            L = l.sum()\n",
    "            return L\n",
    "\n",
    "        def predict(self, X):\n",
    "            \"\"\"\n",
    "            Forword action after optimized weight\n",
    "            \"\"\"\n",
    "            A1 = self.FC1.forward(X)\n",
    "            Z1 = self.activation1.forward(A1)\n",
    "            A2 = self.FC2.forward(Z1)\n",
    "            Z2 = self.activation2.forward(A2)\n",
    "            A3 = self.FC3.forward(Z2)\n",
    "            Z3 = self.activation3.forward(A3)\n",
    "\n",
    "            return Z3.argmax(1)"
   ]
  },
  {
   "cell_type": "markdown",
   "metadata": {},
   "source": [
    "## Activation_function = Relu"
   ]
  },
  {
   "cell_type": "code",
   "execution_count": 73,
   "metadata": {},
   "outputs": [
    {
     "name": "stdout",
     "output_type": "stream",
     "text": [
      "__1TIMES　of epoch__\n",
      "L0SS=75.17865600205722\n",
      "ACCURACY_SCORE=0.94675\n",
      "__2TIMES　of epoch__\n",
      "L0SS=45.37317459109721\n",
      "ACCURACY_SCORE=0.97075\n",
      "__3TIMES　of epoch__\n",
      "L0SS=29.818372492386935\n",
      "ACCURACY_SCORE=0.98275\n",
      "__4TIMES　of epoch__\n",
      "L0SS=19.551696025878172\n",
      "ACCURACY_SCORE=0.99175\n",
      "__5TIMES　of epoch__\n",
      "L0SS=12.588999245314122\n",
      "ACCURACY_SCORE=0.996\n",
      "__6TIMES　of epoch__\n",
      "L0SS=8.363754435048463\n",
      "ACCURACY_SCORE=0.998\n",
      "__7TIMES　of epoch__\n",
      "L0SS=5.925561661893807\n",
      "ACCURACY_SCORE=0.9995\n",
      "__8TIMES　of epoch__\n",
      "L0SS=4.338191168460169\n",
      "ACCURACY_SCORE=1.0\n",
      "__9TIMES　of epoch__\n",
      "L0SS=3.300131780830324\n",
      "ACCURACY_SCORE=1.0\n",
      "__10TIMES　of epoch__\n",
      "L0SS=2.612936178881422\n",
      "ACCURACY_SCORE=1.0\n",
      "\n",
      "44.4 s ± 0 ns per loop (mean ± std. dev. of 1 run, 1 loop each)\n"
     ]
    }
   ],
   "source": [
    "%%timeit -r １ -n 1\n",
    "nnc = ScratchSimpleNeuralNetrowkClassifier(epoch = 10, alpha = 0.01, activater = Relu, initializer = Xavier, optimizer = AdaGrad)\n",
    "\n",
    "loss_box_Relu = nnc.fit(X_train[:4000], y_train[:4000])\n",
    "\n",
    "y_pred = nnc.predict(X_val)\n",
    "\n",
    "accuracy_score(y_val.argmax(1), y_pred)"
   ]
  },
  {
   "cell_type": "markdown",
   "metadata": {},
   "source": [
    "## Activation_function = Tanh"
   ]
  },
  {
   "cell_type": "code",
   "execution_count": 103,
   "metadata": {},
   "outputs": [
    {
     "name": "stdout",
     "output_type": "stream",
     "text": [
      "__1TIMES　of epoch__\n",
      "L0SS=100.26399982162734\n",
      "ACCURACY_SCORE=0.92875\n",
      "__2TIMES　of epoch__\n",
      "L0SS=72.2543818742596\n",
      "ACCURACY_SCORE=0.952\n",
      "__3TIMES　of epoch__\n",
      "L0SS=56.07537548981322\n",
      "ACCURACY_SCORE=0.9625\n",
      "__4TIMES　of epoch__\n",
      "L0SS=45.015154650666446\n",
      "ACCURACY_SCORE=0.971\n",
      "__5TIMES　of epoch__\n",
      "L0SS=37.07915538136419\n",
      "ACCURACY_SCORE=0.97825\n",
      "__6TIMES　of epoch__\n",
      "L0SS=31.091531084788997\n",
      "ACCURACY_SCORE=0.985\n",
      "__7TIMES　of epoch__\n",
      "L0SS=26.411475560368867\n",
      "ACCURACY_SCORE=0.9885\n",
      "__8TIMES　of epoch__\n",
      "L0SS=22.678168832238107\n",
      "ACCURACY_SCORE=0.991\n",
      "__9TIMES　of epoch__\n",
      "L0SS=19.672883629926247\n",
      "ACCURACY_SCORE=0.9925\n",
      "__10TIMES　of epoch__\n",
      "L0SS=17.24186114132497\n",
      "ACCURACY_SCORE=0.99525\n",
      "\n",
      "29.8 s ± 0 ns per loop (mean ± std. dev. of 1 run, 1 loop each)\n"
     ]
    }
   ],
   "source": [
    "%%timeit -r １ -n 1\n",
    "nnc = ScratchSimpleNeuralNetrowkClassifier(epoch = 10, alpha = 0.01, activater = Tanh, initializer = Xavier, optimizer = AdaGrad)\n",
    "\n",
    "loss_box_Tanh = nnc.fit(X_train[:4000], y_train[:4000])\n",
    "\n",
    "y_pred = nnc.predict(X_val)\n",
    "\n",
    "accuracy_score(y_val.argmax(1), y_pred)"
   ]
  },
  {
   "cell_type": "markdown",
   "metadata": {},
   "source": [
    "## Activation_function = Sigmoid"
   ]
  },
  {
   "cell_type": "code",
   "execution_count": 104,
   "metadata": {},
   "outputs": [
    {
     "name": "stdout",
     "output_type": "stream",
     "text": [
      "__1TIMES　of epoch__\n",
      "L0SS=169.03591973174414\n",
      "ACCURACY_SCORE=0.89625\n",
      "__2TIMES　of epoch__\n",
      "L0SS=128.77994028182684\n",
      "ACCURACY_SCORE=0.91525\n",
      "__3TIMES　of epoch__\n",
      "L0SS=110.81676257501798\n",
      "ACCURACY_SCORE=0.92475\n",
      "__4TIMES　of epoch__\n",
      "L0SS=99.32016940781787\n",
      "ACCURACY_SCORE=0.93275\n",
      "__5TIMES　of epoch__\n",
      "L0SS=90.79481903823044\n",
      "ACCURACY_SCORE=0.9375\n",
      "__6TIMES　of epoch__\n",
      "L0SS=83.98428188466035\n",
      "ACCURACY_SCORE=0.9435\n",
      "__7TIMES　of epoch__\n",
      "L0SS=78.30527126053163\n",
      "ACCURACY_SCORE=0.948\n",
      "__8TIMES　of epoch__\n",
      "L0SS=73.43843511678249\n",
      "ACCURACY_SCORE=0.9525\n",
      "__9TIMES　of epoch__\n",
      "L0SS=69.18688408233731\n",
      "ACCURACY_SCORE=0.95625\n",
      "__10TIMES　of epoch__\n",
      "L0SS=65.41864699056401\n",
      "ACCURACY_SCORE=0.95825\n",
      "\n",
      "36.6 s ± 0 ns per loop (mean ± std. dev. of 1 run, 1 loop each)\n"
     ]
    }
   ],
   "source": [
    "%%timeit -r １ -n 1\n",
    "nnc = ScratchSimpleNeuralNetrowkClassifier(epoch = 10, alpha = 0.01, activater = Sigmoid, initializer = Xavier, optimizer = AdaGrad)\n",
    "\n",
    "loss_box_Sigmoid = nnc.fit(X_train[:4000], y_train[:4000])\n",
    "\n",
    "y_pred = nnc.predict(X_val)\n",
    "\n",
    "accuracy_score(y_val.argmax(1), y_pred)"
   ]
  },
  {
   "cell_type": "code",
   "execution_count": 112,
   "metadata": {},
   "outputs": [
    {
     "data": {
      "image/png": "[encoded data removed]",
      "text/plain": [
       "<Figure size 432x288 with 1 Axes>"
      ]
     },
     "metadata": {
      "needs_background": "light"
     },
     "output_type": "display_data"
    }
   ],
   "source": [
    "import matplotlib.pyplot as plt\n",
    "plt.xlabel('Number_of_epoch')\n",
    "plt.ylabel('Loss')\n",
    "plt.plot(loss_box_Sigmoid, label = 'Sigmoid')\n",
    "plt.plot(loss_box_Tanh, label = 'Tanh')\n",
    "plt.plot(loss_box_Relu, label = 'Relu')\n",
    "plt.legend()\n",
    "plt.show()"
   ]
  },
  {
   "cell_type": "code",
   "execution_count": 109,
   "metadata": {},
   "outputs": [
    {
     "data": {
      "image/png": "[encoded data removed]",
      "text/plain": [
       "<Figure size 432x288 with 1 Axes>"
      ]
     },
     "metadata": {
      "needs_background": "light"
     },
     "output_type": "display_data"
    }
   ],
   "source": [
    "timelist = [37.8, 29.8, 36.6]\n",
    "layerlist = ['Relu', 'Tanh', 'Sigmoid']\n",
    "\n",
    "plt.xlabel('Activation_function')\n",
    "plt.ylabel('time[s]')\n",
    "plt.bar(layerlist, timelist)\n",
    "plt.show()"
   ]
  },
  {
   "cell_type": "markdown",
   "metadata": {},
   "source": [
    "# Reluが最もいい成果をだす。"
   ]
  },
  {
   "cell_type": "markdown",
   "metadata": {},
   "source": [
    "## 層の変更　（２層、４層、6層）全部Relu"
   ]
  },
  {
   "cell_type": "markdown",
   "metadata": {},
   "source": [
    "## ２層"
   ]
  },
  {
   "cell_type": "code",
   "execution_count": 87,
   "metadata": {},
   "outputs": [],
   "source": [
    "class ScratchSimpleNeuralNetrowkClassifier():\n",
    "\n",
    "        def __init__(self, verbose = True, epoch = 0 , alpha = 0.01, activater = Tanh,  initializer = SimpleInitializer, optimizer = SGD):\n",
    "            self.verbose = verbose\n",
    "            self.n_features = 784\n",
    "            self.n_nodes1 = 400\n",
    "            self.n_nodes2 = 200\n",
    "            self.n_output = 10\n",
    "            self.sigma = 0.01   # ガウス分布の標準偏差\n",
    "            self.batch_size=10\n",
    "            self.loss_box = []\n",
    "            self.epoch = epoch\n",
    "            self.lr = alpha\n",
    "            self.activater = activater\n",
    "            self.initializer = initializer\n",
    "            self.optimizer = optimizer\n",
    "            pass\n",
    "\n",
    "        def fit(self, X, y, X_val=None, y_val=None):\n",
    "\n",
    "            \"\"\"\n",
    "            初期値\n",
    "            \"\"\"\n",
    "            # self.sigma : ガウス分布の標準偏差\n",
    "            # self.lr : 学習率\n",
    "            # self.n_nodes1 : 1層目のノード数\n",
    "            # self.n_nodes2 : 2層目のノード数\n",
    "            # self.n_output : 出力層のノード数\n",
    "            optimizer = AdaGrad(self.lr)\n",
    "            self.FC1 = FC(self.n_features, self.n_nodes1, self.initializer(self.sigma), self.optimizer(self.lr))\n",
    "            self.activation1 = self.activater()\n",
    "            self.FC2 = FC(self.n_nodes1, self.n_nodes2, self.initializer(self.sigma), self.optimizer(self.lr))\n",
    "            self.activation2 = self.activater()\n",
    "            self.FC3 = FC(self.n_nodes2, self.n_output, self.initializer(self.sigma), self.optimizer(self.lr))\n",
    "            self.activation3 = Softmax_with_Loss()\n",
    "            \"\"\"Get_mini_batch\"\"\"\n",
    "            get_mini_batch = GetMiniBatch(X, y, self.batch_size)\n",
    "\n",
    "            \"\"\"エポック回イテレート\"\"\"\n",
    "            for i in range(self.epoch):\n",
    "                for mini_X_train, mini_y_train in get_mini_batch:\n",
    "\n",
    "                    \"\"\"\n",
    "                    Forword\n",
    "                    \"\"\"\n",
    "                    A1 = self.FC1.forward(mini_X_train)\n",
    "                    Z1 = self.activation1.forward(A1)\n",
    "                    A2 = self.FC2.forward(Z1)\n",
    "                    Z2 = self.activation2.forward(A2)\n",
    "                    A3 = self.FC3.forward(Z2)\n",
    "                    Z3 = self.activation3.forward(A3)\n",
    "                    \"\"\"\n",
    "                    Backword\n",
    "                    \"\"\"\n",
    "                    dA3 = self.activation3.backward(mini_y_train) # 交差エントロピー誤差とソフトマックスを合わせてい\n",
    "                    dZ2 = self.FC3.backward(dA3)\n",
    "                    dA2 = self.activation2.backward(dZ2)\n",
    "                    dZ1 = self.FC2.backward(dA2)\n",
    "                    dA1 = self.activation1.backward(dZ1)\n",
    "                    dZ0 = self.FC1.backward(dA1) # dZ0は使用しない\n",
    "                  \n",
    "                \"\"\"\n",
    "                Forword  after optimized weight\n",
    "                \"\"\"\n",
    "                A1 = self.FC1.forward(X)\n",
    "                Z1 = self.activation1.forward(A1)\n",
    "                A2 = self.FC2.forward(Z1)\n",
    "                Z2 = self.activation2.forward(A2)\n",
    "                A3 = self.FC3.forward(Z2)\n",
    "                Z3 = self.activation3.forward(A3)\n",
    "\n",
    "                \"\"\"\n",
    "                Evaluation\n",
    "                \"\"\"\n",
    "                print('__{}TIMES　of epoch__'.format(i+1))\n",
    "                print('L0SS={}'.format(self.cross_entropy_loss(Z3, y)))\n",
    "                print('ACCURACY_SCORE={}'.format(accuracy_score(y.argmax(1), Z3.argmax(1))))\n",
    "                \n",
    "                self.loss_box.append(self.cross_entropy_loss(Z3, y))\n",
    "\n",
    "            if self.verbose:\n",
    "                print()\n",
    "                #verboseをTrueにした際は学習過程などを出力する\n",
    "            return self.loss_box\n",
    "\n",
    "        def cross_entropy_loss(self, final_Z, y):\n",
    "            l =  -y*(np.log(final_Z))/self.batch_size\n",
    "            L = l.sum()\n",
    "            return L\n",
    "\n",
    "        def predict(self, X):\n",
    "            \"\"\"\n",
    "            Forword action after optimized weight\n",
    "            \"\"\"\n",
    "            A1 = self.FC1.forward(X)\n",
    "            Z1 = self.activation1.forward(A1)\n",
    "            A2 = self.FC2.forward(Z1)\n",
    "            Z2 = self.activation2.forward(A2)\n",
    "            A3 = self.FC3.forward(Z2)\n",
    "            Z3 = self.activation3.forward(A3)\n",
    "\n",
    "            return Z3.argmax(1)"
   ]
  },
  {
   "cell_type": "code",
   "execution_count": 88,
   "metadata": {},
   "outputs": [
    {
     "name": "stdout",
     "output_type": "stream",
     "text": [
      "__1TIMES　of epoch__\n",
      "L0SS=70.33189913423583\n",
      "ACCURACY_SCORE=0.952\n",
      "__2TIMES　of epoch__\n",
      "L0SS=38.380038494119894\n",
      "ACCURACY_SCORE=0.9775\n",
      "__3TIMES　of epoch__\n",
      "L0SS=23.04850696066183\n",
      "ACCURACY_SCORE=0.9915\n",
      "\n",
      "9.4 s ± 0 ns per loop (mean ± std. dev. of 1 run, 1 loop each)\n"
     ]
    }
   ],
   "source": [
    "%%timeit -r １ -n 1\n",
    "nnc = ScratchSimpleNeuralNetrowkClassifier(epoch = 3, alpha = 0.01, activater = Relu, initializer = He, optimizer = AdaGrad)\n",
    "\n",
    "loss_box_2layer = nnc.fit(X_train[:4000], y_train[:4000])\n",
    "\n",
    "y_pred = nnc.predict(X_val)\n",
    "\n",
    "accuracy_score(y_val.argmax(1), y_pred)"
   ]
  },
  {
   "cell_type": "markdown",
   "metadata": {},
   "source": [
    "## ４層"
   ]
  },
  {
   "cell_type": "code",
   "execution_count": 89,
   "metadata": {},
   "outputs": [],
   "source": [
    "class ScratchSimpleNeuralNetrowkClassifier():\n",
    "\n",
    "        def __init__(self, verbose = True, epoch = 0 , alpha = 0.01, activater = Tanh,  initializer = SimpleInitializer, optimizer = SGD):\n",
    "            self.verbose = verbose\n",
    "            self.n_features = 784\n",
    "            \n",
    "            self.n_nodes1 = 700\n",
    "            self.n_nodes2 = 500\n",
    "            self.n_nodes3 = 300\n",
    "            self.n_nodes4 = 100\n",
    "            self.n_output = 10\n",
    "            \n",
    "            self.sigma = 0.01   # ガウス分布の標準偏差\n",
    "            self.batch_size=10\n",
    "            self.loss_box = []\n",
    "            self.epoch = epoch\n",
    "            self.lr = alpha\n",
    "            self.activater = activater\n",
    "            self.initializer = initializer\n",
    "            self.optimizer = optimizer\n",
    "            pass\n",
    "\n",
    "        def fit(self, X, y, X_val=None, y_val=None):\n",
    "\n",
    "            \"\"\"\n",
    "            初期値\n",
    "            \"\"\"\n",
    "            # self.sigma : ガウス分布の標準偏差\n",
    "            # self.lr : 学習率\n",
    "            # self.n_nodes1 : 1層目のノード数\n",
    "            # self.n_nodes2 : 2層目のノード数\n",
    "            # self.n_output : 出力層のノード数\n",
    "            optimizer = AdaGrad(self.lr)\n",
    "            self.FC1 = FC(self.n_features, self.n_nodes1, self.initializer(self.sigma), self.optimizer(self.lr))\n",
    "            self.activation1 = self.activater()\n",
    "            self.FC2 = FC(self.n_nodes1, self.n_nodes2, self.initializer(self.sigma), self.optimizer(self.lr))\n",
    "            self.activation2 = self.activater()\n",
    "            self.FC3 = FC(self.n_nodes2, self.n_nodes3, self.initializer(self.sigma), self.optimizer(self.lr))\n",
    "            self.activation3 = self.activater()\n",
    "            self.FC4 = FC(self.n_nodes3, self.n_nodes4, self.initializer(self.sigma), self.optimizer(self.lr))\n",
    "            self.activation4 = self.activater()\n",
    "            self.FC5 = FC(self.n_nodes4, self.n_output, self.initializer(self.sigma), self.optimizer(self.lr))\n",
    "            self.activation5 = Softmax_with_Loss()\n",
    "            \n",
    "            \"\"\"Get_mini_batch\"\"\"\n",
    "            get_mini_batch = GetMiniBatch(X, y, self.batch_size)\n",
    "\n",
    "            \"\"\"エポック回イテレート\"\"\"\n",
    "            for i in range(self.epoch):\n",
    "                \n",
    "                for mini_X_train, mini_y_train in get_mini_batch:\n",
    "\n",
    "                    \"\"\"\n",
    "                    Forword\n",
    "                    \"\"\"\n",
    "                    A1 = self.FC1.forward(mini_X_train)\n",
    "                    Z1 = self.activation1.forward(A1)\n",
    "#                     print(Z1.shape)\n",
    "                    A2 = self.FC2.forward(Z1)\n",
    "                    Z2 = self.activation2.forward(A2)\n",
    "#                     print(Z2.shape)\n",
    "                    A3 = self.FC3.forward(Z2)\n",
    "                    Z3 = self.activation3.forward(A3)\n",
    "#                     print(Z3.shape)\n",
    "                    A4 = self.FC4.forward(Z3)\n",
    "                    Z4 = self.activation4.forward(A4)\n",
    "#                     print(Z4.shape)\n",
    "                    A5 = self.FC5.forward(Z4)\n",
    "                    Z5 = self.activation5.forward(A5)\n",
    "#                     print(Z5.shape)\n",
    "                    \"\"\"\n",
    "                    Backword\n",
    "                    \"\"\"\n",
    "                    dA5 = self.activation5.backward(mini_y_train) # 交差エントロピー誤差とソフトマックスを合わせてい\n",
    "#                     print(dA5.shape)\n",
    "                    dZ4 = self.FC5.backward(dA5)\n",
    "                    dA4 = self.activation4.backward(dZ4)\n",
    "#                     print(dA4.shape)\n",
    "                    dZ3 = self.FC4.backward(dA4)\n",
    "                    dA3 = self.activation3.backward(dZ3)\n",
    "#                     print(dA3.shape)\n",
    "                    dZ2 = self.FC3.backward(dA3)\n",
    "                    dA2 = self.activation2.backward(dZ2)\n",
    "#                     print(dA2.shape)\n",
    "                    dZ1 = self.FC2.backward(dA2)\n",
    "                    dA1 = self.activation1.backward(dZ1)\n",
    "#                     print(dA1.shape)\n",
    "                    dZ0 = self.FC1.backward(dA1) # dZ0は使用しない\n",
    "#                     print(dZ0.shape)\n",
    "                \"\"\"\n",
    "                Forword  after optimized weight\n",
    "                \"\"\"\n",
    "                A1 = self.FC1.forward(X)\n",
    "                Z1 = self.activation1.forward(A1)\n",
    "\n",
    "                A2 = self.FC2.forward(Z1)\n",
    "                Z2 = self.activation2.forward(A2)\n",
    "\n",
    "                A3 = self.FC3.forward(Z2)\n",
    "                Z3 = self.activation3.forward(A3)\n",
    "\n",
    "                A4 = self.FC4.forward(Z3)\n",
    "                Z4 = self.activation4.forward(A4)\n",
    "\n",
    "                A5 = self.FC5.forward(Z4)\n",
    "                Z5 = self.activation5.forward(A5)\n",
    "#                 print(Z5.shape)\n",
    "\n",
    "                \"\"\"\n",
    "                Evaluation\n",
    "                \"\"\"\n",
    "                print('__{}TIMES　of epoch__'.format(i+1))\n",
    "                print('L0SS={}'.format(self.cross_entropy_loss(Z5, y)))\n",
    "                print('ACCURACY_SCORE={}'.format(accuracy_score(y.argmax(1), Z5.argmax(1))))\n",
    "                \n",
    "                self.loss_box.append(self.cross_entropy_loss(Z5, y))\n",
    "\n",
    "            if self.verbose:\n",
    "                print()\n",
    "                #verboseをTrueにした際は学習過程などを出力する\n",
    "            return self.loss_box\n",
    "\n",
    "        def cross_entropy_loss(self, final_Z, y):\n",
    "            l =  -y*(np.log(final_Z))/self.batch_size\n",
    "            L = l.sum()\n",
    "            return L\n",
    "\n",
    "        def predict(self, X):\n",
    "            \"\"\"\n",
    "            Forword action after optimized weight\n",
    "            \"\"\"\n",
    "            A1 = self.FC1.forward(X)\n",
    "            Z1 = self.activation1.forward(A1)\n",
    "\n",
    "            A2 = self.FC2.forward(Z1)\n",
    "            Z2 = self.activation2.forward(A2)\n",
    "\n",
    "            A3 = self.FC3.forward(Z2)\n",
    "            Z3 = self.activation3.forward(A3)\n",
    "\n",
    "            A4 = self.FC4.forward(Z3)\n",
    "            Z4 = self.activation4.forward(A4)\n",
    "\n",
    "            A5 = self.FC5.forward(Z4)\n",
    "            Z5 = self.activation5.forward(A5)\n",
    "\n",
    "            return Z5.argmax(1)"
   ]
  },
  {
   "cell_type": "code",
   "execution_count": 90,
   "metadata": {},
   "outputs": [
    {
     "name": "stdout",
     "output_type": "stream",
     "text": [
      "__1TIMES　of epoch__\n",
      "L0SS=62.23176459754123\n",
      "ACCURACY_SCORE=0.96\n",
      "__2TIMES　of epoch__\n",
      "L0SS=26.217821994208887\n",
      "ACCURACY_SCORE=0.9825\n",
      "__3TIMES　of epoch__\n",
      "L0SS=13.739309645142779\n",
      "ACCURACY_SCORE=0.99075\n",
      "\n",
      "26.8 s ± 0 ns per loop (mean ± std. dev. of 1 run, 1 loop each)\n"
     ]
    }
   ],
   "source": [
    "%%timeit -r １ -n 1\n",
    "nnc = ScratchSimpleNeuralNetrowkClassifier(epoch = 3, alpha = 0.01, activater = Relu, initializer = He, optimizer = AdaGrad)\n",
    "\n",
    "loss_box_4layer = nnc.fit(X_train[:4000], y_train[:4000])\n",
    "\n",
    "y_pred = nnc.predict(X_val)\n",
    "\n",
    "accuracy_score(y_val.argmax(1), y_pred)"
   ]
  },
  {
   "cell_type": "markdown",
   "metadata": {},
   "source": [
    "## 6層"
   ]
  },
  {
   "cell_type": "code",
   "execution_count": 93,
   "metadata": {},
   "outputs": [],
   "source": [
    "class ScratchSimpleNeuralNetrowkClassifier():\n",
    "\n",
    "        def __init__(self, verbose = True, epoch = 0 , alpha = 0.01, activater = Tanh,  initializer = SimpleInitializer, optimizer = SGD):\n",
    "            self.verbose = verbose\n",
    "            self.n_features = 784\n",
    "            \n",
    "            self.n_nodes1 = 700\n",
    "            self.n_nodes2 = 600\n",
    "            self.n_nodes3 = 500\n",
    "            self.n_nodes4 = 400\n",
    "            self.n_nodes5 = 300\n",
    "            self.n_nodes6 = 150\n",
    "            self.n_output = 10\n",
    "            \n",
    "            self.sigma = 0.01   # ガウス分布の標準偏差\n",
    "            self.batch_size=10\n",
    "            self.loss_box = []\n",
    "            self.epoch = epoch\n",
    "            self.lr = alpha\n",
    "            self.activater = activater\n",
    "            self.initializer = initializer\n",
    "            self.optimizer = optimizer\n",
    "            pass\n",
    "\n",
    "        def fit(self, X, y, X_val=None, y_val=None):\n",
    "\n",
    "            \"\"\"\n",
    "            初期値\n",
    "            \"\"\"\n",
    "            # self.sigma : ガウス分布の標準偏差\n",
    "            # self.lr : 学習率\n",
    "            # self.n_nodes1 : 1層目のノード数\n",
    "            # self.n_nodes2 : 2層目のノード数\n",
    "            # self.n_output : 出力層のノード数\n",
    "            optimizer = AdaGrad(self.lr)\n",
    "            self.FC1 = FC(self.n_features, self.n_nodes1, self.initializer(self.sigma), self.optimizer(self.lr))\n",
    "            self.activation1 = self.activater()\n",
    "            \n",
    "            self.FC2 = FC(self.n_nodes1, self.n_nodes2, self.initializer(self.sigma), self.optimizer(self.lr))\n",
    "            self.activation2 = self.activater()\n",
    "            \n",
    "            self.FC3 = FC(self.n_nodes2, self.n_nodes3, self.initializer(self.sigma), self.optimizer(self.lr))\n",
    "            self.activation3 = self.activater()\n",
    "            \n",
    "            self.FC4 = FC(self.n_nodes3, self.n_nodes4, self.initializer(self.sigma), self.optimizer(self.lr))\n",
    "            self.activation4 = self.activater()\n",
    "            \n",
    "            self.FC5 = FC(self.n_nodes4, self.n_nodes5, self.initializer(self.sigma), self.optimizer(self.lr))\n",
    "            self.activation5 = self.activater()\n",
    "            \n",
    "            self.FC6 = FC(self.n_nodes5, self.n_nodes6, self.initializer(self.sigma), self.optimizer(self.lr))\n",
    "            self.activation6 = self.activater()\n",
    "            \n",
    "            self.FC7 = FC(self.n_nodes6, self.n_output, self.initializer(self.sigma), self.optimizer(self.lr))\n",
    "            self.activation7 = Softmax_with_Loss()\n",
    "            \n",
    "            \"\"\"Get_mini_batch\"\"\"\n",
    "            get_mini_batch = GetMiniBatch(X, y, self.batch_size)\n",
    "\n",
    "            \"\"\"エポック回イテレート\"\"\"\n",
    "            for i in range(self.epoch):\n",
    "                \n",
    "                for mini_X_train, mini_y_train in get_mini_batch:\n",
    "\n",
    "                    \"\"\"\n",
    "                    Forword\n",
    "                    \"\"\"\n",
    "                    A1 = self.FC1.forward(mini_X_train)\n",
    "                    Z1 = self.activation1.forward(A1)\n",
    "#                     print(Z1.shape)\n",
    "                    A2 = self.FC2.forward(Z1)\n",
    "                    Z2 = self.activation2.forward(A2)\n",
    "#                     print(Z2.shape)\n",
    "                    A3 = self.FC3.forward(Z2)\n",
    "                    Z3 = self.activation3.forward(A3)\n",
    "#                     print(Z3.shape)\n",
    "                    A4 = self.FC4.forward(Z3)\n",
    "                    Z4 = self.activation4.forward(A4)\n",
    "#                     print(Z4.shape)\n",
    "                    A5 = self.FC5.forward(Z4)\n",
    "                    Z5 = self.activation5.forward(A5)\n",
    "#                     print(Z3.shape)\n",
    "                    A6 = self.FC6.forward(Z5)\n",
    "                    Z6 = self.activation6.forward(A6)\n",
    "#                     print(Z4.shape)\n",
    "                    A7 = self.FC7.forward(Z6)\n",
    "                    Z7 = self.activation7.forward(A7)\n",
    "#                     print(Z5.shape)\n",
    "                    \"\"\"\n",
    "                    Backword\n",
    "                    \"\"\"\n",
    "                    dA7 = self.activation7.backward(mini_y_train) # 交差エントロピー誤差とソフトマックスを合わせてい\n",
    "#                     print(dA5.shape)\n",
    "                    dZ6 = self.FC7.backward(dA7)\n",
    "                    dA6 = self.activation6.backward(dZ6)\n",
    "#                     print(dA4.shape)\n",
    "                    dZ5 = self.FC6.backward(dA6)\n",
    "                    dA5 = self.activation5.backward(dZ5)\n",
    "#                     print(dA3.shape)\n",
    "                    dZ4 = self.FC5.backward(dA5)\n",
    "                    dA4 = self.activation4.backward(dZ4)\n",
    "        \n",
    "                    dZ3 = self.FC4.backward(dA4)\n",
    "                    dA3 = self.activation3.backward(dZ3)\n",
    "#                     print(dA3.shape)\n",
    "                    dZ2 = self.FC3.backward(dA3)\n",
    "                    dA2 = self.activation2.backward(dZ2)\n",
    "#                     print(dA2.shape)\n",
    "                    dZ1 = self.FC2.backward(dA2)\n",
    "                    dA1 = self.activation1.backward(dZ1)\n",
    "#                     print(dA1.shape)\n",
    "                    dZ0 = self.FC1.backward(dA1) # dZ0は使用しない\n",
    "#                     print(dZ0.shape)\n",
    "                \"\"\"\n",
    "                Forword  after optimized weight\n",
    "                \"\"\"\n",
    "                A1 = self.FC1.forward(X)\n",
    "                Z1 = self.activation1.forward(A1)\n",
    "#                     print(Z1.shape)\n",
    "                A2 = self.FC2.forward(Z1)\n",
    "                Z2 = self.activation2.forward(A2)\n",
    "#                     print(Z2.shape)\n",
    "                A3 = self.FC3.forward(Z2)\n",
    "                Z3 = self.activation3.forward(A3)\n",
    "#                     print(Z3.shape)\n",
    "                A4 = self.FC4.forward(Z3)\n",
    "                Z4 = self.activation4.forward(A4)\n",
    "#                     print(Z4.shape)\n",
    "                A5 = self.FC5.forward(Z4)\n",
    "                Z5 = self.activation5.forward(A5)\n",
    "#                     print(Z3.shape)\n",
    "                A6 = self.FC6.forward(Z5)\n",
    "                Z6 = self.activation6.forward(A6)\n",
    "#                     print(Z4.shape)\n",
    "                A7 = self.FC7.forward(Z6)\n",
    "                Z7 = self.activation7.forward(A7)\n",
    "\n",
    "                \"\"\"\n",
    "                Evaluation\n",
    "                \"\"\"\n",
    "                print('__{}TIMES　of epoch__'.format(i+1))\n",
    "                print('L0SS={}'.format(self.cross_entropy_loss(Z7, y)))\n",
    "                print('ACCURACY_SCORE={}'.format(accuracy_score(y.argmax(1), Z7.argmax(1))))\n",
    "                \n",
    "                self.loss_box.append(self.cross_entropy_loss(Z7, y))\n",
    "\n",
    "            if self.verbose:\n",
    "                print()\n",
    "                #verboseをTrueにした際は学習過程などを出力する\n",
    "            return self.loss_box\n",
    "\n",
    "        def cross_entropy_loss(self, final_Z, y):\n",
    "            l =  -y*(np.log(final_Z))/self.batch_size\n",
    "            L = l.sum()\n",
    "            return L\n",
    "\n",
    "        def predict(self, X):\n",
    "            \"\"\"\n",
    "            Forword action after optimized weight\n",
    "            \"\"\"\n",
    "            A1 = self.FC1.forward(X)\n",
    "            Z1 = self.activation1.forward(A1)\n",
    "#                     print(Z1.shape)\n",
    "            A2 = self.FC2.forward(Z1)\n",
    "            Z2 = self.activation2.forward(A2)\n",
    "#                     print(Z2.shape)\n",
    "            A3 = self.FC3.forward(Z2)\n",
    "            Z3 = self.activation3.forward(A3)\n",
    "#                     print(Z3.shape)\n",
    "            A4 = self.FC4.forward(Z3)\n",
    "            Z4 = self.activation4.forward(A4)\n",
    "#                     print(Z4.shape)\n",
    "            A5 = self.FC5.forward(Z4)\n",
    "            Z5 = self.activation5.forward(A5)\n",
    "#                     print(Z3.shape)\n",
    "            A6 = self.FC6.forward(Z5)\n",
    "            Z6 = self.activation6.forward(A6)\n",
    "#                     print(Z4.shape)\n",
    "            A7 = self.FC7.forward(Z6)\n",
    "            Z7 = self.activation7.forward(A7)\n",
    "\n",
    "            return Z7.argmax(1)"
   ]
  },
  {
   "cell_type": "code",
   "execution_count": 94,
   "metadata": {},
   "outputs": [
    {
     "name": "stdout",
     "output_type": "stream",
     "text": [
      "__1TIMES　of epoch__\n",
      "L0SS=83.54685518459122\n",
      "ACCURACY_SCORE=0.9415\n",
      "__2TIMES　of epoch__\n",
      "L0SS=38.15468123340608\n",
      "ACCURACY_SCORE=0.97175\n",
      "__3TIMES　of epoch__\n",
      "L0SS=18.74948740841072\n",
      "ACCURACY_SCORE=0.98675\n",
      "\n",
      "1min 6s ± 0 ns per loop (mean ± std. dev. of 1 run, 1 loop each)\n"
     ]
    }
   ],
   "source": [
    "%%timeit -r １ -n 1\n",
    "nnc = ScratchSimpleNeuralNetrowkClassifier(epoch = 3, alpha = 0.01, activater = Relu, initializer = He, optimizer = AdaGrad)\n",
    "\n",
    "loss_box_6layer = nnc.fit(X_train[:4000], y_train[:4000])\n",
    "\n",
    "y_pred = nnc.predict(X_val)\n",
    "\n",
    "accuracy_score(y_val.argmax(1), y_pred)"
   ]
  },
  {
   "cell_type": "code",
   "execution_count": 95,
   "metadata": {},
   "outputs": [
    {
     "data": {
      "image/png": "[encoded data removed]",
      "text/plain": [
       "<Figure size 432x288 with 1 Axes>"
      ]
     },
     "metadata": {
      "needs_background": "light"
     },
     "output_type": "display_data"
    }
   ],
   "source": [
    "import matplotlib.pyplot as plt\n",
    "plt.xlabel('Number_of_epoch')\n",
    "plt.ylabel('Loss')\n",
    "plt.plot(loss_box_6layer, label = '6layer')\n",
    "plt.plot(loss_box_4layer, label = '4layer')\n",
    "plt.plot(loss_box_2layer, label = '2layer')\n",
    "plt.legend()\n",
    "plt.show()"
   ]
  },
  {
   "cell_type": "code",
   "execution_count": 110,
   "metadata": {},
   "outputs": [
    {
     "data": {
      "image/png": "[encoded data removed]",
      "text/plain": [
       "<Figure size 432x288 with 1 Axes>"
      ]
     },
     "metadata": {
      "needs_background": "light"
     },
     "output_type": "display_data"
    }
   ],
   "source": [
    "timelist = [9.4, 26.8, 66]\n",
    "layerlist = ['2layer', '4layer', '6layer']\n",
    "\n",
    "plt.xlabel('Number_of_layer')\n",
    "plt.ylabel('time[s]')\n",
    "plt.bar(layerlist, timelist)\n",
    "plt.show()"
   ]
  },
  {
   "cell_type": "markdown",
   "metadata": {},
   "source": [
    "## そうを増やすより、エポック数を増やした方が良い結果が得られる。"
   ]
  }
 ],
 "metadata": {
  "kernelspec": {
   "display_name": "Python 3",
   "language": "python",
   "name": "python3"
  },
  "language_info": {
   "codemirror_mode": {
    "name": "ipython",
    "version": 3
   },
   "file_extension": ".py",
   "mimetype": "text/x-python",
   "name": "python",
   "nbconvert_exporter": "python",
   "pygments_lexer": "ipython3",
   "version": "3.7.4"
  }
 },
 "nbformat": 4,
 "nbformat_minor": 4
}
