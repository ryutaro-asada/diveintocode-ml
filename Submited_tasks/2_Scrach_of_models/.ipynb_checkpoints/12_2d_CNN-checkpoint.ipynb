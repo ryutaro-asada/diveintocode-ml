{
 "cells": [
  {
   "cell_type": "code",
   "execution_count": 2,
   "metadata": {},
   "outputs": [],
   "source": [
    "import numpy as np\n",
    "import pandas as pd"
   ]
  },
  {
   "cell_type": "code",
   "execution_count": 3,
   "metadata": {},
   "outputs": [
    {
     "name": "stderr",
     "output_type": "stream",
     "text": [
      "Using TensorFlow backend.\n"
     ]
    }
   ],
   "source": [
    "from keras.datasets import mnist\n",
    "(X_train, y_train), (X_test, y_test) = mnist.load_data()"
   ]
  },
  {
   "cell_type": "code",
   "execution_count": 4,
   "metadata": {},
   "outputs": [
    {
     "name": "stdout",
     "output_type": "stream",
     "text": [
      "(60000, 28, 28)\n",
      "(10000, 28, 28)\n",
      "uint8\n"
     ]
    }
   ],
   "source": [
    "print(X_train.shape) # (60000, 28, 28)\n",
    "print(X_test.shape) # (10000, 28, 28)\n",
    "print(X_train[0].dtype) # uint8"
   ]
  },
  {
   "cell_type": "code",
   "execution_count": 5,
   "metadata": {},
   "outputs": [],
   "source": [
    "X_train = X_train.reshape((60000, 1, 28, 28))\n",
    "X_test = X_test.reshape((10000, 1, 28, 28))"
   ]
  },
  {
   "cell_type": "code",
   "execution_count": 6,
   "metadata": {},
   "outputs": [
    {
     "name": "stdout",
     "output_type": "stream",
     "text": [
      "(60000, 1, 28, 28)\n",
      "(10000, 1, 28, 28)\n"
     ]
    }
   ],
   "source": [
    "print(X_train.shape)\n",
    "print(X_test.shape)"
   ]
  },
  {
   "cell_type": "code",
   "execution_count": 7,
   "metadata": {},
   "outputs": [
    {
     "data": {
      "text/plain": [
       "(5, 1, 28, 28)"
      ]
     },
     "execution_count": 7,
     "metadata": {},
     "output_type": "execute_result"
    }
   ],
   "source": [
    "X_train[0:5].shape"
   ]
  },
  {
   "cell_type": "code",
   "execution_count": null,
   "metadata": {},
   "outputs": [],
   "source": []
  },
  {
   "cell_type": "code",
   "execution_count": 8,
   "metadata": {},
   "outputs": [
    {
     "name": "stdout",
     "output_type": "stream",
     "text": [
      "1.0\n",
      "0.0\n"
     ]
    }
   ],
   "source": [
    "X_train = X_train.astype(np.float)\n",
    "X_test = X_test.astype(np.float)\n",
    "X_train /= 255\n",
    "X_test /= 255\n",
    "print(X_train.max()) # 1.0\n",
    "print(X_train.min()) # 0.0"
   ]
  },
  {
   "cell_type": "code",
   "execution_count": 9,
   "metadata": {},
   "outputs": [
    {
     "name": "stdout",
     "output_type": "stream",
     "text": [
      "(60000,)\n",
      "(60000, 10)\n",
      "float64\n"
     ]
    }
   ],
   "source": [
    "from sklearn.preprocessing import OneHotEncoder\n",
    "enc = OneHotEncoder(handle_unknown='ignore', sparse=False)\n",
    "y_train_one_hot = enc.fit_transform(y_train[:, np.newaxis])\n",
    "y_test_one_hot = enc.transform(y_test[:, np.newaxis])\n",
    "print(y_train.shape) # (60000,)\n",
    "print(y_train_one_hot.shape) # (60000, 10)\n",
    "print(y_train_one_hot.dtype) # float64"
   ]
  },
  {
   "cell_type": "code",
   "execution_count": 10,
   "metadata": {},
   "outputs": [],
   "source": [
    "from sklearn.model_selection import train_test_split"
   ]
  },
  {
   "cell_type": "code",
   "execution_count": 11,
   "metadata": {},
   "outputs": [],
   "source": [
    "X_train, X_val, y_train, y_val = train_test_split(X_train, y_train_one_hot, test_size=0.2)"
   ]
  },
  {
   "cell_type": "code",
   "execution_count": 12,
   "metadata": {},
   "outputs": [
    {
     "name": "stdout",
     "output_type": "stream",
     "text": [
      "(48000, 1, 28, 28)\n",
      "(12000, 1, 28, 28)\n",
      "(48000, 10)\n",
      "(12000, 10)\n"
     ]
    }
   ],
   "source": [
    "print(X_train.shape)\n",
    "print(X_val.shape)\n",
    "print(y_train.shape)\n",
    "print(y_val.shape)"
   ]
  },
  {
   "cell_type": "markdown",
   "metadata": {},
   "source": [
    "### 【問題1】2次元畳み込み層の作成\n",
    "1次元畳み込み層のクラスConv1dを発展させ、2次元畳み込み層のクラスConv2dを作成してください。"
   ]
  },
  {
   "cell_type": "markdown",
   "metadata": {},
   "source": [
    "### 【問題2】2次元畳み込み後の出力サイズ\n",
    "畳み込みを行うと特徴マップのサイズが変化します。どのように変化するかは以下の数式から求められます。この計算を行う関数を作成してください。"
   ]
  },
  {
   "cell_type": "markdown",
   "metadata": {},
   "source": [
    "### 【問題3】最大プーリング層の作成\n",
    "最大プーリング層のクラスMaxPool2Dを作成してください。  "
   ]
  },
  {
   "cell_type": "code",
   "execution_count": null,
   "metadata": {},
   "outputs": [],
   "source": []
  },
  {
   "cell_type": "code",
   "execution_count": 70,
   "metadata": {},
   "outputs": [],
   "source": [
    "        #  Sammary  Forward\n",
    "        #  -----------------------------------------------------------------------------------------------------------------\n",
    "        #  Layer (type)                       Input Shape                     Filter Shape             Output Shape   \n",
    "        #  ================================================================\n",
    "        #  conv2d_1 (Conv2D)       (sample, 1, 28, 28)         ( 32,1, 2, 2)         (sample, 32, 26, 26)     \n",
    "        #  ________________________________________________________________\n",
    "        #  maxpooling2d_1 \n",
    "        #  (MaxPooling2D)             (sample, 32, 26, 26)            ( 2, 2)                (sample, 32, 13, 13)\n",
    "        #  ________________________________________________________________\n",
    "        #  conv2d_2 (Conv2D)    (sample, 32, 13, 13)        (64, 32, 2, 2)       (sample, 64, 11, 11)\n",
    "        #  ________________________________________________________________\n",
    "        #  maxpooling2d_2 \n",
    "        #  (MaxPooling2D)            (sample, 64, 11, 11)           ( 2, 2)                (sample, 64, 5, 5)\n",
    "        #  ________________________________________________________________\n",
    "        #  conv2d_3 (Conv2D)    (sample, 64, 5, 5)         ( 64, 64, 2, 2)          (sample,64,  3, 3)                                                    \n",
    "        #  ________________________________________________________________\n",
    "        #  flatten_1 (Flatten)      (sample,64,  3, 3)                                              (sample, 576)\n",
    "        #  ________________________________________________________________\n",
    "        #  dense_1 (Dense)          (sample, 576)                                                     (sample, 64)\n",
    "        #  ________________________________________________________________\n",
    "        #  dense_2 (Dense)         (sample, 64)                                                        (sample, 10)\n",
    "        #  ================================================================                                                                                                    "
   ]
  },
  {
   "cell_type": "code",
   "execution_count": null,
   "metadata": {},
   "outputs": [],
   "source": []
  },
  {
   "cell_type": "code",
   "execution_count": 71,
   "metadata": {},
   "outputs": [],
   "source": [
    "from sklearn.metrics import accuracy_score"
   ]
  },
  {
   "cell_type": "code",
   "execution_count": 72,
   "metadata": {},
   "outputs": [],
   "source": [
    "class GetMiniBatch():\n",
    "    \"\"\"\n",
    "    ミニバッチを取得するイテレータ\n",
    "\n",
    "    Parameters\n",
    "    ----------\n",
    "    X : 次の形のndarray, shape (n_samples, n_features)\n",
    "      訓練データ\n",
    "    y : 次の形のndarray, shape (n_samples, 1)\n",
    "      正解値\n",
    "    batch_size : int\n",
    "      バッチサイズ\n",
    "    seed : int\n",
    "      NumPyの乱数のシード\n",
    "    \"\"\"\n",
    "    def __init__(self, X, y, batch_size = 20, seed=0):\n",
    "        self.batch_size = batch_size\n",
    "        np.random.seed(seed)\n",
    "        shuffle_index = np.random.permutation(np.arange(X.shape[0]))\n",
    "        self._X = X[shuffle_index]\n",
    "        self._y = y[shuffle_index]\n",
    "        self._stop = np.ceil(X.shape[0]/self.batch_size).astype(np.int)\n",
    "    def __len__(self):\n",
    "        return self._stop\n",
    "    def __getitem__(self,item):\n",
    "        p0 = item*self.batch_size\n",
    "        p1 = item*self.batch_size + self.batch_size\n",
    "        return self._X[p0:p1], self._y[p0:p1]        \n",
    "    def __iter__(self):\n",
    "        self._counter = 0\n",
    "        return self\n",
    "    def __next__(self):\n",
    "        if self._counter >= self._stop:\n",
    "            raise StopIteration()\n",
    "        p0 = self._counter*self.batch_size\n",
    "        p1 = self._counter*self.batch_size + self.batch_size\n",
    "        self._counter += 1\n",
    "        return self._X[p0:p1], self._y[p0:p1]"
   ]
  },
  {
   "cell_type": "code",
   "execution_count": 73,
   "metadata": {},
   "outputs": [],
   "source": [
    "class He:\n",
    "    \"\"\"\n",
    "    ガウス分布によるシンプルな初期化\n",
    "    Parameters\n",
    "    ----------\n",
    "    sigma : float\n",
    "      ガウス分布の標準偏差\n",
    "    \"\"\"\n",
    "    def __init__(self, siguma):\n",
    "        self.siguma = siguma\n",
    "        \n",
    "    def W(self, n_nodes1, n_nodes2):\n",
    "        \"\"\"\n",
    "        重みの初期化\n",
    "        Parameters\n",
    "        ----------\n",
    "        n_nodes1 : int\n",
    "          前の層のノード数\n",
    "        n_nodes2 : int\n",
    "          後の層のノード数\n",
    "        Returns\n",
    "        ----------\n",
    "        W :\n",
    "        \"\"\"\n",
    "        H_siguma = np.sqrt(2/n_nodes1)\n",
    "        W = H_siguma*np.random.randn(n_nodes1, n_nodes2)\n",
    "\n",
    "        return W\n",
    "    def B(self, n_nodes2):\n",
    "        \"\"\"\n",
    "        バイアスの初期化\n",
    "        Parameters\n",
    "        ----------\n",
    "        n_nodes2 : int\n",
    "          後の層のノード数\n",
    "        Returns\n",
    "        ----------\n",
    "        B :\n",
    "        \"\"\"\n",
    "        H_siguma = np.sqrt(2/n_nodes2)\n",
    "        B = H_siguma*np.random.randn(n_nodes2)\n",
    "#         print('B'+str(B.shape))\n",
    "\n",
    "        return B\n",
    "\n",
    "    def filter(self, filter_info):\n",
    "        \"\"\"\n",
    "        重みの初期化\n",
    "        Parameters\n",
    "        ----------\n",
    "        n_nodes1 : int\n",
    "          前の層のノード数\n",
    "        n_nodes2 : int\n",
    "          後の層のノード数\n",
    "        Returns\n",
    "        ----------\n",
    "        W :\n",
    "        \"\"\"\n",
    "        filter_num, filter_chan, filter_row, filter_col = filter_info\n",
    "\n",
    "        H_siguma = np.sqrt(2/filter_num)\n",
    "        filter = H_siguma*np.random.randn(filter_num, filter_chan, filter_row, filter_col)\n",
    "        \n",
    "        return filter\n",
    "\n",
    "    def bias(self,  filter_num):\n",
    "        \"\"\"\n",
    "        バイアスの初期化\n",
    "        Parameters\n",
    "        ----------\n",
    "        n_nodes2 : int\n",
    "          後の層のノード数\n",
    "        Returns\n",
    "        ----------\n",
    "        B :\n",
    "        \"\"\"\n",
    "        H_siguma = np.sqrt(2/filter_num)\n",
    "        bias = H_siguma*np.random.randn(filter_num)\n",
    "#         print('bias' + str(bias.shape))\n",
    "\n",
    "        return bias"
   ]
  },
  {
   "cell_type": "code",
   "execution_count": 74,
   "metadata": {},
   "outputs": [],
   "source": [
    "class AdaGrad:\n",
    "    \"\"\"\n",
    "    確率的勾配降下法\n",
    "    Parameters\n",
    "    ----------\n",
    "    lr : 学習率\n",
    "    \"\"\"\n",
    "    def __init__(self, lr, type = 'all_conect'):\n",
    "        self.lr = lr\n",
    "        self.type = type\n",
    "        \n",
    "    def update(self, layer):\n",
    "        \"\"\"\n",
    "        ある層の重みやバイアスの更新\n",
    "        Parameters\n",
    "        ----------\n",
    "        layer : 更新前の層のインスタンス\n",
    "        \"\"\"\n",
    "#         from (zerotuku)\n",
    "#         for key in params.keys():\n",
    "#             self.h[key] += grads[key] * grads[key]\n",
    "#             params[key] -= self.lr * grads[key] / (np.sqrt(self.h[key]) + 1e-7)\n",
    "#         print(layer.dW.shape)\n",
    "\n",
    "        # 全結合層用\n",
    "        if self.type == 'all_conect':\n",
    "            layer.ada_W += layer.dW**2\n",
    "            layer.ada_B += layer.dB**2\n",
    "\n",
    "            layer.W -= self.lr*layer.dW/(np.sqrt(layer.ada_W) + 1e-7)\n",
    "            layer.B -= (self.lr*layer.dB/(np.sqrt(layer.ada_B) + 1e-7)).mean(0)\n",
    "#             print('layer.B'+ str(layer.B.shape))\n",
    "\n",
    "        # コンボル層更新用\n",
    "        if self.type == 'conv':\n",
    "            layer.ada_filter += layer.dfilter**2\n",
    "            layer.ada_bias += layer.dbias**2\n",
    "            \n",
    "#             j = (self.lr*layer.dbias/(np.sqrt(layer.ada_bias) + 1e-7))\n",
    "#             print(j.shape)\n",
    "\n",
    "# #             print用\n",
    "            j = (self.lr*layer.dbias/(np.sqrt(layer.ada_bias) + 1e-7))\n",
    "#             print('layer.bias_pre'+ str(j.shape))\n",
    "            \n",
    "            layer.filter -= self.lr*layer.dfilter/(np.sqrt(layer.ada_filter) + 1e-7)\n",
    "            layer.bias -= (self.lr*layer.dbias/(np.sqrt(layer.ada_bias) + 1e-7)).mean(-1).mean(-1).mean(0)\n",
    "#             print('layer.bias_pre'+ str(self.lr*layer.dbias/(np.sqrt(layer.ada_bias) + 1e-7)).mean(1).mean(1))\n",
    "\n",
    "        return layer"
   ]
  },
  {
   "cell_type": "code",
   "execution_count": 75,
   "metadata": {},
   "outputs": [],
   "source": [
    "class Relu:\n",
    "\n",
    "    def __init__(self):\n",
    "        self.mask = None\n",
    "        \n",
    "    def forward(self, X):\n",
    "        \"\"\"\n",
    "        ある層の重みやバイアスの更新\n",
    "        Parameters\n",
    "        ----------\n",
    "        layer : 更新前の層のインスタンス\n",
    "        \"\"\"\n",
    "        self.mask = (X <= 0)\n",
    "        out = X.copy()\n",
    "        out[self.mask] = 0\n",
    " \n",
    "        return out\n",
    "\n",
    "    def backward(self, dout):\n",
    "        dout[self.mask] = 0\n",
    "        dX = dout\n",
    "\n",
    "        return dout"
   ]
  },
  {
   "cell_type": "code",
   "execution_count": 76,
   "metadata": {},
   "outputs": [],
   "source": [
    "class Softmax_with_Loss:\n",
    "    \n",
    "    def __init__(self,):\n",
    "        self.forword_A = None\n",
    "        \n",
    "    def forward(self, A):\n",
    "        \"\"\"\n",
    "        ある層の重みやバイアスの更新\n",
    "        Parameters\n",
    "        ----------\n",
    "        layer : 更新前の層のインスタンス\n",
    "        \"\"\"\n",
    "        self.forword_A = np.exp(A)/(np.exp(A).sum(1).reshape(-1, 1))\n",
    "        return self.forword_A\n",
    "\n",
    "    def backward(self, y):\n",
    "\n",
    "        return self.forword_A - y"
   ]
  },
  {
   "cell_type": "markdown",
   "metadata": {},
   "source": [
    "## Forword and Backword"
   ]
  },
  {
   "cell_type": "code",
   "execution_count": 77,
   "metadata": {},
   "outputs": [],
   "source": [
    "class FC:\n",
    "    \"\"\"\n",
    "    ノード数n_nodes1からn_nodes2への全結合層\n",
    "    Parameters\n",
    "    ----------\n",
    "    n_nodes1 : int\n",
    "      前の層のノード数\n",
    "    n_nodes2 : int\n",
    "      後の層のノード数\n",
    "    initializer : 初期化方法のインスタンス\n",
    "    optimizer : 最適化手法のインスタンス\n",
    "    \"\"\"\n",
    "    def __init__(self, n_nodes1, n_nodes2, initializer, optimizer):\n",
    "        self.optimizer = optimizer\n",
    "        # 初期化\n",
    "        # initializerのメソッドを使い、self.Wとself.Bを初期化する\n",
    "        self.W = initializer.W(n_nodes1, n_nodes2)\n",
    "        self.B = initializer.B(n_nodes2)\n",
    "        self.dB = 0\n",
    "        self.dW = 0\n",
    "        self.ada_W = 0\n",
    "        self.ada_B = 0\n",
    "        self.v_W = 0\n",
    "        self.v_B = 0\n",
    "        \n",
    "    def forward(self, X):\n",
    "        \"\"\"\n",
    "        フォワード\n",
    "        Parameters\n",
    "        ----------\n",
    "        X : 次の形のndarray, shape (batch_size, n_nodes1)\n",
    "            入力\n",
    "        Returns\n",
    "        ----------\n",
    "        A : 次の形のndarray, shape (batch_size, n_nodes2)\n",
    "            出力\n",
    "        \"\"\"\n",
    "        self.forward_Z = X.copy()\n",
    "        A = np.dot(X, self.W) + self.B        \n",
    "        \n",
    "        return A\n",
    "    def backward(self, dA):\n",
    "        \"\"\"\n",
    "        バックワード\n",
    "        Parameters\n",
    "        ----------\n",
    "        dA : 次の形のndarray, shape (batch_size, n_nodes2)\n",
    "            後ろから流れてきた勾配\n",
    "        Returns\n",
    "        ----------\n",
    "        dZ : 次の形のndarray, shape (batch_size, n_nodes1)\n",
    "            前に流す勾配\n",
    "        \"\"\"\n",
    "\n",
    "        self.dB = dA\n",
    "        self.dW = np.dot(self.forward_Z.T, dA)\n",
    "        dZ = np.dot(dA, self.W.T)\n",
    "        # 更新\n",
    "        \n",
    "        self.optimizer.update(self)\n",
    "        \n",
    "        return dZ"
   ]
  },
  {
   "cell_type": "code",
   "execution_count": 78,
   "metadata": {},
   "outputs": [],
   "source": [
    "class Conv2d:\n",
    "    def __init__(self, filter_info, initializer, optimizer, shapetype = None):\n",
    "        self.optimizer = optimizer\n",
    "        self.filter_num, self.filter_kernel, self.filter_row, self.filter_col = filter_info\n",
    "        self.shapetype = shapetype\n",
    "\n",
    "        self.filter = initializer.filter(filter_info)\n",
    "        self.bias = initializer.bias(self.filter_num)\n",
    "        self.ada_filter = 0\n",
    "        self.dfilter = 0\n",
    "        self.ada_bias =0\n",
    "        self.dbias = 0\n",
    "\n",
    "\n",
    "        # filter = np.ones([self.filter_num, self.filter_row, self.filter_col, channel_num])\n",
    "        # bias = np.ones([self.filter_num, 1, 1])\n",
    "        # self.W = initializer.W(n_nodes1, n_nodes2)\n",
    "        # self.B = initializer.B(n_nodes2)\n",
    "    \n",
    "    def forward( self, input):\n",
    "\n",
    "        self.forward_input = input.copy()\n",
    "\n",
    "        #最初だけ型が違うから。\n",
    "        # if self.shapetype == 'first':\n",
    "        #     print('first')\n",
    "        #     sample_num, input_row, input_col, channel_num = input.shape\n",
    "            \n",
    "        \n",
    "#         print('second')\n",
    "        sample_num, input_channel, input_row, input_col = input.shape\n",
    "\n",
    "        slide_row = input_row - self.filter_row\n",
    "        slide_col = input_col - self.filter_col\n",
    "\n",
    "        # if self.shapetype == 'first':\n",
    "        #     #出力の形状設定\n",
    "        #     out_put = np.zeros([sample_num, self.filter_num, slide_row, slide_col])\n",
    "        #     for sample in range(sample_num):\n",
    "        #         for filter_n in range(self.filter_num):\n",
    "        #             for row in range(slide_row):\n",
    "        #                 for col in range(slide_col):\n",
    "        #                     a = (input[sample, row : row + self.filter_row, col : col + self.filter_col]*self.filter[filter_n]).sum() + self.bias[filter_n]\n",
    "        #                     out_put[sample, filter_n, row, col] = a \n",
    "                        \n",
    "    # else:\n",
    "        #出力の形状設定\n",
    "        out_put = np.zeros([sample_num, self.filter_num, slide_row, slide_col])\n",
    "        for sample in range(sample_num):\n",
    "            for input_chan in range(input_channel):\n",
    "                for filter_n in range(self.filter_num):\n",
    "                    for row in range(slide_row):\n",
    "                        for col in range(slide_col):\n",
    "                            a = (input[sample, input_chan, row : row + self.filter_row, col : col + self.filter_col]*self.filter[filter_n]).sum() + self.bias[filter_n]\n",
    "                            out_put[sample, filter_n, row, col] = a\n",
    "                        \n",
    "        return out_put\n",
    "\n",
    "    def backward(self, dA):\n",
    "        \n",
    "        self.dbias = dA\n",
    "        dX = np.zeros(list(self.forward_input.shape))\n",
    "        self.dfilter = np.zeros(list(self.filter.shape))\n",
    "\n",
    "        sample_inp,chan_inp , row_inp, col_inp = self.forward_input.shape\n",
    "\n",
    "        filter_num, filter_chan, filter_row, filter_col = self.filter.shape\n",
    "\n",
    "        dAsample, dAchanel, dArow, dAcol = dA.shape\n",
    "        # print(self.filter.shape)\n",
    "        # print(filter_row, filter_col)\n",
    "\n",
    "        for sample in range(dAsample):\n",
    "            for i_chan in range(chan_inp):\n",
    "                for chanel_n in range(dAchanel):\n",
    "                    for row in range(dArow):\n",
    "                        for col in range(dAcol):\n",
    "                            # print(dX[sample, row:row+filter_row, col:col+filter_col])\n",
    "                            # print(dA[sample, chanel_n, row, col]\n",
    "                            # print(self.filter[chanel_n])\n",
    "                            # print(dX[sample, row:row+filter_row, col:col+filter_col].shape)\n",
    "                            # print(dA[sample, chanel_n, row, col].shape)\n",
    "                            # print(self.filter[chanel_n].shape)\n",
    "\n",
    "                            dX[sample,i_chan, row:row+filter_row, col:col+filter_col] += dA[sample, chanel_n, row, col]*self.filter[chanel_n, i_chan]\n",
    "                            self.dfilter[chanel_n,i_chan] += dA[sample, chanel_n, row, col]*self.forward_input[sample, i_chan, row:row+filter_row, col:col+filter_col]\n",
    "\n",
    "        self.optimizer.update(self)\n",
    "\n",
    "        return dX"
   ]
  },
  {
   "cell_type": "markdown",
   "metadata": {},
   "source": [
    "## Max_Pooling"
   ]
  },
  {
   "cell_type": "code",
   "execution_count": 79,
   "metadata": {},
   "outputs": [],
   "source": [
    "class Max_Pooling:\n",
    "    def __init__(self, shape = (2, 2)):\n",
    "        self.filter_row, self.filter_col = shape\n",
    "        self.max_index = 0\n",
    "        \n",
    "    def forward(self, X):\n",
    "        # Max_pool\n",
    "        # X.sahpe (5, 32, 3, 3)\n",
    "        # (X_sample, filter_num, filter_row, filter_col)\n",
    "\n",
    "        input_sample, input_fillnum, input_row, input_col = X.shape\n",
    "        self.foward_X = X\n",
    "#         print(input_row)\n",
    "#         print(self.filter_row)\n",
    "\n",
    "        if input_row%self.filter_row != 0:\n",
    "            input_row = input_row - (input_row%self.filter_row)\n",
    "            input_col = input_col - (input_col%self.filter_col)\n",
    "\n",
    "        slide_row = int(input_row/self.filter_row)\n",
    "        slide_col = int(input_col/self.filter_col)\n",
    "        self.max_index = []\n",
    "\n",
    "        out_put = np.zeros([input_sample, input_fillnum, slide_row, slide_col])\n",
    "\n",
    "        for sample_n in range(input_sample):\n",
    "            for filter_n in range(input_fillnum):\n",
    "                for row in range(slide_row):\n",
    "                    for col in range(slide_col):\n",
    "                        \n",
    "                        X_where = X[sample_n,  filter_n, (row*self.filter_row):(row*self.filter_row)+self.filter_row, (col*self.filter_col):(col*self.filter_col)+self.filter_col]\n",
    "                        index = np.unravel_index(np.argmax(X_where, axis=None), X_where.shape)\n",
    "                        X_max_index = [sample_n,  filter_n, (row*self.filter_row)+index[0], (col*self.filter_col)+index[1]]\n",
    "#                         print('max_index{}'.format(np.array(index)))\n",
    "                        self.max_index.append(X_max_index)\n",
    "                        out_put[sample_n, filter_n, row, col] = X_where.max()\n",
    "        \n",
    "        return out_put\n",
    "    \n",
    "    def backward(self, A):\n",
    "        # Max_pool　　back\n",
    "#         (5, 32, 13, 13)から\n",
    "#         元のshape(5, 32, 26, 26)へ戻す\n",
    "\n",
    "        loss_sample, loss_fillnum, loss_row, loss_col = A.shape\n",
    "        loss_1darray = A.ravel()\n",
    "        foward_sample, foward_channel, foward_row, foward_col = self.foward_X.shape\n",
    "        \n",
    "#         new_row, new_col = loss_row*self.filter_row, loss_col*self.filter_col\n",
    "\n",
    "        out_put = np.zeros([loss_sample, loss_fillnum, foward_row, foward_col])\n",
    "#         print(len(self.max_index))\n",
    "\n",
    "#         for sample_n in range(loss_sample):\n",
    "#             for filter_n in range(loss_fillnum):\n",
    "        for index in range(len(self.max_index)):\n",
    "            index_row = self.max_index[index]\n",
    "            out_put[index_row[0], index_row[1], index_row[2], index_row[3]] = loss_1darray[index]\n",
    "                    \n",
    "        return out_put"
   ]
  },
  {
   "cell_type": "markdown",
   "metadata": {},
   "source": [
    "### 【問題5】平滑化\n",
    "平滑化するためのFlattenクラスを作成してください。  \n",
    "フォワードのときはチャンネル、高さ、幅の3次元を1次元にreshapeします。  \n",
    "その値は記録しておき、バックワードのときに再びreshapeによって形を戻します。  \n",
    "この平滑化のクラスを挟むことで出力前の全結合層に適した配列を作ることができます。"
   ]
  },
  {
   "cell_type": "code",
   "execution_count": 80,
   "metadata": {},
   "outputs": [],
   "source": [
    "class Flatten:\n",
    "    def __init__(self,):\n",
    "        \n",
    "        self.row = 0\n",
    "        self.col = 0\n",
    "        self.sample =0\n",
    "        self.filnum =0\n",
    "        \n",
    "    def forward(self, X):\n",
    "        # Flatten to X\n",
    "        \n",
    "        self.sample, self.filnum, self.row , self.col = X.shape\n",
    "        \n",
    "        flat = X.reshape(self.sample, -1)\n",
    "        \n",
    "        return flat\n",
    "    def backward(self, dA):\n",
    "        # back to original shape\n",
    "        \n",
    "        out_put = dA.reshape(self.sample, self.filnum, self.row , self.col)\n",
    "        \n",
    "        return out_put"
   ]
  },
  {
   "cell_type": "code",
   "execution_count": 87,
   "metadata": {},
   "outputs": [],
   "source": [
    "class ScratchSimpleNeuralNetrowkClassifier_add_conv:\n",
    "    \n",
    "    def __init__(self, verbose = True, epoch = 0, alpha = 0.01, activater = Relu,  initializer = He, optimizer = AdaGrad):\n",
    "        \n",
    "        self.verbose = verbose\n",
    "\n",
    "            #    全結合ノード数\n",
    "        self.n_nodes1 = 576\n",
    "        self.n_nodes2 = 64\n",
    "        self.n_output = 10\n",
    "        \n",
    "        self.sigma = 0.01\n",
    "        self.batch_size=10\n",
    "        self.loss_box = []\n",
    "        self.epoch = epoch\n",
    "        self.lr = alpha\n",
    "        \n",
    "                #  filter.shape\n",
    "        self.filter1 = ( 32,1, 2, 2)\n",
    "        self.filter2 = (64, 32, 2, 2)\n",
    "        self.filter3 = ( 64, 64, 2, 2)\n",
    "        \n",
    "                #  players\n",
    "        self.activater = activater\n",
    "        self.initializer = initializer\n",
    "        self.optimizer = optimizer\n",
    "\n",
    "        pass\n",
    "\n",
    "    def fit(self, X, y, X_val=None, y_val=None):\n",
    "        \"\"\"\n",
    "        初期値\n",
    "        \"\"\"\n",
    "        #  self.sigma : ガウス分布の標準偏差\n",
    "        #  self.lr : 学\n",
    "        #  self.n_nodes1 : #1層目のノード数\n",
    "        #  self.n_nodes2 : #2層目のノード数\n",
    "        #  self.n_output : 出力層のノード数\n",
    "\n",
    "        #  Sammary  Forward\n",
    "        #  -----------------------------------------------------------------------------------------------------------------\n",
    "        #  Layer (type)                       Input Shape                     Filter Shape             Output Shape   \n",
    "        #  ================================================================\n",
    "        #  conv2d_1 (Conv2D)       (sample, 1, 28, 28)         ( 32,1, 2, 2)         (sample, 32, 26, 26)     \n",
    "        #  ________________________________________________________________\n",
    "        #  maxpooling2d_1 \n",
    "        #  (MaxPooling2D)             (sample, 32, 26, 26)            ( 2, 2)                (sample, 32, 13, 13)\n",
    "        #  ________________________________________________________________\n",
    "        #  conv2d_2 (Conv2D)    (sample, 32, 13, 13)        (64, 32, 2, 2)       (sample, 64, 11, 11)\n",
    "        #  ________________________________________________________________\n",
    "        #  maxpooling2d_2 \n",
    "        #  (MaxPooling2D)            (sample, 64, 11, 11)           ( 2, 2)                (sample, 64, 5, 5)\n",
    "        #  ________________________________________________________________\n",
    "        #  conv2d_3 (Conv2D)    (sample, 64, 5, 5)         ( 64, 64, 2, 2)          (sample,64,  3, 3)                                                    \n",
    "        #  ________________________________________________________________\n",
    "        #  flatten_1 (Flatten)      (sample,64,  3, 3)                                              (sample, 576)\n",
    "        #  ________________________________________________________________\n",
    "        #  dense_1 (Dense)          (sample, 576)                                                     (sample, 64)\n",
    "        #  ________________________________________________________________\n",
    "        #  dense_2 (Dense)         (sample, 64)                                                        (sample, 10)\n",
    "        #  ================================================================\n",
    "            \n",
    "\n",
    "         #コンボル層\n",
    "                    # 1層\n",
    "        self.Conv2d_1 = Conv2d(self.filter1, self.initializer(self.sigma), self.optimizer(self.lr, type = 'conv'), shapetype = 'first')\n",
    "        self.activation1 = self.activater()\n",
    "        self.Max1 = Max_Pooling()\n",
    "                    # 2層\n",
    "        self.Conv2d_2 = Conv2d(self.filter2, self.initializer(self.sigma), self.optimizer(self.lr, type = 'conv'))\n",
    "        self.activation2 = self.activater()\n",
    "        self.Max2 = Max_Pooling()\n",
    "                #    3層\n",
    "        self.Conv2d_3 = Conv2d(self.filter3, self.initializer(self.sigma), self.optimizer(self.lr, type = 'conv'))\n",
    "        self.activation3 = self.activater()\n",
    "        self.Flat = Flatten()\n",
    "        \n",
    "                  #全結合層\n",
    "                #   4層\n",
    "        self.FC4 = FC(self.n_nodes1, self.n_nodes2, self.initializer(self.sigma), self.optimizer(self.lr, type = 'all_conect'))\n",
    "        self.activation4 = self.activater()\n",
    "                #   5層\n",
    "        self.FC5 = FC(self.n_nodes2, self.n_output, self.initializer(self.sigma), self.optimizer(self.lr, type = 'all_conect'))\n",
    "        self.activation5 = Softmax_with_Loss()\n",
    "        \n",
    "        \"\"\"Get_mini_batch\"\"\"\n",
    "        get_mini_batch = GetMiniBatch(X, y, self.batch_size)\n",
    "\n",
    "        \"\"\"エポック回イテレート\"\"\"\n",
    "        for i in range(self.epoch):\n",
    "            for mini_X_train, mini_y_train in get_mini_batch:\n",
    "\n",
    "                \"\"\"\n",
    "                Forword\n",
    "                \"\"\"\n",
    "                A1 = self.Conv2d_1.forward( mini_X_train)\n",
    "                Z1 = self.activation1.forward(A1)\n",
    "                M1 = self.Max1.forward(Z1)\n",
    "#                 print(M1.shape)\n",
    "                \n",
    "                A2 = self.Conv2d_2.forward(M1)\n",
    "#                 print('conv2'+str(A2.shape))\n",
    "                Z2 = self.activation2.forward(A2)\n",
    "                M2 = self.Max2.forward(Z2)\n",
    "                \n",
    "                A3 = self.Conv2d_3.forward(M2)\n",
    "                Z3 = self.activation3.forward(A3)\n",
    "#                 print(Z3.shape)\n",
    "                FL = self.Flat.forward(Z3)\n",
    "#                 print(FL.shape)\n",
    "        \n",
    "                A4 = self.FC4.forward(FL)\n",
    "                Z4 = self.activation4.forward(A4)\n",
    "                \n",
    "                A5 = self.FC5.forward(Z4)\n",
    "                Z5 = self.activation5.forward(A5)\n",
    "                \n",
    "                \"\"\"\n",
    "                Backword\n",
    "                \"\"\"\n",
    "#                 print('start_backward')\n",
    "                dA5 = self.activation5.backward(mini_y_train)\n",
    "                dZ5 = self.FC5.backward(dA5)\n",
    "                \n",
    "                dA4 = self.activation4.backward(dZ5)\n",
    "                dZ4 = self.FC4.backward(dA4)\n",
    "                \n",
    "                dFL = self.Flat.backward(dZ4)\n",
    "                dZ3 = self.activation3.backward(dFL)\n",
    "#                 print(dZ3.shape)\n",
    "                dA3 = self.Conv2d_3.backward(dZ3)\n",
    "                \n",
    "                dM2 = self.Max2.backward(dA3)\n",
    "#                 print(dM2.shape)\n",
    "                dZ2 = self.activation2.backward(dM2)\n",
    "                dA2 = self.Conv2d_2.backward(dZ2)\n",
    "\n",
    "                dM1 = self.Max1.backward(dA2)\n",
    "                dZ1 = self.activation1.backward(dM1)\n",
    "                dA1 = self.Conv2d_1.backward(dZ1)\n",
    "\n",
    "            \"\"\"\n",
    "            Forword  after optimized weight\n",
    "            \"\"\"\n",
    "            A1 = self.Conv2d_1.forward(X)\n",
    "            Z1 = self.activation1.forward(A1)\n",
    "            M1 = self.Max1.forward(Z1)\n",
    "            \n",
    "            A2 = self.Conv2d_2.forward(M1)\n",
    "            Z2 = self.activation2.forward(A2)\n",
    "            M2 = self.Max2.forward(Z2)\n",
    "            \n",
    "            A3 = self.Conv2d_3.forward(M2)\n",
    "            Z3 = self.activation3.forward(A3)\n",
    "            FL = self.Flat.forward(Z3)\n",
    "    \n",
    "            A4 = self.FC4.forward(FL)\n",
    "            Z4 = self.activation4.forward(A4)\n",
    "            \n",
    "            A5 = self.FC5.forward(Z4)\n",
    "            Z5 =  self.activation5.forward(A5)\n",
    "\n",
    "            self.loss_box.append(self.cross_entropy_loss(Z5, y))\n",
    "\n",
    "            \"\"\"\n",
    "            Evaluation\n",
    "            \"\"\"\n",
    "            if self.verbose:\n",
    "                        #verboseをTrueにした際は学習過程などを出力する\n",
    "                print('__{}TIMES　of epoch__'.format(i+1))\n",
    "                print('L0SS={}'.format(self.cross_entropy_loss(Z5, y)))\n",
    "                print('ACCURACY_SCORE={}'.format(accuracy_score(y.argmax(1), Z5.argmax(1))))\n",
    "\n",
    "        return self.loss_box\n",
    "    \n",
    "    def cross_entropy_loss(self, final_Z, y):\n",
    "        l =  -y*(np.log(final_Z))/self.batch_size\n",
    "        L = l.sum()\n",
    "        return L\n",
    "\n",
    "    def predict(self, X):\n",
    "        \n",
    "        A1 = self.Conv2d_1.forward(X)\n",
    "        Z1 = self.activation1.forward(A1)\n",
    "        M1 = self.Max1.forward(Z1)\n",
    "\n",
    "        A2 = self.Conv2d_2.forward(M1)\n",
    "        Z2 = self.activation2.forward(A2)\n",
    "        M2 = self.Max2.forward(Z2)\n",
    "\n",
    "        A3 = self.Conv2d_3.forward(M2)\n",
    "        Z3 = self.activation3.forward(A3)\n",
    "        FL = self.Flat.forward(Z3)\n",
    "\n",
    "        A4 = self.FC4.forward(FL)\n",
    "        Z4 = self.activation4.forward(A4)\n",
    "\n",
    "        A5 = self.FC5.forward(Z4)\n",
    "        Z5 = self.activation5.forward(A5)\n",
    "        \n",
    "        return Z5.argmax(1)"
   ]
  },
  {
   "cell_type": "code",
   "execution_count": 88,
   "metadata": {},
   "outputs": [],
   "source": [
    "conv_nn =  ScratchSimpleNeuralNetrowkClassifier_add_conv(verbose = True, epoch = 3,\n",
    "                            alpha = 0.01, activater = Relu,  initializer = He, optimizer = AdaGrad)"
   ]
  },
  {
   "cell_type": "code",
   "execution_count": 89,
   "metadata": {},
   "outputs": [
    {
     "name": "stdout",
     "output_type": "stream",
     "text": [
      "__1TIMES　of epoch__\n",
      "L0SS=2.038027042184431\n",
      "ACCURACY_SCORE=0.3\n",
      "__2TIMES　of epoch__\n",
      "L0SS=1.5449450185626392\n",
      "ACCURACY_SCORE=0.4\n",
      "__3TIMES　of epoch__\n",
      "L0SS=1.6384806103285392\n",
      "ACCURACY_SCORE=0.6\n"
     ]
    }
   ],
   "source": [
    "loss_box = conv_nn.fit(X_train[:10], y_train[:10])"
   ]
  },
  {
   "cell_type": "code",
   "execution_count": 90,
   "metadata": {},
   "outputs": [],
   "source": [
    "y_pred = conv_nn.predict(X_val[:10])"
   ]
  },
  {
   "cell_type": "code",
   "execution_count": 56,
   "metadata": {},
   "outputs": [
    {
     "data": {
      "text/plain": [
       "array([[1., 0., 0., ..., 0., 0., 0.],\n",
       "       [0., 0., 0., ..., 0., 0., 0.],\n",
       "       [0., 0., 0., ..., 0., 0., 0.],\n",
       "       ...,\n",
       "       [0., 0., 0., ..., 0., 0., 1.],\n",
       "       [1., 0., 0., ..., 0., 0., 0.],\n",
       "       [0., 0., 0., ..., 0., 0., 0.]])"
      ]
     },
     "execution_count": 56,
     "metadata": {},
     "output_type": "execute_result"
    }
   ],
   "source": [
    "y_val"
   ]
  },
  {
   "cell_type": "code",
   "execution_count": 91,
   "metadata": {},
   "outputs": [
    {
     "data": {
      "text/plain": [
       "0.2"
      ]
     },
     "execution_count": 91,
     "metadata": {},
     "output_type": "execute_result"
    }
   ],
   "source": [
    "accuracy_score(y_val[:10].argmax(1), y_pred)"
   ]
  },
  {
   "cell_type": "code",
   "execution_count": 93,
   "metadata": {},
   "outputs": [
    {
     "data": {
      "image/png": "[encoded data removed]",
      "text/plain": [
       "<Figure size 432x288 with 1 Axes>"
      ]
     },
     "metadata": {
      "needs_background": "light"
     },
     "output_type": "display_data"
    }
   ],
   "source": [
    "import matplotlib.pyplot as plt\n",
    "plt.xlabel('Number_of_epoch')\n",
    "plt.ylabel('Loss')\n",
    "plt.plot(loss_box)\n",
    "plt.show()"
   ]
  },
  {
   "cell_type": "code",
   "execution_count": 94,
   "metadata": {},
   "outputs": [
    {
     "name": "stderr",
     "output_type": "stream",
     "text": [
      "/opt/anaconda3/lib/python3.7/site-packages/ipykernel_launcher.py:13: DeprecationWarning: elementwise comparison failed; this will raise an error in the future.\n",
      "  del sys.path[0]\n"
     ]
    },
    {
     "data": {
      "image/png": "[encoded data removed]",
      "text/plain": [
       "<Figure size 432x432 with 1 Axes>"
      ]
     },
     "metadata": {},
     "output_type": "display_data"
    }
   ],
   "source": [
    "\"\"\"\n",
    "語分類結果を並べて表示する。画像の上の表示は「推定結果/正解」である。\n",
    "\n",
    "Parameters:\n",
    "----------\n",
    "y_pred : 推定値のndarray (n_samples,)\n",
    "y_val : 検証データの正解ラベル(n_samples,)\n",
    "X_val : 検証データの特徴量（n_samples, n_features)\n",
    "\"\"\"\n",
    "import numpy as np\n",
    "import matplotlib.pyplot as plt\n",
    "num = 36 # いくつ表示するか\n",
    "true_false = y_pred==y_val.argmax(1)\n",
    "false_list = np.where(true_false==False)[0].astype(np.int)\n",
    "if false_list.shape[0] < num:\n",
    "    num = false_list.shape[0]\n",
    "fig = plt.figure(figsize=(6, 6))\n",
    "fig.subplots_adjust(left=0, right=0.8,  bottom=0, top=0.8, hspace=1, wspace=0.5)\n",
    "for i in range(num):\n",
    "    ax = fig.add_subplot(6, 6, i + 1, xticks=[], yticks=[])\n",
    "    ax.set_title(\"{} / {}\".format(y_pred[false_list[i]],y_val[false_list[i]]))\n",
    "    ax.imshow(X_val.reshape(-1,28,28)[false_list[i]], cmap='gray')"
   ]
  },
  {
   "cell_type": "code",
   "execution_count": null,
   "metadata": {},
   "outputs": [],
   "source": []
  }
 ],
 "metadata": {
  "kernelspec": {
   "display_name": "Python 3",
   "language": "python",
   "name": "python3"
  },
  "language_info": {
   "codemirror_mode": {
    "name": "ipython",
    "version": 3
   },
   "file_extension": ".py",
   "mimetype": "text/x-python",
   "name": "python",
   "nbconvert_exporter": "python",
   "pygments_lexer": "ipython3",
   "version": "3.7.4"
  }
 },
 "nbformat": 4,
 "nbformat_minor": 4
}
