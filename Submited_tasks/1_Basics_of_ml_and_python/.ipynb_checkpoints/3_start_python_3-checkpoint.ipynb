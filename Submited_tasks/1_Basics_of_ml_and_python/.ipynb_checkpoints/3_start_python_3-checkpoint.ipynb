{
 "cells": [
  {
   "cell_type": "markdown",
   "metadata": {},
   "source": [
    "### 【問題1】100日目の米粒の数\n",
    "100日目には合計で米粒をいくつもらっているのかを計算するコードを作成し、答えを出力してください。また、1日目から100日目までの「その日にもらう米の数」と「その日までに累計で貰う米の数」の推移を折れ線グラフで表現してください。（縦軸が米の数、横軸が日数）"
   ]
  },
  {
   "cell_type": "code",
   "execution_count": 89,
   "metadata": {},
   "outputs": [
    {
     "name": "stdout",
     "output_type": "stream",
     "text": [
      "100日目にもらったコメは633825300114114700748351602688個\n",
      "100日目に貯まったコメ は1267650600228229401496703205375個\n"
     ]
    },
    {
     "data": {
      "text/plain": [
       "<matplotlib.legend.Legend at 0x1181be050>"
      ]
     },
     "execution_count": 89,
     "metadata": {},
     "output_type": "execute_result"
    },
    {
     "data": {
      "image/png": "[encoded data removed]",
      "text/plain": [
       "<Figure size 432x288 with 1 Axes>"
      ]
     },
     "metadata": {
      "needs_background": "light"
     },
     "output_type": "display_data"
    }
   ],
   "source": [
    "import matplotlib.pyplot as plt\n",
    "\n",
    "#定義\n",
    "max_day = 100\n",
    "\n",
    "list_income_rice_by_day = [1]\n",
    "list_savings_rice_by_day=[1]\n",
    "\n",
    "income_rice_by_day = 1\n",
    "savings_rice_by_day = 1\n",
    "\n",
    "#ループで百回２をカケル \n",
    "for i in range(max_day-1):\n",
    "    income_rice_by_day *= 2\n",
    "    list_income_rice_by_day.append(income_rice_by_day)\n",
    "    \n",
    "    savings_rice_by_day += income_rice_by_day\n",
    "    list_savings_rice_by_day.append(savings_rice_by_day)\n",
    "    \n",
    "#何日かかったか\n",
    "date = len(list_income_rice_by_day)\n",
    "\n",
    "print('{}日目にもらったコメは{}個'.format(date, income_rice_by_day))\n",
    "print('{}日目に貯まったコメ は{}個'.format(date, savings_rice_by_day))\n",
    "\n",
    "#y軸の定義\n",
    "y1 = list_savings_rice_by_day\n",
    "y2 = list_income_rice_by_day\n",
    "\n",
    "#それぞれプロット\n",
    "plt.title('INCOME and SAVINGS : Number of rice')\n",
    "plt.xlabel('date')\n",
    "plt.ylabel('Number of rice')\n",
    "plt.plot( y1, color='b', label=\"saving\")\n",
    "plt.plot( y2, color='r', label=\"income\")\n",
    "plt.legend() # 凡例表示\n"
   ]
  },
  {
   "cell_type": "code",
   "execution_count": null,
   "metadata": {},
   "outputs": [],
   "source": []
  },
  {
   "cell_type": "markdown",
   "metadata": {},
   "source": [
    "### 問題2】100日目以外の米粒の数\n",
    "この逸話は30日だったり81日だったりと日数が曖昧です。どの話にも対応できるように日数を引数とした 関数 を作成しましょう。  \n",
    "関数を作成した上で、コースを受講する日数の間でいくつ米粒をもらえるかを答えてください。  \n",
    "前の問題同様に折れ線グラフも出力してください。"
   ]
  },
  {
   "cell_type": "code",
   "execution_count": 110,
   "metadata": {},
   "outputs": [
    {
     "name": "stdout",
     "output_type": "stream",
     "text": [
      "10日目にもらったコメは512個\n",
      "10日目に貯まったコメ は1023個\n"
     ]
    },
    {
     "data": {
      "text/plain": [
       "(512, 1023)"
      ]
     },
     "execution_count": 110,
     "metadata": {},
     "output_type": "execute_result"
    },
    {
     "data": {
      "image/png": "[encoded data removed]",
      "text/plain": [
       "<Figure size 432x288 with 1 Axes>"
      ]
     },
     "metadata": {
      "needs_background": "light"
     },
     "output_type": "display_data"
    }
   ],
   "source": [
    "def compute_sorori_shinzaemon(max_day=100):\n",
    "    \"\"\"\n",
    "    曽呂利新左衛門の米の逸話を検証する関数。日にちごとの米の粒の数を計算する。\n",
    "\n",
    "    Parameteres\n",
    "    --------------\n",
    "    max_day = 100\n",
    "    コメの日数\n",
    "\n",
    "    Returns\n",
    "    --------------\n",
    "    list_income_rice_by_day = [1]\n",
    "        ある日に貰う米の数のリスト（リストの長さはdayに等しくなる）\n",
    "    list_savings_rice_by_day=[1]\n",
    "        ある日までに累計で貰う米の数のリスト（リストの長さはdayに等しくなる）\n",
    "    \"\"\"\n",
    "\n",
    "    import matplotlib.pyplot as plt\n",
    "\n",
    "    #定義\n",
    "    list_income_rice_by_day = [1]\n",
    "    list_savings_rice_by_day=[1]\n",
    "\n",
    "    income_rice_by_day = 1\n",
    "    savings_rice_by_day = 1\n",
    "\n",
    "    #ループで百回２をカケル \n",
    "    for i in range(max_day-1):\n",
    "        income_rice_by_day *= 2\n",
    "        list_income_rice_by_day.append(income_rice_by_day)\n",
    "\n",
    "        savings_rice_by_day += income_rice_by_day\n",
    "        list_savings_rice_by_day.append(savings_rice_by_day)\n",
    "\n",
    "    #何日かかったか\n",
    "    date = len(list_income_rice_by_day)\n",
    "\n",
    "    print('{}日目にもらったコメは{}個'.format(date, income_rice_by_day))\n",
    "    print('{}日目に貯まったコメ は{}個'.format(date, savings_rice_by_day))\n",
    "    \n",
    "        #y軸の定義\n",
    "    y1 = list_savings_rice_by_day\n",
    "    y2 = list_income_rice_by_day\n",
    "\n",
    "    #それぞれプロット\n",
    "    plt.title('INCOME and SAVINGS : Number of rice')\n",
    "    plt.xlabel('date')\n",
    "    plt.ylabel('Number of rice')\n",
    "    plt.plot( y1, color='b', label=\"saving\")\n",
    "    plt.plot( y2, color='r', label=\"income\")\n",
    "    plt.legend() # 凡例表示\n",
    "    \n",
    "    return income_rice_by_day, savings_rice_by_day\n",
    "\n",
    "compute_sorori_shinzaemon(10)"
   ]
  },
  {
   "cell_type": "markdown",
   "metadata": {},
   "source": [
    "### 【問題3】何人が何日生活できる米か\n",
    "この米があれば何人が何日生活できるか計算する関数を作成してください。  \n",
    "コースを受講する期間に貰える米粒で、このクラスにいる人数であれば、何日間生活できるかを出力してみましょう。"
   ]
  },
  {
   "cell_type": "code",
   "execution_count": 107,
   "metadata": {},
   "outputs": [
    {
     "name": "stdout",
     "output_type": "stream",
     "text": [
      "113日目にもらったコメは5192296858534827628530496329220096個\n",
      "113日目に貯まったコメ は10384593717069655257060992658440191個\n",
      "コース期間113日で貰った米で生き残れる日数：2.640653830911998e+28日\n",
      "年数に換算すると：7.234668029895885e+25年\n"
     ]
    }
   ],
   "source": [
    "#成人男性の最低限カロリー(kcal / 日) ： 厚生労働省「日本人の食事摂取基準」\n",
    "men_cal = 2000\n",
    "\n",
    "#米一粒の重さ(g / 粒)：新潟大学　お米Q&A\n",
    "kome_g = 0.02\n",
    "\n",
    "#米のカロリー(kcal / g)：グラムわかる写真館\n",
    "kome_cal = 3.56\n",
    "\n",
    "def survive(kome_num, people_num):\n",
    "    \n",
    "    \n",
    "    #米の総カロリー 113日\n",
    "    total_kome_cal = kome_num*kome_g * kome_cal\n",
    "    \n",
    "    #1日当たりの全員分の最低限必要カロリー\n",
    "    total_man_cal = people_num * men_cal\n",
    "    \n",
    "    #米のみで生活できる日数（四捨五入）\n",
    "    survive_day = total_kome_cal // total_man_cal\n",
    "    print('コース期間113日で貰った米で生き残れる日数：{}日'.format(survive_day))\n",
    "    print('年数に換算すると：{}年'.format(survive_day//365))\n",
    "\n",
    "\n",
    "#コース受講期間で貰えるコメの数を、問題２の関数から収得する\n",
    "#コース受講期間 113日（1月9日から4月30日）\n",
    "income, savings = compute_sorori_shinzaemon(113)\n",
    "\n",
    "#受講期間で貰える米の数を「survive関数」に代入\n",
    "#人数は初期値（14人のまま）\n",
    "survive(savings, 14)"
   ]
  },
  {
   "cell_type": "code",
   "execution_count": null,
   "metadata": {},
   "outputs": [],
   "source": []
  }
 ],
 "metadata": {
  "kernelspec": {
   "display_name": "Python 3",
   "language": "python",
   "name": "python3"
  },
  "language_info": {
   "codemirror_mode": {
    "name": "ipython",
    "version": 3
   },
   "file_extension": ".py",
   "mimetype": "text/x-python",
   "name": "python",
   "nbconvert_exporter": "python",
   "pygments_lexer": "ipython3",
   "version": "3.7.4"
  }
 },
 "nbformat": 4,
 "nbformat_minor": 2
}
