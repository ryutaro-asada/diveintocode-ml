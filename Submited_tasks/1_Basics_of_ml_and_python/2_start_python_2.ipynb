{
 "cells": [
  {
   "cell_type": "markdown",
   "metadata": {},
   "source": [
    "### 【問題1】富士山を超える最小の折る回数\n",
    "厚さが「富士山(3776m)」を超えるのは何回紙を折った時か計算するプログラムを作成してください"
   ]
  },
  {
   "cell_type": "code",
   "execution_count": 40,
   "metadata": {},
   "outputs": [
    {
     "name": "stdout",
     "output_type": "stream",
     "text": [
      "おった回数は26回で富士を超えた\n"
     ]
    }
   ],
   "source": [
    "#問題1\n",
    "#for文を使用して作成　富士に到達するまでの回数は？\n",
    "\n",
    "HIGHT_FUJI = 3776  #m\n",
    "THICKNESS  = 0.00008\n",
    "\n",
    "#とりあえず１００回\n",
    "for i in range( 100):\n",
    "    folded_thickness = THICKNESS *(2**i)\n",
    "    \n",
    "    #富士の高さを超えるときに出力して終わらせる\n",
    "    if folded_thickness >= HIGHT_FUJI:\n",
    "        print('おった回数は{}回で富士を超えた'.format(i))\n",
    "        break\n"
   ]
  },
  {
   "cell_type": "code",
   "execution_count": 41,
   "metadata": {},
   "outputs": [
    {
     "name": "stdout",
     "output_type": "stream",
     "text": [
      "おった回数は26回で富士を超えた\n"
     ]
    }
   ],
   "source": [
    "#while 版\n",
    "HIGHT_FUJI = 3776  #m\n",
    "THICKNESS  = 0.00008\n",
    "folded_thickness = THICKNESS\n",
    "count = 0\n",
    "\n",
    "#while 富士を超えるまで\n",
    "while folded_thickness <= HIGHT_FUJI:\n",
    "    folded_thickness *= 2\n",
    "    count += 1\n",
    "    \n",
    "\n",
    "\n",
    "print('おった回数は{}回で富士を超えた'.format(count))\n"
   ]
  },
  {
   "cell_type": "markdown",
   "metadata": {},
   "source": [
    "### 【問題2】任意の厚さに対応した関数を作成\n",
    "距離を入力すると、何回折った時に超えるかを出力する関数を作成してください。"
   ]
  },
  {
   "cell_type": "code",
   "execution_count": 42,
   "metadata": {},
   "outputs": [],
   "source": [
    "#問題２\n",
    "def calculate_planet_and_eairth(THICKNESS_m, planet_distance_km):\n",
    "    \n",
    "    THICKNESS_km = THICKNESS_m/10**3\n",
    "    \n",
    "    folded_thickness = THICKNESS_km\n",
    "    count = 0\n",
    "\n",
    "#while 星を超えるまで\n",
    "    while folded_thickness <= planet_distance_km:\n",
    "        folded_thickness *= 2\n",
    "        count += 1\n",
    "    return count"
   ]
  },
  {
   "cell_type": "code",
   "execution_count": 43,
   "metadata": {},
   "outputs": [
    {
     "name": "stdout",
     "output_type": "stream",
     "text": [
      "おった回数は79回で惑星を超えた\n"
     ]
    }
   ],
   "source": [
    "# 近い恒星　プロキシマケンタウリ　　　4.36光年\n",
    "#1光年は　9.461*10**15\n",
    "print('おった回数は{}回で惑星を超えた'.format(\n",
    "    calculate_planet_and_eairth(0.00008, 4.46*9.461*10**15)))"
   ]
  },
  {
   "cell_type": "markdown",
   "metadata": {},
   "source": [
    "### 【問題3】必要な紙の長さ\n",
    "実際のところ身近にある紙は43回はおろか10回も折れません。  \n",
    "しかし、大きな紙ほどたくさん折ることができ、トイレットペーパーのような長い紙を一方向に折ることを考えた時の  \n",
    "折れる回数を求める公式が存在します。  \n",
    "厚さ t0の紙をn回折るために必要な紙の長さLは以下の公式で求まります。\n",
    "\n",
    "L = pai*to(2**n+4)(2**n - 1)/6\n",
    "\n",
    "この公式を利用して、実際に紙を折り任意の厚さに到達するために必要な紙の長さを求める関数を作成してください。\n",
    "そしてこれを使って「月」「富士山」「最も近い太陽以外の恒星」に届くために必要な紙の長さを求めてください。"
   ]
  },
  {
   "cell_type": "code",
   "execution_count": 44,
   "metadata": {},
   "outputs": [],
   "source": [
    "#問題３ 式の作成\n",
    "def length_of_paper(thickness_m, distance_something_km):\n",
    "    #入力値から折った回数を算出\n",
    "    nunber_folded = calculate_planet_and_eairth(thickness_m, distance_something_km)\n",
    "    n = nunber_folded\n",
    "    \n",
    "    #円周率出すためマスインポート\n",
    "    import math \n",
    "    pai = math.pi\n",
    "    L = (pai*thickness_m*(2**n + 4)*(2**n - 1))/6\n",
    "    \n",
    "    # 長さと回数を返す\n",
    "    return L, n"
   ]
  },
  {
   "cell_type": "code",
   "execution_count": 45,
   "metadata": {},
   "outputs": [
    {
     "name": "stdout",
     "output_type": "stream",
     "text": [
      "24回おらないといけないので、長さ11790398361.67mの紙が必要です。\n"
     ]
    }
   ],
   "source": [
    "print('{0[1]}回おらないといけないので、長さ{0[0]:.2f}mの紙が必要です。'\n",
    "          .format(length_of_paper(0.00008, 1)))"
   ]
  },
  {
   "cell_type": "code",
   "execution_count": null,
   "metadata": {},
   "outputs": [],
   "source": []
  }
 ],
 "metadata": {
  "kernelspec": {
   "display_name": "Python 3",
   "language": "python",
   "name": "python3"
  },
  "language_info": {
   "codemirror_mode": {
    "name": "ipython",
    "version": 3
   },
   "file_extension": ".py",
   "mimetype": "text/x-python",
   "name": "python",
   "nbconvert_exporter": "python",
   "pygments_lexer": "ipython3",
   "version": "3.7.4"
  }
 },
 "nbformat": 4,
 "nbformat_minor": 2
}
