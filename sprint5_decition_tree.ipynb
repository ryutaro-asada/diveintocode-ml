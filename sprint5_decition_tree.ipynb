{
 "cells": [
  {
   "cell_type": "markdown",
   "metadata": {},
   "source": [
    "# Sprint 機械学習スクラッチ 決定木"
   ]
  },
  {
   "cell_type": "code",
   "execution_count": 126,
   "metadata": {},
   "outputs": [],
   "source": [
    "# 使用するライブラリーをインポート\n",
    "import matplotlib.pyplot as plt\n",
    "%matplotlib inline\n",
    "import numpy as np\n",
    "import pandas as pd\n",
    "import seaborn as sns \n",
    "from sklearn.datasets import load_iris"
   ]
  },
  {
   "cell_type": "code",
   "execution_count": 127,
   "metadata": {},
   "outputs": [],
   "source": [
    "# アイリスデータを抽出\n",
    "iris_dataset = load_iris()\n",
    "# .data 部分を抽出し、カラム名も指定する。\n",
    "X = pd.DataFrame(iris_dataset.data, columns=[\"sepal_length\", \"sepal_width\", \"petal_length\", \"petal_width\"])\n",
    "# .target 部分を抽出し、カラム名も指定する。\n",
    "y = pd.DataFrame(iris_dataset.target, columns=[\"Species\"])\n",
    "# .concatを使用してXとyを列方向で結合する。\n",
    "df = pd.concat([X, y], axis=1)\n"
   ]
  },
  {
   "cell_type": "code",
   "execution_count": 128,
   "metadata": {},
   "outputs": [
    {
     "data": {
      "text/html": [
       "<div>\n",
       "<style scoped>\n",
       "    .dataframe tbody tr th:only-of-type {\n",
       "        vertical-align: middle;\n",
       "    }\n",
       "\n",
       "    .dataframe tbody tr th {\n",
       "        vertical-align: top;\n",
       "    }\n",
       "\n",
       "    .dataframe thead th {\n",
       "        text-align: right;\n",
       "    }\n",
       "</style>\n",
       "<table border=\"1\" class=\"dataframe\">\n",
       "  <thead>\n",
       "    <tr style=\"text-align: right;\">\n",
       "      <th></th>\n",
       "      <th>sepal_length</th>\n",
       "      <th>sepal_width</th>\n",
       "      <th>Species</th>\n",
       "    </tr>\n",
       "  </thead>\n",
       "  <tbody>\n",
       "    <tr>\n",
       "      <td>0</td>\n",
       "      <td>5.1</td>\n",
       "      <td>3.5</td>\n",
       "      <td>0</td>\n",
       "    </tr>\n",
       "    <tr>\n",
       "      <td>1</td>\n",
       "      <td>4.9</td>\n",
       "      <td>3.0</td>\n",
       "      <td>0</td>\n",
       "    </tr>\n",
       "    <tr>\n",
       "      <td>2</td>\n",
       "      <td>4.7</td>\n",
       "      <td>3.2</td>\n",
       "      <td>0</td>\n",
       "    </tr>\n",
       "    <tr>\n",
       "      <td>3</td>\n",
       "      <td>4.6</td>\n",
       "      <td>3.1</td>\n",
       "      <td>0</td>\n",
       "    </tr>\n",
       "    <tr>\n",
       "      <td>4</td>\n",
       "      <td>5.0</td>\n",
       "      <td>3.6</td>\n",
       "      <td>0</td>\n",
       "    </tr>\n",
       "    <tr>\n",
       "      <td>...</td>\n",
       "      <td>...</td>\n",
       "      <td>...</td>\n",
       "      <td>...</td>\n",
       "    </tr>\n",
       "    <tr>\n",
       "      <td>95</td>\n",
       "      <td>5.7</td>\n",
       "      <td>3.0</td>\n",
       "      <td>1</td>\n",
       "    </tr>\n",
       "    <tr>\n",
       "      <td>96</td>\n",
       "      <td>5.7</td>\n",
       "      <td>2.9</td>\n",
       "      <td>1</td>\n",
       "    </tr>\n",
       "    <tr>\n",
       "      <td>97</td>\n",
       "      <td>6.2</td>\n",
       "      <td>2.9</td>\n",
       "      <td>1</td>\n",
       "    </tr>\n",
       "    <tr>\n",
       "      <td>98</td>\n",
       "      <td>5.1</td>\n",
       "      <td>2.5</td>\n",
       "      <td>1</td>\n",
       "    </tr>\n",
       "    <tr>\n",
       "      <td>99</td>\n",
       "      <td>5.7</td>\n",
       "      <td>2.8</td>\n",
       "      <td>1</td>\n",
       "    </tr>\n",
       "  </tbody>\n",
       "</table>\n",
       "<p>100 rows × 3 columns</p>\n",
       "</div>"
      ],
      "text/plain": [
       "    sepal_length  sepal_width  Species\n",
       "0            5.1          3.5        0\n",
       "1            4.9          3.0        0\n",
       "2            4.7          3.2        0\n",
       "3            4.6          3.1        0\n",
       "4            5.0          3.6        0\n",
       "..           ...          ...      ...\n",
       "95           5.7          3.0        1\n",
       "96           5.7          2.9        1\n",
       "97           6.2          2.9        1\n",
       "98           5.1          2.5        1\n",
       "99           5.7          2.8        1\n",
       "\n",
       "[100 rows x 3 columns]"
      ]
     },
     "execution_count": 128,
     "metadata": {},
     "output_type": "execute_result"
    }
   ],
   "source": [
    "# .queryで行抽出、locで列抽出する。\n",
    "df_selected = df.query(\"Species == [0, 1]\").loc[:, [\"sepal_length\", \"sepal_width\", \"Species\"]]\n",
    "df_selected"
   ]
  },
  {
   "cell_type": "code",
   "execution_count": 129,
   "metadata": {},
   "outputs": [],
   "source": [
    "X_y = df_selected"
   ]
  },
  {
   "cell_type": "code",
   "execution_count": 130,
   "metadata": {},
   "outputs": [
    {
     "data": {
      "text/plain": [
       "(100, 2)"
      ]
     },
     "execution_count": 130,
     "metadata": {},
     "output_type": "execute_result"
    }
   ],
   "source": [
    "X = X_y.drop(columns = ['Species'], axis = 1)\n",
    "X_np = np.array(X)\n",
    "X_np.shape"
   ]
  },
  {
   "cell_type": "code",
   "execution_count": 131,
   "metadata": {},
   "outputs": [
    {
     "data": {
      "text/plain": [
       "(100, 1)"
      ]
     },
     "execution_count": 131,
     "metadata": {},
     "output_type": "execute_result"
    }
   ],
   "source": [
    "y_np = X_y.Species\n",
    "y_np = np.array(y_np)\n",
    "y_np = y_np.reshape(-1, 1)\n",
    "y_np.shape"
   ]
  },
  {
   "cell_type": "markdown",
   "metadata": {},
   "source": [
    "## 【問題1】不純度を求める関数\n",
    "ノード の ジニ不純度 を計算する関数を作成してください。  \n",
    "ノード t に対するジニ不純度 I(t)は以下の数式で求まります。  \n",
    "クラスが混じり合っているほどジニ不純度は高くなります。"
   ]
  },
  {
   "cell_type": "markdown",
   "metadata": {},
   "source": [
    "## 【問題2】情報利得を求める関数\n",
    "次に、ノード間の 情報利得 を計算する関数を作成してください。    \n",
    "問題1で作成したジニ不純度 I(t) を計算する関数を呼び出して使います。  \n",
    "情報利得IGは以下の数式で求まります。  \n",
    "うまく分けられている時ほど情報利得は大きくなります。"
   ]
  },
  {
   "cell_type": "markdown",
   "metadata": {},
   "source": [
    "## 【問題3】学習\n",
    "空間の分割を行い、決定木のグラフを生成するコードを作成してください。  \n",
    "今は深さ1の決定木なので、分割を1回だけ行います。ここでグラフを生成するとは、1回の分割の際の条件としてどの特徴量がいくつ以上の時とするかを求めるということです。"
   ]
  },
  {
   "cell_type": "markdown",
   "metadata": {},
   "source": [
    "## 【問題4】推定\n",
    "推定する仕組みを実装してください。  \n",
    "ScratchDecesionTreeClassifierDepth1クラスの雛形に含まれる  \n",
    "predictメソッドに書き加えてください"
   ]
  },
  {
   "cell_type": "markdown",
   "metadata": {},
   "source": [
    "## 【問題5】学習と推定  \n",
    "機械学習スクラッチ入門のSprintで用意したシンプルデータセット2の2値分類に対してスクラッチ実装の学習と推定を行なってください。  \n",
    "scikit-learnによる実装と比べ、正しく動いているかを確認してください  \n",
    "AccuracyやPrecision、Recallなどの指標値はscikit-learnを使用してください。"
   ]
  },
  {
   "cell_type": "markdown",
   "metadata": {},
   "source": [
    "## 【問題6】決定領域の可視化\n",
    "決定領域を可視化してください。"
   ]
  },
  {
   "cell_type": "markdown",
   "metadata": {},
   "source": [
    "## 【問題7】（アドバンス課題）深さ2の決定木分類器クラスの作成\n",
    "深さが2の決定木分類器のクラスScratchDecesionTreeClassifierDepth2を作成してください。  \n",
    "深さ2とは空間の分割を2回行うことを指します。  \n",
    "《ヒント》  \n",
    "各ノードをインスタンスとして扱うと、任意の深さへの拡張が行いやすくなります。"
   ]
  },
  {
   "cell_type": "code",
   "execution_count": 132,
   "metadata": {},
   "outputs": [],
   "source": [
    "class ScratchDecesionTreeClassifierDepth1():\n",
    "    \"\"\"\n",
    "    深さ2の決定木分類器のスクラッチ実装\n",
    "\n",
    "    \"\"\"\n",
    "    def __init__(self, verbose=False):\n",
    "        # ハイパーパラメータを属性として記録\n",
    "        self.verbose = verbose\n",
    "        self.X = 0\n",
    "        self.y = 0\n",
    "        self.class_more1 = 0\n",
    "        self.class_less1 = 0\n",
    "        self.class_more2  = 0\n",
    "        self.class_less2  = 0\n",
    "        self.boundary_X_width = 0\n",
    "        self.boundary_X_length = 0\n",
    "        \n",
    "    def fit(self, X, y):\n",
    "        \"\"\"\n",
    "        決定木分類器を学習する\n",
    "        \n",
    "        \"\"\"\n",
    "        self.X = X\n",
    "        self.y = y\n",
    "        \n",
    "        if self.verbose:\n",
    "            #verboseをTrueにした際は学習過程を出力\n",
    "            print('width'+str(box_width))\n",
    "            print('length'+str(box_length))\n",
    "            \n",
    "        # 特徴量はsepal_length sepal_width を使用する。\n",
    "        # Xとyを結合する(100*3)\n",
    "        X_y = np.concatenate((self.X, self.y), axis=1)\n",
    "        \n",
    "        # lengthおよび、widthに対して小さい順に並びかえする。\n",
    "        # 行ごとの繋がりはかえない。(100*3)\n",
    "        X_length_sorted = X_y[np.argsort(X_y[:, 0])]\n",
    "        X_width_sorted = X_y[np.argsort(X_y[:, 1])]\n",
    "\n",
    "        # それぞれの並びかえあとのX yを抜き出す。(100*1)\n",
    "        X_length = X_length_sorted[:, 0].reshape(-1, 1)\n",
    "        y_length = X_length_sorted[:, 2].reshape(-1, 1)\n",
    "        X_width = X_width_sorted[:, 1].reshape(-1, 1)\n",
    "        y_width = X_width_sorted[:, 2].reshape(-1, 1)\n",
    "\n",
    "        \"\"\"\n",
    "        １層目\n",
    "        \n",
    "        \"\"\"\n",
    "        # widthについて探索する。\n",
    "        box_width = []\n",
    "        for i in range(len(X)-1):\n",
    "\n",
    "            # i+1 未満を抽出 X_widthの　\n",
    "            X_left_width = X_width[:(i + 1)]\n",
    "            # i+1 以上を抽出　X_widthの\n",
    "            X_right_width = X_width[(i + 1):]\n",
    "            \n",
    "            # i+1 未満を抽出 y_widthの　\n",
    "            y_left_width = y_width[:(i + 1)]\n",
    "            # i+1 以上を抽出 y_widthの　\n",
    "            y_right_width = y_width[(i + 1):]\n",
    "\n",
    "            # 情報取得量の計算　イテレーションごとに\n",
    "            result_width = self._get_information(\n",
    "                X_left_width, X_right_width, y_left_width, y_right_width)\n",
    "\n",
    "            # リストに格納する。　イテレーションごとに\n",
    "            box_width.append(result_width)\n",
    "\n",
    "#         リストの中でもっとも大きい情報取得量のインデックスを抽出する。\n",
    "        max_width_index = box_width.index(max(box_width))\n",
    "        # そのインデックスのを使って、情報が最大となる時の特徴量(width)を抜き出す。\n",
    "        # この値をwidthの境界とする\n",
    "        self.boundary_X_width = X_width[max_width_index+1]\n",
    "        \n",
    "#         境界に以上と未満の行列　をそれぞれ取得\n",
    "        class_x_more1 = y[np.where(X[:, 1] >= self.boundary_X_width[0])]\n",
    "        class_x_less1 = y[np.where(X[:, 1] < self.boundary_X_width[0])]\n",
    "        \n",
    "#         分割後のクラス名を設定する\n",
    "#         境界以上の行列のうち、最も多いクラスを出力\n",
    "        counts_more1 = np.bincount(class_x_more1.ravel())\n",
    "        self.class_more1 = np.argmax(counts_more1)\n",
    "        \n",
    "#         境界未満の行列　のうち、最も多いクラスを出力\n",
    "        counts_less1 = np.bincount(class_x_less1.ravel())\n",
    "        self.class_less1 = np.argmax(counts_less1)\n",
    "        \n",
    "#         次に使うデータ　の設定\n",
    "#         分割後にデータ量が多い方を使いたい\n",
    "        if len(class_x_more1) > len(class_x_less1):\n",
    "            X_second = X[np.where(X[:, 1] >= self.boundary_X_width[0])]\n",
    "            y_second = y[np.where(X[:, 1] >= self.boundary_X_width[0])]\n",
    "            \n",
    "        if len(class_x_more1) < len(class_x_less1):\n",
    "            X_second = X[np.where(X[:, 1] < self.boundary_X_width[0])]\n",
    "            y_second = y[np.where(X[:, 1] < self.boundary_X_width[0])]\n",
    "        \n",
    "        \n",
    "        \"\"\"\n",
    "        2層目\n",
    "        \n",
    "        \"\"\"\n",
    "\n",
    "        # lengthについての分割を考える。\n",
    "        # X_second y_second のデータを使う。\n",
    "        box_length = []\n",
    "        for i in range(len(X_second)):\n",
    "            \n",
    "            #イテレーションごとに分割箇所をヅラしていく。\n",
    "            X_left_length = X_second[:(i + 1)]\n",
    "            X_right_length = X_second[(i + 1):]\n",
    "            y_left_length = y_second[:(i + 1)]\n",
    "            y_right_length = y_second[(i + 1):]\n",
    "\n",
    "            # 情報取得量の計算　イテレーションごとに\n",
    "            result_length = self._get_information(\n",
    "                X_left_length, X_right_length, y_left_length, y_right_length)\n",
    "\n",
    "            # リストに格納する。　イテレーションごとに\n",
    "            box_length.append(result_length)\n",
    "\n",
    "        # リストの中でもっとも大きい情報取得量のインデックスを抽出する。\n",
    "        max_length_index = box_length.index(max(box_length))\n",
    "\n",
    "        # そのインデックスのを使って、情報が最大となる時の特徴量(length)を抜き出す。\n",
    "        # この値をwidthの境界とする\n",
    "        self.boundary_X_length = X_length[max_length_index+1]\n",
    "        \n",
    "#         境界に以上と未満の行列　をそれぞれ取得\n",
    "        class_x_more2 = y[np.where(X[:, 0] >= self.boundary_X_length[0])]\n",
    "        class_x_less2 = y[np.where(X[:, 0] < self.boundary_X_length[0])]\n",
    "        \n",
    "#         分割後のクラス名を設定する\n",
    "#         境界以上の行列のうち、最も多いクラスを出力\n",
    "        counts_more2 = np.bincount(class_x_more2.ravel())\n",
    "        self.class_more2 = np.argmax(counts_more2)\n",
    "        \n",
    "#         境界未満の行列　のうち、最も多いクラスを出力\n",
    "        counts_less2 = np.bincount(class_x_less2.ravel())\n",
    "        self.class_less2 = np.argmax(counts_less2)\n",
    "        \n",
    "        return self.boundary_X_width, self.boundary_X_length\n",
    "\n",
    "    def _gini_function(self, X, y):\n",
    "        \n",
    "#         データ量の設定\n",
    "        data = len(X)\n",
    "        class0 = np.sum(y == 0)\n",
    "        class1 = np.sum(y == 1)\n",
    "        \n",
    "#         不純値の計算\n",
    "        gini_result = 1 - ((class0/data)**2 +  (class1/data)**2)\n",
    "        \n",
    "        return gini_result\n",
    "\n",
    "    def _get_information(self, X_left, X_right, y_left, y_right):\n",
    "        \n",
    "#         データ量の設定\n",
    "        data = len(self.X)\n",
    "        left_num = len(X_left)\n",
    "        right_num = len(X_right)\n",
    "        \n",
    "#         情報取得関数の計算\n",
    "        gini_rote = self._gini_function(self.X, self.y)\n",
    "        gini_left = self._gini_function(X_left, y_left)\n",
    "        gini_right = self._gini_function(X_right, y_right)\n",
    "        gini_object = gini_rote - (\n",
    "            (left_num/data)*gini_left + (right_num/data)*gini_right)\n",
    "\n",
    "        return gini_object\n",
    "\n",
    "    def predict(self, X):\n",
    "        \"\"\"\n",
    "        fitでの決定木分類器を使いラベルを推定する\n",
    "        \"\"\"\n",
    "        #y_array の仮決め\n",
    "        y_array = np.arange(len(X))\n",
    "        \n",
    "        #コンディションの設定\n",
    "        condition_width_more = X[:, 1] >= self.boundary_X_width[0]          #width 決定境界以上\n",
    "        condition_width_less = X[:, 1] <  self.boundary_X_width[0]              #width 決定境界未満\n",
    "        condition_length_more = X[:, 0] >= self.boundary_X_length[0]        #length 決定境界以上\n",
    "        condition_length_less = X[:, 0] <  self.boundary_X_length[0]            #length 決定境界未満\n",
    "        \n",
    "        #一層目のy_arrayの変換\n",
    "        y_array[np.where(condition_width_more)] = self.class_more1\n",
    "        y_array[np.where(condition_width_less)] = self.class_less1\n",
    "        \n",
    "        #二層目のy_arrayの変換\n",
    "        y_array[np.where((condition_length_more) & (condition_width_more))] = self.class_more2\n",
    "        y_array[np.where((condition_length_less) & (condition_width_more))] = self.class_less2\n",
    "        \n",
    "        return y_array"
   ]
  },
  {
   "cell_type": "code",
   "execution_count": 133,
   "metadata": {},
   "outputs": [
    {
     "name": "stderr",
     "output_type": "stream",
     "text": [
      "/opt/anaconda3/lib/python3.7/site-packages/ipykernel_launcher.py:154: RuntimeWarning: invalid value encountered in long_scalars\n"
     ]
    }
   ],
   "source": [
    "sdtc = ScratchDecesionTreeClassifierDepth1()\n",
    "boundary_y, boundary_x = sdtc.fit(X_np, y_np)"
   ]
  },
  {
   "cell_type": "code",
   "execution_count": 134,
   "metadata": {},
   "outputs": [
    {
     "data": {
      "text/plain": [
       "array([0, 0, 0, 0, 0, 1, 0, 0, 1, 0, 1, 0, 0, 0, 1, 1, 1, 0, 1, 0, 1, 0,\n",
       "       0, 0, 0, 0, 0, 0, 0, 0, 0, 1, 0, 1, 0, 0, 1, 0, 0, 0, 0, 1, 0, 0,\n",
       "       0, 0, 0, 0, 0, 0, 1, 1, 1, 1, 1, 1, 1, 1, 1, 1, 1, 1, 1, 1, 1, 1,\n",
       "       1, 1, 1, 1, 1, 1, 1, 1, 1, 1, 1, 1, 1, 1, 1, 1, 1, 1, 1, 1, 1, 1,\n",
       "       1, 1, 1, 1, 1, 1, 1, 1, 1, 1, 1, 1])"
      ]
     },
     "execution_count": 134,
     "metadata": {},
     "output_type": "execute_result"
    }
   ],
   "source": [
    "pred_y = sdtc.predict(X_np)\n",
    "pred_y"
   ]
  },
  {
   "cell_type": "code",
   "execution_count": 135,
   "metadata": {},
   "outputs": [],
   "source": [
    "pred_xy = np.concatenate([X_np, pred_y.reshape(-1, 1)], axis = 1)"
   ]
  },
  {
   "cell_type": "code",
   "execution_count": 136,
   "metadata": {},
   "outputs": [
    {
     "data": {
      "text/plain": [
       "<matplotlib.legend.Legend at 0x1241f9110>"
      ]
     },
     "execution_count": 136,
     "metadata": {},
     "output_type": "execute_result"
    },
    {
     "data": {
      "image/png": "[encoded data removed]",
      "text/plain": [
       "<Figure size 432x288 with 1 Axes>"
      ]
     },
     "metadata": {
      "needs_background": "light"
     },
     "output_type": "display_data"
    }
   ],
   "source": [
    "import matplotlib.cm as cm\n",
    "\n",
    "xmax, xmin = 7.3, 4\n",
    "ymax, ymin = 4.5, boundary_y[0]\n",
    "\n",
    "plt.scatter(pred_xy[:, 0], pred_xy[:, 1], c=pred_xy[:, 2], cmap=cm.prism)\n",
    "plt.hlines(boundary_y[0], xmin, xmax, \"blue\", linestyles='dashed', label = '1st_work(boundary_width)') \n",
    "plt.vlines(boundary_x[0], ymin, ymax, \"r\", linestyles='dashed', label = '2nd_work(boundary_length)') \n",
    "plt.legend()"
   ]
  },
  {
   "cell_type": "code",
   "execution_count": null,
   "metadata": {},
   "outputs": [],
   "source": []
  },
  {
   "cell_type": "code",
   "execution_count": null,
   "metadata": {},
   "outputs": [],
   "source": []
  }
 ],
 "metadata": {
  "kernelspec": {
   "display_name": "Python 3",
   "language": "python",
   "name": "python3"
  },
  "language_info": {
   "codemirror_mode": {
    "name": "ipython",
    "version": 3
   },
   "file_extension": ".py",
   "mimetype": "text/x-python",
   "name": "python",
   "nbconvert_exporter": "python",
   "pygments_lexer": "ipython3",
   "version": "3.7.4"
  }
 },
 "nbformat": 4,
 "nbformat_minor": 2
}
