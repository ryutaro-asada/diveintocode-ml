{
 "cells": [
  {
   "cell_type": "markdown",
   "metadata": {},
   "source": [
    "参考：\n",
    "mean = np.array([0, 0]) # 平均を指定。\n",
    "\n",
    "In [5]: cov = np.array([\n",
    "   ...: [1, 0.1],\n",
    "   ...: [0.1, 1]]) # 共分散行列を指定。0.1のところを変えればxとyの共分散の値を変えられる。\n",
    "\n",
    "In [6]: x, y = np.random.multivariate_normal(mean, cov, 5000).T # とりあえず5000個生成。"
   ]
  },
  {
   "cell_type": "markdown",
   "metadata": {},
   "source": [
    "【問題1】乱数の作成\n",
    "平均が(-3, 0)、共分散行列が以下で表される2次元正規分布による乱数を500個作成してください。\n",
    "\n",
    "[\n",
    "1.0\n",
    "0.8\n",
    "0.8\n",
    "1.0\n",
    "\u0018\n",
    "]\n",
    "多次元の正規分布による乱数はnp.random.multivariate_normal()を使うことで作成できます。"
   ]
  },
  {
   "cell_type": "code",
   "execution_count": 1,
   "metadata": {},
   "outputs": [],
   "source": [
    "import numpy as np\n",
    "mean = np.array([-3, 0])# 平均指定\n",
    "cov = np.array([[1, 0.8], [0.8, 1.0]])#共分散指定\n",
    "np.random.seed(seed=0) #ランダムシード指定\n",
    "#５００個作る\n",
    "ran = np.random.multivariate_normal(mean, cov, 500)"
   ]
  },
  {
   "cell_type": "markdown",
   "metadata": {},
   "source": [
    "【問題2】散布図による可視化\n",
    "問題1で作成したデータ点を散布図により可視化してください。\n",
    "\n",
    "散布図はmatplotlibのplt.scatter()を使うことで描けます"
   ]
  },
  {
   "cell_type": "code",
   "execution_count": 2,
   "metadata": {},
   "outputs": [
    {
     "data": {
      "text/plain": [
       "<matplotlib.collections.PathCollection at 0x11c83ff50>"
      ]
     },
     "execution_count": 2,
     "metadata": {},
     "output_type": "execute_result"
    }
   ],
   "source": [
    "import matplotlib.pyplot as plt\n",
    "\n",
    "x = ran[:, 0]\n",
    "y = ran[:, 1]\n",
    "plt.title('Dots')\n",
    "\n",
    "plt.scatter(x, y)"
   ]
  },
  {
   "cell_type": "markdown",
   "metadata": {},
   "source": [
    "【問題3】ヒストグラムによる可視化\n",
    "問題1で作成したデータをヒストグラムにより可視化してください。\n",
    "\n",
    "ヒストグラムはplt.hist()を使うことで描けます。\n",
    "\n",
    "matplotlib.pyplot.hist — Matplotlib 3.1.1 documentation\n",
    "\n",
    "各次元ごとに作成し、2つのヒストグラムとしてください。\n",
    "\n",
    "それぞれのヒストグラムの横軸の範囲はplt.xlim()を用いて揃えるようにしてください。\n",
    "\n",
    "matplotlib.pyplot.xlim — Matplotlib 3.1.1 documentation\n",
    "\n"
   ]
  },
  {
   "cell_type": "code",
   "execution_count": 3,
   "metadata": {},
   "outputs": [
    {
     "data": {
      "text/plain": [
       "(array([ 3.,  0.,  2.,  1.,  1.,  5.,  5.,  1.,  9.,  4.,  5.,  7., 10.,\n",
       "         7., 15., 13., 19., 15., 22., 18., 19., 19., 15., 26., 15., 18.,\n",
       "        19., 16., 29., 17., 26., 21., 14., 11., 12., 12.,  8., 11.,  4.,\n",
       "         4.,  4.,  4.,  5.,  4.,  2.,  1.,  1.,  0.,  0.,  1.]),\n",
       " array([-5.55952028, -5.45202653, -5.34453278, -5.23703904, -5.12954529,\n",
       "        -5.02205154, -4.91455779, -4.80706404, -4.69957029, -4.59207654,\n",
       "        -4.48458279, -4.37708904, -4.26959529, -4.16210154, -4.0546078 ,\n",
       "        -3.94711405, -3.8396203 , -3.73212655, -3.6246328 , -3.51713905,\n",
       "        -3.4096453 , -3.30215155, -3.1946578 , -3.08716405, -2.9796703 ,\n",
       "        -2.87217655, -2.76468281, -2.65718906, -2.54969531, -2.44220156,\n",
       "        -2.33470781, -2.22721406, -2.11972031, -2.01222656, -1.90473281,\n",
       "        -1.79723906, -1.68974531, -1.58225157, -1.47475782, -1.36726407,\n",
       "        -1.25977032, -1.15227657, -1.04478282, -0.93728907, -0.82979532,\n",
       "        -0.72230157, -0.61480782, -0.50731407, -0.39982032, -0.29232658,\n",
       "        -0.18483283]),\n",
       " <a list of 50 Patch objects>)"
      ]
     },
     "execution_count": 3,
     "metadata": {},
     "output_type": "execute_result"
    },
    {
     "data": {
      "image/png": "[encoded data removed]",
      "text/plain": [
       "<Figure size 432x288 with 1 Axes>"
      ]
     },
     "metadata": {
      "needs_background": "light"
     },
     "output_type": "display_data"
    }
   ],
   "source": [
    "import numpy as np\n",
    "import matplotlib.pyplot as plt\n",
    "\n",
    "x =  ran[:, 0]\n",
    "\n",
    "plt.xlabel('x1')\n",
    "plt.ylabel('Frequency')\n",
    "plt.title('Histogram of x1')\n",
    "plt.xlim(-6, 3)\n",
    "plt.grid(True)\n",
    "plt.hist(x, bins=50)"
   ]
  },
  {
   "cell_type": "code",
   "execution_count": 4,
   "metadata": {},
   "outputs": [
    {
     "data": {
      "text/plain": [
       "(array([ 1.,  0.,  0.,  1.,  5.,  0.,  0.,  2.,  2.,  3.,  2.,  4.,  4.,\n",
       "        10.,  4.,  9., 11., 17., 12., 14., 17., 17., 18., 19., 20., 25.,\n",
       "        24., 31., 26., 19., 29., 19., 18., 15., 19., 13., 10., 11., 10.,\n",
       "         8.,  8.,  6.,  5.,  1.,  3.,  3.,  1.,  0.,  2.,  2.]),\n",
       " array([-3.07908535, -2.9632147 , -2.84734404, -2.73147339, -2.61560274,\n",
       "        -2.49973208, -2.38386143, -2.26799077, -2.15212012, -2.03624946,\n",
       "        -1.92037881, -1.80450816, -1.6886375 , -1.57276685, -1.45689619,\n",
       "        -1.34102554, -1.22515489, -1.10928423, -0.99341358, -0.87754292,\n",
       "        -0.76167227, -0.64580161, -0.52993096, -0.41406031, -0.29818965,\n",
       "        -0.182319  , -0.06644834,  0.04942231,  0.16529297,  0.28116362,\n",
       "         0.39703427,  0.51290493,  0.62877558,  0.74464624,  0.86051689,\n",
       "         0.97638754,  1.0922582 ,  1.20812885,  1.32399951,  1.43987016,\n",
       "         1.55574082,  1.67161147,  1.78748212,  1.90335278,  2.01922343,\n",
       "         2.13509409,  2.25096474,  2.36683539,  2.48270605,  2.5985767 ,\n",
       "         2.71444736]),\n",
       " <a list of 50 Patch objects>)"
      ]
     },
     "execution_count": 4,
     "metadata": {},
     "output_type": "execute_result"
    },
    {
     "data": {
      "image/png": "[encoded data removed]",
      "text/plain": [
       "<Figure size 432x288 with 1 Axes>"
      ]
     },
     "metadata": {
      "needs_background": "light"
     },
     "output_type": "display_data"
    }
   ],
   "source": [
    "plt.xlim(-6, 3)\n",
    "plt.hist(y, bins = 50)"
   ]
  },
  {
   "cell_type": "markdown",
   "metadata": {},
   "source": [
    "##reference\n",
    "\n",
    "import numpy as np\n",
    "import matplotlib.pyplot as plt\n",
    " \n",
    "# 平均 50, 標準偏差 10 の正規乱数を1,000件生成\n",
    "x = np.random.normal(50, 10, 1000)\n",
    " \n",
    "# ヒストグラムを出力\n",
    "plt.hist(x)"
   ]
  },
  {
   "cell_type": "markdown",
   "metadata": {},
   "source": [
    "【問題4】データの追加\n",
    "新たに平均が(0, -3)、共分散行列が以下で表される2次元正規分布による乱数を500個作成してください。\n",
    "\n",
    "[\n",
    "1.0\n",
    "0.8\n",
    "0.8\n",
    "1.0\n",
    "\u0018\n",
    "]\n",
    "そして、問題1、4それぞれのデータをひとつの散布図として可視化してください。凡例として問題1のものは0、問題2のものは1を表示してください"
   ]
  },
  {
   "cell_type": "code",
   "execution_count": 5,
   "metadata": {},
   "outputs": [],
   "source": [
    "import numpy as np\n",
    "mean = np.array([0, -3])# 平均指定\n",
    "cov = np.array([[1, 0.8], [0.8, 1.0]])#共分散指定\n",
    "np.random.seed(seed=0) #ランダムシード指定\n",
    "#５００個作る\n",
    "ran2 = np.random.multivariate_normal(mean, cov, 500)"
   ]
  },
  {
   "cell_type": "code",
   "execution_count": 6,
   "metadata": {},
   "outputs": [
    {
     "data": {
      "text/plain": [
       "<matplotlib.legend.Legend at 0x11ccfd910>"
      ]
     },
     "execution_count": 6,
     "metadata": {},
     "output_type": "execute_result"
    },
    {
     "data": {
      "image/png": "[encoded data removed]",
      "text/plain": [
       "<Figure size 432x288 with 1 Axes>"
      ]
     },
     "metadata": {
      "needs_background": "light"
     },
     "output_type": "display_data"
    }
   ],
   "source": [
    "import matplotlib.pyplot as plt\n",
    "\n",
    "x = ran[:, 0]\n",
    "y = ran[:, 1]\n",
    "\n",
    "x2 = ran2[:, 0]\n",
    "y2 = ran2[:, 1]\n",
    "\n",
    "\n",
    "plt.title('Dots')\n",
    "plt.scatter(x, y, label = '0')\n",
    "plt.scatter(x2, y2, label = '1')\n",
    "plt.legend() #legend 最後に持ってこないと読み込まない"
   ]
  },
  {
   "cell_type": "markdown",
   "metadata": {},
   "source": [
    "np.concatenate()の使い方\n",
    "\n",
    "a1 = np.ones((2, 3), int)\n",
    "print(a1)\n",
    "# [[1 1 1]\n",
    "#  [1 1 1]]\n",
    "\n",
    "a2 = np.full((2, 3), 2)\n",
    "print(a2)\n",
    "# [[2 2 2]\n",
    "#  [2 2 2]]\n",
    "\n",
    "print(np.concatenate([a1, a2]))\n",
    "# [[1 1 1]\n",
    "#  [1 1 1]\n",
    "#  [2 2 2]\n",
    "#  [2 2 2]]"
   ]
  },
  {
   "cell_type": "markdown",
   "metadata": {},
   "source": [
    "【問題5】データの結合\n",
    "データはまとめておいた方が後々扱いやすいです。問題1、4で作成したndarrayを 結合 し、(1000, 2)のndarrayとしてください。結合はnp.concatenate()やnp.vstack()を使うことで行えます。"
   ]
  },
  {
   "cell_type": "code",
   "execution_count": 7,
   "metadata": {},
   "outputs": [
    {
     "data": {
      "text/plain": [
       "array([[-4.80006782, -1.54698618],\n",
       "       [-4.63714503, -0.21987973],\n",
       "       [-4.46267867, -2.08076347],\n",
       "       ...,\n",
       "       [-0.40484501, -3.14372258],\n",
       "       [ 0.1584315 , -2.78199606],\n",
       "       [ 1.20196495, -2.02452628]])"
      ]
     },
     "execution_count": 7,
     "metadata": {},
     "output_type": "execute_result"
    }
   ],
   "source": [
    "np.concatenate((ran, ran2))#np.array は　結合できない？　二重括弧必要"
   ]
  },
  {
   "cell_type": "markdown",
   "metadata": {},
   "source": [
    "【問題6】ラベル付け\n",
    "ひとまとめになった1000個のデータそれぞれに対して、問題1、4どちらで作成したものなのかを示す ラベル 付けを行ってください。問題1のものには0、問題4のものには1を対応させます。\n",
    "\n",
    "0と1を含むラベルの列を新たに追加し、(1000, 3)のndarrayを作成してください。\n",
    "\n",
    "機械学習に使用するデータセットはこのような形になっていることが多いです。"
   ]
  },
  {
   "cell_type": "code",
   "execution_count": 8,
   "metadata": {},
   "outputs": [],
   "source": [
    "#０　と　１データの作成\n",
    "\n",
    "list_0 = []\n",
    "for _ in range(500):\n",
    "    list_0.append(0)\n",
    "array_0 = np.array(list_0).reshape(500, 1)\n",
    "\n",
    "list_1 = []\n",
    "for _ in range(500):\n",
    "    list_1.append(1)\n",
    "array_1 = np.array(list_1).reshape(500, 1)\n",
    "    "
   ]
  },
  {
   "cell_type": "code",
   "execution_count": 9,
   "metadata": {},
   "outputs": [],
   "source": [
    "ran_labeled = np.hstack((ran, array_0)) #０を末尾の列に追加"
   ]
  },
  {
   "cell_type": "code",
   "execution_count": 10,
   "metadata": {},
   "outputs": [],
   "source": [
    "ran1_labeled = np.hstack((ran2, array_1))#１を末尾の列に追加"
   ]
  },
  {
   "cell_type": "code",
   "execution_count": 11,
   "metadata": {},
   "outputs": [
    {
     "data": {
      "text/plain": [
       "array([[-4.80006782, -1.54698618,  0.        ],\n",
       "       [-4.63714503, -0.21987973,  0.        ],\n",
       "       [-4.46267867, -2.08076347,  0.        ],\n",
       "       ...,\n",
       "       [-3.40484501, -0.14372258,  0.        ],\n",
       "       [-2.8415685 ,  0.21800394,  0.        ],\n",
       "       [-1.79803505,  0.97547372,  0.        ]])"
      ]
     },
     "execution_count": 11,
     "metadata": {},
     "output_type": "execute_result"
    }
   ],
   "source": [
    "ran_labeled"
   ]
  },
  {
   "cell_type": "code",
   "execution_count": 12,
   "metadata": {},
   "outputs": [
    {
     "data": {
      "text/plain": [
       "array([[-1.80006782, -4.54698618,  1.        ],\n",
       "       [-1.63714503, -3.21987973,  1.        ],\n",
       "       [-1.46267867, -5.08076347,  1.        ],\n",
       "       ...,\n",
       "       [-0.40484501, -3.14372258,  1.        ],\n",
       "       [ 0.1584315 , -2.78199606,  1.        ],\n",
       "       [ 1.20196495, -2.02452628,  1.        ]])"
      ]
     },
     "execution_count": 12,
     "metadata": {},
     "output_type": "execute_result"
    }
   ],
   "source": [
    "ran1_labeled"
   ]
  },
  {
   "cell_type": "code",
   "execution_count": 13,
   "metadata": {},
   "outputs": [],
   "source": [
    "labeled_data = np.concatenate((ran_labeled, ran1_labeled))#ラベルつけした各データを結合"
   ]
  },
  {
   "cell_type": "code",
   "execution_count": 14,
   "metadata": {},
   "outputs": [
    {
     "data": {
      "text/plain": [
       "array([[-4.80006782, -1.54698618,  0.        ],\n",
       "       [-4.63714503, -0.21987973,  0.        ],\n",
       "       [-4.46267867, -2.08076347,  0.        ],\n",
       "       ...,\n",
       "       [-0.40484501, -3.14372258,  1.        ],\n",
       "       [ 0.1584315 , -2.78199606,  1.        ],\n",
       "       [ 1.20196495, -2.02452628,  1.        ]])"
      ]
     },
     "execution_count": 14,
     "metadata": {},
     "output_type": "execute_result"
    }
   ],
   "source": [
    "labeled_data"
   ]
  },
  {
   "cell_type": "code",
   "execution_count": null,
   "metadata": {},
   "outputs": [],
   "source": []
  }
 ],
 "metadata": {
  "kernelspec": {
   "display_name": "Python 3",
   "language": "python",
   "name": "python3"
  },
  "language_info": {
   "codemirror_mode": {
    "name": "ipython",
    "version": 3
   },
   "file_extension": ".py",
   "mimetype": "text/x-python",
   "name": "python",
   "nbconvert_exporter": "python",
   "pygments_lexer": "ipython3",
   "version": "3.7.4"
  }
 },
 "nbformat": 4,
 "nbformat_minor": 2
}
