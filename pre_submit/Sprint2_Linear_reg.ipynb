{
 "cells": [
  {
   "cell_type": "markdown",
   "metadata": {},
   "source": [
    "# 2.線形回帰スクラッチ"
   ]
  },
  {
   "cell_type": "code",
   "execution_count": 1,
   "metadata": {},
   "outputs": [],
   "source": [
    "import pandas as pd\n",
    "import numpy as np"
   ]
  },
  {
   "cell_type": "code",
   "execution_count": 3,
   "metadata": {},
   "outputs": [],
   "source": [
    "train = pd.read_csv('/Users/user/Downloads/house-prices-advanced-regression-techniques/train.csv')"
   ]
  },
  {
   "cell_type": "code",
   "execution_count": 4,
   "metadata": {},
   "outputs": [],
   "source": [
    "X = train[['GrLivArea', 'YearBuilt']]"
   ]
  },
  {
   "cell_type": "code",
   "execution_count": 5,
   "metadata": {},
   "outputs": [],
   "source": [
    "y = train['SalePrice']"
   ]
  },
  {
   "cell_type": "code",
   "execution_count": 6,
   "metadata": {},
   "outputs": [],
   "source": [
    "X_np = np.array(X)\n",
    "y_np = np.array(y)"
   ]
  },
  {
   "cell_type": "code",
   "execution_count": 7,
   "metadata": {},
   "outputs": [],
   "source": [
    "X_data = np.log(X_np)"
   ]
  },
  {
   "cell_type": "code",
   "execution_count": 8,
   "metadata": {},
   "outputs": [],
   "source": [
    "y_data = np.log(y_np)"
   ]
  },
  {
   "cell_type": "code",
   "execution_count": null,
   "metadata": {},
   "outputs": [],
   "source": []
  },
  {
   "cell_type": "markdown",
   "metadata": {},
   "source": [
    "## 【問題1】仮定関数\n",
    "以下の数式で表される線形回帰の仮定関数を実装してください。メソッドの雛形を用意してあります"
   ]
  },
  {
   "cell_type": "code",
   "execution_count": 9,
   "metadata": {},
   "outputs": [],
   "source": [
    "def _linear_hypothesis(self, X):\n",
    "    \"\"\"\n",
    "        線形の仮定関数を計算する\n",
    "\n",
    "        Parameters\n",
    "        ----------\n",
    "        X : 次の形のndarray, shape (n_samples, n_features)\n",
    "          学習データ\n",
    "\n",
    "        Returns\n",
    "        -------\n",
    "          次の形のndarray, shape (n_samples, 1)\n",
    "          線形の仮定関数による推定結果\n",
    "\n",
    "        \"\"\"\n",
    "    #Hθ(x)  = θt・x\n",
    "\n",
    "    h_theta = np.dot(X, theta)\n",
    "    \n",
    "    return h_theta"
   ]
  },
  {
   "cell_type": "markdown",
   "metadata": {},
   "source": [
    "## 【問題2】最急降下法\n",
    "最急降下法により学習させる実装を行なってください。以下の式で表されるパラメータの更新式のメソッド_gradient_descentを追加し、fit\n",
    "メソッドから呼び出すようにしてください。"
   ]
  },
  {
   "cell_type": "code",
   "execution_count": 10,
   "metadata": {},
   "outputs": [],
   "source": [
    "def _gradient_descent(self, X, y):\n",
    "    \"\"\"\n",
    "    説明を記述\n",
    "\n",
    "    \"\"\"\n",
    "    m = X.shape[0]\n",
    "    \n",
    "    #θ = θ　- α*Σm{(h - y)x}\n",
    "    self.theta -= self.alpha*((self._linear_hypothesis(X) - y)*X)/m\n",
    "   \n",
    "    pass"
   ]
  },
  {
   "cell_type": "markdown",
   "metadata": {},
   "source": [
    "## 【問題3】推定\n",
    "推定する仕組みを実装してください。ScratchLinearRegressionクラスの雛形に含まれるpredictメソッドに書き加えてください。\n",
    "\n",
    "\n",
    "仮定関数 \n",
    "h\n",
    "θ\n",
    "(\n",
    "x\n",
    ")\n",
    " の出力が推定結果です。"
   ]
  },
  {
   "cell_type": "code",
   "execution_count": 11,
   "metadata": {},
   "outputs": [],
   "source": [
    " def predict(self, new_X):\n",
    "        \"\"\"\n",
    "        線形回帰を使い推定する。\n",
    "\n",
    "        Parameters\n",
    "        ----------\n",
    "        X : 次の形のndarray, shape (n_samples, n_features)\n",
    "            サンプル\n",
    "\n",
    "        Returns\n",
    "        -------\n",
    "            次の形のndarray, shape (n_samples, 1)\n",
    "            線形回帰による推定結果\n",
    "        \"\"\"\n",
    "        y_pred = np.dot(new_X, self.theta)\n",
    "        pass"
   ]
  },
  {
   "cell_type": "markdown",
   "metadata": {},
   "source": [
    "## 【問題4】平均二乗誤差\n",
    "線形回帰の指標値として用いられる平均二乗誤差（mean square error, MSE）の関数を作成してください。\n",
    "\n",
    "\n",
    "平均二乗誤差関数は回帰問題全般で使える関数のため、ScratchLinearRegressionクラスのメソッドではなく、別の関数として作成してください。雛形を用意してあります。"
   ]
  },
  {
   "cell_type": "code",
   "execution_count": 15,
   "metadata": {},
   "outputs": [],
   "source": [
    "def MSE(y_pred, y):\n",
    "    \"\"\"\n",
    "    平均二乗誤差の計算\n",
    "\n",
    "    Parameters\n",
    "    ----------\n",
    "    y_pred : 次の形のndarray, shape (n_samples,)\n",
    "      推定した値\n",
    "    y : 次の形のndarray, shape (n_samples,)\n",
    "      正解値\n",
    "\n",
    "    Returns\n",
    "    ----------\n",
    "    mse : numpy.float\n",
    "      平均二乗誤差\n",
    "          # L = (Σ(h - y)**2)/m\n",
    "    \"\"\"\n",
    "    \n",
    "    mse = ((self._linear_hypothesis(X) - y)**2)/m\n",
    "    \n",
    "    return mse"
   ]
  },
  {
   "cell_type": "markdown",
   "metadata": {},
   "source": [
    "## 【問題5】目的関数\n",
    "以下の数式で表される線形回帰の 目的関数（損失関数） を実装してください。そして、これをself.loss, self.val_lossに記録するようにしてください。\n",
    "\n",
    "\n",
    "目的関数（損失関数） \n",
    "J\n",
    "(\n",
    "θ\n",
    ")\n",
    " は次の式です。"
   ]
  },
  {
   "cell_type": "code",
   "execution_count": 16,
   "metadata": {},
   "outputs": [],
   "source": [
    "def _cost_function(mse):\n",
    "    \n",
    "    \"\"\"\n",
    "    平均二乗誤差の計算\n",
    "\n",
    "    Parameters\n",
    "    ----------\n",
    "    y_pred : 次の形のndarray, shape (n_samples,)\n",
    "      推定した値\n",
    "    y : 次の形のndarray, shape (n_samples,)\n",
    "      正解値\n",
    "\n",
    "    Returns\n",
    "    ----------\n",
    "    mse : numpy.float\n",
    "      平均二乗誤差\n",
    "    \"\"\"\n",
    "\n",
    "    self.loss = np.hstack((self.loss, mse/2))\n",
    "    \n",
    "    return "
   ]
  },
  {
   "cell_type": "markdown",
   "metadata": {},
   "source": [
    "## 【問題6】学習と推定\n",
    "機械学習スクラッチ入門のSprintで用意したHouse Pricesコンペティションのデータに対してスクラッチ実装の学習と推定を行なってください。\n",
    "scikit-learnによる実装と比べ、正しく動いているかを確認してください。"
   ]
  },
  {
   "cell_type": "code",
   "execution_count": 17,
   "metadata": {},
   "outputs": [],
   "source": [
    "class ScratchLinearRegression():\n",
    "    \n",
    "        \"\"\"\n",
    "        線形回帰のスクラッチ実装\n",
    "\n",
    "        Parameters\n",
    "        ----------\n",
    "        num_iter : int\n",
    "          イテレーション数\n",
    "        lr : float\n",
    "          学習率\n",
    "        no_bias : bool\n",
    "          バイアス項を入れない場合はTrue\n",
    "        verbose : bool\n",
    "          学習過程を出力する場合はTrue\n",
    "\n",
    "        Attributes\n",
    "        ----------\n",
    "        self.coef_ : 次の形のndarray, shape (n_features,)\n",
    "          パラメータ\n",
    "        self.loss : 次の形のndarray, shape (self.iter,)\n",
    "          訓練データに対する損失の記録\n",
    "        self.val_loss : 次の形のndarray, shape (self.iter,)\n",
    "          検証データに対する損失の記録\n",
    "\n",
    "        \"\"\"\n",
    "        def __init__(self, num_iter, lr, bias=True, verbose=None):\n",
    "            # ハイパーパラメータを属性として記録\n",
    "            self.iter = num_iter\n",
    "            self.alpha = lr\n",
    "            self.bias = bias\n",
    "            self.verbose = verbose\n",
    "            # 損失を記録する配列を用意\n",
    "            self.loss = np.zeros(self.iter)\n",
    "            self.val_loss = np.zeros(self.iter)\n",
    "            self.theta = 0\n",
    "        def fit(self, X, y, X_val=None, y_val=None):\n",
    "            \"\"\"\n",
    "            線形回帰を学習する。検証データが入力された場合はそれに対する損失と精度もイテレーションごとに計算する。\n",
    "\n",
    "            Parameters\n",
    "            ----------\n",
    "            X : 次の形のndarray, shape (n_samples, n_features)\n",
    "                訓練データの特徴量\n",
    "            y : 次の形のndarray, shape (n_samples, )\n",
    "                訓練データの正解値\n",
    "            X_val : 次の形のndarray, shape (n_samples, n_features)\n",
    "                検証データの特徴量\n",
    "            y_val : 次の形のndarray, shape (n_samples, )\n",
    "                検証データの正解値\n",
    "            \"\"\"\n",
    "            if self.verbose:\n",
    "                #verboseをTrueにした際は学習過程を出力\n",
    "                print()\n",
    "                \n",
    "            if self.bias:\n",
    "                X = np.concatenate([np.ones([X.shape[0], 1]), X], axis=1)\n",
    "#             X_val = np.concatenate([np.ones([X_val.shape[0], 1]), X_val], axis=1)\n",
    "\n",
    "            np.random.seed(seed=32)\n",
    "            self.theta = np.random.randn(X.shape[1])\n",
    "#             print(self.theta.shape)\n",
    "        \n",
    "\n",
    "            for i in range(self.iter):\n",
    "                self._gradient_descent(X,y)\n",
    "                mse = self._MSE(X,y)\n",
    "#                 print(mse.shape)\n",
    "#                 print(self.loss.shape)\n",
    "#                 print(self._cost_function(mse))\n",
    "                self.loss[i] = self._cost_function(mse)\n",
    "\n",
    "            return self.loss\n",
    "\n",
    "        def _linear_hypothesis(self, X):\n",
    "            \"\"\"\n",
    "                線形の仮定関数を計算する\n",
    "\n",
    "                Parameters\n",
    "                ----------\n",
    "                X : 次の形のndarray, shape (n_samples, n_features)\n",
    "                  学習データ\n",
    "\n",
    "                Returns\n",
    "                -------\n",
    "                  次の形のndarray, shape (n_samples, 1)\n",
    "                  線形の仮定関数による推定結果\n",
    "\n",
    "                \"\"\"\n",
    "            #Hθ(x)  = θt・x\n",
    "\n",
    "            h_theta = np.dot(X, self.theta)\n",
    "\n",
    "            return h_theta\n",
    "\n",
    "        def _gradient_descent(self, X, y):\n",
    "            \"\"\"\n",
    "            説明を記述\n",
    "\n",
    "            \"\"\"\n",
    "            self.m = X.shape[0]\n",
    "\n",
    "            #θ = θ　- α*Σm{(h - y)x}\n",
    "            error = self._linear_hypothesis(X) - y\n",
    "            self.theta -= self.alpha*np.dot(X.T, error)/self.m\n",
    "#             print(self.theta.shape)\n",
    "\n",
    "            pass\n",
    "\n",
    "        def predict(self, X):\n",
    "                \"\"\"\n",
    "                線形回帰を使い推定する。\n",
    "\n",
    "                Parameters\n",
    "                ----------\n",
    "                X : 次の形のndarray, shape (n_samples, n_features)\n",
    "                    サンプル\n",
    "\n",
    "                Returns\n",
    "                -------\n",
    "                    次の形のndarray, shape (n_samples, 1)\n",
    "                    線形回帰による推定結果\n",
    "                \"\"\"\n",
    "                if self.bias:\n",
    "                    X = np.concatenate([np.ones([X.shape[0], 1]), X], axis=1)\n",
    "                y_pred = np.dot(X, self.theta)\n",
    "                return y_pred\n",
    "\n",
    "        def _MSE(self, X, y):\n",
    "            \"\"\"\n",
    "            平均二乗誤差の計算\n",
    "\n",
    "            Parameters\n",
    "            ----------\n",
    "            y_pred : 次の形のndarray, shape (n_samples,)\n",
    "              推定した値\n",
    "            y : 次の形のndarray, shape (n_samples,)\n",
    "              正解値\n",
    "\n",
    "            Returns\n",
    "            ----------\n",
    "            mse : numpy.float\n",
    "              平均二乗誤差\n",
    "            \"\"\"\n",
    "            # L = (Σ(h - y)**2)/m\n",
    "\n",
    "            mse = ((self._linear_hypothesis(X) - y)**2)/self.m\n",
    "\n",
    "            return mse.sum()\n",
    "\n",
    "        def _cost_function(self, mse):\n",
    "            \"\"\"\n",
    "            平均二乗誤差の計算\n",
    "\n",
    "            Parameters\n",
    "            ----------\n",
    "            y_pred : 次の形のndarray, shape (n_samples,)\n",
    "              推定した値\n",
    "            y : 次の形のndarray, shape (n_samples,)\n",
    "              正解値\n",
    "\n",
    "            Returns\n",
    "            ----------\n",
    "            mse : numpy.float\n",
    "              平均二乗誤差\n",
    "            \"\"\"\n",
    "            loss = mse/2\n",
    "\n",
    "            return loss"
   ]
  },
  {
   "cell_type": "code",
   "execution_count": 27,
   "metadata": {},
   "outputs": [],
   "source": [
    "from sklearn.metrics import mean_squared_error\n",
    "from sklearn.model_selection import train_test_split\n",
    "X_train, X_test, y_train, y_test = train_test_split(X_data, y_data, test_size=0.33, random_state=42)"
   ]
  },
  {
   "cell_type": "code",
   "execution_count": 28,
   "metadata": {},
   "outputs": [],
   "source": [
    "slr = ScratchLinearRegression(num_iter = 10, lr = 0.01)\n",
    "loss_train = slr.fit(X_train, y_train)\n",
    "\n",
    "scrach_y_train_pre = slr.predict(X_train)\n",
    "scrach_y_test_pre = slr.predict(X_test)"
   ]
  },
  {
   "cell_type": "code",
   "execution_count": 29,
   "metadata": {},
   "outputs": [],
   "source": [
    "import numpy as np\n",
    "from sklearn.linear_model import LinearRegression\n",
    "\n",
    "reg = LinearRegression()\n",
    "\n",
    "reg.fit(X_train, y_train)\n",
    "\n",
    "sk_y_train_pre = reg.predict(X_train)\n",
    "sk_y_test_pre = reg.predict(X_test)"
   ]
  },
  {
   "cell_type": "code",
   "execution_count": 30,
   "metadata": {},
   "outputs": [],
   "source": [
    "from sklearn.metrics import mean_squared_error\n",
    "\n",
    "\n",
    "score_train_scrach = mean_squared_error(y_train, scrach_y_train_pre)\n",
    "score_test_scrach = mean_squared_error(y_test, scrach_y_test_pre)\n",
    "score_train_sk = mean_squared_error(y_train, sk_y_train_pre)\n",
    "score_test_sk = mean_squared_error(y_test, sk_y_test_pre)"
   ]
  },
  {
   "cell_type": "code",
   "execution_count": 37,
   "metadata": {},
   "outputs": [
    {
     "name": "stdout",
     "output_type": "stream",
     "text": [
      "scrach_pre_MSE \n",
      "0.07565299019799733\n",
      "0.07192856636736479\n"
     ]
    }
   ],
   "source": [
    "print('scrach_pre_MSE'+' \\n' + str(score_train_scrach)+ '\\n'+str(score_test_scrach))"
   ]
  },
  {
   "cell_type": "code",
   "execution_count": 38,
   "metadata": {},
   "outputs": [
    {
     "name": "stdout",
     "output_type": "stream",
     "text": [
      "sklern_pre_MSE \n",
      "0.04549740142661804\n",
      "0.0454645569652038\n"
     ]
    }
   ],
   "source": [
    "print('sklern_pre_MSE'+' \\n' + str(score_train_sk)+ '\\n'+str(score_test_sk))"
   ]
  },
  {
   "cell_type": "markdown",
   "metadata": {},
   "source": [
    "### sklernの方が少し性能がいい。"
   ]
  },
  {
   "cell_type": "markdown",
   "metadata": {},
   "source": [
    "### 【問題7】学習曲線のプロット\n",
    "学習曲線を表示する関数を作成し、実行してください。グラフを見て損失が適切に下がっているかどうか確認してください。### "
   ]
  },
  {
   "cell_type": "code",
   "execution_count": 35,
   "metadata": {},
   "outputs": [
    {
     "data": {
      "text/plain": [
       "<matplotlib.collections.PathCollection at 0x128325e50>"
      ]
     },
     "execution_count": 35,
     "metadata": {},
     "output_type": "execute_result"
    },
    {
     "data": {
      "image/png": "[encoded data removed]",
      "text/plain": [
       "<Figure size 432x288 with 1 Axes>"
      ]
     },
     "metadata": {
      "needs_background": "light"
     },
     "output_type": "display_data"
    }
   ],
   "source": [
    "import matplotlib.pyplot as plt\n",
    "\n",
    "num_iter = 10\n",
    "\n",
    "plt.title('loss_train')\n",
    "plt.scatter(np.arange(num_iter) + 1, loss_train)"
   ]
  },
  {
   "cell_type": "code",
   "execution_count": 36,
   "metadata": {},
   "outputs": [
    {
     "data": {
      "text/plain": [
       "<matplotlib.collections.PathCollection at 0x128852c50>"
      ]
     },
     "execution_count": 36,
     "metadata": {},
     "output_type": "execute_result"
    },
    {
     "data": {
      "image/png": "[encoded data removed]",
      "text/plain": [
       "<Figure size 432x288 with 1 Axes>"
      ]
     },
     "metadata": {
      "needs_background": "light"
     },
     "output_type": "display_data"
    }
   ],
   "source": [
    "plt.title('loss_test')\n",
    "plt.scatter(np.arange(num_iter) + 1, loss_test)"
   ]
  },
  {
   "cell_type": "code",
   "execution_count": null,
   "metadata": {},
   "outputs": [],
   "source": []
  }
 ],
 "metadata": {
  "kernelspec": {
   "display_name": "Python 3",
   "language": "python",
   "name": "python3"
  },
  "language_info": {
   "codemirror_mode": {
    "name": "ipython",
    "version": 3
   },
   "file_extension": ".py",
   "mimetype": "text/x-python",
   "name": "python",
   "nbconvert_exporter": "python",
   "pygments_lexer": "ipython3",
   "version": "3.7.4"
  }
 },
 "nbformat": 4,
 "nbformat_minor": 4
}
