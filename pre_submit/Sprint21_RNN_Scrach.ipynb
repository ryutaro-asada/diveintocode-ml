{
 "cells": [
  {
   "cell_type": "code",
   "execution_count": 2,
   "metadata": {},
   "outputs": [],
   "source": [
    "import numpy as np\n",
    "import pandas as pd"
   ]
  },
  {
   "cell_type": "markdown",
   "metadata": {},
   "source": [
    "## 【問題1】SimpleRNNのフォワードプロパゲーション実装\n",
    "SimpleRNNのクラスSimpleRNNを作成してください。基本構造はFCクラスと同じになります。\n",
    "フォワードプロパゲーションの数式は以下のようになります。ndarrayのshapeがどうなるかを併記しています。\n",
    "バッチサイズをbatch_size、入力の特徴量数をn_features、RNNのノード数をn_nodesとして表記します。活性化関数はtanhとして進めますが、これまでのニューラルネットワーク同様にReLUなどに置き換えられます。"
   ]
  },
  {
   "cell_type": "markdown",
   "metadata": {},
   "source": [
    " <msub>\n",
    "    <mi>a</mi>\n",
    "    <mi>t</mi>\n",
    "  </msub>\n",
    "  <mo>=</mo>\n",
    "  <msub>\n",
    "    <mi>x</mi>\n",
    "    <mrow class=\"MJX-TeXAtom-ORD\">\n",
    "      <mi>t</mi>\n",
    "    </mrow>\n",
    "  </msub>\n",
    "  <mo>&#x22C5;<!-- ⋅ --></mo>\n",
    "  <msub>\n",
    "    <mi>W</mi>\n",
    "    <mrow class=\"MJX-TeXAtom-ORD\">\n",
    "      <mi>x</mi>\n",
    "    </mrow>\n",
    "  </msub>\n",
    "  <mo>+</mo>\n",
    "  <msub>\n",
    "    <mi>h</mi>\n",
    "    <mrow class=\"MJX-TeXAtom-ORD\">\n",
    "      <mi>t</mi>\n",
    "      <mo>&#x2212;<!-- − --></mo>\n",
    "      <mn>1</mn>\n",
    "    </mrow>\n",
    "  </msub>\n",
    "  <mo>&#x22C5;<!-- ⋅ --></mo>\n",
    "  <msub>\n",
    "    <mi>W</mi>\n",
    "    <mrow class=\"MJX-TeXAtom-ORD\">\n",
    "      <mi>h</mi>\n",
    "    </mrow>\n",
    "  </msub>\n",
    "  <mo>+</mo>\n",
    "  <mi>B</mi>\n",
    "  <mspace linebreak=\"newline\" />\n",
    "  <msub>\n",
    "    <mi>h</mi>\n",
    "    <mi>t</mi>\n",
    "  </msub>\n",
    "  <mo>=</mo>\n",
    "  <mi>t</mi>\n",
    "  <mi>a</mi>\n",
    "  <mi>n</mi>\n",
    "  <mi>h</mi>\n",
    "  <mo stretchy=\"false\">(</mo>\n",
    "  <msub>\n",
    "    <mi>a</mi>\n",
    "    <mi>t</mi>\n",
    "  </msub>\n",
    "  <mo stretchy=\"false\">)</mo>\n",
    "</math>"
   ]
  },
  {
   "cell_type": "markdown",
   "metadata": {},
   "source": [
    "## 【問題2】小さな配列でのフォワードプロパゲーションの実験\n",
    "小さな配列でフォワードプロパゲーションを考えてみます。\n",
    "\n",
    "\n",
    "入力x、初期状態h、重みw_xとw_h、バイアスbを次のようにします。\n",
    "\n",
    "\n",
    "ここで配列xの軸はバッチサイズ、系列数、特徴量数の順番です。"
   ]
  },
  {
   "cell_type": "code",
   "execution_count": 149,
   "metadata": {},
   "outputs": [],
   "source": [
    "x = np.array([[[1, 2], [2, 3], [3, 4]]])/100 # (batch_size, n_sequences, n_features)\n",
    "w_x = np.array([[1, 3, 5, 7], [3, 5, 7, 8]])/100 # (n_features, n_nodes)\n",
    "w_h = np.array([[1, 3, 5, 7], [2, 4, 6, 8], [3, 5, 7, 8], [4, 6, 8, 10]])/100 # (n_nodes, n_nodes)\n",
    "batch_size = x.shape[0] # 1\n",
    "n_sequences = x.shape[1] # 3\n",
    "n_features = x.shape[2] # 2\n",
    "n_nodes = w_x.shape[1] # 4\n",
    "h = np.zeros((batch_size, n_nodes)) # (batch_size, n_nodes)\n",
    "b = np.array([1, 1, 1, 1]) # (n_nodes,)"
   ]
  },
  {
   "cell_type": "code",
   "execution_count": 150,
   "metadata": {},
   "outputs": [
    {
     "name": "stdout",
     "output_type": "stream",
     "text": [
      "x(1, 3, 2)\n",
      "w_x(2, 4)\n",
      "w_h(4, 4)\n",
      "batch_size1\n",
      "n_sequences3\n",
      "n_features2\n",
      "n_nodes4\n",
      "h(1, 4)\n",
      "b(4,)\n"
     ]
    }
   ],
   "source": [
    "print('x'+ str(x.shape))\n",
    "print('w_x'+str(w_x.shape))\n",
    "print('w_h'+str(w_h.shape))\n",
    "print('batch_size'+str(batch_size))\n",
    "print('n_sequences'+str(n_sequences))\n",
    "print('n_features'+str(n_features))\n",
    "print('n_nodes'+str(n_nodes))\n",
    "print('h'+str(h.shape))\n",
    "print('b'+ str(b.shape))"
   ]
  },
  {
   "cell_type": "markdown",
   "metadata": {},
   "source": [
    "### 手計算"
   ]
  },
  {
   "cell_type": "code",
   "execution_count": 151,
   "metadata": {},
   "outputs": [],
   "source": [
    "# X * W_x + H * W_h + B"
   ]
  },
  {
   "cell_type": "code",
   "execution_count": 152,
   "metadata": {},
   "outputs": [],
   "source": [
    "hs = h"
   ]
  },
  {
   "cell_type": "code",
   "execution_count": 153,
   "metadata": {},
   "outputs": [],
   "source": [
    "xw1 = np.dot(x[0][0], w_x)"
   ]
  },
  {
   "cell_type": "code",
   "execution_count": 154,
   "metadata": {},
   "outputs": [],
   "source": [
    "a1 = xw1+ b +hs"
   ]
  },
  {
   "cell_type": "code",
   "execution_count": 155,
   "metadata": {},
   "outputs": [],
   "source": [
    "hs1 = np.tanh(a1)"
   ]
  },
  {
   "cell_type": "code",
   "execution_count": 156,
   "metadata": {},
   "outputs": [],
   "source": [
    "xw2 = np.dot(x[0][1], w_x)"
   ]
  },
  {
   "cell_type": "code",
   "execution_count": 157,
   "metadata": {},
   "outputs": [],
   "source": [
    "a2 = xw2+ b +np.dot(hs1, w_h)"
   ]
  },
  {
   "cell_type": "code",
   "execution_count": 158,
   "metadata": {},
   "outputs": [],
   "source": [
    "hs2 = np.tanh(a2)"
   ]
  },
  {
   "cell_type": "code",
   "execution_count": 159,
   "metadata": {},
   "outputs": [],
   "source": [
    "xw3 = np.dot(x[0][2], w_x)"
   ]
  },
  {
   "cell_type": "code",
   "execution_count": 160,
   "metadata": {},
   "outputs": [],
   "source": [
    "a3 = xw3+ b +np.dot(hs2, w_h)"
   ]
  },
  {
   "cell_type": "code",
   "execution_count": 161,
   "metadata": {},
   "outputs": [
    {
     "data": {
      "text/plain": [
       "array([[0.79494228, 0.81839002, 0.83939649, 0.85584174]])"
      ]
     },
     "execution_count": 161,
     "metadata": {},
     "output_type": "execute_result"
    }
   ],
   "source": [
    "np.tanh(a3)"
   ]
  },
  {
   "cell_type": "code",
   "execution_count": 162,
   "metadata": {},
   "outputs": [],
   "source": [
    "# 正解([[0.79494228, 0.81839002, 0.83939649, 0.85584174]])"
   ]
  },
  {
   "cell_type": "code",
   "execution_count": 163,
   "metadata": {},
   "outputs": [],
   "source": [
    "batch, t, features = x.shape"
   ]
  },
  {
   "cell_type": "code",
   "execution_count": 164,
   "metadata": {},
   "outputs": [],
   "source": [
    "x = np.array([[[1, 2], [2, 3], [3, 4]]])/100 # (batch_size, n_sequences, n_features)\n",
    "w_x = np.array([[1, 3, 5, 7], [3, 5, 7, 8]])/100 # (n_features, n_nodes)\n",
    "w_h = np.array([[1, 3, 5, 7], [2, 4, 6, 8], [3, 5, 7, 8], [4, 6, 8, 10]])/100 # (n_nodes, n_nodes)\n",
    "batch_size = x.shape[0] # 1\n",
    "n_sequences = x.shape[1] # 3\n",
    "n_features = x.shape[2] # 2\n",
    "n_nodes = w_x.shape[1] # 4\n",
    "h = np.zeros((batch_size, n_nodes)) # (batch_size, n_nodes)\n",
    "b = np.array([1, 1, 1, 1]) # (n_nodes,)"
   ]
  },
  {
   "cell_type": "code",
   "execution_count": 165,
   "metadata": {},
   "outputs": [],
   "source": [
    "batch, t, features = x.shape\n",
    "hs = h\n",
    "for i in range(t):\n",
    "    xw = np.dot(x[0][i], w_x)\n",
    "    a = xw+ b +np.dot(hs, w_h)\n",
    "    hs = np.tanh(a)"
   ]
  },
  {
   "cell_type": "code",
   "execution_count": 166,
   "metadata": {},
   "outputs": [
    {
     "data": {
      "text/plain": [
       "array([[0.79494228, 0.81839002, 0.83939649, 0.85584174]])"
      ]
     },
     "execution_count": 166,
     "metadata": {},
     "output_type": "execute_result"
    }
   ],
   "source": [
    "hs"
   ]
  },
  {
   "cell_type": "markdown",
   "metadata": {},
   "source": [
    "### 関数化"
   ]
  },
  {
   "cell_type": "code",
   "execution_count": 167,
   "metadata": {},
   "outputs": [],
   "source": [
    "x = np.array([[[1, 2], [2, 3], [3, 4]]])/100 # (batch_size, n_sequences, n_features)\n",
    "w_x = np.array([[1, 3, 5, 7], [3, 5, 7, 8]])/100 # (n_features, n_nodes)\n",
    "w_h = np.array([[1, 3, 5, 7], [2, 4, 6, 8], [3, 5, 7, 8], [4, 6, 8, 10]])/100 # (n_nodes, n_nodes)\n",
    "batch_size = x.shape[0] # 1\n",
    "n_sequences = x.shape[1] # 3\n",
    "n_features = x.shape[2] # 2\n",
    "n_nodes = w_x.shape[1] # 4\n",
    "h = np.zeros((batch_size, n_nodes)) # (batch_size, n_nodes)\n",
    "b = np.array([1, 1, 1, 1]) # (n_nodes,)"
   ]
  },
  {
   "cell_type": "code",
   "execution_count": 168,
   "metadata": {},
   "outputs": [],
   "source": [
    "class SimpleFC:\n",
    "    \"\"\"\"\"\"\n",
    "    \n",
    "    def __init__(self, w_x = w_x, w_h = w_h, activater = None):\n",
    "        self.activater = activater\n",
    "        self.w_x = w_x\n",
    "        self.w_h = w_h\n",
    "        self.n_nodes = len(self.w_h)\n",
    "        \n",
    "    def forward(self, X):\n",
    "        \"\"\"\n",
    "\n",
    "        \"\"\"\n",
    "        self.batch, self.t, self.features = X.shape\n",
    "        self.hs = np.zeros([self.batch, self.n_nodes])\n",
    "        self.b = np.ones(self.n_nodes)\n",
    "        \n",
    "        for i in range(t):\n",
    "            xw = np.dot(x[0][i], self.w_x)\n",
    "            a = xw+ self.b +np.dot(self.hs, self.w_h)\n",
    "            self.hs = self.activater(a)\n",
    "            Z = Softmax_with_Loss(a)\n",
    "        \n",
    "        return self.hs,  Z\n",
    "    "
   ]
  },
  {
   "cell_type": "code",
   "execution_count": 169,
   "metadata": {},
   "outputs": [],
   "source": [
    "def Relu( A):\n",
    "    \"\"\"\n",
    "\n",
    "    \"\"\"\n",
    "    mask = (A <= 0)\n",
    "    out = A.copy()\n",
    "    out[mask] = 0\n",
    "\n",
    "    return out\n",
    "\n",
    "def Tanh( A):\n",
    "    \"\"\"\n",
    "\n",
    "    \"\"\"\n",
    "\n",
    "    return np.tanh(A)\n",
    "\n",
    "def Softmax_with_Loss( A):\n",
    "    \"\"\"\n",
    "\n",
    "    \"\"\"\n",
    "    out = np.exp(A)/(np.exp(A).sum(1).reshape(-1, 1))\n",
    "\n",
    "    return out\n"
   ]
  },
  {
   "cell_type": "code",
   "execution_count": 170,
   "metadata": {},
   "outputs": [
    {
     "data": {
      "text/plain": [
       "(array([[0.79494228, 0.81839002, 0.83939649, 0.85584174]]),\n",
       " array([[0.2259324 , 0.24163788, 0.2584351 , 0.27399462]]))"
      ]
     },
     "execution_count": 170,
     "metadata": {},
     "output_type": "execute_result"
    }
   ],
   "source": [
    "sf = SimpleFC( w_x = w_x, w_h = w_h, activater = Tanh)\n",
    "sf.forward(x)"
   ]
  },
  {
   "cell_type": "code",
   "execution_count": 171,
   "metadata": {},
   "outputs": [
    {
     "data": {
      "text/plain": [
       "(array([[1.12744024, 1.2264713 , 1.32550236, 1.41149812]]),\n",
       " array([[0.21497755, 0.23735684, 0.26206583, 0.28559979]]))"
      ]
     },
     "execution_count": 171,
     "metadata": {},
     "output_type": "execute_result"
    }
   ],
   "source": [
    "sf = SimpleFC( w_x = w_x, w_h = w_h, activater = Relu)\n",
    "sf.forward(x)"
   ]
  },
  {
   "cell_type": "code",
   "execution_count": null,
   "metadata": {},
   "outputs": [],
   "source": []
  }
 ],
 "metadata": {
  "kernelspec": {
   "display_name": "Python 3",
   "language": "python",
   "name": "python3"
  },
  "language_info": {
   "codemirror_mode": {
    "name": "ipython",
    "version": 3
   },
   "file_extension": ".py",
   "mimetype": "text/x-python",
   "name": "python",
   "nbconvert_exporter": "python",
   "pygments_lexer": "ipython3",
   "version": "3.7.4"
  }
 },
 "nbformat": 4,
 "nbformat_minor": 2
}
