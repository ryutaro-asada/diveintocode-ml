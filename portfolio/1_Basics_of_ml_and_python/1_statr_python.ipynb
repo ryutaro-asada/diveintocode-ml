{
 "cells": [
  {
   "cell_type": "markdown",
   "metadata": {},
   "source": [
    "# Pythonを使ってみよう"
   ]
  },
  {
   "cell_type": "markdown",
   "metadata": {},
   "source": [
    "## 目的"
   ]
  },
  {
   "cell_type": "markdown",
   "metadata": {},
   "source": [
    "### 基礎的なプログラミング力を確認する\n",
    "### プログラミングを何らかしらの問題に対して適用してみる\n",
    "### 随時調査しながら進められるようにする"
   ]
  },
  {
   "cell_type": "markdown",
   "metadata": {},
   "source": [
    "### 【問題1】べき乗の算術演算子を使用して作成"
   ]
  },
  {
   "cell_type": "code",
   "execution_count": 41,
   "metadata": {},
   "outputs": [
    {
     "name": "stdout",
     "output_type": "stream",
     "text": [
      "厚さ：703687441.77664メートル\n"
     ]
    }
   ],
   "source": [
    "#問題１\n",
    "\"\"\"\n",
    "紙を一回おった時の暑さを計算するコード\n",
    "\"\"\"\n",
    "\n",
    "THICKNESS  = 0.00008\n",
    "\n",
    "folded_thickness = THICKNESS *2**43\n",
    "\n",
    "print('厚さ：{}メートル'.format(folded_thickness))"
   ]
  },
  {
   "cell_type": "markdown",
   "metadata": {},
   "source": [
    "### 【問題2】単位の変換\n",
    "単位がメートルだと実感が湧きづらいので、◯◯万キロメートル に変換して表示させてください。"
   ]
  },
  {
   "cell_type": "code",
   "execution_count": 42,
   "metadata": {},
   "outputs": [
    {
     "name": "stdout",
     "output_type": "stream",
     "text": [
      "厚さ:  70.37万キロメートル\n"
     ]
    }
   ],
   "source": [
    "#問題２\n",
    "#メートルを万キロメートルに返還して小数点以下2桁で表示する\n",
    "print('厚さ: {: .2f}万キロメートル'.format(folded_thickness/10**7))"
   ]
  },
  {
   "cell_type": "markdown",
   "metadata": {},
   "source": [
    "月は38.44万キロメートル　\n",
    "よって月から地球までん距離を超えた。"
   ]
  },
  {
   "cell_type": "markdown",
   "metadata": {},
   "source": [
    "### 【問題3】for文を使用して作成\n",
    "次に、for文を使用したプログラムを作ってください。"
   ]
  },
  {
   "cell_type": "code",
   "execution_count": 43,
   "metadata": {},
   "outputs": [
    {
     "name": "stdout",
     "output_type": "stream",
     "text": [
      "厚さ:  70.37万キロメートル\n"
     ]
    }
   ],
   "source": [
    "#問題３　\n",
    "#for文を使用して作成　月に到達するまでの回数は？\n",
    "\n",
    "moon_distance_from_earth = 384400  #Km\n",
    "THICKNESS  = 0.00008\n",
    "#43回おった変数を作成\n",
    "thickness_43 = THICKNESS\n",
    "\n",
    "for _ in range(43):\n",
    "    thickness_43 *= 2\n",
    "\n",
    "print('厚さ: {: .2f}万キロメートル'.format(thickness_43/10**7))\n",
    "#定数を変更しないようにする。"
   ]
  },
  {
   "cell_type": "markdown",
   "metadata": {},
   "source": [
    "### 【問題4】計算時間の比較\n",
    "2つの方法はどちらが正しいわけでもありませんが、コードの良さを評価する際には以下のような着目点があります。"
   ]
  },
  {
   "cell_type": "code",
   "execution_count": 44,
   "metadata": {},
   "outputs": [
    {
     "name": "stdout",
     "output_type": "stream",
     "text": [
      "time : 9.179115295410156e-05[s]\n",
      "厚さ:  70.37万キロメートル\n"
     ]
    }
   ],
   "source": [
    "#問題４　時間の比較　式１\n",
    "import time\n",
    "\n",
    "THICKNESS  = 0.00008\n",
    "\n",
    "start = time.time()\n",
    "#####\n",
    "# ここに比較したいコードを貼り付ける\n",
    "#####\n",
    "\n",
    "folded_thickness = THICKNESS *2**43\n",
    "\n",
    "elapsed_time = time.time() - start\n",
    "print(\"time : {}[s]\".format(elapsed_time))\n",
    "\n",
    "print('厚さ: {: .2f}万キロメートル'.format(folded_thickness/10**7))"
   ]
  },
  {
   "cell_type": "code",
   "execution_count": 45,
   "metadata": {},
   "outputs": [
    {
     "name": "stdout",
     "output_type": "stream",
     "text": [
      "time : 8.106231689453125e-05[s]\n",
      "厚さ:  70.37万キロメートル\n"
     ]
    }
   ],
   "source": [
    "#問題４　時間の比較　式２\n",
    "import time\n",
    "\n",
    "moon_distance_from_earth = 384400  #Km\n",
    "THICKNESS  = 0.00008\n",
    "#43回おった変数を作成\n",
    "thickness_43 = THICKNESS\n",
    "\n",
    "start = time.time()\n",
    "#####\n",
    "# ここに比較したいコードを貼り付ける\n",
    "#####\n",
    "\n",
    "for _ in range(43):\n",
    "    thickness_43 *= 2\n",
    "    \n",
    "elapsed_time = time.time() - start\n",
    "print(\"time : {}[s]\".format(elapsed_time))\n",
    "\n",
    "print('厚さ: {: .2f}万キロメートル'.format(thickness_43/10**7))"
   ]
  },
  {
   "cell_type": "markdown",
   "metadata": {},
   "source": [
    "考察：forを使わない方が早い"
   ]
  },
  {
   "cell_type": "markdown",
   "metadata": {},
   "source": [
    "発展：繰り返し回数を増やす》\n",
    "\n",
    "43回程度では2つの方法の差が出にくいかもしれません。そういった時は、回数をより増やして差を明確にしてみると良いでしょう"
   ]
  },
  {
   "cell_type": "code",
   "execution_count": 46,
   "metadata": {},
   "outputs": [
    {
     "name": "stdout",
     "output_type": "stream",
     "text": [
      "time : 9.226799011230469e-05[s]\n",
      "厚さ:  85720688574901401262898785408445065934596666878178610621930330019409013518334805134359794288568336710999880570009060742809104918140170160346670606022444190116853139235761406073899037228466074117481357104286089097082191342321262676474344234859589181608882107463417619763394863947858162221056.00万キロメートル\n"
     ]
    }
   ],
   "source": [
    "import time#function1\n",
    "\n",
    "THICKNESS  = 0.00008\n",
    "\n",
    "start = time.time()\n",
    "#####\n",
    "# ここに比較したいコードを貼り付ける\n",
    "#####\n",
    "\n",
    "folded_thickness = THICKNESS *2**1000\n",
    "\n",
    "elapsed_time = time.time() - start\n",
    "print(\"time : {}[s]\".format(elapsed_time))\n",
    "\n",
    "print('厚さ: {: .2f}万キロメートル'.format(folded_thickness/10**7))"
   ]
  },
  {
   "cell_type": "code",
   "execution_count": 47,
   "metadata": {},
   "outputs": [
    {
     "name": "stdout",
     "output_type": "stream",
     "text": [
      "time : 0.0001990795135498047[s]\n",
      "厚さ:  85720688574901401262898785408445065934596666878178610621930330019409013518334805134359794288568336710999880570009060742809104918140170160346670606022444190116853139235761406073899037228466074117481357104286089097082191342321262676474344234859589181608882107463417619763394863947858162221056.00万キロメートル\n"
     ]
    }
   ],
   "source": [
    "import time#function2\n",
    "\n",
    "moon_distance_from_earth = 384400  #Km\n",
    "THICKNESS  = 0.00008\n",
    "#43回おった変数を作成\n",
    "thickness_43 = THICKNESS\n",
    "\n",
    "start = time.time()\n",
    "#####\n",
    "# ここに比較したいコードを貼り付ける\n",
    "#####\n",
    "\n",
    "for _ in range(1000):\n",
    "    thickness_43 *= 2\n",
    "    \n",
    "elapsed_time = time.time() - start\n",
    "print(\"time : {}[s]\".format(elapsed_time))\n",
    "\n",
    "print('厚さ: {: .2f}万キロメートル'.format(thickness_43/10**7))"
   ]
  },
  {
   "cell_type": "markdown",
   "metadata": {},
   "source": [
    "発展：マジックコマンドを使う》\n",
    "\n",
    "計算時間は実行するたびに変化します。そのため、複数回計測することが一般的です。timeモジュールとfor文を組み合わせることで実現できる他、Jupyter Notebookでは%timeitという マジックコマンド でも計測が可能です。マジックコマンドはPythonのプログラムとは別に用意された、Jupyter Notebookを便利にするための機能です。\n",
    "\n",
    "Built-in magic commands — IPython 7.9.0 documentation\n",
    "\n",
    "計測したいコードを書いたセルのはじめに%%timeitと入れて実行します。"
   ]
  },
  {
   "cell_type": "code",
   "execution_count": 48,
   "metadata": {},
   "outputs": [
    {
     "name": "stdout",
     "output_type": "stream",
     "text": [
      "69.5 µs ± 4.11 µs per loop (mean ± std. dev. of 7 runs, 10000 loops each)\n"
     ]
    }
   ],
   "source": [
    "%%timeit\n",
    "\n",
    "moon_distance_from_earth = 384400  #Km\n",
    "THICKNESS  = 0.00008\n",
    "#43回おった変数を作成\n",
    "thickness_43 = THICKNESS\n",
    "\n",
    "for _ in range(1000):\n",
    "    thickness_43 *= 2\n",
    "    \n",
    "# print(\"time : {}[s]\".format(elapsed_time))\n",
    "# print('厚さ: {: .2f}万キロメートル'.format(thickness_43/10**7))"
   ]
  },
  {
   "cell_type": "markdown",
   "metadata": {},
   "source": [
    "### 【問題5】リストへの保存\n",
    "ここまでは43回折った後の最後の値だけを使用していましたが、グラフで可視化するためには過程の値も必要です。  \n",
    "for文を使用したコードに、過程の値合計44個を記録するコードを加えてください。"
   ]
  },
  {
   "cell_type": "code",
   "execution_count": 49,
   "metadata": {},
   "outputs": [
    {
     "name": "stdout",
     "output_type": "stream",
     "text": [
      "[8e-08, 1.6e-07, 3.2e-07, 6.4e-07, 1.28e-06, 2.56e-06, 5.12e-06, 1.024e-05, 2.048e-05, 4.096e-05, 8.192e-05, 0.00016384, 0.00032768, 0.00065536, 0.00131072, 0.00262144, 0.00524288, 0.01048576, 0.02097152, 0.04194304, 0.08388608, 0.16777216, 0.33554432, 0.67108864, 1.34217728, 2.68435456, 5.36870912, 10.73741824, 21.47483648, 42.94967296, 85.89934592, 171.79869184, 343.59738368, 687.19476736, 1374.38953472, 2748.77906944, 5497.55813888, 10995.11627776, 21990.23255552, 43980.46511104, 87960.93022208, 175921.86044416, 351843.72088832, 703687.44177664]\n",
      "個数は44\n"
     ]
    }
   ],
   "source": [
    "#問題５　リストへ保存\n",
    "moon_distance_from_earth = 384400  #Km\n",
    "THICKNESS  = 0.00008\n",
    "THICKNESS_km = THICKNESS/10**3\n",
    "list_folded = [THICKNESS_km]\n",
    "\n",
    "#43回おった変数を作成 km にする\n",
    "thickness_43_km = THICKNESS_km\n",
    "\n",
    "for _ in range(43):\n",
    "    thickness_43_km *= 2\n",
    "    list_folded.append(thickness_43_km)\n",
    "\n",
    "print(list_folded)\n",
    "print('個数は' + str(len(list_folded)))"
   ]
  },
  {
   "cell_type": "markdown",
   "metadata": {},
   "source": [
    "### 【問題6】折れ線グラフの表示\n",
    "グラフの描画には Matplotlib という ライブラリ を用います。リストへ記録するコードの後ろで以下の雛形を使用してください。"
   ]
  },
  {
   "cell_type": "code",
   "execution_count": 50,
   "metadata": {},
   "outputs": [
    {
     "data": {
      "text/plain": [
       "<function matplotlib.pyplot.show(*args, **kw)>"
      ]
     },
     "execution_count": 50,
     "metadata": {},
     "output_type": "execute_result"
    },
    {
     "data": {
      "image/png": "[encoded data removed]",
      "text/plain": [
       "<Figure size 432x288 with 1 Axes>"
      ]
     },
     "metadata": {
      "needs_background": "light"
     },
     "output_type": "display_data"
    }
   ],
   "source": [
    "#問題６グラフの表示\n",
    "\n",
    "import matplotlib.pyplot as plt\n",
    "%matplotlib inline\n",
    "\n",
    "plt.title('thickness of folded paper')\n",
    "plt.xlabel('number of folds')\n",
    "plt.ylabel('thickness[m]')\n",
    "plt.plot(list_folded, color = 'red' )\n",
    "plt.show\n",
    "\n",
    "#y軸　単位短縮方"
   ]
  },
  {
   "cell_type": "markdown",
   "metadata": {},
   "source": [
    "考察\n",
    "３５以降から急激に上昇している。\n",
    "少数から整数になるあたりかと思われる。"
   ]
  },
  {
   "cell_type": "markdown",
   "metadata": {},
   "source": [
    "### 【問題7】グラフのカスタマイズ\n",
    "グラフをより見やすくカスタマイズしてみましょう。  \n",
    "カスタマイズしたグラフを最低3種類作成してください。  \n",
    "例えば以下のように書き換えることで、線の色を赤に変更できます。"
   ]
  },
  {
   "cell_type": "code",
   "execution_count": 54,
   "metadata": {},
   "outputs": [
    {
     "data": {
      "image/png": "[encoded data removed]",
      "text/plain": [
       "<Figure size 432x288 with 1 Axes>"
      ]
     },
     "metadata": {
      "needs_background": "light"
     },
     "output_type": "display_data"
    }
   ],
   "source": [
    "#問題７グラフのカスタマイズ\n",
    "\n",
    "plt.title('thickness of folded paper', size='x-large')\n",
    "plt.xlabel('number of folds')\n",
    "plt.hlines([384400], xmin=1, xmax=46, label = 'moon_distance')  # 月の距離\n",
    "plt.ylabel('thickness[m]')\n",
    "plt.plot(list_folded, color = 'gold', marker = '^' , linestyle= '--', label = 'folded_paper')\n",
    "plt.tick_params(axis='y', labelsize='x-large', direction = 'in') # 軸の値に関する設定を行う\n",
    "plt.legend()\n",
    "plt.grid()\n",
    "plt.show()"
   ]
  },
  {
   "cell_type": "code",
   "execution_count": null,
   "metadata": {},
   "outputs": [],
   "source": []
  }
 ],
 "metadata": {
  "kernelspec": {
   "display_name": "Python 3",
   "language": "python",
   "name": "python3"
  },
  "language_info": {
   "codemirror_mode": {
    "name": "ipython",
    "version": 3
   },
   "file_extension": ".py",
   "mimetype": "text/x-python",
   "name": "python",
   "nbconvert_exporter": "python",
   "pygments_lexer": "ipython3",
   "version": "3.7.4"
  }
 },
 "nbformat": 4,
 "nbformat_minor": 2
}
