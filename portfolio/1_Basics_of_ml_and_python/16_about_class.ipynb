{
 "cells": [
  {
   "cell_type": "markdown",
   "metadata": {},
   "source": [
    "## 【問題1】これまで利用してきたクラスの列挙  \n",
    "クラスを使う際はインスタンス化を行うことと、クラスの命名法がわかりました。この情報を元に、これまでの課題で利用してきた  \n",
    "コードの中でどのようなクラスがあったかを答えてください。  \n",
    "Pandas、matplotlib、scikit-learnからそれぞれ1つ以上見つけてください。"
   ]
  },
  {
   "cell_type": "markdown",
   "metadata": {},
   "source": [
    "Pandas、    DataFrame, Serise\n",
    "matplotlib、  pyplot\n",
    "scikit-learn  LogisticRegresstion"
   ]
  },
  {
   "cell_type": "markdown",
   "metadata": {},
   "source": [
    "##  【問題2】これまで利用してきたメソッドやインスタンス変数の列挙  \n",
    "これまでの課題で利用してきたコードの中でどのようなメソッドやインスタンス変数があったかを  \n",
    "えてください。  \n",
    "最低でもそれぞれ5つ以上答えてください"
   ]
  },
  {
   "cell_type": "markdown",
   "metadata": {},
   "source": [
    "int, concate, append, remove,  reshape, value, count, "
   ]
  },
  {
   "cell_type": "markdown",
   "metadata": {},
   "source": [
    "## 【問題3】標準化クラスをスクラッチで作成  \n",
    "理解をより深めるため、StandardScalerをスクラッチで作成しましょう。scikit-learnは使わず  \n",
    "NumPyなどを活用して標準化の計算を記述します。具体的にはfitメソッドとtransformメソッド  \n",
    "作ります。  \n",
    "今回は雛形を用意しました。クラスの作成方法は関数に近いです。メソッドはクラスの中にさらにインデントを一段下げて記述します。  \n",
    "インスタンス変数を作成する際はself.mean_のようにselfを付けます。クラスの外か  \n",
    "scaler.mean_と書いていたscalerの部分が自分自身を表すselfになっています。"
   ]
  },
  {
   "cell_type": "code",
   "execution_count": 65,
   "metadata": {},
   "outputs": [],
   "source": [
    "class ScratchStandardScaler():\n",
    "    \"\"\"\n",
    "    標準化のためのクラス\n",
    "\n",
    "    Attributes\n",
    "    ----------\n",
    "    mean_ : 次の形のndarray, shape(n_features,)\n",
    "        平均\n",
    "    var_ : 次の形のndarray, shape(n_features,)\n",
    "        分散\n",
    "    \"\"\"\n",
    "\n",
    "    def fit(self, X):\n",
    "        \"\"\"\n",
    "        標準化のために平均と標準偏差を計算する。\n",
    "\n",
    "        Parameters\n",
    "        ----------\n",
    "        X : 次の形のndarray, shape (n_samples, n_features)\n",
    "            学習データ\n",
    "        \"\"\"\n",
    "\n",
    "        self.mean_ = X.mean()\n",
    "        \n",
    "        self.var_ = X.var()\n",
    "\n",
    "\n",
    "    def transform(self, X):\n",
    "        \"\"\"\n",
    "        fitで求めた値を使い標準化を行う。\n",
    "\n",
    "        Parameters\n",
    "        ----------\n",
    "        X : 次の形のndarray, shape (n_samples, n_features)\n",
    "            特徴量\n",
    "\n",
    "        Returns\n",
    "        ----------\n",
    "        X_scaled : 次の形のndarray, shape (n_samples, n_features)\n",
    "            標準化された特緒量\n",
    "        \"\"\"\n",
    "        X_scaled = ((x-self.mean_)**2)/ self.var_\n",
    "        \n",
    "        return X_scaled"
   ]
  },
  {
   "cell_type": "code",
   "execution_count": 66,
   "metadata": {},
   "outputs": [],
   "source": [
    "import matplotlib.pyplot as plt\n",
    "import numpy as np\n",
    "import scipy as sp\n",
    "import sklearn \n",
    "import pandas as pd"
   ]
  },
  {
   "cell_type": "code",
   "execution_count": 67,
   "metadata": {},
   "outputs": [
    {
     "name": "stdout",
     "output_type": "stream",
     "text": [
      "平均 : 2.46\n",
      "分散 : 3.1744\n",
      "[[1.90637601e+00 6.71496976e-01 6.66582661e-02 9.18598790e-02\n",
      "  7.47101815e-01 2.03238407e+00 3.94770665e+00 6.49306956e+00\n",
      "  9.66847278e+00 1.34739163e+01]\n",
      " [1.79094002e+01 2.29749244e+01 2.86704889e+01 3.49960938e+01\n",
      "  4.19517389e+01 4.95374244e+01 5.77531502e+01 6.65989163e+01\n",
      "  7.60747228e+01 8.61805696e+01]]\n"
     ]
    }
   ],
   "source": [
    "import numpy as np\n",
    "from sklearn.datasets import load_iris\n",
    "\n",
    "data = load_iris()\n",
    "X = data.data[:10]\n",
    "\n",
    "scratch_scaler = ScratchStandardScaler()\n",
    "scratch_scaler.fit(X)\n",
    "print(\"平均 : {}\".format(scratch_scaler.mean_))\n",
    "print(\"分散 : {}\".format(scratch_scaler.var_))\n",
    "X_std = scratch_scaler.transform(X)\n",
    "print(X_std)"
   ]
  },
  {
   "cell_type": "markdown",
   "metadata": {},
   "source": [
    "## 【問題4】 四則演算を行うクラスの作成  \n",
    "上記ExampleClassは足し算のメソッドを持っていますが、これに引き算、掛け算、割り算のメソッドを加えてください。\n",
    "\n",
    "コンストラクタに入力されたvalueが文字列や配列など数値以外だった場合にはエラーを出すようにしてください。\n",
    "\n",
    "クラス名や説明文も適切に書き換えてください。"
   ]
  },
  {
   "cell_type": "code",
   "execution_count": 68,
   "metadata": {},
   "outputs": [
    {
     "name": "stdout",
     "output_type": "stream",
     "text": [
      "初期値5が設定されました\n",
      "value : 5\n",
      "value : 8\n"
     ]
    }
   ],
   "source": [
    "class ExampleClass():\n",
    "    \"\"\"\n",
    "    説明用の簡単なクラス\n",
    "\n",
    "    Parameters\n",
    "    ----------\n",
    "    value : float or int\n",
    "        初期値\n",
    "\n",
    "    Attributes\n",
    "    ----------\n",
    "    value : float or int\n",
    "        計算結果\n",
    "    \"\"\"\n",
    "    def __init__(self, value):\n",
    "        self.value = value\n",
    "        print(\"初期値{}が設定されました\".format(self.value))\n",
    "    def add(self, value2):\n",
    "        \"\"\"\n",
    "        受け取った引数をself.valueに加える\n",
    "        \"\"\"\n",
    "        self.value += value2\n",
    "\n",
    "example = ExampleClass(5)\n",
    "print(\"value : {}\".format(example.value))\n",
    "example.add(3)\n",
    "print(\"value : {}\".format(example.value))"
   ]
  },
  {
   "cell_type": "markdown",
   "metadata": {},
   "source": [
    "# 四則演算"
   ]
  },
  {
   "cell_type": "code",
   "execution_count": 2,
   "metadata": {},
   "outputs": [],
   "source": [
    "class caluculation():\n",
    "    \"\"\"\n",
    "    説明用の簡単なクラス\n",
    "\n",
    "    Parameters\n",
    "    ----------\n",
    "    value : float or int\n",
    "        初期値\n",
    "\n",
    "    Attributes\n",
    "    ----------\n",
    "    value : float or int\n",
    "        計算結果\n",
    "    \"\"\"\n",
    "    def __init__(self, value):\n",
    "        import sys\n",
    "        if str(value).isdecimal() == False:\n",
    "            print('you must only put Decimal number')\n",
    "            sys.exit()\n",
    "\n",
    "        self.value = value\n",
    "        print(\"初期値{}が設定されました\".format(self.value))\n",
    "    def add(self, value2):\n",
    "        \"\"\"\n",
    "        受け取った引数をself.valueに加える\n",
    "        \"\"\"\n",
    "        self.value += value2\n",
    "\n",
    "        \n",
    "    def multiply(self, value2):\n",
    "        \"\"\"\n",
    "        受け取った引数をself.valueに加える\n",
    "        \"\"\"\n",
    "        self.value *= value2\n",
    "        \n",
    "    def subtract(self, value2):\n",
    "        \"\"\"\n",
    "        受け取った引数をself.valueに加える\n",
    "        \"\"\"\n",
    "        self.value -= value2\n",
    "        \n",
    "    def divided(self, value2):\n",
    "        \"\"\"\n",
    "        受け取った引数をself.valueに加える\n",
    "        \"\"\"\n",
    "        self.value /= value2\n"
   ]
  },
  {
   "cell_type": "markdown",
   "metadata": {},
   "source": [
    "# 出力"
   ]
  },
  {
   "cell_type": "code",
   "execution_count": 5,
   "metadata": {},
   "outputs": [
    {
     "name": "stdout",
     "output_type": "stream",
     "text": [
      "pulus\n",
      "初期値3が設定されました\n",
      "value : 3\n",
      "value : 6\n",
      "\n",
      "minus\n",
      "初期値3が設定されました\n",
      "value : 3\n",
      "value : 0\n",
      "\n",
      "multiply\n",
      "初期値3が設定されました\n",
      "value : 3\n",
      "value : 9\n",
      "\n",
      "divided\n",
      "初期値3が設定されました\n",
      "value : 3\n",
      "value : 1.0\n",
      "\n"
     ]
    }
   ],
   "source": [
    "#  pulus\n",
    "print('pulus')\n",
    "example = caluculation(3)\n",
    "print(\"value : {}\".format(example.value))\n",
    "example.add(3)\n",
    "print(\"value : {}\".format(example.value))\n",
    "print()\n",
    "\n",
    "#  minus\n",
    "print('minus')\n",
    "example = caluculation(3)\n",
    "print(\"value : {}\".format(example.value))\n",
    "example.subtract(3)\n",
    "print(\"value : {}\".format(example.value))\n",
    "print()\n",
    "\n",
    "# multiply \n",
    "print('multiply')\n",
    "example = caluculation(3)\n",
    "print(\"value : {}\".format(example.value))\n",
    "example.multiply(3)\n",
    "print(\"value : {}\".format(example.value))\n",
    "print()\n",
    "\n",
    "# divided\n",
    "print('divided')\n",
    "example = caluculation(3)\n",
    "print(\"value : {}\".format(example.value))\n",
    "example.divided(3)\n",
    "print(\"value : {}\".format(example.value))\n",
    "print()"
   ]
  }
 ],
 "metadata": {
  "kernelspec": {
   "display_name": "Python 3",
   "language": "python",
   "name": "python3"
  },
  "language_info": {
   "codemirror_mode": {
    "name": "ipython",
    "version": 3
   },
   "file_extension": ".py",
   "mimetype": "text/x-python",
   "name": "python",
   "nbconvert_exporter": "python",
   "pygments_lexer": "ipython3",
   "version": "3.7.4"
  }
 },
 "nbformat": 4,
 "nbformat_minor": 2
}
