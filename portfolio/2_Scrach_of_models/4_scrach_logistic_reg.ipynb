{
 "cells": [
  {
   "cell_type": "markdown",
   "metadata": {},
   "source": [
    "# ロジスティック回帰"
   ]
  },
  {
   "cell_type": "markdown",
   "metadata": {},
   "source": [
    "### データ　の用意"
   ]
  },
  {
   "cell_type": "code",
   "execution_count": 144,
   "metadata": {},
   "outputs": [],
   "source": [
    "# 使用するライブラリーをインポート\n",
    "import matplotlib.pyplot as plt\n",
    "%matplotlib inline\n",
    "import numpy as np\n",
    "import pandas as pd\n",
    "import seaborn as sns #バイオリン図で必要になる（seaborn ライブラリーの violinplot メソッド）\n",
    "from sklearn.datasets import load_iris"
   ]
  },
  {
   "cell_type": "code",
   "execution_count": 297,
   "metadata": {},
   "outputs": [],
   "source": [
    "# アイリスデータを抽出\n",
    "iris_dataset = load_iris()\n",
    "# .data 部分を抽出し、カラム名も指定する。\n",
    "X = pd.DataFrame(iris_dataset.data, columns=[\"sepal_length\", \"sepal_width\", \"petal_length\", \"petal_width\"])\n",
    "# .target 部分を抽出し、カラム名も指定する。\n",
    "y = pd.DataFrame(iris_dataset.target, columns=[\"Species\"])\n",
    "# .concatを使用してXとyを列方向で結合する。\n",
    "df = pd.concat([X, y], axis=1)"
   ]
  },
  {
   "cell_type": "code",
   "execution_count": 312,
   "metadata": {
    "scrolled": true
   },
   "outputs": [
    {
     "data": {
      "text/html": [
       "<div>\n",
       "<style scoped>\n",
       "    .dataframe tbody tr th:only-of-type {\n",
       "        vertical-align: middle;\n",
       "    }\n",
       "\n",
       "    .dataframe tbody tr th {\n",
       "        vertical-align: top;\n",
       "    }\n",
       "\n",
       "    .dataframe thead th {\n",
       "        text-align: right;\n",
       "    }\n",
       "</style>\n",
       "<table border=\"1\" class=\"dataframe\">\n",
       "  <thead>\n",
       "    <tr style=\"text-align: right;\">\n",
       "      <th></th>\n",
       "      <th>sepal_length</th>\n",
       "      <th>sepal_width</th>\n",
       "      <th>petal_length</th>\n",
       "      <th>petal_width</th>\n",
       "      <th>Species</th>\n",
       "    </tr>\n",
       "  </thead>\n",
       "  <tbody>\n",
       "    <tr>\n",
       "      <td>0</td>\n",
       "      <td>5.1</td>\n",
       "      <td>3.5</td>\n",
       "      <td>1.4</td>\n",
       "      <td>0.2</td>\n",
       "      <td>0</td>\n",
       "    </tr>\n",
       "    <tr>\n",
       "      <td>1</td>\n",
       "      <td>4.9</td>\n",
       "      <td>3.0</td>\n",
       "      <td>1.4</td>\n",
       "      <td>0.2</td>\n",
       "      <td>0</td>\n",
       "    </tr>\n",
       "    <tr>\n",
       "      <td>2</td>\n",
       "      <td>4.7</td>\n",
       "      <td>3.2</td>\n",
       "      <td>1.3</td>\n",
       "      <td>0.2</td>\n",
       "      <td>0</td>\n",
       "    </tr>\n",
       "    <tr>\n",
       "      <td>3</td>\n",
       "      <td>4.6</td>\n",
       "      <td>3.1</td>\n",
       "      <td>1.5</td>\n",
       "      <td>0.2</td>\n",
       "      <td>0</td>\n",
       "    </tr>\n",
       "    <tr>\n",
       "      <td>4</td>\n",
       "      <td>5.0</td>\n",
       "      <td>3.6</td>\n",
       "      <td>1.4</td>\n",
       "      <td>0.2</td>\n",
       "      <td>0</td>\n",
       "    </tr>\n",
       "    <tr>\n",
       "      <td>...</td>\n",
       "      <td>...</td>\n",
       "      <td>...</td>\n",
       "      <td>...</td>\n",
       "      <td>...</td>\n",
       "      <td>...</td>\n",
       "    </tr>\n",
       "    <tr>\n",
       "      <td>95</td>\n",
       "      <td>5.7</td>\n",
       "      <td>3.0</td>\n",
       "      <td>4.2</td>\n",
       "      <td>1.2</td>\n",
       "      <td>1</td>\n",
       "    </tr>\n",
       "    <tr>\n",
       "      <td>96</td>\n",
       "      <td>5.7</td>\n",
       "      <td>2.9</td>\n",
       "      <td>4.2</td>\n",
       "      <td>1.3</td>\n",
       "      <td>1</td>\n",
       "    </tr>\n",
       "    <tr>\n",
       "      <td>97</td>\n",
       "      <td>6.2</td>\n",
       "      <td>2.9</td>\n",
       "      <td>4.3</td>\n",
       "      <td>1.3</td>\n",
       "      <td>1</td>\n",
       "    </tr>\n",
       "    <tr>\n",
       "      <td>98</td>\n",
       "      <td>5.1</td>\n",
       "      <td>2.5</td>\n",
       "      <td>3.0</td>\n",
       "      <td>1.1</td>\n",
       "      <td>1</td>\n",
       "    </tr>\n",
       "    <tr>\n",
       "      <td>99</td>\n",
       "      <td>5.7</td>\n",
       "      <td>2.8</td>\n",
       "      <td>4.1</td>\n",
       "      <td>1.3</td>\n",
       "      <td>1</td>\n",
       "    </tr>\n",
       "  </tbody>\n",
       "</table>\n",
       "<p>100 rows × 5 columns</p>\n",
       "</div>"
      ],
      "text/plain": [
       "    sepal_length  sepal_width  petal_length  petal_width  Species\n",
       "0            5.1          3.5           1.4          0.2        0\n",
       "1            4.9          3.0           1.4          0.2        0\n",
       "2            4.7          3.2           1.3          0.2        0\n",
       "3            4.6          3.1           1.5          0.2        0\n",
       "4            5.0          3.6           1.4          0.2        0\n",
       "..           ...          ...           ...          ...      ...\n",
       "95           5.7          3.0           4.2          1.2        1\n",
       "96           5.7          2.9           4.2          1.3        1\n",
       "97           6.2          2.9           4.3          1.3        1\n",
       "98           5.1          2.5           3.0          1.1        1\n",
       "99           5.7          2.8           4.1          1.3        1\n",
       "\n",
       "[100 rows x 5 columns]"
      ]
     },
     "execution_count": 312,
     "metadata": {},
     "output_type": "execute_result"
    }
   ],
   "source": [
    "# .queryで行抽出、locで列抽出する。\n",
    "df_selected = df.query(\"Species == [0, 1]\").loc[:, [\"sepal_length\", \"sepal_width\", \"petal_length\", \"petal_width\", \"Species\"]]\n",
    "df_selected"
   ]
  },
  {
   "cell_type": "markdown",
   "metadata": {},
   "source": [
    "## 【問題1】仮定関数 # h(x) = 1/(1 + e**(-θ.T・ x))\n",
    "ロジスティック回帰の仮定関数のメソッドをScratchLogisticRegressionクラスに実装してください。  \n",
    "ロジスティック回帰の仮定関数は、線形回帰の仮定関数を シグモイド関数 に通したものです。シグモイド関数は以下の式で表されます"
   ]
  },
  {
   "cell_type": "code",
   "execution_count": 567,
   "metadata": {},
   "outputs": [
    {
     "data": {
      "text/plain": [
       "5"
      ]
     },
     "execution_count": 567,
     "metadata": {},
     "output_type": "execute_result"
    }
   ],
   "source": [
    "theta = np.random.randn(5)\n",
    "theta.shape[0]"
   ]
  },
  {
   "cell_type": "code",
   "execution_count": 454,
   "metadata": {},
   "outputs": [
    {
     "data": {
      "text/plain": [
       "(1, 5)"
      ]
     },
     "execution_count": 454,
     "metadata": {},
     "output_type": "execute_result"
    }
   ],
   "source": [
    "theta.shape"
   ]
  },
  {
   "cell_type": "code",
   "execution_count": 709,
   "metadata": {},
   "outputs": [
    {
     "data": {
      "text/plain": [
       "(100, 4)"
      ]
     },
     "execution_count": 709,
     "metadata": {},
     "output_type": "execute_result"
    }
   ],
   "source": [
    "X_np = np.array(df_selected.iloc[:, :4])\n",
    "X_np.shape"
   ]
  },
  {
   "cell_type": "code",
   "execution_count": 494,
   "metadata": {},
   "outputs": [
    {
     "data": {
      "text/plain": [
       "(100, 5)"
      ]
     },
     "execution_count": 494,
     "metadata": {},
     "output_type": "execute_result"
    }
   ],
   "source": [
    "X_np = np.concatenate([np.ones([X_np.shape[0], 1]), X_np], axis=1)\n",
    "X_np.shape"
   ]
  },
  {
   "cell_type": "code",
   "execution_count": 710,
   "metadata": {},
   "outputs": [
    {
     "data": {
      "text/plain": [
       "(100, 1)"
      ]
     },
     "execution_count": 710,
     "metadata": {},
     "output_type": "execute_result"
    }
   ],
   "source": [
    "y_np = np.array(df_selected.Species)\n",
    "y_np = y_np.reshape(100,1)\n",
    "y_np.shape"
   ]
  },
  {
   "cell_type": "code",
   "execution_count": 496,
   "metadata": {},
   "outputs": [
    {
     "data": {
      "text/plain": [
       "(100, 1)"
      ]
     },
     "execution_count": 496,
     "metadata": {},
     "output_type": "execute_result"
    }
   ],
   "source": [
    "hypo_theta = np.dot(X_np, theta.reshape(5, 1))\n",
    "hypo_theta.shape"
   ]
  },
  {
   "cell_type": "code",
   "execution_count": 497,
   "metadata": {},
   "outputs": [
    {
     "data": {
      "text/plain": [
       "(100, 1)"
      ]
     },
     "execution_count": 497,
     "metadata": {},
     "output_type": "execute_result"
    }
   ],
   "source": [
    "hypo_theta.shape"
   ]
  },
  {
   "cell_type": "code",
   "execution_count": 498,
   "metadata": {},
   "outputs": [],
   "source": [
    "hypo_y = 1/ (1 + np.exp( -hypo_theta ))"
   ]
  },
  {
   "cell_type": "code",
   "execution_count": 505,
   "metadata": {},
   "outputs": [
    {
     "data": {
      "text/plain": [
       "(100, 1)"
      ]
     },
     "execution_count": 505,
     "metadata": {},
     "output_type": "execute_result"
    }
   ],
   "source": [
    "hypo_y.shape"
   ]
  },
  {
   "cell_type": "code",
   "execution_count": 502,
   "metadata": {},
   "outputs": [],
   "source": [
    "def _hypo_log(self, X):  # h(x) = 1/(1 + e**(-θ.T・ x))\n",
    "    \n",
    "    # θ.T・ x\n",
    "    hypo_theta = np.dot(X_np, self.theta.reshape(5, 1))\n",
    "    \n",
    "    # h(x) = 1/(1 + e**(-θ.T・ x))\n",
    "    hypo_y = 1/ (1 + np.exp( -hypo_theta ))\n",
    "    \n",
    "    return hypo_y"
   ]
  },
  {
   "cell_type": "markdown",
   "metadata": {},
   "source": [
    "## 【問題2】最急降下法\n",
    "最急降下法により学習させる実装を行なってください。以下の式で表されるパラメータの更新式のメソッド_gradient_descentを追加し、fit\n",
    "メソッドから呼び出すようにしてください"
   ]
  },
  {
   "cell_type": "code",
   "execution_count": 446,
   "metadata": {},
   "outputs": [
    {
     "data": {
      "text/plain": [
       "(100, 1)"
      ]
     },
     "execution_count": 446,
     "metadata": {},
     "output_type": "execute_result"
    }
   ],
   "source": [
    "y_np.shape"
   ]
  },
  {
   "cell_type": "code",
   "execution_count": 447,
   "metadata": {},
   "outputs": [
    {
     "data": {
      "text/plain": [
       "(100, 5)"
      ]
     },
     "execution_count": 447,
     "metadata": {},
     "output_type": "execute_result"
    }
   ],
   "source": [
    "X_np.shape"
   ]
  },
  {
   "cell_type": "markdown",
   "metadata": {},
   "source": [
    "## 左部分だけ作る 1/m Σ (h(x) - y)x"
   ]
  },
  {
   "cell_type": "code",
   "execution_count": 448,
   "metadata": {},
   "outputs": [],
   "source": [
    "#(hypo_y - y_np)*X_np"
   ]
  },
  {
   "cell_type": "code",
   "execution_count": 455,
   "metadata": {},
   "outputs": [
    {
     "data": {
      "text/plain": [
       "array([ 29.3119312 , 128.0869851 , 114.6341854 , -13.09836685,\n",
       "       -14.06412246])"
      ]
     },
     "execution_count": 455,
     "metadata": {},
     "output_type": "execute_result"
    }
   ],
   "source": [
    "((hypo_y - y_np)*X_np).sum(axis = 0)"
   ]
  },
  {
   "cell_type": "code",
   "execution_count": 456,
   "metadata": {},
   "outputs": [
    {
     "data": {
      "text/plain": [
       "array([ 0.29311931,  1.28086985,  1.14634185, -0.13098367, -0.14064122])"
      ]
     },
     "execution_count": 456,
     "metadata": {},
     "output_type": "execute_result"
    }
   ],
   "source": [
    "m = y_np.shape[0]\n",
    "left_part = ((hypo_y - y_np)*X_np).sum(axis = 0)/m\n",
    "left_part"
   ]
  },
  {
   "cell_type": "markdown",
   "metadata": {},
   "source": [
    "## 右部分だけ作る λθ/m  j>=1"
   ]
  },
  {
   "cell_type": "code",
   "execution_count": 467,
   "metadata": {},
   "outputs": [
    {
     "data": {
      "text/plain": [
       "array([  4.13599924,   6.92419446,  -1.59118241, -12.1036921 ,\n",
       "        -6.38251458])"
      ]
     },
     "execution_count": 467,
     "metadata": {},
     "output_type": "execute_result"
    }
   ],
   "source": [
    "lamuda = 4\n",
    "lamuda*theta"
   ]
  },
  {
   "cell_type": "code",
   "execution_count": 468,
   "metadata": {},
   "outputs": [
    {
     "data": {
      "text/plain": [
       "array([ 0.04135999,  0.06924194, -0.01591182, -0.12103692, -0.06382515])"
      ]
     },
     "execution_count": 468,
     "metadata": {},
     "output_type": "execute_result"
    }
   ],
   "source": [
    "right_part = lamuda*theta/m\n",
    "right_part"
   ]
  },
  {
   "cell_type": "code",
   "execution_count": 460,
   "metadata": {},
   "outputs": [],
   "source": [
    "J_hypo = left_part + right_part"
   ]
  },
  {
   "cell_type": "markdown",
   "metadata": {},
   "source": [
    "## 　λθ/m     j=0 の時のθ"
   ]
  },
  {
   "cell_type": "code",
   "execution_count": 471,
   "metadata": {},
   "outputs": [
    {
     "data": {
      "text/plain": [
       "array([ 0.        ,  1.73104861, -0.3977956 , -3.02592302, -1.59562865])"
      ]
     },
     "execution_count": 471,
     "metadata": {},
     "output_type": "execute_result"
    }
   ],
   "source": [
    "#　λθ/m  j　= 0    の時のθ\n",
    "theta_copy = theta.copy()\n",
    "theta_copy[0] = 0\n",
    "theta_copy"
   ]
  },
  {
   "cell_type": "code",
   "execution_count": 500,
   "metadata": {},
   "outputs": [
    {
     "data": {
      "text/plain": [
       "array([ 0.        ,  1.73104861, -0.3977956 , -3.02592302, -1.59562865])"
      ]
     },
     "execution_count": 500,
     "metadata": {},
     "output_type": "execute_result"
    }
   ],
   "source": [
    "theta_copy"
   ]
  },
  {
   "cell_type": "code",
   "execution_count": 501,
   "metadata": {},
   "outputs": [],
   "source": [
    "def _gradient_descent(self, X, y, lamuda = 4):\n",
    "    \n",
    "    #1/m Σ (h(x) - y)x : j = 0\n",
    "    #1/m Σ (h(x) - y)x + λθ/m  : j>=1\n",
    "    \n",
    "    m = y.shape[0]                                   #number of sumple\n",
    "    alpha = self.lr                                      # learning rate\n",
    "    theta_copy = self.theta.copy()\n",
    "    theta_copy[0] = 0                            #theta when j =  0\n",
    "    hypo_y = self._hypo_log( X)           # predicted y\n",
    "    \n",
    "    #1/m Σ (h(x) - y)x\n",
    "    left_part = ((hypo_y - y)*X).sum(axis = 0)/m\n",
    "    \n",
    "    #λθ/m \n",
    "    right_part = lamuda*theta_copy/m\n",
    "    \n",
    "    #1/m Σ (h(x) - y)x + λθ/m\n",
    "    grad = left_part + right_part\n",
    "    \n",
    "    #θ　:=θ　 -　αΔθ　\n",
    "    self.theta = self.theta - alpha*grad\n",
    "    \n",
    "    return self.theta"
   ]
  },
  {
   "cell_type": "markdown",
   "metadata": {},
   "source": [
    "## 【問題3】推定  \n",
    "推定する仕組みを実装してください。ScratchLogisticRegressionクラスの雛形に含まれるpredictメソッドとpredict_probaメソッドに書き加えてください。\n",
    "\n",
    " の出力がpredict_probaの返り値、さらにその値に閾値を設けて1と0のラベルとしたものがpredictの返り値となります"
   ]
  },
  {
   "cell_type": "code",
   "execution_count": 503,
   "metadata": {},
   "outputs": [],
   "source": [
    "def predict(self, X):\n",
    "    \n",
    "        # return predicted y from X array\n",
    "        \n",
    "        #  get hypo_y from function\n",
    "        hypo_y = self._hypo_log( X)\n",
    "        \n",
    "        # boundary is 0.5, return only 1 or 0\n",
    "        # hypo_y is probablity of 1\n",
    "        predict_y = np.where(hypo_y < 0.5,  0, 1)\n",
    "        \n",
    "        return predict_y"
   ]
  },
  {
   "cell_type": "code",
   "execution_count": 93,
   "metadata": {},
   "outputs": [],
   "source": [
    "def predict_proba(self, X):\n",
    "\n",
    "        # return probablity of 1 \n",
    "        \n",
    "        hypo_y = self._hypo_log( X)\n",
    "        \n",
    "        return hypo_y"
   ]
  },
  {
   "cell_type": "markdown",
   "metadata": {},
   "source": [
    "## 【問題4】目的関数\n",
    "## 1/m Σ{-y log(hx) - (1 - y)log(1 - hx)} +  λΣθ**2/2m\n",
    "以下の数式で表されるロジスティック回帰の 目的関数（損失関数） を実装してください。そして、これをself.loss, self.val_lossに記録するようにしてください。\n",
    "なお、この数式には正則化項が含まれています。"
   ]
  },
  {
   "cell_type": "markdown",
   "metadata": {},
   "source": [
    "##  ひだり  -y log(hx)"
   ]
  },
  {
   "cell_type": "code",
   "execution_count": 508,
   "metadata": {},
   "outputs": [],
   "source": [
    "log_hypo = np.log(hypo_y)"
   ]
  },
  {
   "cell_type": "code",
   "execution_count": 509,
   "metadata": {},
   "outputs": [],
   "source": [
    "cost_left = -y_np*log_hypo"
   ]
  },
  {
   "cell_type": "markdown",
   "metadata": {},
   "source": [
    "## 中  (1 - y)log(1 - hx)"
   ]
  },
  {
   "cell_type": "code",
   "execution_count": 510,
   "metadata": {},
   "outputs": [],
   "source": [
    "hypo_log_1 = np.log(1 - hypo_y)"
   ]
  },
  {
   "cell_type": "code",
   "execution_count": 511,
   "metadata": {},
   "outputs": [],
   "source": [
    "cost_middle =  (1 - y_np)*hypo_log_1"
   ]
  },
  {
   "cell_type": "markdown",
   "metadata": {},
   "source": [
    "## 左と中を引く\n",
    "## 1/m Σ{-y log(hx) - (1 - y)log(1 - hx)} "
   ]
  },
  {
   "cell_type": "code",
   "execution_count": 356,
   "metadata": {},
   "outputs": [],
   "source": [
    "cost_left_middle = (cost_left - cost_middle).sum()/m"
   ]
  },
  {
   "cell_type": "markdown",
   "metadata": {},
   "source": [
    "## 右　λΣθ**2/2m"
   ]
  },
  {
   "cell_type": "code",
   "execution_count": 476,
   "metadata": {},
   "outputs": [],
   "source": [
    "theta_squre = theta**2"
   ]
  },
  {
   "cell_type": "code",
   "execution_count": 477,
   "metadata": {},
   "outputs": [
    {
     "data": {
      "text/plain": [
       "15.926167174198415"
      ]
     },
     "execution_count": 477,
     "metadata": {},
     "output_type": "execute_result"
    }
   ],
   "source": [
    "theta_squre.sum()"
   ]
  },
  {
   "cell_type": "code",
   "execution_count": 478,
   "metadata": {},
   "outputs": [
    {
     "data": {
      "text/plain": [
       "0.02"
      ]
     },
     "execution_count": 478,
     "metadata": {},
     "output_type": "execute_result"
    }
   ],
   "source": [
    "lamuda_2m = lamuda/(2*m)\n",
    "lamuda_2m"
   ]
  },
  {
   "cell_type": "code",
   "execution_count": null,
   "metadata": {},
   "outputs": [],
   "source": []
  },
  {
   "cell_type": "code",
   "execution_count": 479,
   "metadata": {},
   "outputs": [
    {
     "data": {
      "text/plain": [
       "0.3185233434839683"
      ]
     },
     "execution_count": 479,
     "metadata": {},
     "output_type": "execute_result"
    }
   ],
   "source": [
    "cost_right = lamuda_2m*(theta_squre.sum())\n",
    "cost_right"
   ]
  },
  {
   "cell_type": "markdown",
   "metadata": {},
   "source": [
    "## cost_function\n",
    "## 1/m Σ{-y log(hx) - (1 - y)log(1 - hx)} +  λΣθ**2/2m"
   ]
  },
  {
   "cell_type": "code",
   "execution_count": 361,
   "metadata": {},
   "outputs": [
    {
     "data": {
      "text/plain": [
       "0.7389181001791962"
      ]
     },
     "execution_count": 361,
     "metadata": {},
     "output_type": "execute_result"
    }
   ],
   "source": [
    "cost_j = cost_left_middle + cost_right\n",
    "cost_j"
   ]
  },
  {
   "cell_type": "code",
   "execution_count": 513,
   "metadata": {},
   "outputs": [],
   "source": [
    "def _cost_function(self, X, y, lamuda = 4):\n",
    "    \n",
    "    #1/m Σ{-y log(hx) - (1 - y)log(1 - hx)} +  λΣθ**2/2m\n",
    "    \n",
    "    #get probablity  of 0 matrix\n",
    "    hypo_y = self._hypo_log( X)\n",
    "    \n",
    "    #-y log(hx) \n",
    "    log_hypo = np.log(hypo_y)                                #log(hx) \n",
    "    cost_left = -y*log_hypo\n",
    "    \n",
    "    #(1 - y)log(1 - hx)\n",
    "    hypo_log_1 = np.log(1 - hypo_y)                      #log(1 - hx)\n",
    "    cost_middle =  (1 - y)*hypo_log_1\n",
    "    \n",
    "    #1/m Σ{-y log(hx) - (1 - y)log(1 - hx)}\n",
    "    cost_left_middle = (cost_left -cost_middle).sum()/m\n",
    "    \n",
    "    #λΣθ**2/2m\n",
    "    theta_squre = self.theta**2\n",
    "    theta_squre.sum()                                                #  Σθ**2\n",
    "    lamuda_2m = lamuda/(2*m)                               #λ/2m\n",
    "    cost_right = lamuda_2m*(theta_squre.sum())\n",
    "    \n",
    "    #1/m Σ{-y log(hx) - (1 - y)log(1 - hx)} +  λΣθ**2/2m\n",
    "    cost_j = cost_left_middle + cost_right\n",
    "    \n",
    "    return cost_j"
   ]
  },
  {
   "cell_type": "markdown",
   "metadata": {},
   "source": [
    "## 【問題5】学習と推定\n",
    "機械学習スクラッチ入門のSprintで用意したirisデータセットのvirgicolorとvirginica  \n",
    "2値分類に対してスクラッチ実装の学習と推定を行なってください。  \n",
    "scikit-learnによる実装と比べ、正しく動いているかを確認してください  \n",
    "AccuracyやPrecision、Recallなどの指標値はscikit-learnを使用してください"
   ]
  },
  {
   "cell_type": "markdown",
   "metadata": {},
   "source": [
    "## sklearn による学習推定"
   ]
  },
  {
   "cell_type": "code",
   "execution_count": 781,
   "metadata": {},
   "outputs": [
    {
     "name": "stderr",
     "output_type": "stream",
     "text": [
      "/opt/anaconda3/lib/python3.7/site-packages/sklearn/linear_model/logistic.py:432: FutureWarning: Default solver will be changed to 'lbfgs' in 0.22. Specify a solver to silence this warning.\n",
      "  FutureWarning)\n",
      "/opt/anaconda3/lib/python3.7/site-packages/sklearn/utils/validation.py:724: DataConversionWarning: A column-vector y was passed when a 1d array was expected. Please change the shape of y to (n_samples, ), for example using ravel().\n",
      "  y = column_or_1d(y, warn=True)\n"
     ]
    },
    {
     "data": {
      "text/plain": [
       "0.99"
      ]
     },
     "execution_count": 781,
     "metadata": {},
     "output_type": "execute_result"
    }
   ],
   "source": [
    "from sklearn.linear_model import LogisticRegression\n",
    "from sklearn.metrics import accuracy_score\n",
    "\n",
    "clf = LogisticRegression()\n",
    "clf.fit(X_np,y_np)\n",
    "y_pred = clf.predict(X_np)\n",
    "\n",
    "accuracy_score(y_np, y_pred)"
   ]
  },
  {
   "cell_type": "markdown",
   "metadata": {},
   "source": [
    "## スクラッチロジスティック回帰"
   ]
  },
  {
   "cell_type": "code",
   "execution_count": 814,
   "metadata": {},
   "outputs": [],
   "source": [
    "class ScratchLogisticRegression():\n",
    "\n",
    "    def __init__(self, num_iter = 50, lr = 0.1, bias = None, verbose = None , lamuda = 4):\n",
    "        # ハイパーパラメータを属性として記録\n",
    "        self.iter = num_iter\n",
    "        self.lr = lr\n",
    "        self.bias = bias\n",
    "        self.verbose = verbose\n",
    "        \n",
    "        # 損失を記録する配列を用意\n",
    "        self.loss = np.zeros(self.iter)\n",
    "        self.val_loss = np.zeros(self.iter)\n",
    "        \n",
    "        #lamuda \n",
    "        self.lamuda = lamuda\n",
    "        \n",
    "    def fit(self, X, y, X_val=None, y_val=None):\n",
    "        \n",
    "        # if bias is None, shape of theta is 5\n",
    "        # if bias is True, shape of theta is 4\n",
    "        if not self.bias:\n",
    "            self.theta = np.random.randn(X.shape[1] + 1)\n",
    "        else:\n",
    "            self.theta = np.random.randn(X.shape[1])\n",
    "        \n",
    "        # if bias is None, columns of X is 5\n",
    "        if not self.bias:\n",
    "            X = np.concatenate([np.ones([X.shape[0], 1]), X], axis=1)\n",
    "            \n",
    "        for i in range(self.iter):\n",
    "            self._gradient_descent(X, y)                #  　降下勾配方でthetaを更新\n",
    "            cost = self._cost_function(X, y)          #  　損失の導出\n",
    "        \n",
    "            if self.verbose:\n",
    "                self.loss[i] = cost                                #損失arrayを書き換え\n",
    "#                 print(\"{}回目の学習\".format(self.iter))\n",
    "\n",
    "        return self.loss\n",
    "\n",
    "    def _hypo_log(self, X):\n",
    "        \n",
    "        # h(x) = 1/(1 + e**(-θ.T・ x))\n",
    "\n",
    "        # θ.T・ x\n",
    "        hypo_theta = np.dot(X, self.theta.reshape(self.theta.shape[0], 1))\n",
    "\n",
    "        # h(x) = 1/(1 + e**(-θ.T・ x))\n",
    "        hypo_y = 1/ (1 + np.exp( -hypo_theta ))\n",
    "\n",
    "        return hypo_y\n",
    "\n",
    "    def _gradient_descent(self, X, y):\n",
    "\n",
    "        #1/m Σ (h(x) - y)x : j = 0\n",
    "        #1/m Σ (h(x) - y)x + λθ/m  : j>=1\n",
    "        \n",
    "        #difine valuable\n",
    "        m = y.shape[0]                                   #number of sumple\n",
    "        alpha = self.lr                                      # learning rate\n",
    "        theta_copy = self.theta.copy()\n",
    "        theta_copy[0] = 0                            #theta when j =  0\n",
    "        hypo_y = self._hypo_log( X)           # predicted y\n",
    "\n",
    "        #1/m Σ (h(x) - y)x\n",
    "        left_part = ((hypo_y - y)*X).sum(axis = 0)/m\n",
    "\n",
    "        #λθ/m \n",
    "        right_part = self.lamuda*theta_copy/m\n",
    "\n",
    "        #1/m Σ (h(x) - y)x + λθ/m\n",
    "        grad = left_part + right_part\n",
    "\n",
    "        #θ　:=θ　 -　αΔθ　\n",
    "        self.theta = self.theta - alpha*grad\n",
    "\n",
    "\n",
    "        return self.theta\n",
    "    \n",
    "    def _cost_function(self, X, y, lamuda = 4):\n",
    "\n",
    "        #1/m Σ{-y log(hx) - (1 - y)log(1 - hx)} +  λΣθ**2/2m\n",
    "        \n",
    "        theta_copy = self.theta.copy()\n",
    "        theta_copy[0] = 0                                            #theta when j =  0\n",
    "\n",
    "        #get probablity  of 0 matrix\n",
    "        hypo_y = self._hypo_log( X)\n",
    "\n",
    "        #-y log(hx) \n",
    "        log_hypo = np.log(hypo_y)                                #log(hx) \n",
    "        cost_left = -y*log_hypo\n",
    "\n",
    "        #(1 - y)log(1 - hx)\n",
    "        hypo_log_1 = np.log(1 - hypo_y)                      #log(1 - hx)\n",
    "        cost_middle =  (1 - y)*hypo_log_1\n",
    "\n",
    "        #1/m Σ{-y log(hx) - (1 - y)log(1 - hx)}\n",
    "        cost_left_middle = (cost_left -cost_middle).sum()/m\n",
    "\n",
    "        #λΣθ**2/2m\n",
    "        theta_squre = theta_copy**2\n",
    "        theta_squre.sum()                                                      #  Σθ**2\n",
    "        lamuda_2m = self.lamuda/(2*m)                               #λ/2m\n",
    "        cost_right = lamuda_2m*(theta_squre.sum())\n",
    "\n",
    "        #1/m Σ{-y log(hx) - (1 - y)log(1 - hx)} +  λΣθ**2/2m\n",
    "        cost_j = cost_left_middle + cost_right\n",
    "\n",
    "        return cost_j\n",
    "\n",
    "    def predict(self, X):\n",
    "\n",
    "        # return predicted y from X array\n",
    "        \n",
    "        if not self.bias:\n",
    "            X = np.concatenate([np.ones([X.shape[0], 1]), X], axis=1)\n",
    "\n",
    "        #  get hypo_y from function\n",
    "        hypo_y = self._hypo_log( X)\n",
    "\n",
    "        # boundary is 0.5, return only 0 or 1\n",
    "        predict_y = np.where(hypo_y < 0.5,  0, 1)\n",
    "\n",
    "        return predict_y\n",
    "\n",
    "    def predict_proba(self, X):\n",
    "\n",
    "        # return probablity of 1 \n",
    "        \n",
    "        if not self.bias:\n",
    "            X = np.concatenate([np.ones([X.shape[0], 1]), X], axis=1)\n",
    "            \n",
    "        hypo_y = self._hypo_log( X)\n",
    "\n",
    "        return hypo_y"
   ]
  },
  {
   "cell_type": "code",
   "execution_count": 807,
   "metadata": {},
   "outputs": [],
   "source": [
    "X_np =  X_np[:, :2]"
   ]
  },
  {
   "cell_type": "code",
   "execution_count": 808,
   "metadata": {},
   "outputs": [
    {
     "data": {
      "text/plain": [
       "(100, 2)"
      ]
     },
     "execution_count": 808,
     "metadata": {},
     "output_type": "execute_result"
    }
   ],
   "source": [
    "X_np.shape"
   ]
  },
  {
   "cell_type": "code",
   "execution_count": 809,
   "metadata": {},
   "outputs": [
    {
     "data": {
      "text/plain": [
       "(100, 1)"
      ]
     },
     "execution_count": 809,
     "metadata": {},
     "output_type": "execute_result"
    }
   ],
   "source": [
    "y_np.shape"
   ]
  },
  {
   "cell_type": "code",
   "execution_count": 815,
   "metadata": {},
   "outputs": [
    {
     "data": {
      "text/plain": [
       "0.87"
      ]
     },
     "execution_count": 815,
     "metadata": {},
     "output_type": "execute_result"
    }
   ],
   "source": [
    "slf = ScratchLogisticRegression(num_iter = 500, lr = 0.001, lamuda = 0.5, verbose = True)\n",
    "\n",
    "loss =  slf.fit(X_np,y_np)\n",
    "\n",
    "y_pred = slf.predict(X_np)\n",
    "\n",
    "accuracy_score(y_np, y_pred)"
   ]
  },
  {
   "cell_type": "markdown",
   "metadata": {},
   "source": [
    "## 【問題6】学習曲線のプロット\n",
    "学習曲線を見て損失が適切に下がっているかどうか確認してください。"
   ]
  },
  {
   "cell_type": "code",
   "execution_count": 816,
   "metadata": {
    "scrolled": false
   },
   "outputs": [
    {
     "data": {
      "image/png": "[encoded data removed]",
      "text/plain": [
       "<Figure size 432x288 with 1 Axes>"
      ]
     },
     "metadata": {
      "needs_background": "light"
     },
     "output_type": "display_data"
    }
   ],
   "source": [
    "slf = ScratchLogisticRegression(num_iter = 500, lr = 0.001, lamuda = 0.5, verbose = True)\n",
    "loss =  slf.fit(X_np,y_np)\n",
    "\n",
    "y = loss\n",
    "X = np.arange(len(loss))\n",
    "\n",
    "plt.plot(X, y, color = 'r')\n",
    "plt.show()"
   ]
  },
  {
   "cell_type": "markdown",
   "metadata": {},
   "source": [
    "## 【問題7】決定領域の可視化\n",
    "決定領域を可視化してください "
   ]
  },
  {
   "cell_type": "code",
   "execution_count": 817,
   "metadata": {},
   "outputs": [],
   "source": [
    "import matplotlib.pyplot as plt\n",
    "from matplotlib.colors import ListedColormap\n",
    "import matplotlib.patches as mpatches\n",
    "def decision_region(X, y, model, step=0.01, title='decision region', xlabel='xlabel', ylabel='ylabel', target_names=['versicolor', 'virginica']):\n",
    "    \"\"\"\n",
    "    2値分類を2次元の特徴量で学習したモデルの決定領域を描く。\n",
    "    背景の色が学習したモデルによる推定値から描画される。\n",
    "    散布図の点は訓練データまたは検証データである。\n",
    "\n",
    "    Parameters\n",
    "    ----------------\n",
    "    X : ndarray, shape(n_samples, 2)\n",
    "        特徴量\n",
    "    y : ndarray, shape(n_samples,)\n",
    "        ラベル\n",
    "    model : object\n",
    "        学習したモデルのインスンタスを入れる\n",
    "    step : float, (default : 0.1)\n",
    "        推定値を計算する間隔を設定する\n",
    "    title : str\n",
    "        グラフのタイトルの文章を与える\n",
    "    xlabel, ylabel : str\n",
    "        軸ラベルの文章を与える\n",
    "    target_names= : list of str\n",
    "        凡例の一覧を与える\n",
    "    \"\"\"\n",
    "    y = y.ravel()# 追加\n",
    "    # setting\n",
    "    scatter_color = ['red', 'blue']\n",
    "    contourf_color = ['pink', 'skyblue']\n",
    "    n_class = 2\n",
    "    # pred\n",
    "    mesh_f0, mesh_f1  = np.meshgrid(np.arange(np.min(X[:,0])-0.5, np.max(X[:,0])+0.5, step), np.arange(np.min(X[:,1])-0.5, np.max(X[:,1])+0.5, step))\n",
    "    mesh = np.c_[np.ravel(mesh_f0),np.ravel(mesh_f1)]\n",
    "    y_pred = model.predict(mesh).reshape(mesh_f0.shape)\n",
    "    # plot\n",
    "    plt.title(title)\n",
    "    plt.xlabel(xlabel)\n",
    "    plt.ylabel(ylabel)\n",
    "    plt.contourf(mesh_f0, mesh_f1, y_pred, n_class-1, cmap=ListedColormap(contourf_color))\n",
    "    plt.contour(mesh_f0, mesh_f1, y_pred, n_class-1, colors='y', linewidths=3, alpha=0.5)\n",
    "    for i, target in enumerate(set(y)):\n",
    "        plt.scatter(X[y==target][:, 0], X[y==target][:, 1], s=80, color=scatter_color[i], label=target_names[i], marker='o')\n",
    "    patches = [mpatches.Patch(color=scatter_color[i], label=target_names[i]) for i in range(n_class)]\n",
    "    plt.legend(handles=patches)\n",
    "    plt.legend()\n",
    "    plt.show()"
   ]
  },
  {
   "cell_type": "code",
   "execution_count": 820,
   "metadata": {},
   "outputs": [],
   "source": [
    "slf = ScratchLogisticRegression(num_iter = 500, lr = 0.001, lamuda = 0.5, verbose = True)\n",
    "loss =  slf.fit(X_np,y_np)"
   ]
  },
  {
   "cell_type": "code",
   "execution_count": 821,
   "metadata": {},
   "outputs": [
    {
     "data": {
      "image/png": "[encoded data removed]",
      "text/plain": [
       "<Figure size 432x288 with 1 Axes>"
      ]
     },
     "metadata": {
      "needs_background": "light"
     },
     "output_type": "display_data"
    }
   ],
   "source": [
    "decision_region(X_np, y_np, slf, step=0.01, title='decision region', xlabel='xlabel', ylabel='ylabel', target_names=['versicolor', 'virginica'])"
   ]
  },
  {
   "cell_type": "code",
   "execution_count": null,
   "metadata": {},
   "outputs": [],
   "source": []
  }
 ],
 "metadata": {
  "kernelspec": {
   "display_name": "Python 3",
   "language": "python",
   "name": "python3"
  },
  "language_info": {
   "codemirror_mode": {
    "name": "ipython",
    "version": 3
   },
   "file_extension": ".py",
   "mimetype": "text/x-python",
   "name": "python",
   "nbconvert_exporter": "python",
   "pygments_lexer": "ipython3",
   "version": "3.7.4"
  }
 },
 "nbformat": 4,
 "nbformat_minor": 2
}
