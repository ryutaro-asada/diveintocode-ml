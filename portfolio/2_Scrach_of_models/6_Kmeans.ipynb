{
 "cells": [
  {
   "cell_type": "code",
   "execution_count": 34,
   "metadata": {},
   "outputs": [],
   "source": [
    "import numpy as np\n",
    "import pandas as pd"
   ]
  },
  {
   "cell_type": "code",
   "execution_count": 35,
   "metadata": {},
   "outputs": [],
   "source": [
    "from numpy import linalg as LA"
   ]
  },
  {
   "cell_type": "code",
   "execution_count": 36,
   "metadata": {},
   "outputs": [],
   "source": [
    "import sys"
   ]
  },
  {
   "cell_type": "markdown",
   "metadata": {},
   "source": [
    "\n",
    "## 【問題1】中心点の初期値を決める\n",
    "入力されたデータから K\n",
    "個の中心点 \n",
    "μ\n",
    "1\n",
    " から \n",
    "μ\n",
    "K\n",
    " の初期値を決めるコードを作成してください。\n",
    "K\n",
    " は指定したクラスタ数です。\n",
    "\n",
    "\n",
    "最もシンプルな初期値の決定方法は、データ点 \n",
    "X\n",
    "n\n",
    " の中からランダムに \n",
    "K\n",
    " 個選ぶことです。今回はこれを実装してください。\n",
    "\n",
    "\n",
    "K-meansの学習結果は中心点 \n",
    "μ\n",
    " の初期値に影響を受けます。そのため、学習時には複数個の初期値で計算を行います。"
   ]
  },
  {
   "cell_type": "markdown",
   "metadata": {},
   "source": [
    "## 【問題2】SSEを求める関数の作成\n",
    "クラスタ内誤差平方和（SSE, Sum of Squared Errors）を計算する関数を作成してください。\n",
    "\n",
    "\n",
    "K-meansはこのSSEを最小化する \n",
    "r\n",
    "n\n",
    "k\n",
    " と \n",
    "μ\n",
    "k\n",
    " を求めることが目的となります。複数個の初期値で計算したクラスタリング結果から、どれを最終的に採用するかを決める際にこのSSEを求める関数を使用します。"
   ]
  },
  {
   "cell_type": "code",
   "execution_count": 48,
   "metadata": {},
   "outputs": [],
   "source": [
    "from sklearn.datasets import make_blobs\n",
    "X, _ = make_blobs(n_samples=100, n_features=2, centers=4, cluster_std=0.5, shuffle=True, random_state=0)"
   ]
  },
  {
   "cell_type": "code",
   "execution_count": 49,
   "metadata": {},
   "outputs": [
    {
     "data": {
      "text/plain": [
       "(100, 2)"
      ]
     },
     "execution_count": 49,
     "metadata": {},
     "output_type": "execute_result"
    }
   ],
   "source": [
    "X.shape"
   ]
  },
  {
   "cell_type": "markdown",
   "metadata": {},
   "source": [
    "## Σn・Σk・rnk(Xn - μk)＊＊２"
   ]
  },
  {
   "cell_type": "code",
   "execution_count": 7,
   "metadata": {},
   "outputs": [],
   "source": [
    "# クラスタの個数\n",
    "n = 2\n",
    "\n",
    "# クラスタ中心の初期値を決める\n",
    "b = np.random.choice(X.shape[0], n, replace=True)\n",
    "claster_list = X[b[0]]\n",
    "for i in range(1, n):\n",
    "    claster_list = np.vstack((claster_list, X[b[i]]))\n",
    "\n",
    "# Xデータをクラス分けする　\n",
    "eb = np.random.randint(0, n, 100)\n",
    "\n",
    "# SSEを求める\n",
    "#Σn・Σk・rnk(Xn - μk)＊＊２\n",
    "\n",
    "SSE = 0\n",
    "\n",
    "for i in range(n):\n",
    "    classed_X = X[np.where(eb == i)]\n",
    "    each_class = (classed_X - claster_list[i])**2\n",
    "    SSE += each_class.sum(0)"
   ]
  },
  {
   "cell_type": "code",
   "execution_count": 225,
   "metadata": {},
   "outputs": [],
   "source": [
    "def SSE_function():\n",
    "    sse = 0\n",
    "\n",
    "    for i in range(n):\n",
    "        #Xの内指定のクラスの部分のみ抽出\n",
    "        classed_X = X[np.where(eb == i)]\n",
    "        \n",
    "#         中出した各点とその点のクラスのセンターとの差の二乗\n",
    "        each_class = (classed_X - claster_list[i])**2\n",
    "    \n",
    "#         サンプルごとの計算　結果を全部たすとSSEになる\n",
    "        sse += each_class.sum(0)\n",
    "        \n",
    "        return sse"
   ]
  },
  {
   "cell_type": "markdown",
   "metadata": {},
   "source": [
    "## 【問題3】クラスタへの割り当て\n",
    "全てのデータ点 \n",
    "X\n",
    "n\n",
    " を最も近い中心点 \n",
    "μ\n",
    "k\n",
    " に割り当てるコードを作成してください。\n",
    "\n",
    "\n",
    "K-menasにおける 近い とは点と点のユークリッド距離が小さくなることです。ユークリッド距離とはピタゴラスの定理（三平方の定理）で求められるものですが、ベクトル \n",
    "p\n",
    ",\n",
    "q\n",
    " に対しては以下の数式で表現できます。"
   ]
  },
  {
   "cell_type": "markdown",
   "metadata": {},
   "source": [
    "## 方針\n",
    "\n",
    "まず全てのサンプルと各クラスタの中心点との距離を計算し、arrayに保持する\n",
    "今回はクラスタ二個なので、各サンプルごとに計算された２つの距離の内近い方をそのサンプルのクラスとする。\n"
   ]
  },
  {
   "cell_type": "code",
   "execution_count": null,
   "metadata": {},
   "outputs": [],
   "source": []
  },
  {
   "cell_type": "code",
   "execution_count": 184,
   "metadata": {},
   "outputs": [
    {
     "data": {
      "text/plain": [
       "(100, 2)"
      ]
     },
     "execution_count": 184,
     "metadata": {},
     "output_type": "execute_result"
    }
   ],
   "source": [
    "from numpy import linalg as LA\n",
    "# K = np.arange(X.shape[0]).reshape(-1,1)\n",
    "# I = np.arange(claster_list.shape[0]).reshape(-1,1)\n",
    "\n",
    "# サンプル用とクラスタ用のカウント変数\n",
    "count_x = 0\n",
    "count_c = 0\n",
    "\n",
    "# 念の為コピーしとく\n",
    "X2 = X.copy()\n",
    "eb2 = eb.copy()\n",
    "\n",
    "# Xから各サンプルを入力　百個\n",
    "# X2に各中心からのゆーグリット距離を入力\n",
    "for x  in X:\n",
    "    \n",
    "#     クラスタの中心点を出力　二個\n",
    "    for c in claster_list:\n",
    "        \n",
    "#         今割り当てられているクラスタとのセンターとの距離をだす　\n",
    "        vector_X_center = x-c\n",
    "        vector =  LA.norm(vector_X_center, ord=2)\n",
    "        \n",
    "#         各距離をarrayに入れていく。\n",
    "        X2[count_x, count_c] = vector\n",
    "        \n",
    "#         クラスタのイテレーションごとにカウント\n",
    "        count_c += 1\n",
    "    \n",
    "#     サンプルのイテレーショんごとにカウント\n",
    "    count_x += 1\n",
    "    \n",
    "#     サンプルが変わった時にクラスタのカウントを０に戻す。\n",
    "    count_c = 0\n",
    "\n",
    "# 計算した距離を元に短い方のクラスを選んで書き換える。\n",
    "eb2 = np.where(X2[:, 0] > X2[:, 1], eb2,  1)\n",
    "eb2 = np.where(X2[:, 0] < X2[:, 1], eb2,  0)"
   ]
  },
  {
   "cell_type": "code",
   "execution_count": 224,
   "metadata": {},
   "outputs": [],
   "source": [
    "def reclass_function():\n",
    "    count_x = 0\n",
    "    count_c = 0\n",
    "\n",
    "    # 実行するごとに大元を書き換えられないように。\n",
    "    X2 = X.copy()\n",
    "    eb2 = eb.copy()\n",
    "\n",
    "    # Xから各サンプルを入力　百個\n",
    "    # X2に各中心からのゆーグリット距離を入力\n",
    "    for x  in X:\n",
    "\n",
    "    #     クラスタの中心点を出力　二個\n",
    "        for c in claster_list:\n",
    "\n",
    "    #         今割り当てられているクラスタとのセンターとの距離をだす　\n",
    "            vector_X_center = x-c\n",
    "            vector =  LA.norm(vector_X_center, ord=2)\n",
    "\n",
    "    #         各距離をarrayに入れていく。\n",
    "            X2[count_x, count_c] = vector\n",
    "\n",
    "    #         クラスタのイテレーションごとにカウント\n",
    "            count_c += 1\n",
    "\n",
    "    #     サンプルのイテレーショんごとにカウント\n",
    "        count_x += 1\n",
    "\n",
    "    #     サンプルが変わった時にクラスタのカウントを０に戻す。\n",
    "        count_c = 0\n",
    "\n",
    "    # 計算した距離を元に短い方のクラスを選んで書き換える。\n",
    "    eb2 = np.where(X2[:, 0] > X2[:, 1], eb2,  1)\n",
    "    eb2 = np.where(X2[:, 0] < X2[:, 1], eb2,  0)\n",
    "    \n",
    "    return ed2"
   ]
  },
  {
   "cell_type": "markdown",
   "metadata": {},
   "source": [
    "## 【問題4】中心点の移動\n",
    "中心点 \n",
    "μ\n",
    "k\n",
    " を \n",
    "k\n",
    " 番目のクラスタに割り当てられる全てのデータ点 \n",
    "X\n",
    "n\n",
    " の平均値（重心）に移動するコードを作成してください。\n",
    "\n",
    "\n",
    "クラスタの割り当て \n",
    "r\n",
    "n\n",
    "k\n",
    " を固定した上でSSEを最小化していることになりますが、SSE自体を求める必要はありません。"
   ]
  },
  {
   "cell_type": "code",
   "execution_count": 211,
   "metadata": {},
   "outputs": [
    {
     "data": {
      "text/plain": [
       "(71, 2)"
      ]
     },
     "execution_count": 211,
     "metadata": {},
     "output_type": "execute_result"
    }
   ],
   "source": [
    "X[eb2 == 0].shape"
   ]
  },
  {
   "cell_type": "code",
   "execution_count": 209,
   "metadata": {},
   "outputs": [
    {
     "data": {
      "text/plain": [
       "(29, 2)"
      ]
     },
     "execution_count": 209,
     "metadata": {},
     "output_type": "execute_result"
    }
   ],
   "source": [
    "X[eb2 == 1].shape"
   ]
  },
  {
   "cell_type": "code",
   "execution_count": 213,
   "metadata": {},
   "outputs": [
    {
     "data": {
      "text/plain": [
       "array([0.44298473, 2.67513939])"
      ]
     },
     "execution_count": 213,
     "metadata": {},
     "output_type": "execute_result"
    }
   ],
   "source": [
    "next_center_class0 = X[eb2 == 0].sum(0)/X[eb2 == 0].shape[0]\n",
    "next_center_class1 = X[eb2 == 1].sum(0)/X[eb2 == 1].shape[0]"
   ]
  },
  {
   "cell_type": "code",
   "execution_count": 223,
   "metadata": {},
   "outputs": [],
   "source": [
    "def claster_center_reset_function():\n",
    "    #初期値設定、　とりあえず最初のクラスを指定。\n",
    "    claster_list = X[eb2 == 0].sum(0)/X[eb2 == 0].shape[0]\n",
    "    \n",
    "#     クラスターの中心点の情報を一つにまとめたい\n",
    "#     for分でイテレートごとに結合する\n",
    "    for i in range(1, n):\n",
    "        claster_center = X[eb2 == i].sum(0)/X[eb2 == i].shape[0]\n",
    "        claster_list = np.vstack((claster_list, claster_center))\n",
    "        \n",
    "    return claster_list"
   ]
  },
  {
   "cell_type": "markdown",
   "metadata": {},
   "source": [
    "## 【問題5】繰り返し\n",
    "クラスタへの割り当てと中心点の移動を繰り返すことで学習を行うコードを作成してください。\n",
    "\n",
    "\n",
    "次のどれかの条件を満たしたらこれを止めます。\n",
    "\n",
    "\n",
    "繰り返しが指定した回数に到達する。（雛形では引数max_iter）\n",
    "中心点 \n",
    "μ\n",
    "k\n",
    " と重心の差が指定した許容値以下になる。（雛形では引数tol）"
   ]
  },
  {
   "cell_type": "markdown",
   "metadata": {},
   "source": [
    "## 【問題6】異なる初期値で計算\n",
    "問題5の繰り返しを、指定した回数初期値を変更して計算するコードを作成してください。回数は雛形では引数n_initで指定します。\n",
    "\n",
    "\n",
    "複数計算した中でSSEが最小になったものが最終的な学習結果となるため、その時の中心点 \n",
    "μ\n",
    "k\n",
    " を保持しておきます。"
   ]
  },
  {
   "cell_type": "code",
   "execution_count": 50,
   "metadata": {},
   "outputs": [],
   "source": [
    "class ScratchKMeans():\n",
    "    \"\"\"\n",
    "    K-meansのスクラッチ実装\n",
    "\n",
    "    Parameters\n",
    "    ----------\n",
    "    n_clusters : int\n",
    "      クラスタ数\n",
    "    n_init : int\n",
    "      中心点の初期値を何回変えて計算するか\n",
    "    max_iter : int\n",
    "      1回の計算で最大何イテレーションするか\n",
    "    tol : floats\n",
    "      イテレーションを終了する基準となる中心点と重心の許容誤差\n",
    "    verbose : bool\n",
    "      学習過程を出力する場合はTrue\n",
    "    \"\"\"\n",
    "    def __init__(self, n_clusters, n_init, max_iter, tol, verbose=False):\n",
    "        # ハイパーパラメータを属性として記録\n",
    "        self.n_clusters = n_clusters\n",
    "        self.n_init = n_init\n",
    "        self.max_iter = max_iter\n",
    "        self.tol = tol\n",
    "        self.verbose = verbose\n",
    "        self.answer_class = 0\n",
    "        self.cluster_center_point  = 0\n",
    "        self.sse = 1000\n",
    "\n",
    "    def fit(self, X):\n",
    "        \n",
    "        \"\"\"\n",
    "        K-meansによるクラスタリングを計算\n",
    "        Parameters\n",
    "        ----------\n",
    "        X : 次の形のndarray, shape (n_samples, n_features)\n",
    "            学習用データの特徴量\n",
    "        \"\"\"\n",
    "        if self.verbose:\n",
    "            #verboseをTrueにした際は学習過程を出力\n",
    "            print()\n",
    "            \n",
    "        # 学習回数を記録\n",
    "        count_learning = 0\n",
    "        \n",
    "        np.random.seed(seed=55)\n",
    "            # 初期設定する回数分のイテレート\n",
    "        for _ in range(self.n_init):\n",
    "            print('初期値設定')\n",
    "\n",
    "            # サンプルのインデックスの内、クラスター数個のインデックスをランダムにチョイスする。\n",
    "            first_centers = np.random.choice(X.shape[0], self.n_clusters, replace=True)\n",
    "#             print(first_centers)\n",
    "            # 得たインデックスを使って、クラスター中心とするサンプルを抽出する。\n",
    "            self.cluster_center_point = X[first_centers[0]]\n",
    "        \n",
    "            # 後々クラスター数が複数の場合に対応できるように、forを使って抽出し結合し、クラスタ中心の情報が入った行列を作る。\n",
    "            for i in range(1, self.n_clusters):\n",
    "                self.cluster_center_point = np.vstack((self.cluster_center_point, X[first_centers[i]]))\n",
    "\n",
    "            # サンプルデータを適当に（ランダムに）クラス分けする\n",
    "            self.answer_class = np.random.randint(0, self.n_clusters, X.shape[0])\n",
    "#             print(self.answer_class)\n",
    "\n",
    "            for _ in range(self.max_iter):\n",
    "                    \n",
    "#                 print('学習回数は'+ str(count_learning))\n",
    "                sse = self.SSE_function(X)\n",
    "            \n",
    "                answer_class = self.reclass_function(X)\n",
    "\n",
    "                self.claster_center_reset_function(X)\n",
    "\n",
    "                count_learning += 1\n",
    "#                 print(sse)\n",
    "\n",
    "            # 前よりもSSEが小さい時だけ更新する。\n",
    "            if self.sse > sse:\n",
    "                self.sse = sse\n",
    "#                 print('IF SSE'+str(self.sse))\n",
    "                self.answer_class = answer_class\n",
    "                \n",
    "        return self.answer_class ,self.sse\n",
    "\n",
    "    def predict(self, X):\n",
    "        \"\"\"\n",
    "        入力されたデータがどのクラスタに属するかを計算\n",
    "        \"\"\"\n",
    "        pass\n",
    "        return\n",
    "\n",
    "    def SSE_function(self, X):\n",
    "        X_c = 0\n",
    "        count_d = 0\n",
    "\n",
    "        for i in range(self.n_clusters):\n",
    "            #Xの内特定のクラスの部分のみ抽出\n",
    "            classed_X = X[np.where(self.answer_class == i)]\n",
    "\n",
    "    #         抽出した各点とその点のクラスのセンターとの差の二乗\n",
    "            each_class = (classed_X - self.cluster_center_point[i])**2\n",
    "\n",
    "    #         サンプルごとの計算　結果を全部たすとSSEのになる\n",
    "            X_c += each_class.sum(0)\n",
    "\n",
    "            # 許容値計算用\n",
    "            # 許容誤差内かを見たい。\n",
    "            # クラスターセンターとサンプルの重心の距離を求める。\n",
    "            difference = (classed_X - self.cluster_center_point[i]).sum(0)\n",
    "            difference = LA.norm(difference, ord=2)/len(classed_X)\n",
    "#             print(difference)\n",
    "\n",
    "            # 許容値内に入ったら止める\n",
    "            if difference < self.tol:\n",
    "                count_d += 1\n",
    "#             全てのクラスタについて、許容値に入っていたら、プログラム終了する。\n",
    "            if count_d == self.n_clusters:\n",
    "                sys.exit()\n",
    "            \n",
    "        sse = LA.norm(X_c, ord=2)\n",
    "#         print('sse'+str(sse))\n",
    "\n",
    "        return sse\n",
    "\n",
    "    def reclass_function(self, X):\n",
    "        count_x = 0\n",
    "        count_c = 0\n",
    "\n",
    "        # 実行するごとに大元を書き換えられないように。\n",
    "        X2 = np.ones((X.shape[0], self.n_clusters))\n",
    "        eb2 = self.answer_class.copy()\n",
    "\n",
    "        # Xから各サンプルを入力　百個\n",
    "        # X2に各中心からのゆーグリット距離を入力\n",
    "        for x  in X:\n",
    "\n",
    "        #     クラスタの中心点を出力　二個\n",
    "            for c in self.cluster_center_point:\n",
    "\n",
    "        #         今割り当てられているクラスタとのセンターとの距離をだす　\n",
    "                vector_X_center = x-c\n",
    "                vector =  LA.norm(vector_X_center, ord=2)\n",
    "\n",
    "        #         各距離をarrayに入れていく。\n",
    "                X2[count_x, count_c] = vector\n",
    "\n",
    "        #         クラスタのイテレーションごとにカウント\n",
    "                count_c += 1\n",
    "\n",
    "        #     サンプルのイテレーショんごとにカウント\n",
    "            count_x += 1\n",
    "\n",
    "        #     サンプルが変わった時にクラスタのカウントを０に戻す。\n",
    "            count_c = 0\n",
    "#         print(X2)\n",
    "\n",
    "        # 計算した距離を元に短い方のクラスを選んで書き換える。\n",
    "        count_n = 0\n",
    "        for i in X2:\n",
    "            class_input = np.argmin(i, axis=0)\n",
    "            eb2[count_n] = class_input\n",
    "            count_n += 1\n",
    "\n",
    "        self.answer_class = eb2\n",
    "\n",
    "        \n",
    "#         print(self.answer_class)\n",
    "\n",
    "        return self.answer_class\n",
    "\n",
    "    def claster_center_reset_function(self, X):\n",
    "        #初期値設定、　とりあえず最初のクラスを指定。\n",
    "        self.cluster_center_point = X[self.answer_class == 0].sum(0)/X[self.answer_class == 0].shape[0]\n",
    "\n",
    "    #     クラスターの中心点の情報を一つにまとめたい\n",
    "    #     for分でイテレートごとに結合する\n",
    "        for i in range(1, self.n_clusters):\n",
    "            claster_center = X[self.answer_class == i].sum(0)/X[self.answer_class == i].shape[0]\n",
    "            self.cluster_center_point = np.vstack((self.cluster_center_point, claster_center))\n",
    "            \n",
    "        pass"
   ]
  },
  {
   "cell_type": "code",
   "execution_count": 51,
   "metadata": {},
   "outputs": [
    {
     "name": "stdout",
     "output_type": "stream",
     "text": [
      "初期値設定\n"
     ]
    },
    {
     "ename": "SystemExit",
     "evalue": "",
     "output_type": "error",
     "traceback": [
      "An exception has occurred, use %tb to see the full traceback.\n",
      "\u001b[0;31mSystemExit\u001b[0m\n"
     ]
    },
    {
     "name": "stderr",
     "output_type": "stream",
     "text": [
      "/opt/anaconda3/lib/python3.7/site-packages/IPython/core/interactiveshell.py:3334: UserWarning: To exit: use 'exit', 'quit', or Ctrl-D.\n",
      "  warn(\"To exit: use 'exit', 'quit', or Ctrl-D.\", stacklevel=1)\n"
     ]
    }
   ],
   "source": [
    "skm = ScratchKMeans(n_clusters = 3, n_init = 1, max_iter = 10, tol = 0.0001, verbose=False)\n",
    "clusted_X, sse = skm.fit(X)"
   ]
  },
  {
   "cell_type": "code",
   "execution_count": 52,
   "metadata": {},
   "outputs": [
    {
     "name": "stdout",
     "output_type": "stream",
     "text": [
      "初期値設定\n",
      "初期値設定\n"
     ]
    }
   ],
   "source": [
    "skm = ScratchKMeans(n_clusters = 7, n_init = 2, max_iter = 10, tol = 0, verbose=False)\n",
    "clusted_X, sse = skm.fit(X)"
   ]
  },
  {
   "cell_type": "code",
   "execution_count": 53,
   "metadata": {},
   "outputs": [
    {
     "data": {
      "text/plain": [
       "array([6, 4, 3, 3, 1, 3, 2, 4, 1, 4, 4, 4, 4, 4, 4, 5, 0, 2, 2, 5, 6, 4,\n",
       "       2, 5, 3, 2, 2, 3, 0, 5, 5, 4, 5, 0, 2, 6, 4, 0, 4, 2, 1, 2, 4, 2,\n",
       "       2, 4, 5, 2, 3, 6, 3, 5, 2, 2, 2, 4, 4, 5, 0, 4, 4, 0, 0, 1, 0, 4,\n",
       "       2, 2, 0, 3, 4, 0, 3, 4, 3, 6, 2, 2, 5, 0, 5, 4, 2, 3, 5, 2, 0, 5,\n",
       "       6, 3, 3, 2, 6, 2, 2, 4, 4, 2, 4, 3])"
      ]
     },
     "execution_count": 53,
     "metadata": {},
     "output_type": "execute_result"
    }
   ],
   "source": [
    "clusted_X"
   ]
  },
  {
   "cell_type": "code",
   "execution_count": 54,
   "metadata": {},
   "outputs": [
    {
     "data": {
      "text/plain": [
       "24.83100581443991"
      ]
     },
     "execution_count": 54,
     "metadata": {},
     "output_type": "execute_result"
    }
   ],
   "source": [
    "sse"
   ]
  },
  {
   "cell_type": "code",
   "execution_count": 55,
   "metadata": {},
   "outputs": [
    {
     "data": {
      "text/plain": [
       "<matplotlib.collections.PathCollection at 0x1278fb550>"
      ]
     },
     "execution_count": 55,
     "metadata": {},
     "output_type": "execute_result"
    },
    {
     "data": {
      "image/png": "[encoded data removed]",
      "text/plain": [
       "<Figure size 432x288 with 1 Axes>"
      ]
     },
     "metadata": {
      "needs_background": "light"
     },
     "output_type": "display_data"
    }
   ],
   "source": [
    "import matplotlib.pyplot as plt\n",
    "import matplotlib.cm as cm\n",
    "\n",
    "plt.scatter(X[:, 0], X[:, 1], c= clusted_X, cmap=cm.Paired)"
   ]
  },
  {
   "cell_type": "markdown",
   "metadata": {},
   "source": [
    "## 【問題8】エルボー法の実装\n",
    "K-meansにおいて中心点の個数 \n",
    "k\n",
    " は人為的に決める必要がありますが、その判断方法としてエルボー法があります。エルボー法により中心点の個数 \n",
    "k\n",
    " を検討するためのコードを作成してください。\n",
    "\n",
    "\n",
    "SSEを縦軸、クラスタ数 \n",
    "k\n",
    " を横軸にした折れ線グラフを表示します。このためにK-meansのインスタンスからはSSEを取得できるようにしてください。\n",
    "\n"
   ]
  },
  {
   "cell_type": "code",
   "execution_count": 56,
   "metadata": {},
   "outputs": [
    {
     "name": "stdout",
     "output_type": "stream",
     "text": [
      "初期値設定\n",
      "初期値設定\n",
      "初期値設定\n",
      "初期値設定\n",
      "初期値設定\n",
      "初期値設定\n",
      "初期値設定\n",
      "SSE248.7090982081645\n",
      "初期値設定\n",
      "初期値設定\n",
      "初期値設定\n",
      "初期値設定\n",
      "初期値設定\n",
      "初期値設定\n",
      "初期値設定\n",
      "SSE105.51950550560463\n",
      "初期値設定\n",
      "初期値設定\n",
      "初期値設定\n",
      "初期値設定\n",
      "初期値設定\n",
      "初期値設定\n",
      "初期値設定\n",
      "SSE34.3896530969445\n",
      "初期値設定\n",
      "初期値設定\n",
      "初期値設定\n",
      "初期値設定\n"
     ]
    },
    {
     "name": "stderr",
     "output_type": "stream",
     "text": [
      "/opt/anaconda3/lib/python3.7/site-packages/ipykernel_launcher.py:176: RuntimeWarning: invalid value encountered in true_divide\n",
      "/opt/anaconda3/lib/python3.7/site-packages/ipykernel_launcher.py:108: RuntimeWarning: invalid value encountered in double_scalars\n",
      "/opt/anaconda3/lib/python3.7/site-packages/ipykernel_launcher.py:171: RuntimeWarning: invalid value encountered in true_divide\n"
     ]
    },
    {
     "name": "stdout",
     "output_type": "stream",
     "text": [
      "初期値設定\n",
      "初期値設定\n",
      "初期値設定\n",
      "SSE30.804161865291075\n",
      "初期値設定\n",
      "初期値設定\n",
      "初期値設定\n",
      "初期値設定\n",
      "初期値設定\n",
      "初期値設定\n",
      "初期値設定\n",
      "SSE27.504941621000626\n",
      "初期値設定\n",
      "初期値設定\n",
      "初期値設定\n",
      "初期値設定\n",
      "初期値設定\n",
      "初期値設定\n",
      "初期値設定\n",
      "SSE24.83100581443991\n"
     ]
    },
    {
     "data": {
      "text/plain": [
       "[<matplotlib.lines.Line2D at 0x1291ea2d0>]"
      ]
     },
     "execution_count": 56,
     "metadata": {},
     "output_type": "execute_result"
    },
    {
     "data": {
      "image/png": "[encoded data removed]",
      "text/plain": [
       "<Figure size 432x288 with 1 Axes>"
      ]
     },
     "metadata": {
      "needs_background": "light"
     },
     "output_type": "display_data"
    }
   ],
   "source": [
    "sse_box = []\n",
    "number_box = []\n",
    "for i in range(2, 8):\n",
    "    skm = ScratchKMeans(n_clusters = i, n_init = 7, max_iter = 10, tol = 0, verbose=False)\n",
    "    clusted_X, sse = skm.fit(X)\n",
    "    sse_box.append(sse)\n",
    "    number_box.append(i)\n",
    "    print('SSE'+str(sse))\n",
    "    \n",
    "plt.plot(number_box, sse_box)"
   ]
  },
  {
   "cell_type": "markdown",
   "metadata": {},
   "source": [
    "## 【問題10】クラスタ数kの選択\n",
    "最適だと思われるクラスタ数 \n",
    "k\n",
    " を選択してください。エルボー法やシルエット図を活用する他、人間が後々どう利用したいのかも選択に関わってきます。選択した上で、なぜそれを選んだか説明してください。"
   ]
  },
  {
   "cell_type": "code",
   "execution_count": 67,
   "metadata": {},
   "outputs": [],
   "source": [
    "data = pd.read_csv('/Users/user/Downloads/Wholesale customers data.csv')  "
   ]
  },
  {
   "cell_type": "code",
   "execution_count": 80,
   "metadata": {},
   "outputs": [],
   "source": [
    "Channel = np.array(data.Channel)"
   ]
  },
  {
   "cell_type": "code",
   "execution_count": 81,
   "metadata": {},
   "outputs": [],
   "source": [
    "Region = np.array(data.Region)"
   ]
  },
  {
   "cell_type": "code",
   "execution_count": 79,
   "metadata": {},
   "outputs": [
    {
     "data": {
      "text/plain": [
       "array([3, 3, 3, 3, 3, 3, 3, 3, 3, 3, 3, 3, 3, 3, 3, 3, 3, 3, 3, 3, 3, 3,\n",
       "       3, 3, 3, 3, 3, 3, 3, 3, 3, 3, 3, 3, 3, 3, 3, 3, 3, 3, 3, 3, 3, 3,\n",
       "       3, 3, 3, 3, 3, 3, 3, 3, 3, 3, 3, 3, 3, 3, 3, 3, 3, 3, 3, 3, 3, 3,\n",
       "       3, 3, 3, 3, 3, 3, 3, 3, 3, 3, 3, 3, 3, 3, 3, 3, 3, 3, 3, 3, 3, 3,\n",
       "       3, 3, 3, 3, 3, 3, 3, 3, 3, 3, 3, 3, 3, 3, 3, 3, 3, 3, 3, 3, 3, 3,\n",
       "       3, 3, 3, 3, 3, 3, 3, 3, 3, 3, 3, 3, 3, 3, 3, 3, 3, 3, 3, 3, 3, 3,\n",
       "       3, 3, 3, 3, 3, 3, 3, 3, 3, 3, 3, 3, 3, 3, 3, 3, 3, 3, 3, 3, 3, 3,\n",
       "       3, 3, 3, 3, 3, 3, 3, 3, 3, 3, 3, 3, 3, 3, 3, 3, 3, 3, 3, 3, 3, 3,\n",
       "       3, 3, 3, 3, 3, 3, 3, 3, 3, 3, 3, 3, 3, 3, 3, 3, 3, 3, 3, 3, 1, 1,\n",
       "       1, 1, 1, 1, 1, 1, 1, 1, 1, 1, 1, 1, 1, 1, 1, 1, 1, 1, 1, 1, 1, 1,\n",
       "       1, 1, 1, 1, 1, 1, 1, 1, 1, 1, 1, 1, 1, 1, 1, 1, 1, 1, 1, 1, 1, 1,\n",
       "       1, 1, 1, 1, 1, 1, 1, 1, 1, 1, 1, 1, 1, 1, 1, 1, 1, 1, 1, 1, 1, 1,\n",
       "       1, 1, 1, 1, 1, 1, 1, 1, 1, 3, 3, 3, 3, 3, 3, 3, 3, 3, 3, 3, 3, 3,\n",
       "       3, 3, 3, 3, 3, 3, 3, 2, 2, 2, 2, 2, 2, 2, 2, 2, 2, 2, 2, 2, 2, 2,\n",
       "       2, 2, 2, 2, 2, 2, 2, 2, 2, 2, 2, 2, 2, 2, 2, 2, 2, 2, 2, 2, 2, 2,\n",
       "       2, 2, 2, 2, 2, 2, 2, 2, 2, 2, 3, 3, 3, 3, 3, 3, 3, 3, 3, 3, 3, 3,\n",
       "       3, 3, 3, 3, 3, 3, 3, 3, 3, 3, 3, 3, 3, 3, 3, 3, 3, 3, 3, 3, 3, 3,\n",
       "       3, 3, 3, 3, 3, 3, 3, 3, 3, 3, 3, 3, 3, 3, 3, 3, 3, 3, 3, 3, 3, 3,\n",
       "       3, 3, 3, 3, 3, 3, 3, 3, 3, 3, 3, 3, 3, 3, 3, 3, 3, 3, 3, 3, 3, 3,\n",
       "       3, 3, 3, 3, 3, 3, 3, 3, 3, 3, 3, 3, 3, 3, 3, 3, 3, 3, 3, 3, 3, 3])"
      ]
     },
     "execution_count": 79,
     "metadata": {},
     "output_type": "execute_result"
    }
   ],
   "source": []
  },
  {
   "cell_type": "code",
   "execution_count": null,
   "metadata": {},
   "outputs": [],
   "source": []
  },
  {
   "cell_type": "code",
   "execution_count": null,
   "metadata": {},
   "outputs": [],
   "source": []
  },
  {
   "cell_type": "code",
   "execution_count": 63,
   "metadata": {},
   "outputs": [],
   "source": [
    "value = data.drop(columns = ['Channel' ,'Region'] )"
   ]
  },
  {
   "cell_type": "code",
   "execution_count": 64,
   "metadata": {},
   "outputs": [],
   "source": [
    "data = np.array(value)"
   ]
  },
  {
   "cell_type": "code",
   "execution_count": 25,
   "metadata": {},
   "outputs": [],
   "source": [
    "from sklearn.decomposition import PCA\n",
    "pca = PCA(n_components = 2)\n",
    "pca = pca.fit(data)\n",
    "data_pca = pca.transform(data)"
   ]
  },
  {
   "cell_type": "code",
   "execution_count": 21,
   "metadata": {},
   "outputs": [
    {
     "name": "stdout",
     "output_type": "stream",
     "text": [
      "[0.45961362 0.86478588 0.93481597 0.97883941 0.99386152 1.        ]\n"
     ]
    },
    {
     "data": {
      "image/png": "[encoded data removed]",
      "text/plain": [
       "<Figure size 432x288 with 1 Axes>"
      ]
     },
     "metadata": {
      "needs_background": "light"
     },
     "output_type": "display_data"
    }
   ],
   "source": [
    "from sklearn.decomposition import PCA\n",
    "import matplotlib.pyplot as plt\n",
    "pca = PCA(n_components=None)\n",
    "pca = pca.fit(data)\n",
    "var_exp = pca.explained_variance_ratio_\n",
    "cum_var_exp = np.cumsum(var_exp)\n",
    "print(cum_var_exp)\n",
    "plt.bar(range(1,7), var_exp, alpha=0.5, align='center', label='individual explained variance')\n",
    "plt.step(range(1,7), cum_var_exp, where='mid', label='cumulative expalined variance')\n",
    "plt.ylabel('Explained variance ratio')\n",
    "plt.xlabel('Principal components')\n",
    "plt.hlines(0.7, 0, 6,  \"blue\", linestyles='dashed')\n",
    "plt.legend(loc='best')\n",
    "plt.grid()\n",
    "plt.show()"
   ]
  },
  {
   "cell_type": "code",
   "execution_count": 26,
   "metadata": {},
   "outputs": [
    {
     "data": {
      "text/plain": [
       "(440, 6)"
      ]
     },
     "execution_count": 26,
     "metadata": {},
     "output_type": "execute_result"
    }
   ],
   "source": [
    "data.shape"
   ]
  },
  {
   "cell_type": "code",
   "execution_count": 28,
   "metadata": {},
   "outputs": [
    {
     "data": {
      "text/plain": [
       "(440, 2)"
      ]
     },
     "execution_count": 28,
     "metadata": {},
     "output_type": "execute_result"
    }
   ],
   "source": [
    "data_pca.shape"
   ]
  },
  {
   "cell_type": "code",
   "execution_count": 30,
   "metadata": {},
   "outputs": [
    {
     "data": {
      "text/plain": [
       "<matplotlib.collections.PathCollection at 0x128915810>"
      ]
     },
     "execution_count": 30,
     "metadata": {},
     "output_type": "execute_result"
    },
    {
     "data": {
      "image/png": "[encoded data removed]",
      "text/plain": [
       "<Figure size 432x288 with 1 Axes>"
      ]
     },
     "metadata": {
      "needs_background": "light"
     },
     "output_type": "display_data"
    }
   ],
   "source": [
    "import matplotlib.pyplot as plt\n",
    "\n",
    "plt.scatter(data_pca[:, 0], data_pca[:, 1])"
   ]
  },
  {
   "cell_type": "code",
   "execution_count": 57,
   "metadata": {},
   "outputs": [
    {
     "name": "stdout",
     "output_type": "stream",
     "text": [
      "初期値設定\n"
     ]
    }
   ],
   "source": [
    "skm = ScratchKMeans(n_clusters = 7, n_init = 1, max_iter = 10, tol = 0, verbose=False)\n",
    "clusted_X, sse = skm.fit(data_pca)"
   ]
  },
  {
   "cell_type": "code",
   "execution_count": 58,
   "metadata": {},
   "outputs": [
    {
     "data": {
      "text/plain": [
       "<matplotlib.collections.PathCollection at 0x1291855d0>"
      ]
     },
     "execution_count": 58,
     "metadata": {},
     "output_type": "execute_result"
    },
    {
     "data": {
      "image/png": "[encoded data removed]",
      "text/plain": [
       "<Figure size 432x288 with 1 Axes>"
      ]
     },
     "metadata": {
      "needs_background": "light"
     },
     "output_type": "display_data"
    }
   ],
   "source": [
    "import matplotlib.pyplot as plt\n",
    "import matplotlib.cm as cm\n",
    "\n",
    "plt.scatter(data_pca[:, 0], data_pca[:, 1], c= clusted_X, cmap=cm.Paired)"
   ]
  },
  {
   "cell_type": "code",
   "execution_count": 59,
   "metadata": {},
   "outputs": [
    {
     "name": "stdout",
     "output_type": "stream",
     "text": [
      "初期値設定\n",
      "SSE1000\n",
      "初期値設定\n",
      "SSE1000\n",
      "初期値設定\n",
      "SSE1000\n",
      "初期値設定\n",
      "SSE1000\n",
      "初期値設定\n",
      "SSE1000\n",
      "初期値設定\n",
      "SSE1000\n"
     ]
    },
    {
     "data": {
      "text/plain": [
       "[<matplotlib.lines.Line2D at 0x129363190>]"
      ]
     },
     "execution_count": 59,
     "metadata": {},
     "output_type": "execute_result"
    },
    {
     "data": {
      "image/png": "[encoded data removed]",
      "text/plain": [
       "<Figure size 432x288 with 1 Axes>"
      ]
     },
     "metadata": {
      "needs_background": "light"
     },
     "output_type": "display_data"
    }
   ],
   "source": [
    "sse_box = []\n",
    "number_box = []\n",
    "for i in range(2, 8):\n",
    "    skm = ScratchKMeans(n_clusters = i, n_init = 1, max_iter = 30, tol = 0, verbose=False)\n",
    "    clusted_X, sse = skm.fit(data_pca)\n",
    "    sse_box.append(sse)\n",
    "    number_box.append(i)\n",
    "    print('SSE'+str(sse))\n",
    "    \n",
    "plt.plot(number_box, sse_box)"
   ]
  },
  {
   "cell_type": "markdown",
   "metadata": {},
   "source": [
    "## 【問題11】既知のグループとの比較\n",
    "RegionとChannelはK-meansに使用しなかったが、これれらは既知のグループです。クラスタとこれら既知のグループがどう違うかを確認し、説明してください。まずはそれぞれを可視化してください"
   ]
  },
  {
   "cell_type": "code",
   "execution_count": 82,
   "metadata": {},
   "outputs": [
    {
     "data": {
      "text/plain": [
       "<matplotlib.collections.PathCollection at 0x1292f96d0>"
      ]
     },
     "execution_count": 82,
     "metadata": {},
     "output_type": "execute_result"
    },
    {
     "data": {
      "image/png": "[encoded data removed]",
      "text/plain": [
       "<Figure size 432x288 with 1 Axes>"
      ]
     },
     "metadata": {
      "needs_background": "light"
     },
     "output_type": "display_data"
    }
   ],
   "source": [
    "import matplotlib.pyplot as plt\n",
    "import matplotlib.cm as cm\n",
    "\n",
    "plt.scatter(data_pca[:, 0], data_pca[:, 1], c= Channel, cmap=cm.Paired)"
   ]
  },
  {
   "cell_type": "code",
   "execution_count": 83,
   "metadata": {},
   "outputs": [
    {
     "data": {
      "text/plain": [
       "<matplotlib.collections.PathCollection at 0x129609050>"
      ]
     },
     "execution_count": 83,
     "metadata": {},
     "output_type": "execute_result"
    },
    {
     "data": {
      "image/png": "[encoded data removed]",
      "text/plain": [
       "<Figure size 432x288 with 1 Axes>"
      ]
     },
     "metadata": {
      "needs_background": "light"
     },
     "output_type": "display_data"
    }
   ],
   "source": [
    "import matplotlib.pyplot as plt\n",
    "import matplotlib.cm as cm\n",
    "\n",
    "plt.scatter(data_pca[:, 0], data_pca[:, 1], c= Region, cmap=cm.Paired)"
   ]
  },
  {
   "cell_type": "code",
   "execution_count": null,
   "metadata": {},
   "outputs": [],
   "source": []
  }
 ],
 "metadata": {
  "kernelspec": {
   "display_name": "Python 3",
   "language": "python",
   "name": "python3"
  },
  "language_info": {
   "codemirror_mode": {
    "name": "ipython",
    "version": 3
   },
   "file_extension": ".py",
   "mimetype": "text/x-python",
   "name": "python",
   "nbconvert_exporter": "python",
   "pygments_lexer": "ipython3",
   "version": "3.7.4"
  }
 },
 "nbformat": 4,
 "nbformat_minor": 2
}
