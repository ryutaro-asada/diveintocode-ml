{
 "cells": [
  {
   "cell_type": "markdown",
   "metadata": {},
   "source": [
    "【問題1】行列積を手計算する  \n",
    "AとBの行列積を手計算で解いてください。  \n",
    "計算過程もマークダウンテキストを用いて説明してください。"
   ]
  },
  {
   "cell_type": "code",
   "execution_count": 20,
   "metadata": {},
   "outputs": [
    {
     "name": "stdout",
     "output_type": "stream",
     "text": [
      "[[-1  2  3]\n",
      " [ 4 -5  6]\n",
      " [ 7  8 -9]]\n",
      "[[ 0  2  1]\n",
      " [ 0  2 -8]\n",
      " [ 2  9 -1]]\n"
     ]
    }
   ],
   "source": [
    "import numpy as np\n",
    "a_ndarray = np.array([[-1, 2, 3], [4, -5, 6], [7, 8, -9]])\n",
    "b_ndarray = np.array([[0, 2, 1], [0, 2, -8], [2, 9, -1]])\n",
    "\n",
    "print(a_ndarray)\n",
    "print(b_ndarray)"
   ]
  },
  {
   "cell_type": "markdown",
   "metadata": {},
   "source": [
    "A=  \n",
    "[[-1  2  3]   \n",
    "[ 4 -5  6]  \n",
    "[ 7  8 -9]]\n",
    "     \n",
    "B=   \n",
    "[[ 0  2  1]  \n",
    "[ 0  2 -8]  \n",
    "[ 2  9 -1]]\n",
    "     \n",
    " [[-1*0 + 2*0 + 3*2 = 6,   \n",
    " -1*2 + 2*2 + 3*9 = 29,   \n",
    " -1*1 + 2*-8 + 3*-1 = -20],  \n",
    " [4*0 + -5*0 + 6*2 = 12,   \n",
    " 4*2 + -5*2 + 6*9 = 52,   \n",
    " 4*1 + -5*-8 + 6*-1 = 38],  \n",
    " [7*0 + 8*0 + -9*2 = -18,  \n",
    " 7*2 + 8*2 + -9*9 = -51,  \n",
    " 7*1 + 8*-8 + -9*-1 = -48]]\n",
    " \n",
    " answer =  \n",
    " [[6, 29, -20]  \n",
    " [12, 52, 38]  \n",
    " [-18, -51, -48]]\n",
    " \n",
    "          "
   ]
  },
  {
   "cell_type": "markdown",
   "metadata": {},
   "source": [
    "【問題2】NumPyの関数による計算  \n",
    "この行列積はNumPyのnp.matmul()やnp.dot()、または@演算子を使うことで簡単に計算できます。これらを使い行列積を計算してください。  \n",
    "《3種類の違い》\n",
    "\n",
    "np.matmul()とnp.dot()は3次元以上の配列で挙動が変わります。@演算子はnp.matmul()と同じ働きをします。\n",
    "\n",
    "今回のような2次元配列の行列積ではnp.matmul()や@演算子が公式に推奨されています。以下はnp.dot()の説明からの引用です。"
   ]
  },
  {
   "cell_type": "code",
   "execution_count": 21,
   "metadata": {},
   "outputs": [
    {
     "data": {
      "text/plain": [
       "array([[  6,  29, -20],\n",
       "       [ 12,  52,  38],\n",
       "       [-18, -51, -48]])"
      ]
     },
     "execution_count": 21,
     "metadata": {},
     "output_type": "execute_result"
    }
   ],
   "source": [
    "np.matmul(a_ndarray, b_ndarray)"
   ]
  },
  {
   "cell_type": "code",
   "execution_count": 22,
   "metadata": {},
   "outputs": [
    {
     "data": {
      "text/plain": [
       "array([[  6,  29, -20],\n",
       "       [ 12,  52,  38],\n",
       "       [-18, -51, -48]])"
      ]
     },
     "execution_count": 22,
     "metadata": {},
     "output_type": "execute_result"
    }
   ],
   "source": [
    "np.dot(a_ndarray, b_ndarray)"
   ]
  },
  {
   "cell_type": "code",
   "execution_count": 23,
   "metadata": {},
   "outputs": [
    {
     "data": {
      "text/plain": [
       "array([[  6,  29, -20],\n",
       "       [ 12,  52,  38],\n",
       "       [-18, -51, -48]])"
      ]
     },
     "execution_count": 23,
     "metadata": {},
     "output_type": "execute_result"
    }
   ],
   "source": [
    "a_ndarray@b_ndarray"
   ]
  },
  {
   "cell_type": "markdown",
   "metadata": {},
   "source": [
    "【問題3】ある要素の計算を実装\n",
    "手計算をする際はまず行列Aの0行目と行列Bの0列目に注目し、以下の計算を行ったかと思います。\n",
    "\n",
    "行列Aの(0,0)の要素 \n",
    "a\n",
    "0\n",
    ",\n",
    "0\n",
    " と行列Bの(0,0)の要素 \n",
    "b\n",
    "0\n",
    ",\n",
    "0\n",
    " を掛け合わせる\n",
    "行列Aの(0,1)の要素 \n",
    "a\n",
    "0\n",
    ",\n",
    "1\n",
    " と行列Bの(1,0)の要素 \n",
    "b\n",
    "1\n",
    ",\n",
    "0\n",
    " を掛け合わせる\n",
    "行列Aの(0,2)の要素 \n",
    "a\n",
    "0\n",
    ",\n",
    "2\n",
    " と行列Bの(2,0)の要素 \n",
    "b\n",
    "2\n",
    ",\n",
    "0\n",
    " を掛け合わせる\n",
    "それらの値を全て足し合わせる"
   ]
  },
  {
   "cell_type": "code",
   "execution_count": 24,
   "metadata": {},
   "outputs": [
    {
     "data": {
      "text/plain": [
       "6"
      ]
     },
     "execution_count": 24,
     "metadata": {},
     "output_type": "execute_result"
    }
   ],
   "source": [
    "point1 = 0\n",
    "for n in range(3):\n",
    "    point1 += a_ndarray[0, n]*b_ndarray[n, 0]\n",
    "point1"
   ]
  },
  {
   "cell_type": "markdown",
   "metadata": {},
   "source": [
    "【問題4】行列積を行う関数の作成\n",
    "問題3のコードを拡張し、行列積のスクラッチ実装を完成させてください。行列AとBを引数に受け取り、行列積を返す関数としてください。\n",
    "行列積を計算する場合は、問題3の計算を異なる行や列に対して繰り返していくことになります。\n",
    "計算結果である \n",
    "3\n",
    "×\n",
    "3\n",
    " の行列Cの各要素 \n",
    "c\n",
    "i\n",
    ",\n",
    "j\n",
    " は数式で表すと次のようになります"
   ]
  },
  {
   "cell_type": "code",
   "execution_count": 25,
   "metadata": {},
   "outputs": [
    {
     "name": "stdout",
     "output_type": "stream",
     "text": [
      "[[  6.  29. -20.]\n",
      " [ 12.  52.  38.]\n",
      " [-18. -51. -48.]]\n"
     ]
    }
   ],
   "source": [
    "def matlix_malti(a_ndarray, b_ndarray):\n",
    "    a_list = a_ndarray.tolist()　#list化\n",
    "    bT_list = b_ndarray.T.tolist()　 #転置　　for で計算しやすくした。\n",
    "\n",
    "    x = np.zeros((len(a_list[0]), len(bT_list[0])))#0行列で初期値設置　\n",
    "    ii = len(a_list[0])#forする回数①\n",
    "    kk = len(bT_list[0])#forする回数②\n",
    "    jj = len(a_list[0])#forする回数③\n",
    "\n",
    "    for i in range(ii):#行ナンバーa_list\n",
    "        for j in range(jj):#行ナンバーb_list\n",
    "            for k in range(kk):#列ナンバーa,b list\n",
    "                x[i][j] = x[i][j] + a_list[i][k] * bT_list[j][k]\n",
    "    return x\n",
    "print(matlix_malti(a_ndarray, b_ndarray))"
   ]
  },
  {
   "cell_type": "markdown",
   "metadata": {},
   "source": [
    "【問題5】計算が定義されない入力を判定する\n",
    "問題4で作成した関数は、実装方法によってはこのDとEの配列を入力しても動いてしまう可能性があります。この場合、不適切な計算が行われることになります。また、途中でエラーになる場合でも、なぜエラーになったかが直接的には分かりづらいメッセージが表示されます。\n",
    "\n",
    "if文などによってこれを防ぎ、入力される形に問題があることをprint()を使い表示するコードを書き加えてください。"
   ]
  },
  {
   "cell_type": "code",
   "execution_count": 26,
   "metadata": {},
   "outputs": [
    {
     "name": "stdout",
     "output_type": "stream",
     "text": [
      "一個目の行列の列の数と二個目の行列の行の数が合いません\n"
     ]
    },
    {
     "ename": "IndexError",
     "evalue": "index 2 is out of bounds for axis 0 with size 2",
     "output_type": "error",
     "traceback": [
      "\u001b[0;31m---------------------------------------------------------------------------\u001b[0m",
      "\u001b[0;31mIndexError\u001b[0m                                Traceback (most recent call last)",
      "\u001b[0;32m<ipython-input-26-48286669195f>\u001b[0m in \u001b[0;36m<module>\u001b[0;34m\u001b[0m\n\u001b[1;32m     23\u001b[0m \u001b[0me_ndarray\u001b[0m \u001b[0;34m=\u001b[0m \u001b[0mnp\u001b[0m\u001b[0;34m.\u001b[0m\u001b[0marray\u001b[0m\u001b[0;34m(\u001b[0m\u001b[0;34m[\u001b[0m\u001b[0;34m[\u001b[0m\u001b[0;34m-\u001b[0m\u001b[0;36m9\u001b[0m\u001b[0;34m,\u001b[0m \u001b[0;36m8\u001b[0m\u001b[0;34m,\u001b[0m \u001b[0;36m7\u001b[0m\u001b[0;34m]\u001b[0m\u001b[0;34m,\u001b[0m \u001b[0;34m[\u001b[0m\u001b[0;36m6\u001b[0m\u001b[0;34m,\u001b[0m \u001b[0;34m-\u001b[0m\u001b[0;36m5\u001b[0m\u001b[0;34m,\u001b[0m \u001b[0;36m4\u001b[0m\u001b[0;34m]\u001b[0m\u001b[0;34m]\u001b[0m\u001b[0;34m)\u001b[0m\u001b[0;34m\u001b[0m\u001b[0;34m\u001b[0m\u001b[0m\n\u001b[1;32m     24\u001b[0m \u001b[0;34m\u001b[0m\u001b[0m\n\u001b[0;32m---> 25\u001b[0;31m \u001b[0mmatlix_malti\u001b[0m\u001b[0;34m(\u001b[0m\u001b[0md_ndarray\u001b[0m\u001b[0;34m,\u001b[0m \u001b[0me_ndarray\u001b[0m\u001b[0;34m)\u001b[0m\u001b[0;34m\u001b[0m\u001b[0;34m\u001b[0m\u001b[0m\n\u001b[0m",
      "\u001b[0;32m<ipython-input-26-48286669195f>\u001b[0m in \u001b[0;36mmatlix_malti\u001b[0;34m(a_ndarray, b_ndarray)\u001b[0m\n\u001b[1;32m     15\u001b[0m         \u001b[0;32mfor\u001b[0m \u001b[0mj\u001b[0m \u001b[0;32min\u001b[0m \u001b[0mrange\u001b[0m\u001b[0;34m(\u001b[0m\u001b[0mjj\u001b[0m\u001b[0;34m)\u001b[0m\u001b[0;34m:\u001b[0m\u001b[0;34m\u001b[0m\u001b[0;34m\u001b[0m\u001b[0m\n\u001b[1;32m     16\u001b[0m             \u001b[0;32mfor\u001b[0m \u001b[0mk\u001b[0m \u001b[0;32min\u001b[0m \u001b[0mrange\u001b[0m\u001b[0;34m(\u001b[0m\u001b[0mkk\u001b[0m\u001b[0;34m)\u001b[0m\u001b[0;34m:\u001b[0m\u001b[0;34m\u001b[0m\u001b[0;34m\u001b[0m\u001b[0m\n\u001b[0;32m---> 17\u001b[0;31m                 \u001b[0mx\u001b[0m\u001b[0;34m[\u001b[0m\u001b[0mi\u001b[0m\u001b[0;34m]\u001b[0m\u001b[0;34m[\u001b[0m\u001b[0mj\u001b[0m\u001b[0;34m]\u001b[0m \u001b[0;34m=\u001b[0m \u001b[0mx\u001b[0m\u001b[0;34m[\u001b[0m\u001b[0mi\u001b[0m\u001b[0;34m]\u001b[0m\u001b[0;34m[\u001b[0m\u001b[0mj\u001b[0m\u001b[0;34m]\u001b[0m \u001b[0;34m+\u001b[0m \u001b[0ma_list\u001b[0m\u001b[0;34m[\u001b[0m\u001b[0mi\u001b[0m\u001b[0;34m]\u001b[0m\u001b[0;34m[\u001b[0m\u001b[0mk\u001b[0m\u001b[0;34m]\u001b[0m \u001b[0;34m*\u001b[0m \u001b[0mbT_list\u001b[0m\u001b[0;34m[\u001b[0m\u001b[0mj\u001b[0m\u001b[0;34m]\u001b[0m\u001b[0;34m[\u001b[0m\u001b[0mk\u001b[0m\u001b[0;34m]\u001b[0m\u001b[0;34m\u001b[0m\u001b[0;34m\u001b[0m\u001b[0m\n\u001b[0m\u001b[1;32m     18\u001b[0m \u001b[0;34m\u001b[0m\u001b[0m\n\u001b[1;32m     19\u001b[0m     \u001b[0;32mreturn\u001b[0m \u001b[0mx\u001b[0m\u001b[0;34m\u001b[0m\u001b[0;34m\u001b[0m\u001b[0m\n",
      "\u001b[0;31mIndexError\u001b[0m: index 2 is out of bounds for axis 0 with size 2"
     ]
    }
   ],
   "source": [
    "def matlix_malti(a_ndarray, b_ndarray):\n",
    "    if len(a_ndarray[0]) != len(b_ndarray):\n",
    "        print('一個目の行列の列の数と二個目の行列の行の数が合いません')\n",
    "    \n",
    "    \n",
    "    a_list = a_ndarray.tolist()\n",
    "    bT_list = b_ndarray.T.tolist()\n",
    "\n",
    "    x = np.zeros((len(a_list[0]), len(bT_list[0])))\n",
    "    ii = len(a_list[0])\n",
    "    kk = len(bT_list[0])\n",
    "    jj = len(a_list[0])\n",
    "\n",
    "    for i in range(ii):\n",
    "        for j in range(jj):\n",
    "            for k in range(kk):\n",
    "                x[i][j] = x[i][j] + a_list[i][k] * bT_list[j][k]\n",
    "        \n",
    "    return x\n",
    "\n",
    "\n",
    "d_ndarray = np.array([[-1, 2, 3], [4, -5, 6]])\n",
    "e_ndarray = np.array([[-9, 8, 7], [6, -5, 4]])\n",
    "\n",
    "matlix_malti(d_ndarray, e_ndarray)"
   ]
  },
  {
   "cell_type": "markdown",
   "metadata": {},
   "source": [
    "【問題6】転置\n",
    "片方の行列を転置することで、行列積が計算できるようになります。\n",
    "\n",
    "np.transpose()や.Tアトリビュートを用いて転置し、行列積を計算してください。\n",
    "\n",
    "numpy.transpose — NumPy v1.16 Manual\n",
    "\n",
    "numpy.ndarray.T — NumPy v1.16 Manual"
   ]
  },
  {
   "cell_type": "code",
   "execution_count": 27,
   "metadata": {},
   "outputs": [
    {
     "data": {
      "text/plain": [
       "array([[ 33., -28.],\n",
       "       [-48.,  41.]])"
      ]
     },
     "execution_count": 27,
     "metadata": {},
     "output_type": "execute_result"
    }
   ],
   "source": [
    "def matlix_malti(a_ndarray, b_ndarray):\n",
    "    if len(a_ndarray[0]) != len(b_ndarray):\n",
    "        print('一個目の行列の列の数と二個目の行列の行の数が合いません')\n",
    "    \n",
    "    \n",
    "    a_list = a_ndarray.tolist()\n",
    "    bT_list = b_ndarray.T.tolist()\n",
    "\n",
    "    x = np.zeros((len(a_list[0]), len(bT_list[0])))\n",
    "    ii = len(a_list[0])\n",
    "    kk = len(bT_list[0])\n",
    "    jj = len(a_list[0])\n",
    "\n",
    "    for i in range(ii):\n",
    "        for j in range(jj):\n",
    "            for k in range(kk):\n",
    "                x[i][j] = x[i][j] + a_list[i][k] * bT_list[j][k]\n",
    "        \n",
    "    return x\n",
    "\n",
    "d_ndarray = np.array([[-1, 2, 3], [4, -5, 6]])\n",
    "d_ndarray_T =  np.transpose(d_ndarray)# d_ndarray'転置'しました。\n",
    "e_ndarray = np.array([[-9, 8, 7], [6, -5, 4]])\n",
    "\n",
    "matlix_malti(d_ndarray_T, e_ndarray)#計算可能になった。"
   ]
  },
  {
   "cell_type": "code",
   "execution_count": null,
   "metadata": {},
   "outputs": [],
   "source": []
  }
 ],
 "metadata": {
  "kernelspec": {
   "display_name": "Python 3",
   "language": "python",
   "name": "python3"
  },
  "language_info": {
   "codemirror_mode": {
    "name": "ipython",
    "version": 3
   },
   "file_extension": ".py",
   "mimetype": "text/x-python",
   "name": "python",
   "nbconvert_exporter": "python",
   "pygments_lexer": "ipython3",
   "version": "3.7.4"
  }
 },
 "nbformat": 4,
 "nbformat_minor": 2
}
