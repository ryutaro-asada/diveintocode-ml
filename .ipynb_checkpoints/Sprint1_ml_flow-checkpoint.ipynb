{
 "cells": [
  {
   "cell_type": "markdown",
   "metadata": {},
   "source": [
    "## 【問題1】クロスバリデーション\n",
    "事前学習期間では検証用データをはじめに分割しておき、それに対して指標値を計算することで検証を行っていました。（ホールドアウト法）しかし、分割の仕方により精度は変化します。実践的には クロスバリデーション（交差検証） を行います。分割を複数回行い、それぞれに対して学習と検証を行う方法です。複数回の分割のためにscikit-learnにはKFoldクラスが用意されています。\n",
    "\n",
    "事前学習期間の課題で作成したベースラインモデルに対してKFoldクラスによるクロスバリデーションを行うコードを作成し実行してください。"
   ]
  },
  {
   "cell_type": "code",
   "execution_count": 1,
   "metadata": {},
   "outputs": [],
   "source": [
    "# numpy and pandas for data manipulation\n",
    "import numpy as np\n",
    "import pandas as pd \n",
    "\n",
    "# sklearn preprocessing for dealing with categorical variables\n",
    "from sklearn.preprocessing import LabelEncoder\n",
    "\n",
    "# File system manangement\n",
    "import os\n",
    "\n",
    "# Suppress warnings \n",
    "import warnings\n",
    "warnings.filterwarnings('ignore')\n",
    "\n",
    "# matplotlib and seaborn for plotting\n",
    "import matplotlib.pyplot as plt\n",
    "import seaborn as sns"
   ]
  },
  {
   "cell_type": "code",
   "execution_count": 26,
   "metadata": {},
   "outputs": [],
   "source": [
    "train = pd.read_csv('/Users/user/Downloads/material_dive/kaggle/home-credit-default-risk/application_train.csv')"
   ]
  },
  {
   "cell_type": "code",
   "execution_count": 27,
   "metadata": {},
   "outputs": [],
   "source": [
    "test = pd.read_csv('/Users/user/Downloads/material_dive/kaggle/home-credit-default-risk/application_test.csv')"
   ]
  },
  {
   "cell_type": "code",
   "execution_count": 28,
   "metadata": {},
   "outputs": [],
   "source": [
    "train_X = train.drop(columns=['TARGET'])"
   ]
  },
  {
   "cell_type": "code",
   "execution_count": 29,
   "metadata": {},
   "outputs": [],
   "source": [
    "train_y = train['TARGET']"
   ]
  },
  {
   "cell_type": "code",
   "execution_count": 30,
   "metadata": {},
   "outputs": [
    {
     "data": {
      "text/plain": [
       "array([[100002, 'Cash loans', 'M', ..., 0.0, 0.0, 1.0],\n",
       "       [100003, 'Cash loans', 'F', ..., 0.0, 0.0, 0.0],\n",
       "       [100004, 'Revolving loans', 'M', ..., 0.0, 0.0, 0.0],\n",
       "       ...,\n",
       "       [456253, 'Cash loans', 'F', ..., 1.0, 0.0, 1.0],\n",
       "       [456254, 'Cash loans', 'F', ..., 0.0, 0.0, 0.0],\n",
       "       [456255, 'Cash loans', 'F', ..., 2.0, 0.0, 1.0]], dtype=object)"
      ]
     },
     "execution_count": 30,
     "metadata": {},
     "output_type": "execute_result"
    }
   ],
   "source": [
    " np.array(train_X)"
   ]
  },
  {
   "cell_type": "code",
   "execution_count": null,
   "metadata": {},
   "outputs": [],
   "source": []
  },
  {
   "cell_type": "markdown",
   "metadata": {},
   "source": [
    "## クロスバリデーション　定義"
   ]
  },
  {
   "cell_type": "code",
   "execution_count": 102,
   "metadata": {},
   "outputs": [
    {
     "name": "stdout",
     "output_type": "stream",
     "text": [
      "KFold(n_splits=5, random_state=1, shuffle=True)\n"
     ]
    }
   ],
   "source": [
    "import numpy as np\n",
    "from sklearn.model_selection import KFold\n",
    "X =  np.array(train_X)\n",
    "kf = KFold(n_splits=5, shuffle = True, random_state = 1)\n",
    "kf.get_n_splits(X)\n",
    "\n",
    "print(kf)"
   ]
  },
  {
   "cell_type": "markdown",
   "metadata": {},
   "source": [
    "## クロスバリデーション　インデックスの表示"
   ]
  },
  {
   "cell_type": "code",
   "execution_count": 33,
   "metadata": {},
   "outputs": [
    {
     "name": "stdout",
     "output_type": "stream",
     "text": [
      "TRAIN: [     0      2      3 ... 307508 307509 307510] TEST: [     1      4      6 ... 307493 307495 307501]\n",
      "TRAIN: [     0      1      2 ... 307508 307509 307510] TEST: [     3     18     22 ... 307499 307503 307504]\n",
      "TRAIN: [     0      1      2 ... 307508 307509 307510] TEST: [     9     10     15 ... 307489 307492 307502]\n",
      "TRAIN: [     0      1      2 ... 307506 307507 307508] TEST: [    12     16     23 ... 307505 307509 307510]\n",
      "TRAIN: [     1      3      4 ... 307505 307509 307510] TEST: [     0      2      5 ... 307506 307507 307508]\n"
     ]
    }
   ],
   "source": [
    "for train_index, test_index in kf.split(X):\n",
    "    print(\"TRAIN:\", train_index, \"TEST:\", test_index)\n",
    "    X_train, X_test = X[train_index], X[test_index]\n",
    "    y_train, y_test = y[train_index], y[test_index]"
   ]
  },
  {
   "cell_type": "markdown",
   "metadata": {},
   "source": [
    "## ホットエンコード"
   ]
  },
  {
   "cell_type": "code",
   "execution_count": 136,
   "metadata": {},
   "outputs": [
    {
     "name": "stdout",
     "output_type": "stream",
     "text": [
      "Training Features shape:  (307511, 245)\n",
      "Testing Features shape:  (48744, 242)\n"
     ]
    }
   ],
   "source": [
    "X = pd.get_dummies(train_X)\n",
    "test = pd.get_dummies(test)\n",
    "\n",
    "print('Training Features shape: ', X.shape)\n",
    "print('Testing Features shape: ', test.shape)"
   ]
  },
  {
   "cell_type": "code",
   "execution_count": 39,
   "metadata": {},
   "outputs": [
    {
     "data": {
      "text/plain": [
       "SK_ID_CURR                          0\n",
       "CNT_CHILDREN                        0\n",
       "AMT_INCOME_TOTAL                    0\n",
       "AMT_CREDIT                          0\n",
       "AMT_ANNUITY                        12\n",
       "                                   ..\n",
       "WALLSMATERIAL_MODE_Panel            0\n",
       "WALLSMATERIAL_MODE_Stone, brick     0\n",
       "WALLSMATERIAL_MODE_Wooden           0\n",
       "EMERGENCYSTATE_MODE_No              0\n",
       "EMERGENCYSTATE_MODE_Yes             0\n",
       "Length: 245, dtype: int64"
      ]
     },
     "execution_count": 39,
     "metadata": {},
     "output_type": "execute_result"
    }
   ],
   "source": [
    "X.isnull().sum()"
   ]
  },
  {
   "cell_type": "code",
   "execution_count": null,
   "metadata": {},
   "outputs": [],
   "source": []
  },
  {
   "cell_type": "markdown",
   "metadata": {},
   "source": [
    "## 欠損値のインプット"
   ]
  },
  {
   "cell_type": "code",
   "execution_count": 69,
   "metadata": {},
   "outputs": [],
   "source": [
    "from sklearn.preprocessing import Imputer\n",
    "def imputer_device(data):\n",
    "    imr = Imputer(missing_values='NaN', strategy='mean', axis=0)\n",
    "    imr = imr.fit(data)\n",
    "    imputed_data = imr.transform(data)\n",
    "    return imputed_data"
   ]
  },
  {
   "cell_type": "code",
   "execution_count": 70,
   "metadata": {},
   "outputs": [],
   "source": [
    "X_nonan =  imputer_device(X)\n",
    "test_nonan = imputer_device(test)"
   ]
  },
  {
   "cell_type": "markdown",
   "metadata": {},
   "source": [
    "## クロスバリデーショんで ロジスティック回帰を使う"
   ]
  },
  {
   "cell_type": "code",
   "execution_count": 45,
   "metadata": {},
   "outputs": [
    {
     "data": {
      "text/plain": [
       "array([0.91917467, 0.9192384 , 0.92010016, 0.91691327, 0.92088062])"
      ]
     },
     "execution_count": 45,
     "metadata": {},
     "output_type": "execute_result"
    }
   ],
   "source": [
    "from sklearn.model_selection import cross_val_score\n",
    "from sklearn.linear_model import LogisticRegression\n",
    "\n",
    "# Make the model with the specified regularization parameter\n",
    "log_reg = LogisticRegression(C = 0.0001)\n",
    "clf = log_reg\n",
    "cv = kf\n",
    "\n",
    "scores = cross_val_score(clf, X_nonan, y, cv=cv)\n",
    "scores"
   ]
  },
  {
   "cell_type": "markdown",
   "metadata": {},
   "source": [
    "## 【問題2】グリッドサーチ"
   ]
  },
  {
   "cell_type": "markdown",
   "metadata": {},
   "source": [
    "## パラメータ捜索範囲の設定"
   ]
  },
  {
   "cell_type": "code",
   "execution_count": 81,
   "metadata": {},
   "outputs": [
    {
     "data": {
      "text/plain": [
       "[0.0001,\n",
       " 0.001,\n",
       " 0.01,\n",
       " 0.1,\n",
       " 1.0,\n",
       " 10.0,\n",
       " 100.0,\n",
       " 1000.0,\n",
       " 10000.0,\n",
       " 100000.0,\n",
       " 1000000.0]"
      ]
     },
     "execution_count": 81,
     "metadata": {},
     "output_type": "execute_result"
    }
   ],
   "source": [
    "C = 0.0001\n",
    "C_list = [C]\n",
    "for i in range(10):\n",
    "    C *= 10\n",
    "    C_list.append(C)\n",
    "    \n",
    "C_list"
   ]
  },
  {
   "cell_type": "code",
   "execution_count": 82,
   "metadata": {},
   "outputs": [],
   "source": [
    "from sklearn import svm, datasets\n",
    "from sklearn.model_selection import GridSearchCV\n",
    "parameters = {'C':C_list}\n",
    "clf = GridSearchCV(log_reg,parameters)\n",
    "gs = clf.fit(X_nonan, y)\n",
    "\n",
    "# sorted(clf.cv_results_.keys())\n",
    "# ['mean_fit_time', 'mean_score_time', 'mean_test_score',...\n",
    "#  'param_C', 'param_kernel', 'params',...\n",
    "#  'rank_test_score', 'split0_test_score',...\n",
    "#  'split2_test_score', ...\n",
    "#  'std_fit_time', 'std_score_time', 'std_test_score']"
   ]
  },
  {
   "cell_type": "code",
   "execution_count": 83,
   "metadata": {},
   "outputs": [
    {
     "data": {
      "text/plain": [
       "0.9192646767107518"
      ]
     },
     "execution_count": 83,
     "metadata": {},
     "output_type": "execute_result"
    }
   ],
   "source": [
    "gs.best_score_"
   ]
  },
  {
   "cell_type": "code",
   "execution_count": 85,
   "metadata": {},
   "outputs": [
    {
     "data": {
      "text/plain": [
       "{'mean_fit_time': array([13.49084703, 10.85066136, 10.42762995, 13.37147872, 12.94564001,\n",
       "        15.70965354, 12.59363556, 11.83601499, 12.26587828, 12.16538095,\n",
       "        13.90194464]),\n",
       " 'std_fit_time': array([1.42771225, 0.23045182, 1.01987911, 2.53587145, 0.29187924,\n",
       "        3.67126378, 0.3500925 , 0.94032733, 0.48106212, 0.41386339,\n",
       "        1.62836954]),\n",
       " 'mean_score_time': array([0.09835299, 0.04865559, 0.0561866 , 0.14818128, 0.06568233,\n",
       "        0.32414309, 0.06030695, 0.07691169, 0.05446378, 0.06458831,\n",
       "        0.13391137]),\n",
       " 'std_score_time': array([0.06339302, 0.00496351, 0.00678361, 0.09529281, 0.01524161,\n",
       "        0.0733141 , 0.00946882, 0.03175869, 0.00072845, 0.01367336,\n",
       "        0.11137411]),\n",
       " 'param_C': masked_array(data=[0.0001, 0.001, 0.01, 0.1, 1.0, 10.0, 100.0, 1000.0,\n",
       "                    10000.0, 100000.0, 1000000.0],\n",
       "              mask=[False, False, False, False, False, False, False, False,\n",
       "                    False, False, False],\n",
       "        fill_value='?',\n",
       "             dtype=object),\n",
       " 'params': [{'C': 0.0001},\n",
       "  {'C': 0.001},\n",
       "  {'C': 0.01},\n",
       "  {'C': 0.1},\n",
       "  {'C': 1.0},\n",
       "  {'C': 10.0},\n",
       "  {'C': 100.0},\n",
       "  {'C': 1000.0},\n",
       "  {'C': 10000.0},\n",
       "  {'C': 100000.0},\n",
       "  {'C': 1000000.0}],\n",
       " 'split0_test_score': array([0.91925193, 0.91925193, 0.91925193, 0.91925193, 0.91925193,\n",
       "        0.91925193, 0.91925193, 0.91925193, 0.91925193, 0.91925193,\n",
       "        0.91925193]),\n",
       " 'split1_test_score': array([0.91927144, 0.91927144, 0.91927144, 0.91927144, 0.91927144,\n",
       "        0.91927144, 0.91927144, 0.91927144, 0.91927144, 0.91927144,\n",
       "        0.91927144]),\n",
       " 'split2_test_score': array([0.91927066, 0.91927066, 0.91927066, 0.91927066, 0.91927066,\n",
       "        0.91927066, 0.91927066, 0.91927066, 0.91927066, 0.91927066,\n",
       "        0.91927066]),\n",
       " 'mean_test_score': array([0.91926468, 0.91926468, 0.91926468, 0.91926468, 0.91926468,\n",
       "        0.91926468, 0.91926468, 0.91926468, 0.91926468, 0.91926468,\n",
       "        0.91926468]),\n",
       " 'std_test_score': array([9.01788731e-06, 9.01788731e-06, 9.01788731e-06, 9.01788731e-06,\n",
       "        9.01788731e-06, 9.01788731e-06, 9.01788731e-06, 9.01788731e-06,\n",
       "        9.01788731e-06, 9.01788731e-06, 9.01788731e-06]),\n",
       " 'rank_test_score': array([1, 1, 1, 1, 1, 1, 1, 1, 1, 1, 1], dtype=int32)}"
      ]
     },
     "execution_count": 85,
     "metadata": {},
     "output_type": "execute_result"
    }
   ],
   "source": [
    "gs.cv_results_"
   ]
  },
  {
   "cell_type": "code",
   "execution_count": 97,
   "metadata": {},
   "outputs": [
    {
     "data": {
      "text/plain": [
       "[{'C': 0.0001},\n",
       " {'C': 0.001},\n",
       " {'C': 0.01},\n",
       " {'C': 0.1},\n",
       " {'C': 1.0},\n",
       " {'C': 10.0},\n",
       " {'C': 100.0},\n",
       " {'C': 1000.0},\n",
       " {'C': 10000.0},\n",
       " {'C': 100000.0},\n",
       " {'C': 1000000.0}]"
      ]
     },
     "execution_count": 97,
     "metadata": {},
     "output_type": "execute_result"
    }
   ],
   "source": [
    "gs.cv_results_['params']"
   ]
  },
  {
   "cell_type": "code",
   "execution_count": 98,
   "metadata": {},
   "outputs": [
    {
     "data": {
      "text/plain": [
       "array([0.91926468, 0.91926468, 0.91926468, 0.91926468, 0.91926468,\n",
       "       0.91926468, 0.91926468, 0.91926468, 0.91926468, 0.91926468,\n",
       "       0.91926468])"
      ]
     },
     "execution_count": 98,
     "metadata": {},
     "output_type": "execute_result"
    }
   ],
   "source": [
    "gs.cv_results_['mean_test_score']"
   ]
  },
  {
   "cell_type": "markdown",
   "metadata": {},
   "source": [
    "## 【問題3】Kernelからの調査\n",
    "KaggleのKernelから様々なアイデアを見つけ出して、列挙してください。"
   ]
  },
  {
   "cell_type": "markdown",
   "metadata": {},
   "source": [
    "## アイデア\n",
    "\n",
    "/feature importanceから重要な特徴量を見つけだす  \n",
    "/見つけた特徴量を組み合わせて、新たな特徴量を生成する   \n",
    "/lightGBMがいいらしいので使ってみる。   \n",
    "/とりあえす　他のモデルも片っ端から試す。　　  \n",
    "/外れ値なんとかできないか"
   ]
  },
  {
   "cell_type": "markdown",
   "metadata": {},
   "source": [
    "### 方針  \n",
    "\n",
    "/欠損値の補完  \n",
    "/見つけた特徴量を組み合わせて、新たな特徴量を生成する   \n",
    "/train_data test_dataの列を揃える    \n",
    "/lightGBMがいいらしいので使ってみる。   \n",
    "/とりあえす　他のモデルも片っ端から試す    \n",
    "/cross_validasion"
   ]
  },
  {
   "cell_type": "markdown",
   "metadata": {},
   "source": [
    "## テストデータとトレインデータの列数を揃えたい"
   ]
  },
  {
   "cell_type": "markdown",
   "metadata": {},
   "source": [
    "## alignを使って揃える。"
   ]
  },
  {
   "cell_type": "code",
   "execution_count": 137,
   "metadata": {},
   "outputs": [
    {
     "name": "stdout",
     "output_type": "stream",
     "text": [
      "(307511, 242)\n",
      "(48744, 242)\n"
     ]
    }
   ],
   "source": [
    "\n",
    "# # Align the training and testing data, keep only columns present in both dataframes\n",
    "train_a, test_a = X.align(test, join = 'inner', axis = 1)\n",
    "print(train_a.shape)\n",
    "print(test_a.shape)"
   ]
  },
  {
   "cell_type": "markdown",
   "metadata": {},
   "source": [
    "## 違うパターン「揃え方」\n",
    "##  trainにしかないデータの違いを抽出"
   ]
  },
  {
   "cell_type": "code",
   "execution_count": 138,
   "metadata": {},
   "outputs": [
    {
     "name": "stdout",
     "output_type": "stream",
     "text": [
      "Index(['CODE_GENDER_XNA', 'NAME_FAMILY_STATUS_Unknown',\n",
      "       'NAME_INCOME_TYPE_Maternity leave'],\n",
      "      dtype='object')\n"
     ]
    }
   ],
   "source": [
    "# X_train = pd.DataFrame(X_nonan )\n",
    "# X_test = pd.DataFrame(test_nonan)\n",
    "print(X.columns.difference(test.columns))\n",
    "\n",
    "# X_nonan =  imputer_device(X)\n",
    "# test_nonan = imputer_device(test)"
   ]
  },
  {
   "cell_type": "markdown",
   "metadata": {},
   "source": [
    "## 欠損値のインプットのパンダス版"
   ]
  },
  {
   "cell_type": "code",
   "execution_count": 166,
   "metadata": {},
   "outputs": [],
   "source": [
    "X_filled = X.fillna(X.mean())\n",
    "test_filled_np = test.fillna(test.mean())"
   ]
  },
  {
   "cell_type": "markdown",
   "metadata": {},
   "source": [
    "## trainにかないデータを削除"
   ]
  },
  {
   "cell_type": "code",
   "execution_count": 167,
   "metadata": {},
   "outputs": [],
   "source": [
    "X_filled = X_filled.drop(columns = ['CODE_GENDER_XNA', 'NAME_FAMILY_STATUS_Unknown',\n",
    "       'NAME_INCOME_TYPE_Maternity leave'])"
   ]
  },
  {
   "cell_type": "code",
   "execution_count": 270,
   "metadata": {},
   "outputs": [
    {
     "name": "stdout",
     "output_type": "stream",
     "text": [
      "(307511, 242)\n",
      "(48744, 242)\n"
     ]
    }
   ],
   "source": [
    "print(X_filled.shape)\n",
    "print(test_filled.shape)"
   ]
  },
  {
   "cell_type": "markdown",
   "metadata": {},
   "source": [
    "## 相関関係の確認"
   ]
  },
  {
   "cell_type": "code",
   "execution_count": 186,
   "metadata": {},
   "outputs": [
    {
     "name": "stdout",
     "output_type": "stream",
     "text": [
      "Most Positive Correlations:\n",
      " DAYS_REGISTRATION                                    0.041975\n",
      "OCCUPATION_TYPE_Laborers                             0.043019\n",
      "FLAG_DOCUMENT_3                                      0.044346\n",
      "REG_CITY_NOT_LIVE_CITY                               0.044395\n",
      "FLAG_EMP_PHONE                                       0.045982\n",
      "NAME_EDUCATION_TYPE_Secondary / secondary special    0.049824\n",
      "REG_CITY_NOT_WORK_CITY                               0.050994\n",
      "DAYS_ID_PUBLISH                                      0.051457\n",
      "CODE_GENDER_M                                        0.054713\n",
      "DAYS_LAST_PHONE_CHANGE                               0.055218\n",
      "NAME_INCOME_TYPE_Working                             0.057481\n",
      "REGION_RATING_CLIENT                                 0.058899\n",
      "REGION_RATING_CLIENT_W_CITY                          0.060893\n",
      "DAYS_BIRTH                                           0.078239\n",
      "TARGET                                               1.000000\n",
      "Name: TARGET, dtype: float64\n",
      "\n",
      "Most Negative Correlations:\n",
      " EXT_SOURCE_2                           -0.160303\n",
      "EXT_SOURCE_3                           -0.157397\n",
      "EXT_SOURCE_1                           -0.099152\n",
      "NAME_EDUCATION_TYPE_Higher education   -0.056593\n",
      "CODE_GENDER_F                          -0.054704\n",
      "NAME_INCOME_TYPE_Pensioner             -0.046209\n",
      "ORGANIZATION_TYPE_XNA                  -0.045987\n",
      "DAYS_EMPLOYED                          -0.044932\n",
      "EMERGENCYSTATE_MODE_No                 -0.042201\n",
      "HOUSETYPE_MODE_block of flats          -0.040594\n",
      "AMT_GOODS_PRICE                        -0.039628\n",
      "REGION_POPULATION_RELATIVE             -0.037227\n",
      "WALLSMATERIAL_MODE_Panel               -0.033119\n",
      "NAME_CONTRACT_TYPE_Revolving loans     -0.030896\n",
      "AMT_CREDIT                             -0.030369\n",
      "Name: TARGET, dtype: float64\n"
     ]
    }
   ],
   "source": [
    "# Find correlations with the target and sort\n",
    "train_data = pd.concat([X_filled, train_y], axis=1)\n",
    "\n",
    "correlations = train_data.corr()['TARGET'].sort_values()\n",
    "\n",
    "# Display correlations\n",
    "print('Most Positive Correlations:\\n', correlations.tail(15))\n",
    "print('\\nMost Negative Correlations:\\n', correlations.head(15))"
   ]
  },
  {
   "cell_type": "code",
   "execution_count": 348,
   "metadata": {},
   "outputs": [
    {
     "name": "stdout",
     "output_type": "stream",
     "text": [
      "(307511, 243)\n"
     ]
    }
   ],
   "source": [
    "print(train_data.shape)#相関ように、train dataにターゲットが入っている。"
   ]
  },
  {
   "cell_type": "markdown",
   "metadata": {},
   "source": [
    "## 相関のいい外部ソース　を選択"
   ]
  },
  {
   "cell_type": "code",
   "execution_count": 178,
   "metadata": {},
   "outputs": [
    {
     "data": {
      "text/html": [
       "<div>\n",
       "<style scoped>\n",
       "    .dataframe tbody tr th:only-of-type {\n",
       "        vertical-align: middle;\n",
       "    }\n",
       "\n",
       "    .dataframe tbody tr th {\n",
       "        vertical-align: top;\n",
       "    }\n",
       "\n",
       "    .dataframe thead th {\n",
       "        text-align: right;\n",
       "    }\n",
       "</style>\n",
       "<table border=\"1\" class=\"dataframe\">\n",
       "  <thead>\n",
       "    <tr style=\"text-align: right;\">\n",
       "      <th></th>\n",
       "      <th>TARGET</th>\n",
       "      <th>EXT_SOURCE_1</th>\n",
       "      <th>EXT_SOURCE_2</th>\n",
       "      <th>EXT_SOURCE_3</th>\n",
       "      <th>DAYS_BIRTH</th>\n",
       "    </tr>\n",
       "  </thead>\n",
       "  <tbody>\n",
       "    <tr>\n",
       "      <td>TARGET</td>\n",
       "      <td>1.000000</td>\n",
       "      <td>-0.099152</td>\n",
       "      <td>-0.160303</td>\n",
       "      <td>-0.157397</td>\n",
       "      <td>0.078239</td>\n",
       "    </tr>\n",
       "    <tr>\n",
       "      <td>EXT_SOURCE_1</td>\n",
       "      <td>-0.099152</td>\n",
       "      <td>1.000000</td>\n",
       "      <td>0.135721</td>\n",
       "      <td>0.110606</td>\n",
       "      <td>-0.358525</td>\n",
       "    </tr>\n",
       "    <tr>\n",
       "      <td>EXT_SOURCE_2</td>\n",
       "      <td>-0.160303</td>\n",
       "      <td>0.135721</td>\n",
       "      <td>1.000000</td>\n",
       "      <td>0.096653</td>\n",
       "      <td>-0.091885</td>\n",
       "    </tr>\n",
       "    <tr>\n",
       "      <td>EXT_SOURCE_3</td>\n",
       "      <td>-0.157397</td>\n",
       "      <td>0.110606</td>\n",
       "      <td>0.096653</td>\n",
       "      <td>1.000000</td>\n",
       "      <td>-0.181252</td>\n",
       "    </tr>\n",
       "    <tr>\n",
       "      <td>DAYS_BIRTH</td>\n",
       "      <td>0.078239</td>\n",
       "      <td>-0.358525</td>\n",
       "      <td>-0.091885</td>\n",
       "      <td>-0.181252</td>\n",
       "      <td>1.000000</td>\n",
       "    </tr>\n",
       "  </tbody>\n",
       "</table>\n",
       "</div>"
      ],
      "text/plain": [
       "                TARGET  EXT_SOURCE_1  EXT_SOURCE_2  EXT_SOURCE_3  DAYS_BIRTH\n",
       "TARGET        1.000000     -0.099152     -0.160303     -0.157397    0.078239\n",
       "EXT_SOURCE_1 -0.099152      1.000000      0.135721      0.110606   -0.358525\n",
       "EXT_SOURCE_2 -0.160303      0.135721      1.000000      0.096653   -0.091885\n",
       "EXT_SOURCE_3 -0.157397      0.110606      0.096653      1.000000   -0.181252\n",
       "DAYS_BIRTH    0.078239     -0.358525     -0.091885     -0.181252    1.000000"
      ]
     },
     "execution_count": 178,
     "metadata": {},
     "output_type": "execute_result"
    }
   ],
   "source": [
    "# Extract the EXT_SOURCE variables and show correlations\n",
    "ext_data = train_data[['TARGET', 'EXT_SOURCE_1', 'EXT_SOURCE_2', 'EXT_SOURCE_3', 'DAYS_BIRTH']]\n",
    "ext_data_corrs = ext_data.corr()\n",
    "ext_data_corrs"
   ]
  },
  {
   "cell_type": "code",
   "execution_count": 272,
   "metadata": {},
   "outputs": [],
   "source": [
    "# Make a new dataframe for polynomial features\n",
    "poly_features = train_data[['EXT_SOURCE_1', 'EXT_SOURCE_2', 'EXT_SOURCE_3', 'DAYS_BIRTH', 'TARGET']]\n",
    "poly_features_test = test_filled[['EXT_SOURCE_1', 'EXT_SOURCE_2', 'EXT_SOURCE_3', 'DAYS_BIRTH']]\n",
    "\n",
    "# imputer for handling missing values\n",
    "# from sklearn.preprocessing import Imputer\n",
    "# imputer = Imputer(strategy = 'median')\n",
    "\n",
    "poly_target = poly_features['TARGET']\n",
    "\n",
    "poly_features = poly_features.drop(columns = ['TARGET'])\n",
    "\n",
    "# # Need to impute missing values\n",
    "# poly_features = imputer.fit_transform(poly_features)\n",
    "# poly_features_test = imputer.transform(poly_features_test)\n",
    "\n",
    "from sklearn.preprocessing import PolynomialFeatures\n",
    "                                  \n",
    "# Create the polynomial object with specified degree\n",
    "poly_transformer = PolynomialFeatures(degree = 3)"
   ]
  },
  {
   "cell_type": "code",
   "execution_count": 273,
   "metadata": {},
   "outputs": [
    {
     "data": {
      "text/html": [
       "<div>\n",
       "<style scoped>\n",
       "    .dataframe tbody tr th:only-of-type {\n",
       "        vertical-align: middle;\n",
       "    }\n",
       "\n",
       "    .dataframe tbody tr th {\n",
       "        vertical-align: top;\n",
       "    }\n",
       "\n",
       "    .dataframe thead th {\n",
       "        text-align: right;\n",
       "    }\n",
       "</style>\n",
       "<table border=\"1\" class=\"dataframe\">\n",
       "  <thead>\n",
       "    <tr style=\"text-align: right;\">\n",
       "      <th></th>\n",
       "      <th>EXT_SOURCE_1</th>\n",
       "      <th>EXT_SOURCE_2</th>\n",
       "      <th>EXT_SOURCE_3</th>\n",
       "      <th>DAYS_BIRTH</th>\n",
       "    </tr>\n",
       "  </thead>\n",
       "  <tbody>\n",
       "    <tr>\n",
       "      <td>0</td>\n",
       "      <td>0.083037</td>\n",
       "      <td>0.262949</td>\n",
       "      <td>0.139376</td>\n",
       "      <td>-9461</td>\n",
       "    </tr>\n",
       "    <tr>\n",
       "      <td>1</td>\n",
       "      <td>0.311267</td>\n",
       "      <td>0.622246</td>\n",
       "      <td>0.510853</td>\n",
       "      <td>-16765</td>\n",
       "    </tr>\n",
       "    <tr>\n",
       "      <td>2</td>\n",
       "      <td>0.502130</td>\n",
       "      <td>0.555912</td>\n",
       "      <td>0.729567</td>\n",
       "      <td>-19046</td>\n",
       "    </tr>\n",
       "    <tr>\n",
       "      <td>3</td>\n",
       "      <td>0.502130</td>\n",
       "      <td>0.650442</td>\n",
       "      <td>0.510853</td>\n",
       "      <td>-19005</td>\n",
       "    </tr>\n",
       "    <tr>\n",
       "      <td>4</td>\n",
       "      <td>0.502130</td>\n",
       "      <td>0.322738</td>\n",
       "      <td>0.510853</td>\n",
       "      <td>-19932</td>\n",
       "    </tr>\n",
       "    <tr>\n",
       "      <td>...</td>\n",
       "      <td>...</td>\n",
       "      <td>...</td>\n",
       "      <td>...</td>\n",
       "      <td>...</td>\n",
       "    </tr>\n",
       "    <tr>\n",
       "      <td>307506</td>\n",
       "      <td>0.145570</td>\n",
       "      <td>0.681632</td>\n",
       "      <td>0.510853</td>\n",
       "      <td>-9327</td>\n",
       "    </tr>\n",
       "    <tr>\n",
       "      <td>307507</td>\n",
       "      <td>0.502130</td>\n",
       "      <td>0.115992</td>\n",
       "      <td>0.510853</td>\n",
       "      <td>-20775</td>\n",
       "    </tr>\n",
       "    <tr>\n",
       "      <td>307508</td>\n",
       "      <td>0.744026</td>\n",
       "      <td>0.535722</td>\n",
       "      <td>0.218859</td>\n",
       "      <td>-14966</td>\n",
       "    </tr>\n",
       "    <tr>\n",
       "      <td>307509</td>\n",
       "      <td>0.502130</td>\n",
       "      <td>0.514163</td>\n",
       "      <td>0.661024</td>\n",
       "      <td>-11961</td>\n",
       "    </tr>\n",
       "    <tr>\n",
       "      <td>307510</td>\n",
       "      <td>0.734460</td>\n",
       "      <td>0.708569</td>\n",
       "      <td>0.113922</td>\n",
       "      <td>-16856</td>\n",
       "    </tr>\n",
       "  </tbody>\n",
       "</table>\n",
       "<p>307511 rows × 4 columns</p>\n",
       "</div>"
      ],
      "text/plain": [
       "        EXT_SOURCE_1  EXT_SOURCE_2  EXT_SOURCE_3  DAYS_BIRTH\n",
       "0           0.083037      0.262949      0.139376       -9461\n",
       "1           0.311267      0.622246      0.510853      -16765\n",
       "2           0.502130      0.555912      0.729567      -19046\n",
       "3           0.502130      0.650442      0.510853      -19005\n",
       "4           0.502130      0.322738      0.510853      -19932\n",
       "...              ...           ...           ...         ...\n",
       "307506      0.145570      0.681632      0.510853       -9327\n",
       "307507      0.502130      0.115992      0.510853      -20775\n",
       "307508      0.744026      0.535722      0.218859      -14966\n",
       "307509      0.502130      0.514163      0.661024      -11961\n",
       "307510      0.734460      0.708569      0.113922      -16856\n",
       "\n",
       "[307511 rows x 4 columns]"
      ]
     },
     "execution_count": 273,
     "metadata": {},
     "output_type": "execute_result"
    }
   ],
   "source": [
    "poly_features"
   ]
  },
  {
   "cell_type": "markdown",
   "metadata": {},
   "source": [
    "## 組み合わせ作成"
   ]
  },
  {
   "cell_type": "code",
   "execution_count": 274,
   "metadata": {},
   "outputs": [
    {
     "name": "stdout",
     "output_type": "stream",
     "text": [
      "Polynomial Features shape:  (307511, 35)\n"
     ]
    }
   ],
   "source": [
    "# Train the polynomial features\n",
    "poly_transformer.fit(poly_features)\n",
    "\n",
    "# Transform the features\n",
    "poly_features = poly_transformer.transform(poly_features)\n",
    "poly_features_test = poly_transformer.transform(poly_features_test)\n",
    "print('Polynomial Features shape: ', poly_features.shape)"
   ]
  },
  {
   "cell_type": "code",
   "execution_count": 279,
   "metadata": {},
   "outputs": [
    {
     "data": {
      "text/plain": [
       "array([[ 1.00000000e+00,  7.52614491e-01,  7.89654351e-01, ...,\n",
       "        -4.89615795e+02,  5.90566991e+07, -7.12332761e+12],\n",
       "       [ 1.00000000e+00,  5.64990202e-01,  2.91655532e-01, ...,\n",
       "        -3.38620166e+03,  1.41278897e+08, -5.89442945e+12],\n",
       "       [ 1.00000000e+00,  5.01179811e-01,  6.99786830e-01, ...,\n",
       "        -7.48039386e+03,  2.45326120e+08, -8.04568669e+12],\n",
       "       ...,\n",
       "       [ 1.00000000e+00,  7.33503500e-01,  6.32769551e-01, ...,\n",
       "        -1.28160051e+03,  7.19238232e+07, -4.03638756e+12],\n",
       "       [ 1.00000000e+00,  3.73090081e-01,  4.45700983e-01, ...,\n",
       "        -4.95260708e+03,  1.16176497e+08, -2.72522698e+12],\n",
       "       [ 1.00000000e+00,  5.01179811e-01,  4.56540667e-01, ...,\n",
       "        -1.03398023e+03,  5.30490449e+07, -2.72171659e+12]])"
      ]
     },
     "execution_count": 279,
     "metadata": {},
     "output_type": "execute_result"
    }
   ],
   "source": [
    "poly_features_test"
   ]
  },
  {
   "cell_type": "code",
   "execution_count": 275,
   "metadata": {},
   "outputs": [
    {
     "data": {
      "text/plain": [
       "array([[ 1.00000000e+00,  8.30369674e-02,  2.62948593e-01, ...,\n",
       "        -1.83785678e+02,  1.24755987e+07, -8.46859039e+11],\n",
       "       [ 1.00000000e+00,  3.11267311e-01,  6.22245775e-01, ...,\n",
       "        -4.37517365e+03,  1.43582987e+08, -4.71205850e+12],\n",
       "       [ 1.00000000e+00,  5.02129806e-01,  5.55912083e-01, ...,\n",
       "        -1.01375679e+04,  2.64650402e+08, -6.90893871e+12],\n",
       "       ...,\n",
       "       [ 1.00000000e+00,  7.44026400e-01,  5.35721752e-01, ...,\n",
       "        -7.16860892e+02,  4.90203102e+07, -3.35210198e+12],\n",
       "       [ 1.00000000e+00,  5.02129806e-01,  5.14162820e-01, ...,\n",
       "        -5.22638430e+03,  9.45696770e+07, -1.71120670e+12],\n",
       "       [ 1.00000000e+00,  7.34459669e-01,  7.08568896e-01, ...,\n",
       "        -2.18762433e+02,  3.23681708e+07, -4.78920655e+12]])"
      ]
     },
     "execution_count": 275,
     "metadata": {},
     "output_type": "execute_result"
    }
   ],
   "source": [
    "poly_features"
   ]
  },
  {
   "cell_type": "markdown",
   "metadata": {},
   "source": [
    "## feature_nameの作成"
   ]
  },
  {
   "cell_type": "code",
   "execution_count": 276,
   "metadata": {},
   "outputs": [
    {
     "data": {
      "text/plain": [
       "['1',\n",
       " 'EXT_SOURCE_1',\n",
       " 'EXT_SOURCE_2',\n",
       " 'EXT_SOURCE_3',\n",
       " 'DAYS_BIRTH',\n",
       " 'EXT_SOURCE_1^2',\n",
       " 'EXT_SOURCE_1 EXT_SOURCE_2',\n",
       " 'EXT_SOURCE_1 EXT_SOURCE_3',\n",
       " 'EXT_SOURCE_1 DAYS_BIRTH',\n",
       " 'EXT_SOURCE_2^2',\n",
       " 'EXT_SOURCE_2 EXT_SOURCE_3',\n",
       " 'EXT_SOURCE_2 DAYS_BIRTH',\n",
       " 'EXT_SOURCE_3^2',\n",
       " 'EXT_SOURCE_3 DAYS_BIRTH',\n",
       " 'DAYS_BIRTH^2']"
      ]
     },
     "execution_count": 276,
     "metadata": {},
     "output_type": "execute_result"
    }
   ],
   "source": [
    "poly_transformer.get_feature_names(input_features = ['EXT_SOURCE_1', 'EXT_SOURCE_2', 'EXT_SOURCE_3', 'DAYS_BIRTH'])[:15]"
   ]
  },
  {
   "cell_type": "markdown",
   "metadata": {},
   "source": [
    "## test train poly feature 作成"
   ]
  },
  {
   "cell_type": "code",
   "execution_count": 280,
   "metadata": {},
   "outputs": [
    {
     "name": "stdout",
     "output_type": "stream",
     "text": [
      "EXT_SOURCE_2 EXT_SOURCE_3                -0.194235\n",
      "EXT_SOURCE_1 EXT_SOURCE_2 EXT_SOURCE_3   -0.189593\n",
      "EXT_SOURCE_2^2 EXT_SOURCE_3              -0.176589\n",
      "EXT_SOURCE_2 EXT_SOURCE_3^2              -0.171729\n",
      "EXT_SOURCE_1 EXT_SOURCE_2                -0.166538\n",
      "EXT_SOURCE_1 EXT_SOURCE_3                -0.164933\n",
      "EXT_SOURCE_2                             -0.160303\n",
      "EXT_SOURCE_3                             -0.157397\n",
      "EXT_SOURCE_1 EXT_SOURCE_2^2              -0.156791\n",
      "EXT_SOURCE_1 EXT_SOURCE_3^2              -0.151139\n",
      "Name: TARGET, dtype: float64\n",
      "EXT_SOURCE_1 EXT_SOURCE_2 DAYS_BIRTH    0.155847\n",
      "EXT_SOURCE_2 DAYS_BIRTH                 0.156879\n",
      "EXT_SOURCE_2 EXT_SOURCE_3 DAYS_BIRTH    0.181417\n",
      "TARGET                                  1.000000\n",
      "1                                            NaN\n",
      "Name: TARGET, dtype: float64\n"
     ]
    }
   ],
   "source": [
    "# Create a dataframe of the features \n",
    "poly_features = pd.DataFrame(poly_features, \n",
    "                             columns = poly_transformer.get_feature_names(['EXT_SOURCE_1', 'EXT_SOURCE_2', \n",
    "                                                                           'EXT_SOURCE_3', 'DAYS_BIRTH']))\n",
    "\n",
    "poly_features_test = pd.DataFrame(poly_features_test, \n",
    "                             columns = poly_transformer.get_feature_names(['EXT_SOURCE_1', 'EXT_SOURCE_2', \n",
    "                                                                           'EXT_SOURCE_3', 'DAYS_BIRTH']))\n",
    "\n",
    "# Add in the target\n",
    "poly_features['TARGET'] = poly_target\n",
    "\n",
    "# Find the correlations with the target\n",
    "poly_corrs = poly_features.corr()['TARGET'].sort_values()\n",
    "\n",
    "# Display most negative and most positive\n",
    "print(poly_corrs.head(10))\n",
    "print(poly_corrs.tail(5))"
   ]
  },
  {
   "cell_type": "code",
   "execution_count": 281,
   "metadata": {},
   "outputs": [
    {
     "data": {
      "text/html": [
       "<div>\n",
       "<style scoped>\n",
       "    .dataframe tbody tr th:only-of-type {\n",
       "        vertical-align: middle;\n",
       "    }\n",
       "\n",
       "    .dataframe tbody tr th {\n",
       "        vertical-align: top;\n",
       "    }\n",
       "\n",
       "    .dataframe thead th {\n",
       "        text-align: right;\n",
       "    }\n",
       "</style>\n",
       "<table border=\"1\" class=\"dataframe\">\n",
       "  <thead>\n",
       "    <tr style=\"text-align: right;\">\n",
       "      <th></th>\n",
       "      <th>1</th>\n",
       "      <th>EXT_SOURCE_1</th>\n",
       "      <th>EXT_SOURCE_2</th>\n",
       "      <th>EXT_SOURCE_3</th>\n",
       "      <th>DAYS_BIRTH</th>\n",
       "      <th>EXT_SOURCE_1^2</th>\n",
       "      <th>EXT_SOURCE_1 EXT_SOURCE_2</th>\n",
       "      <th>EXT_SOURCE_1 EXT_SOURCE_3</th>\n",
       "      <th>EXT_SOURCE_1 DAYS_BIRTH</th>\n",
       "      <th>EXT_SOURCE_2^2</th>\n",
       "      <th>...</th>\n",
       "      <th>EXT_SOURCE_2^3</th>\n",
       "      <th>EXT_SOURCE_2^2 EXT_SOURCE_3</th>\n",
       "      <th>EXT_SOURCE_2^2 DAYS_BIRTH</th>\n",
       "      <th>EXT_SOURCE_2 EXT_SOURCE_3^2</th>\n",
       "      <th>EXT_SOURCE_2 EXT_SOURCE_3 DAYS_BIRTH</th>\n",
       "      <th>EXT_SOURCE_2 DAYS_BIRTH^2</th>\n",
       "      <th>EXT_SOURCE_3^3</th>\n",
       "      <th>EXT_SOURCE_3^2 DAYS_BIRTH</th>\n",
       "      <th>EXT_SOURCE_3 DAYS_BIRTH^2</th>\n",
       "      <th>DAYS_BIRTH^3</th>\n",
       "    </tr>\n",
       "  </thead>\n",
       "  <tbody>\n",
       "    <tr>\n",
       "      <td>0</td>\n",
       "      <td>1.0</td>\n",
       "      <td>0.752614</td>\n",
       "      <td>0.789654</td>\n",
       "      <td>0.159520</td>\n",
       "      <td>-19241.0</td>\n",
       "      <td>0.566429</td>\n",
       "      <td>0.594305</td>\n",
       "      <td>0.120057</td>\n",
       "      <td>-14481.055414</td>\n",
       "      <td>0.623554</td>\n",
       "      <td>...</td>\n",
       "      <td>0.492392</td>\n",
       "      <td>0.099469</td>\n",
       "      <td>-11997.802403</td>\n",
       "      <td>0.020094</td>\n",
       "      <td>-2423.698322</td>\n",
       "      <td>2.923427e+08</td>\n",
       "      <td>0.004059</td>\n",
       "      <td>-489.615795</td>\n",
       "      <td>5.905670e+07</td>\n",
       "      <td>-7.123328e+12</td>\n",
       "    </tr>\n",
       "    <tr>\n",
       "      <td>1</td>\n",
       "      <td>1.0</td>\n",
       "      <td>0.564990</td>\n",
       "      <td>0.291656</td>\n",
       "      <td>0.432962</td>\n",
       "      <td>-18064.0</td>\n",
       "      <td>0.319214</td>\n",
       "      <td>0.164783</td>\n",
       "      <td>0.244619</td>\n",
       "      <td>-10205.983005</td>\n",
       "      <td>0.085063</td>\n",
       "      <td>...</td>\n",
       "      <td>0.024809</td>\n",
       "      <td>0.036829</td>\n",
       "      <td>-1536.577117</td>\n",
       "      <td>0.054673</td>\n",
       "      <td>-2281.043619</td>\n",
       "      <td>9.516956e+07</td>\n",
       "      <td>0.081161</td>\n",
       "      <td>-3386.201665</td>\n",
       "      <td>1.412789e+08</td>\n",
       "      <td>-5.894429e+12</td>\n",
       "    </tr>\n",
       "    <tr>\n",
       "      <td>2</td>\n",
       "      <td>1.0</td>\n",
       "      <td>0.501180</td>\n",
       "      <td>0.699787</td>\n",
       "      <td>0.610991</td>\n",
       "      <td>-20038.0</td>\n",
       "      <td>0.251181</td>\n",
       "      <td>0.350719</td>\n",
       "      <td>0.306217</td>\n",
       "      <td>-10042.641046</td>\n",
       "      <td>0.489702</td>\n",
       "      <td>...</td>\n",
       "      <td>0.342687</td>\n",
       "      <td>0.299203</td>\n",
       "      <td>-9812.640816</td>\n",
       "      <td>0.261238</td>\n",
       "      <td>-8567.521115</td>\n",
       "      <td>2.809794e+08</td>\n",
       "      <td>0.228089</td>\n",
       "      <td>-7480.393855</td>\n",
       "      <td>2.453261e+08</td>\n",
       "      <td>-8.045687e+12</td>\n",
       "    </tr>\n",
       "    <tr>\n",
       "      <td>3</td>\n",
       "      <td>1.0</td>\n",
       "      <td>0.525734</td>\n",
       "      <td>0.509677</td>\n",
       "      <td>0.612704</td>\n",
       "      <td>-13976.0</td>\n",
       "      <td>0.276396</td>\n",
       "      <td>0.267955</td>\n",
       "      <td>0.322119</td>\n",
       "      <td>-7347.658072</td>\n",
       "      <td>0.259771</td>\n",
       "      <td>...</td>\n",
       "      <td>0.132399</td>\n",
       "      <td>0.159163</td>\n",
       "      <td>-3630.555667</td>\n",
       "      <td>0.191336</td>\n",
       "      <td>-4364.443591</td>\n",
       "      <td>9.955450e+07</td>\n",
       "      <td>0.230013</td>\n",
       "      <td>-5246.681115</td>\n",
       "      <td>1.196786e+08</td>\n",
       "      <td>-2.729912e+12</td>\n",
       "    </tr>\n",
       "    <tr>\n",
       "      <td>4</td>\n",
       "      <td>1.0</td>\n",
       "      <td>0.202145</td>\n",
       "      <td>0.425687</td>\n",
       "      <td>0.500106</td>\n",
       "      <td>-13040.0</td>\n",
       "      <td>0.040863</td>\n",
       "      <td>0.086051</td>\n",
       "      <td>0.101094</td>\n",
       "      <td>-2635.970697</td>\n",
       "      <td>0.181210</td>\n",
       "      <td>...</td>\n",
       "      <td>0.077139</td>\n",
       "      <td>0.090624</td>\n",
       "      <td>-2362.974127</td>\n",
       "      <td>0.106467</td>\n",
       "      <td>-2776.067480</td>\n",
       "      <td>7.238455e+07</td>\n",
       "      <td>0.125079</td>\n",
       "      <td>-3261.377501</td>\n",
       "      <td>8.503876e+07</td>\n",
       "      <td>-2.217342e+12</td>\n",
       "    </tr>\n",
       "    <tr>\n",
       "      <td>...</td>\n",
       "      <td>...</td>\n",
       "      <td>...</td>\n",
       "      <td>...</td>\n",
       "      <td>...</td>\n",
       "      <td>...</td>\n",
       "      <td>...</td>\n",
       "      <td>...</td>\n",
       "      <td>...</td>\n",
       "      <td>...</td>\n",
       "      <td>...</td>\n",
       "      <td>...</td>\n",
       "      <td>...</td>\n",
       "      <td>...</td>\n",
       "      <td>...</td>\n",
       "      <td>...</td>\n",
       "      <td>...</td>\n",
       "      <td>...</td>\n",
       "      <td>...</td>\n",
       "      <td>...</td>\n",
       "      <td>...</td>\n",
       "      <td>...</td>\n",
       "    </tr>\n",
       "    <tr>\n",
       "      <td>48739</td>\n",
       "      <td>1.0</td>\n",
       "      <td>0.501180</td>\n",
       "      <td>0.648575</td>\n",
       "      <td>0.643026</td>\n",
       "      <td>-19970.0</td>\n",
       "      <td>0.251181</td>\n",
       "      <td>0.325053</td>\n",
       "      <td>0.322271</td>\n",
       "      <td>-10008.560818</td>\n",
       "      <td>0.420649</td>\n",
       "      <td>...</td>\n",
       "      <td>0.272823</td>\n",
       "      <td>0.270488</td>\n",
       "      <td>-8400.368742</td>\n",
       "      <td>0.268174</td>\n",
       "      <td>-8328.493414</td>\n",
       "      <td>2.586523e+08</td>\n",
       "      <td>0.265879</td>\n",
       "      <td>-8257.233066</td>\n",
       "      <td>2.564392e+08</td>\n",
       "      <td>-7.964054e+12</td>\n",
       "    </tr>\n",
       "    <tr>\n",
       "      <td>48740</td>\n",
       "      <td>1.0</td>\n",
       "      <td>0.501180</td>\n",
       "      <td>0.684596</td>\n",
       "      <td>0.500106</td>\n",
       "      <td>-11186.0</td>\n",
       "      <td>0.251181</td>\n",
       "      <td>0.343106</td>\n",
       "      <td>0.250643</td>\n",
       "      <td>-5606.197362</td>\n",
       "      <td>0.468671</td>\n",
       "      <td>...</td>\n",
       "      <td>0.320850</td>\n",
       "      <td>0.234385</td>\n",
       "      <td>-5242.555692</td>\n",
       "      <td>0.171221</td>\n",
       "      <td>-3829.752193</td>\n",
       "      <td>8.566112e+07</td>\n",
       "      <td>0.125079</td>\n",
       "      <td>-2797.681651</td>\n",
       "      <td>6.257651e+07</td>\n",
       "      <td>-1.399666e+12</td>\n",
       "    </tr>\n",
       "    <tr>\n",
       "      <td>48741</td>\n",
       "      <td>1.0</td>\n",
       "      <td>0.733503</td>\n",
       "      <td>0.632770</td>\n",
       "      <td>0.283712</td>\n",
       "      <td>-15922.0</td>\n",
       "      <td>0.538027</td>\n",
       "      <td>0.464139</td>\n",
       "      <td>0.208104</td>\n",
       "      <td>-11678.842724</td>\n",
       "      <td>0.400397</td>\n",
       "      <td>...</td>\n",
       "      <td>0.253359</td>\n",
       "      <td>0.113597</td>\n",
       "      <td>-6375.125880</td>\n",
       "      <td>0.050933</td>\n",
       "      <td>-2858.384957</td>\n",
       "      <td>1.604135e+08</td>\n",
       "      <td>0.022837</td>\n",
       "      <td>-1281.600508</td>\n",
       "      <td>7.192382e+07</td>\n",
       "      <td>-4.036388e+12</td>\n",
       "    </tr>\n",
       "    <tr>\n",
       "      <td>48742</td>\n",
       "      <td>1.0</td>\n",
       "      <td>0.373090</td>\n",
       "      <td>0.445701</td>\n",
       "      <td>0.595456</td>\n",
       "      <td>-13968.0</td>\n",
       "      <td>0.139196</td>\n",
       "      <td>0.166287</td>\n",
       "      <td>0.222159</td>\n",
       "      <td>-5211.322249</td>\n",
       "      <td>0.198649</td>\n",
       "      <td>...</td>\n",
       "      <td>0.088538</td>\n",
       "      <td>0.118287</td>\n",
       "      <td>-2774.734348</td>\n",
       "      <td>0.158031</td>\n",
       "      <td>-3707.043157</td>\n",
       "      <td>8.695850e+07</td>\n",
       "      <td>0.211130</td>\n",
       "      <td>-4952.607075</td>\n",
       "      <td>1.161765e+08</td>\n",
       "      <td>-2.725227e+12</td>\n",
       "    </tr>\n",
       "    <tr>\n",
       "      <td>48743</td>\n",
       "      <td>1.0</td>\n",
       "      <td>0.501180</td>\n",
       "      <td>0.456541</td>\n",
       "      <td>0.272134</td>\n",
       "      <td>-13962.0</td>\n",
       "      <td>0.251181</td>\n",
       "      <td>0.228809</td>\n",
       "      <td>0.136388</td>\n",
       "      <td>-6997.472516</td>\n",
       "      <td>0.208429</td>\n",
       "      <td>...</td>\n",
       "      <td>0.095156</td>\n",
       "      <td>0.056721</td>\n",
       "      <td>-2910.091018</td>\n",
       "      <td>0.033810</td>\n",
       "      <td>-1734.640191</td>\n",
       "      <td>8.899687e+07</td>\n",
       "      <td>0.020153</td>\n",
       "      <td>-1033.980235</td>\n",
       "      <td>5.304904e+07</td>\n",
       "      <td>-2.721717e+12</td>\n",
       "    </tr>\n",
       "  </tbody>\n",
       "</table>\n",
       "<p>48744 rows × 35 columns</p>\n",
       "</div>"
      ],
      "text/plain": [
       "         1  EXT_SOURCE_1  EXT_SOURCE_2  EXT_SOURCE_3  DAYS_BIRTH  \\\n",
       "0      1.0      0.752614      0.789654      0.159520    -19241.0   \n",
       "1      1.0      0.564990      0.291656      0.432962    -18064.0   \n",
       "2      1.0      0.501180      0.699787      0.610991    -20038.0   \n",
       "3      1.0      0.525734      0.509677      0.612704    -13976.0   \n",
       "4      1.0      0.202145      0.425687      0.500106    -13040.0   \n",
       "...    ...           ...           ...           ...         ...   \n",
       "48739  1.0      0.501180      0.648575      0.643026    -19970.0   \n",
       "48740  1.0      0.501180      0.684596      0.500106    -11186.0   \n",
       "48741  1.0      0.733503      0.632770      0.283712    -15922.0   \n",
       "48742  1.0      0.373090      0.445701      0.595456    -13968.0   \n",
       "48743  1.0      0.501180      0.456541      0.272134    -13962.0   \n",
       "\n",
       "       EXT_SOURCE_1^2  EXT_SOURCE_1 EXT_SOURCE_2  EXT_SOURCE_1 EXT_SOURCE_3  \\\n",
       "0            0.566429                   0.594305                   0.120057   \n",
       "1            0.319214                   0.164783                   0.244619   \n",
       "2            0.251181                   0.350719                   0.306217   \n",
       "3            0.276396                   0.267955                   0.322119   \n",
       "4            0.040863                   0.086051                   0.101094   \n",
       "...               ...                        ...                        ...   \n",
       "48739        0.251181                   0.325053                   0.322271   \n",
       "48740        0.251181                   0.343106                   0.250643   \n",
       "48741        0.538027                   0.464139                   0.208104   \n",
       "48742        0.139196                   0.166287                   0.222159   \n",
       "48743        0.251181                   0.228809                   0.136388   \n",
       "\n",
       "       EXT_SOURCE_1 DAYS_BIRTH  EXT_SOURCE_2^2  ...  EXT_SOURCE_2^3  \\\n",
       "0                -14481.055414        0.623554  ...        0.492392   \n",
       "1                -10205.983005        0.085063  ...        0.024809   \n",
       "2                -10042.641046        0.489702  ...        0.342687   \n",
       "3                 -7347.658072        0.259771  ...        0.132399   \n",
       "4                 -2635.970697        0.181210  ...        0.077139   \n",
       "...                        ...             ...  ...             ...   \n",
       "48739            -10008.560818        0.420649  ...        0.272823   \n",
       "48740             -5606.197362        0.468671  ...        0.320850   \n",
       "48741            -11678.842724        0.400397  ...        0.253359   \n",
       "48742             -5211.322249        0.198649  ...        0.088538   \n",
       "48743             -6997.472516        0.208429  ...        0.095156   \n",
       "\n",
       "       EXT_SOURCE_2^2 EXT_SOURCE_3  EXT_SOURCE_2^2 DAYS_BIRTH  \\\n",
       "0                         0.099469              -11997.802403   \n",
       "1                         0.036829               -1536.577117   \n",
       "2                         0.299203               -9812.640816   \n",
       "3                         0.159163               -3630.555667   \n",
       "4                         0.090624               -2362.974127   \n",
       "...                            ...                        ...   \n",
       "48739                     0.270488               -8400.368742   \n",
       "48740                     0.234385               -5242.555692   \n",
       "48741                     0.113597               -6375.125880   \n",
       "48742                     0.118287               -2774.734348   \n",
       "48743                     0.056721               -2910.091018   \n",
       "\n",
       "       EXT_SOURCE_2 EXT_SOURCE_3^2  EXT_SOURCE_2 EXT_SOURCE_3 DAYS_BIRTH  \\\n",
       "0                         0.020094                          -2423.698322   \n",
       "1                         0.054673                          -2281.043619   \n",
       "2                         0.261238                          -8567.521115   \n",
       "3                         0.191336                          -4364.443591   \n",
       "4                         0.106467                          -2776.067480   \n",
       "...                            ...                                   ...   \n",
       "48739                     0.268174                          -8328.493414   \n",
       "48740                     0.171221                          -3829.752193   \n",
       "48741                     0.050933                          -2858.384957   \n",
       "48742                     0.158031                          -3707.043157   \n",
       "48743                     0.033810                          -1734.640191   \n",
       "\n",
       "       EXT_SOURCE_2 DAYS_BIRTH^2  EXT_SOURCE_3^3  EXT_SOURCE_3^2 DAYS_BIRTH  \\\n",
       "0                   2.923427e+08        0.004059                -489.615795   \n",
       "1                   9.516956e+07        0.081161               -3386.201665   \n",
       "2                   2.809794e+08        0.228089               -7480.393855   \n",
       "3                   9.955450e+07        0.230013               -5246.681115   \n",
       "4                   7.238455e+07        0.125079               -3261.377501   \n",
       "...                          ...             ...                        ...   \n",
       "48739               2.586523e+08        0.265879               -8257.233066   \n",
       "48740               8.566112e+07        0.125079               -2797.681651   \n",
       "48741               1.604135e+08        0.022837               -1281.600508   \n",
       "48742               8.695850e+07        0.211130               -4952.607075   \n",
       "48743               8.899687e+07        0.020153               -1033.980235   \n",
       "\n",
       "       EXT_SOURCE_3 DAYS_BIRTH^2  DAYS_BIRTH^3  \n",
       "0                   5.905670e+07 -7.123328e+12  \n",
       "1                   1.412789e+08 -5.894429e+12  \n",
       "2                   2.453261e+08 -8.045687e+12  \n",
       "3                   1.196786e+08 -2.729912e+12  \n",
       "4                   8.503876e+07 -2.217342e+12  \n",
       "...                          ...           ...  \n",
       "48739               2.564392e+08 -7.964054e+12  \n",
       "48740               6.257651e+07 -1.399666e+12  \n",
       "48741               7.192382e+07 -4.036388e+12  \n",
       "48742               1.161765e+08 -2.725227e+12  \n",
       "48743               5.304904e+07 -2.721717e+12  \n",
       "\n",
       "[48744 rows x 35 columns]"
      ]
     },
     "execution_count": 281,
     "metadata": {},
     "output_type": "execute_result"
    }
   ],
   "source": [
    "poly_features_test"
   ]
  },
  {
   "cell_type": "code",
   "execution_count": 278,
   "metadata": {},
   "outputs": [
    {
     "data": {
      "text/html": [
       "<div>\n",
       "<style scoped>\n",
       "    .dataframe tbody tr th:only-of-type {\n",
       "        vertical-align: middle;\n",
       "    }\n",
       "\n",
       "    .dataframe tbody tr th {\n",
       "        vertical-align: top;\n",
       "    }\n",
       "\n",
       "    .dataframe thead th {\n",
       "        text-align: right;\n",
       "    }\n",
       "</style>\n",
       "<table border=\"1\" class=\"dataframe\">\n",
       "  <thead>\n",
       "    <tr style=\"text-align: right;\">\n",
       "      <th></th>\n",
       "      <th>1</th>\n",
       "      <th>EXT_SOURCE_1</th>\n",
       "      <th>EXT_SOURCE_2</th>\n",
       "      <th>EXT_SOURCE_3</th>\n",
       "      <th>DAYS_BIRTH</th>\n",
       "      <th>EXT_SOURCE_1^2</th>\n",
       "      <th>EXT_SOURCE_1 EXT_SOURCE_2</th>\n",
       "      <th>EXT_SOURCE_1 EXT_SOURCE_3</th>\n",
       "      <th>EXT_SOURCE_1 DAYS_BIRTH</th>\n",
       "      <th>EXT_SOURCE_2^2</th>\n",
       "      <th>...</th>\n",
       "      <th>EXT_SOURCE_2^2 EXT_SOURCE_3</th>\n",
       "      <th>EXT_SOURCE_2^2 DAYS_BIRTH</th>\n",
       "      <th>EXT_SOURCE_2 EXT_SOURCE_3^2</th>\n",
       "      <th>EXT_SOURCE_2 EXT_SOURCE_3 DAYS_BIRTH</th>\n",
       "      <th>EXT_SOURCE_2 DAYS_BIRTH^2</th>\n",
       "      <th>EXT_SOURCE_3^3</th>\n",
       "      <th>EXT_SOURCE_3^2 DAYS_BIRTH</th>\n",
       "      <th>EXT_SOURCE_3 DAYS_BIRTH^2</th>\n",
       "      <th>DAYS_BIRTH^3</th>\n",
       "      <th>TARGET</th>\n",
       "    </tr>\n",
       "  </thead>\n",
       "  <tbody>\n",
       "    <tr>\n",
       "      <td>0</td>\n",
       "      <td>1.0</td>\n",
       "      <td>0.083037</td>\n",
       "      <td>0.262949</td>\n",
       "      <td>0.139376</td>\n",
       "      <td>-9461.0</td>\n",
       "      <td>0.006895</td>\n",
       "      <td>0.021834</td>\n",
       "      <td>0.011573</td>\n",
       "      <td>-785.612748</td>\n",
       "      <td>0.069142</td>\n",
       "      <td>...</td>\n",
       "      <td>0.009637</td>\n",
       "      <td>-654.152107</td>\n",
       "      <td>0.005108</td>\n",
       "      <td>-346.733022</td>\n",
       "      <td>2.353667e+07</td>\n",
       "      <td>0.002707</td>\n",
       "      <td>-183.785678</td>\n",
       "      <td>1.247560e+07</td>\n",
       "      <td>-8.468590e+11</td>\n",
       "      <td>1</td>\n",
       "    </tr>\n",
       "    <tr>\n",
       "      <td>1</td>\n",
       "      <td>1.0</td>\n",
       "      <td>0.311267</td>\n",
       "      <td>0.622246</td>\n",
       "      <td>0.510853</td>\n",
       "      <td>-16765.0</td>\n",
       "      <td>0.096887</td>\n",
       "      <td>0.193685</td>\n",
       "      <td>0.159012</td>\n",
       "      <td>-5218.396475</td>\n",
       "      <td>0.387190</td>\n",
       "      <td>...</td>\n",
       "      <td>0.197797</td>\n",
       "      <td>-6491.237078</td>\n",
       "      <td>0.162388</td>\n",
       "      <td>-5329.192190</td>\n",
       "      <td>1.748916e+08</td>\n",
       "      <td>0.133318</td>\n",
       "      <td>-4375.173647</td>\n",
       "      <td>1.435830e+08</td>\n",
       "      <td>-4.712058e+12</td>\n",
       "      <td>0</td>\n",
       "    </tr>\n",
       "    <tr>\n",
       "      <td>2</td>\n",
       "      <td>1.0</td>\n",
       "      <td>0.502130</td>\n",
       "      <td>0.555912</td>\n",
       "      <td>0.729567</td>\n",
       "      <td>-19046.0</td>\n",
       "      <td>0.252134</td>\n",
       "      <td>0.279140</td>\n",
       "      <td>0.366337</td>\n",
       "      <td>-9563.564279</td>\n",
       "      <td>0.309038</td>\n",
       "      <td>...</td>\n",
       "      <td>0.225464</td>\n",
       "      <td>-5885.942404</td>\n",
       "      <td>0.295894</td>\n",
       "      <td>-7724.580288</td>\n",
       "      <td>2.016572e+08</td>\n",
       "      <td>0.388325</td>\n",
       "      <td>-10137.567875</td>\n",
       "      <td>2.646504e+08</td>\n",
       "      <td>-6.908939e+12</td>\n",
       "      <td>0</td>\n",
       "    </tr>\n",
       "    <tr>\n",
       "      <td>3</td>\n",
       "      <td>1.0</td>\n",
       "      <td>0.502130</td>\n",
       "      <td>0.650442</td>\n",
       "      <td>0.510853</td>\n",
       "      <td>-19005.0</td>\n",
       "      <td>0.252134</td>\n",
       "      <td>0.326606</td>\n",
       "      <td>0.256514</td>\n",
       "      <td>-9542.976957</td>\n",
       "      <td>0.423074</td>\n",
       "      <td>...</td>\n",
       "      <td>0.216129</td>\n",
       "      <td>-8040.528832</td>\n",
       "      <td>0.169746</td>\n",
       "      <td>-6314.981929</td>\n",
       "      <td>2.349331e+08</td>\n",
       "      <td>0.133318</td>\n",
       "      <td>-4959.747997</td>\n",
       "      <td>1.845150e+08</td>\n",
       "      <td>-6.864416e+12</td>\n",
       "      <td>0</td>\n",
       "    </tr>\n",
       "    <tr>\n",
       "      <td>4</td>\n",
       "      <td>1.0</td>\n",
       "      <td>0.502130</td>\n",
       "      <td>0.322738</td>\n",
       "      <td>0.510853</td>\n",
       "      <td>-19932.0</td>\n",
       "      <td>0.252134</td>\n",
       "      <td>0.162057</td>\n",
       "      <td>0.256514</td>\n",
       "      <td>-10008.451286</td>\n",
       "      <td>0.104160</td>\n",
       "      <td>...</td>\n",
       "      <td>0.053210</td>\n",
       "      <td>-2076.117157</td>\n",
       "      <td>0.084225</td>\n",
       "      <td>-3286.224555</td>\n",
       "      <td>1.282190e+08</td>\n",
       "      <td>0.133318</td>\n",
       "      <td>-5201.667828</td>\n",
       "      <td>2.029540e+08</td>\n",
       "      <td>-7.918677e+12</td>\n",
       "      <td>0</td>\n",
       "    </tr>\n",
       "    <tr>\n",
       "      <td>...</td>\n",
       "      <td>...</td>\n",
       "      <td>...</td>\n",
       "      <td>...</td>\n",
       "      <td>...</td>\n",
       "      <td>...</td>\n",
       "      <td>...</td>\n",
       "      <td>...</td>\n",
       "      <td>...</td>\n",
       "      <td>...</td>\n",
       "      <td>...</td>\n",
       "      <td>...</td>\n",
       "      <td>...</td>\n",
       "      <td>...</td>\n",
       "      <td>...</td>\n",
       "      <td>...</td>\n",
       "      <td>...</td>\n",
       "      <td>...</td>\n",
       "      <td>...</td>\n",
       "      <td>...</td>\n",
       "      <td>...</td>\n",
       "      <td>...</td>\n",
       "    </tr>\n",
       "    <tr>\n",
       "      <td>307506</td>\n",
       "      <td>1.0</td>\n",
       "      <td>0.145570</td>\n",
       "      <td>0.681632</td>\n",
       "      <td>0.510853</td>\n",
       "      <td>-9327.0</td>\n",
       "      <td>0.021191</td>\n",
       "      <td>0.099226</td>\n",
       "      <td>0.074365</td>\n",
       "      <td>-1357.735625</td>\n",
       "      <td>0.464623</td>\n",
       "      <td>...</td>\n",
       "      <td>0.237354</td>\n",
       "      <td>-4333.535804</td>\n",
       "      <td>0.177886</td>\n",
       "      <td>-3247.790830</td>\n",
       "      <td>5.929720e+07</td>\n",
       "      <td>0.133318</td>\n",
       "      <td>-2434.073642</td>\n",
       "      <td>4.444059e+07</td>\n",
       "      <td>-8.113830e+11</td>\n",
       "      <td>0</td>\n",
       "    </tr>\n",
       "    <tr>\n",
       "      <td>307507</td>\n",
       "      <td>1.0</td>\n",
       "      <td>0.502130</td>\n",
       "      <td>0.115992</td>\n",
       "      <td>0.510853</td>\n",
       "      <td>-20775.0</td>\n",
       "      <td>0.252134</td>\n",
       "      <td>0.058243</td>\n",
       "      <td>0.256514</td>\n",
       "      <td>-10431.746713</td>\n",
       "      <td>0.013454</td>\n",
       "      <td>...</td>\n",
       "      <td>0.006873</td>\n",
       "      <td>-279.510194</td>\n",
       "      <td>0.030271</td>\n",
       "      <td>-1231.020288</td>\n",
       "      <td>5.006225e+07</td>\n",
       "      <td>0.133318</td>\n",
       "      <td>-5421.666121</td>\n",
       "      <td>2.204844e+08</td>\n",
       "      <td>-8.966503e+12</td>\n",
       "      <td>0</td>\n",
       "    </tr>\n",
       "    <tr>\n",
       "      <td>307508</td>\n",
       "      <td>1.0</td>\n",
       "      <td>0.744026</td>\n",
       "      <td>0.535722</td>\n",
       "      <td>0.218859</td>\n",
       "      <td>-14966.0</td>\n",
       "      <td>0.553575</td>\n",
       "      <td>0.398591</td>\n",
       "      <td>0.162837</td>\n",
       "      <td>-11135.099105</td>\n",
       "      <td>0.286998</td>\n",
       "      <td>...</td>\n",
       "      <td>0.062812</td>\n",
       "      <td>-4295.209004</td>\n",
       "      <td>0.025661</td>\n",
       "      <td>-1754.727146</td>\n",
       "      <td>1.199916e+08</td>\n",
       "      <td>0.010483</td>\n",
       "      <td>-716.860892</td>\n",
       "      <td>4.902031e+07</td>\n",
       "      <td>-3.352102e+12</td>\n",
       "      <td>0</td>\n",
       "    </tr>\n",
       "    <tr>\n",
       "      <td>307509</td>\n",
       "      <td>1.0</td>\n",
       "      <td>0.502130</td>\n",
       "      <td>0.514163</td>\n",
       "      <td>0.661024</td>\n",
       "      <td>-11961.0</td>\n",
       "      <td>0.252134</td>\n",
       "      <td>0.258176</td>\n",
       "      <td>0.331920</td>\n",
       "      <td>-6005.974605</td>\n",
       "      <td>0.264363</td>\n",
       "      <td>...</td>\n",
       "      <td>0.174750</td>\n",
       "      <td>-3162.050698</td>\n",
       "      <td>0.224665</td>\n",
       "      <td>-4065.229651</td>\n",
       "      <td>7.355897e+07</td>\n",
       "      <td>0.288836</td>\n",
       "      <td>-5226.384299</td>\n",
       "      <td>9.456968e+07</td>\n",
       "      <td>-1.711207e+12</td>\n",
       "      <td>1</td>\n",
       "    </tr>\n",
       "    <tr>\n",
       "      <td>307510</td>\n",
       "      <td>1.0</td>\n",
       "      <td>0.734460</td>\n",
       "      <td>0.708569</td>\n",
       "      <td>0.113922</td>\n",
       "      <td>-16856.0</td>\n",
       "      <td>0.539431</td>\n",
       "      <td>0.520415</td>\n",
       "      <td>0.083671</td>\n",
       "      <td>-12380.052173</td>\n",
       "      <td>0.502070</td>\n",
       "      <td>...</td>\n",
       "      <td>0.057197</td>\n",
       "      <td>-8462.889915</td>\n",
       "      <td>0.009196</td>\n",
       "      <td>-1360.647784</td>\n",
       "      <td>2.013220e+08</td>\n",
       "      <td>0.001479</td>\n",
       "      <td>-218.762433</td>\n",
       "      <td>3.236817e+07</td>\n",
       "      <td>-4.789207e+12</td>\n",
       "      <td>0</td>\n",
       "    </tr>\n",
       "  </tbody>\n",
       "</table>\n",
       "<p>307511 rows × 36 columns</p>\n",
       "</div>"
      ],
      "text/plain": [
       "          1  EXT_SOURCE_1  EXT_SOURCE_2  EXT_SOURCE_3  DAYS_BIRTH  \\\n",
       "0       1.0      0.083037      0.262949      0.139376     -9461.0   \n",
       "1       1.0      0.311267      0.622246      0.510853    -16765.0   \n",
       "2       1.0      0.502130      0.555912      0.729567    -19046.0   \n",
       "3       1.0      0.502130      0.650442      0.510853    -19005.0   \n",
       "4       1.0      0.502130      0.322738      0.510853    -19932.0   \n",
       "...     ...           ...           ...           ...         ...   \n",
       "307506  1.0      0.145570      0.681632      0.510853     -9327.0   \n",
       "307507  1.0      0.502130      0.115992      0.510853    -20775.0   \n",
       "307508  1.0      0.744026      0.535722      0.218859    -14966.0   \n",
       "307509  1.0      0.502130      0.514163      0.661024    -11961.0   \n",
       "307510  1.0      0.734460      0.708569      0.113922    -16856.0   \n",
       "\n",
       "        EXT_SOURCE_1^2  EXT_SOURCE_1 EXT_SOURCE_2  EXT_SOURCE_1 EXT_SOURCE_3  \\\n",
       "0             0.006895                   0.021834                   0.011573   \n",
       "1             0.096887                   0.193685                   0.159012   \n",
       "2             0.252134                   0.279140                   0.366337   \n",
       "3             0.252134                   0.326606                   0.256514   \n",
       "4             0.252134                   0.162057                   0.256514   \n",
       "...                ...                        ...                        ...   \n",
       "307506        0.021191                   0.099226                   0.074365   \n",
       "307507        0.252134                   0.058243                   0.256514   \n",
       "307508        0.553575                   0.398591                   0.162837   \n",
       "307509        0.252134                   0.258176                   0.331920   \n",
       "307510        0.539431                   0.520415                   0.083671   \n",
       "\n",
       "        EXT_SOURCE_1 DAYS_BIRTH  EXT_SOURCE_2^2  ...  \\\n",
       "0                   -785.612748        0.069142  ...   \n",
       "1                  -5218.396475        0.387190  ...   \n",
       "2                  -9563.564279        0.309038  ...   \n",
       "3                  -9542.976957        0.423074  ...   \n",
       "4                 -10008.451286        0.104160  ...   \n",
       "...                         ...             ...  ...   \n",
       "307506             -1357.735625        0.464623  ...   \n",
       "307507            -10431.746713        0.013454  ...   \n",
       "307508            -11135.099105        0.286998  ...   \n",
       "307509             -6005.974605        0.264363  ...   \n",
       "307510            -12380.052173        0.502070  ...   \n",
       "\n",
       "        EXT_SOURCE_2^2 EXT_SOURCE_3  EXT_SOURCE_2^2 DAYS_BIRTH  \\\n",
       "0                          0.009637                -654.152107   \n",
       "1                          0.197797               -6491.237078   \n",
       "2                          0.225464               -5885.942404   \n",
       "3                          0.216129               -8040.528832   \n",
       "4                          0.053210               -2076.117157   \n",
       "...                             ...                        ...   \n",
       "307506                     0.237354               -4333.535804   \n",
       "307507                     0.006873                -279.510194   \n",
       "307508                     0.062812               -4295.209004   \n",
       "307509                     0.174750               -3162.050698   \n",
       "307510                     0.057197               -8462.889915   \n",
       "\n",
       "        EXT_SOURCE_2 EXT_SOURCE_3^2  EXT_SOURCE_2 EXT_SOURCE_3 DAYS_BIRTH  \\\n",
       "0                          0.005108                           -346.733022   \n",
       "1                          0.162388                          -5329.192190   \n",
       "2                          0.295894                          -7724.580288   \n",
       "3                          0.169746                          -6314.981929   \n",
       "4                          0.084225                          -3286.224555   \n",
       "...                             ...                                   ...   \n",
       "307506                     0.177886                          -3247.790830   \n",
       "307507                     0.030271                          -1231.020288   \n",
       "307508                     0.025661                          -1754.727146   \n",
       "307509                     0.224665                          -4065.229651   \n",
       "307510                     0.009196                          -1360.647784   \n",
       "\n",
       "        EXT_SOURCE_2 DAYS_BIRTH^2  EXT_SOURCE_3^3  EXT_SOURCE_3^2 DAYS_BIRTH  \\\n",
       "0                    2.353667e+07        0.002707                -183.785678   \n",
       "1                    1.748916e+08        0.133318               -4375.173647   \n",
       "2                    2.016572e+08        0.388325              -10137.567875   \n",
       "3                    2.349331e+08        0.133318               -4959.747997   \n",
       "4                    1.282190e+08        0.133318               -5201.667828   \n",
       "...                           ...             ...                        ...   \n",
       "307506               5.929720e+07        0.133318               -2434.073642   \n",
       "307507               5.006225e+07        0.133318               -5421.666121   \n",
       "307508               1.199916e+08        0.010483                -716.860892   \n",
       "307509               7.355897e+07        0.288836               -5226.384299   \n",
       "307510               2.013220e+08        0.001479                -218.762433   \n",
       "\n",
       "        EXT_SOURCE_3 DAYS_BIRTH^2  DAYS_BIRTH^3  TARGET  \n",
       "0                    1.247560e+07 -8.468590e+11       1  \n",
       "1                    1.435830e+08 -4.712058e+12       0  \n",
       "2                    2.646504e+08 -6.908939e+12       0  \n",
       "3                    1.845150e+08 -6.864416e+12       0  \n",
       "4                    2.029540e+08 -7.918677e+12       0  \n",
       "...                           ...           ...     ...  \n",
       "307506               4.444059e+07 -8.113830e+11       0  \n",
       "307507               2.204844e+08 -8.966503e+12       0  \n",
       "307508               4.902031e+07 -3.352102e+12       0  \n",
       "307509               9.456968e+07 -1.711207e+12       1  \n",
       "307510               3.236817e+07 -4.789207e+12       0  \n",
       "\n",
       "[307511 rows x 36 columns]"
      ]
     },
     "execution_count": 278,
     "metadata": {},
     "output_type": "execute_result"
    }
   ],
   "source": [
    "poly_features"
   ]
  },
  {
   "cell_type": "code",
   "execution_count": 350,
   "metadata": {},
   "outputs": [
    {
     "name": "stdout",
     "output_type": "stream",
     "text": [
      "train_file\n",
      " (307511, 242)\n",
      "test_file\n",
      "(48744, 242)\n",
      "add features of train\n",
      "(307511, 36)\n",
      "add featrers of test\n",
      "(48744, 35)\n"
     ]
    }
   ],
   "source": [
    "print('train_file\\n ' + str(X_filled.shape))\n",
    "print('test_file\\n' + str(test_filled.shape))\n",
    "print('add features of train\\n' + str(poly_features.shape))\n",
    "print('add featrers of test\\n' + str(poly_features_test.shape))"
   ]
  },
  {
   "cell_type": "markdown",
   "metadata": {},
   "source": [
    " ## 追加特徴量と合体"
   ]
  },
  {
   "cell_type": "code",
   "execution_count": 284,
   "metadata": {},
   "outputs": [],
   "source": [
    "final_train = pd.concat([X_filled, poly_features], 1)\n",
    "final_test = pd.concat([test_filled, poly_features_test], 1)"
   ]
  },
  {
   "cell_type": "code",
   "execution_count": 285,
   "metadata": {},
   "outputs": [
    {
     "data": {
      "text/plain": [
       "(307511, 278)"
      ]
     },
     "execution_count": 285,
     "metadata": {},
     "output_type": "execute_result"
    }
   ],
   "source": [
    "final_train.shape"
   ]
  },
  {
   "cell_type": "code",
   "execution_count": 287,
   "metadata": {},
   "outputs": [
    {
     "data": {
      "text/plain": [
       "(48744, 277)"
      ]
     },
     "execution_count": 287,
     "metadata": {},
     "output_type": "execute_result"
    }
   ],
   "source": [
    "final_test.shape"
   ]
  },
  {
   "cell_type": "markdown",
   "metadata": {},
   "source": [
    "## 欠損の確認"
   ]
  },
  {
   "cell_type": "code",
   "execution_count": 291,
   "metadata": {},
   "outputs": [
    {
     "name": "stdout",
     "output_type": "stream",
     "text": [
      "SK_ID_CURR                   0\n",
      "CNT_CHILDREN                 0\n",
      "AMT_INCOME_TOTAL             0\n",
      "AMT_CREDIT                   0\n",
      "AMT_ANNUITY                  0\n",
      "                            ..\n",
      "EXT_SOURCE_3^3               0\n",
      "EXT_SOURCE_3^2 DAYS_BIRTH    0\n",
      "EXT_SOURCE_3 DAYS_BIRTH^2    0\n",
      "DAYS_BIRTH^3                 0\n",
      "TARGET                       0\n",
      "Length: 278, dtype: int64\n",
      "SK_ID_CURR                   0\n",
      "CNT_CHILDREN                 0\n",
      "AMT_INCOME_TOTAL             0\n",
      "AMT_CREDIT                   0\n",
      "AMT_ANNUITY                  0\n",
      "                            ..\n",
      "EXT_SOURCE_2 DAYS_BIRTH^2    0\n",
      "EXT_SOURCE_3^3               0\n",
      "EXT_SOURCE_3^2 DAYS_BIRTH    0\n",
      "EXT_SOURCE_3 DAYS_BIRTH^2    0\n",
      "DAYS_BIRTH^3                 0\n",
      "Length: 277, dtype: int64\n"
     ]
    }
   ],
   "source": [
    "print(final_train.isnull().sum())\n",
    "print(final_test.isnull().sum())"
   ]
  },
  {
   "cell_type": "markdown",
   "metadata": {},
   "source": [
    "## train testを列揃える"
   ]
  },
  {
   "cell_type": "code",
   "execution_count": 293,
   "metadata": {},
   "outputs": [
    {
     "name": "stdout",
     "output_type": "stream",
     "text": [
      "Index(['TARGET'], dtype='object')\n"
     ]
    }
   ],
   "source": [
    "print(final_train.columns.difference(final_test.columns))"
   ]
  },
  {
   "cell_type": "code",
   "execution_count": 295,
   "metadata": {},
   "outputs": [],
   "source": [
    "final_train_X = final_train.drop(columns = ['TARGET'])\n",
    "final_train_y = train_y"
   ]
  },
  {
   "cell_type": "code",
   "execution_count": 352,
   "metadata": {},
   "outputs": [
    {
     "name": "stdout",
     "output_type": "stream",
     "text": [
      "X_train(307511, 277)  y_train(307511,)\n"
     ]
    }
   ],
   "source": [
    "print('X_train' + str(final_train_X.shape) + '  ' + 'y_train' + str(final_train_y.shape ))"
   ]
  },
  {
   "cell_type": "markdown",
   "metadata": {},
   "source": [
    "## 普通の分割(train, valid)"
   ]
  },
  {
   "cell_type": "code",
   "execution_count": 353,
   "metadata": {},
   "outputs": [],
   "source": [
    "from sklearn.model_selection import train_test_split\n",
    "\n",
    "f_train_X, f_valid_X, f_train_y, f_valid_y = train_test_split(\n",
    "         final_train_X, final_train_y, test_size=0.3, random_state=42)"
   ]
  },
  {
   "cell_type": "markdown",
   "metadata": {},
   "source": [
    "## lgbm で予測してみる。（パラはカーネルのコピ）"
   ]
  },
  {
   "cell_type": "code",
   "execution_count": 299,
   "metadata": {},
   "outputs": [
    {
     "data": {
      "text/plain": [
       "LGBMClassifier(boosting_type='gbdt', class_weight=None,\n",
       "               colsample_bytree=0.9497036, importance_type='split',\n",
       "               learning_rate=0.02, max_depth=8, min_child_samples=20,\n",
       "               min_child_weight=39.3259775, min_split_gain=0.0222415,\n",
       "               n_estimators=10000, n_jobs=-1, nthread=4, num_leaves=34,\n",
       "               objective=None, random_state=None, reg_alpha=0.041545473,\n",
       "               reg_lambda=0.0735294, silent=-1, subsample=0.8715623,\n",
       "               subsample_for_bin=200000, subsample_freq=0, verbose=-1)"
      ]
     },
     "execution_count": 299,
     "metadata": {},
     "output_type": "execute_result"
    }
   ],
   "source": [
    "from lightgbm import LGBMClassifier\n",
    "lgb = LGBMClassifier(\n",
    "            nthread=4,\n",
    "            n_estimators=10000,\n",
    "            learning_rate=0.02,\n",
    "            num_leaves=34,\n",
    "            colsample_bytree=0.9497036,\n",
    "            subsample=0.8715623,\n",
    "            max_depth=8,\n",
    "            reg_alpha=0.041545473,\n",
    "            reg_lambda=0.0735294,\n",
    "            min_split_gain=0.0222415,\n",
    "            min_child_weight=39.3259775,\n",
    "            silent=-1,\n",
    "            verbose=-1, )\n",
    "\n",
    "lgb.fit(f_train_X, f_train_y)"
   ]
  },
  {
   "cell_type": "code",
   "execution_count": 301,
   "metadata": {},
   "outputs": [],
   "source": [
    "f_train_pred = lgb.predict_proba(f_train_X)\n",
    "# f_valid_pred = lgb.predict_proba(f_valid_X)\n",
    "# import numpy as np\n",
    "# from sklearn.metrics import roc_auc_score\n",
    "\n",
    "# print('train_roc \\n' + str(roc_auc_score(f_train_y, f_train_pred[:,1])))\n",
    "# print('valid_roc \\n' + str(roc_auc_score(f_valid_y, f_valid_pred[:,1])))\n"
   ]
  },
  {
   "cell_type": "code",
   "execution_count": 303,
   "metadata": {},
   "outputs": [
    {
     "name": "stdout",
     "output_type": "stream",
     "text": [
      "train_roc \n",
      "0.9748507051255825\n",
      "valid_roc \n",
      "0.7421219632729228\n"
     ]
    }
   ],
   "source": [
    "f_valid_pred = lgb.predict_proba(f_valid_X)\n",
    "import numpy as np\n",
    "from sklearn.metrics import roc_auc_score\n",
    "\n",
    "print('train_roc \\n' + str(roc_auc_score(f_train_y, f_train_pred[:,1])))\n",
    "print('valid_roc \\n' + str(roc_auc_score(f_valid_y, f_valid_pred[:,1])))"
   ]
  },
  {
   "cell_type": "markdown",
   "metadata": {},
   "source": [
    "## submit"
   ]
  },
  {
   "cell_type": "code",
   "execution_count": 304,
   "metadata": {},
   "outputs": [],
   "source": [
    "f_test_pred = lgb.predict(final_test)"
   ]
  },
  {
   "cell_type": "code",
   "execution_count": 305,
   "metadata": {},
   "outputs": [
    {
     "data": {
      "text/html": [
       "<div>\n",
       "<style scoped>\n",
       "    .dataframe tbody tr th:only-of-type {\n",
       "        vertical-align: middle;\n",
       "    }\n",
       "\n",
       "    .dataframe tbody tr th {\n",
       "        vertical-align: top;\n",
       "    }\n",
       "\n",
       "    .dataframe thead th {\n",
       "        text-align: right;\n",
       "    }\n",
       "</style>\n",
       "<table border=\"1\" class=\"dataframe\">\n",
       "  <thead>\n",
       "    <tr style=\"text-align: right;\">\n",
       "      <th></th>\n",
       "      <th>SK_ID_CURR</th>\n",
       "      <th>TARGET</th>\n",
       "    </tr>\n",
       "  </thead>\n",
       "  <tbody>\n",
       "    <tr>\n",
       "      <td>0</td>\n",
       "      <td>100001</td>\n",
       "      <td>0</td>\n",
       "    </tr>\n",
       "    <tr>\n",
       "      <td>1</td>\n",
       "      <td>100005</td>\n",
       "      <td>0</td>\n",
       "    </tr>\n",
       "    <tr>\n",
       "      <td>2</td>\n",
       "      <td>100013</td>\n",
       "      <td>0</td>\n",
       "    </tr>\n",
       "    <tr>\n",
       "      <td>3</td>\n",
       "      <td>100028</td>\n",
       "      <td>0</td>\n",
       "    </tr>\n",
       "    <tr>\n",
       "      <td>4</td>\n",
       "      <td>100038</td>\n",
       "      <td>0</td>\n",
       "    </tr>\n",
       "  </tbody>\n",
       "</table>\n",
       "</div>"
      ],
      "text/plain": [
       "   SK_ID_CURR  TARGET\n",
       "0      100001       0\n",
       "1      100005       0\n",
       "2      100013       0\n",
       "3      100028       0\n",
       "4      100038       0"
      ]
     },
     "execution_count": 305,
     "metadata": {},
     "output_type": "execute_result"
    }
   ],
   "source": [
    "f_test_pred = lgb.predict(final_test)\n",
    "# Submission dataframe\n",
    "submit = test[['SK_ID_CURR']]\n",
    "submit['TARGET'] = f_test_pred\n",
    "\n",
    "submit.head()"
   ]
  },
  {
   "cell_type": "code",
   "execution_count": 306,
   "metadata": {},
   "outputs": [],
   "source": [
    "# Save the submission to a csv file\n",
    "submit.to_csv('lgb_baseline.csv', index = False)"
   ]
  },
  {
   "cell_type": "markdown",
   "metadata": {},
   "source": [
    "## kaggle score of lgbm 1"
   ]
  },
  {
   "cell_type": "code",
   "execution_count": 354,
   "metadata": {},
   "outputs": [
    {
     "data": {
      "text/plain": [
       "0.50689"
      ]
     },
     "execution_count": 354,
     "metadata": {},
     "output_type": "execute_result"
    }
   ],
   "source": [
    "0.50689"
   ]
  },
  {
   "cell_type": "code",
   "execution_count": null,
   "metadata": {},
   "outputs": [],
   "source": []
  },
  {
   "cell_type": "markdown",
   "metadata": {},
   "source": [
    "##  lgbm 2"
   ]
  },
  {
   "cell_type": "code",
   "execution_count": 307,
   "metadata": {},
   "outputs": [
    {
     "data": {
      "text/plain": [
       "LGBMClassifier(boosting_type='gbdt', class_weight=None, colsample_bytree=1.0,\n",
       "               importance_type='split', learning_rate=0.1, max_depth=-1,\n",
       "               min_child_samples=20, min_child_weight=0.001, min_split_gain=0.0,\n",
       "               n_estimators=100, n_jobs=-1, nthread=4, num_leaves=31,\n",
       "               objective=None, random_state=None, reg_alpha=0.0, reg_lambda=0.0,\n",
       "               silent=True, subsample=1.0, subsample_for_bin=200000,\n",
       "               subsample_freq=0)"
      ]
     },
     "execution_count": 307,
     "metadata": {},
     "output_type": "execute_result"
    }
   ],
   "source": [
    "from lightgbm import LGBMClassifier\n",
    "lgb = LGBMClassifier(\n",
    "            nthread=4,\n",
    "            n_estimators=100)\n",
    "\n",
    "lgb.fit(f_train_X, f_train_y)"
   ]
  },
  {
   "cell_type": "code",
   "execution_count": 308,
   "metadata": {},
   "outputs": [
    {
     "name": "stdout",
     "output_type": "stream",
     "text": [
      "train_roc \n",
      "0.8110193112721575\n",
      "valid_roc \n",
      "0.7565460786645102\n"
     ]
    }
   ],
   "source": [
    "f_train_pred = lgb.predict_proba(f_train_X)\n",
    "f_valid_pred = lgb.predict_proba(f_valid_X)\n",
    "import numpy as np\n",
    "from sklearn.metrics import roc_auc_score\n",
    "\n",
    "print('train_roc \\n' + str(roc_auc_score(f_train_y, f_train_pred[:,1])))\n",
    "print('valid_roc \\n' + str(roc_auc_score(f_valid_y, f_valid_pred[:,1])))"
   ]
  },
  {
   "cell_type": "code",
   "execution_count": 343,
   "metadata": {},
   "outputs": [],
   "source": [
    "from sklearn.model_selection import cross_val_score\n",
    "from sklearn.model_selection import KFold\n",
    "\n",
    "def cross(function):\n",
    "    X =  final_train_X\n",
    "    y =  final_train_y\n",
    "    kf = KFold(n_splits=4, shuffle = True, random_state = 1)\n",
    "    kf.get_n_splits(X)\n",
    "    cv = kf\n",
    "\n",
    "\n",
    "    clf = function\n",
    "    scores = cross_val_score(clf, X, y, cv=cv, scoring='roc_auc')\n",
    "    print(scores)"
   ]
  },
  {
   "cell_type": "code",
   "execution_count": 328,
   "metadata": {},
   "outputs": [
    {
     "name": "stdout",
     "output_type": "stream",
     "text": [
      "train_roc \n",
      "0.7795640415785626\n",
      "valid_roc \n",
      "0.7546147221029142\n"
     ]
    }
   ],
   "source": [
    "# def lgb_function(est = 100)\n",
    "lgb = LGBMClassifier(\n",
    "            max_depth = 8,\n",
    "            learning_rate=0.05,\n",
    "            num_leaves=30,)\n",
    "\n",
    "lgb.fit(f_train_X, f_train_y)\n",
    "\n",
    "f_train_pred = lgb.predict_proba(f_train_X)\n",
    "f_valid_pred = lgb.predict_proba(f_valid_X)\n",
    "import numpy as np\n",
    "from sklearn.metrics import roc_auc_score\n",
    "\n",
    "print('train_roc \\n' + str(roc_auc_score(f_train_y, f_train_pred[:,1])))\n",
    "print('valid_roc \\n' + str(roc_auc_score(f_valid_y, f_valid_pred[:,1])))"
   ]
  },
  {
   "cell_type": "code",
   "execution_count": 344,
   "metadata": {},
   "outputs": [
    {
     "name": "stdout",
     "output_type": "stream",
     "text": [
      "[0.75664562 0.75423454 0.75336798 0.75362216]\n"
     ]
    }
   ],
   "source": [
    "cross(lgb)"
   ]
  },
  {
   "cell_type": "code",
   "execution_count": 329,
   "metadata": {},
   "outputs": [],
   "source": [
    "clf = lgb\n",
    "f_test_pred = clf.predict(final_test)\n",
    "# Submission dataframe\n",
    "submit = test[['SK_ID_CURR']]\n",
    "submit['TARGET'] = f_test_pred\n",
    "# Save the submission to a csv file\n",
    "submit.to_csv('lgb3_baseline.csv', index = False)"
   ]
  },
  {
   "cell_type": "code",
   "execution_count": null,
   "metadata": {},
   "outputs": [],
   "source": []
  },
  {
   "cell_type": "markdown",
   "metadata": {},
   "source": [
    "## kaggle score of lgbm 2"
   ]
  },
  {
   "cell_type": "code",
   "execution_count": 330,
   "metadata": {},
   "outputs": [
    {
     "data": {
      "text/plain": [
       "0.50066"
      ]
     },
     "execution_count": 330,
     "metadata": {},
     "output_type": "execute_result"
    }
   ],
   "source": [
    "0.50066"
   ]
  },
  {
   "cell_type": "code",
   "execution_count": 325,
   "metadata": {},
   "outputs": [
    {
     "name": "stderr",
     "output_type": "stream",
     "text": [
      "[Parallel(n_jobs=-1)]: Using backend ThreadingBackend with 4 concurrent workers.\n",
      "[Parallel(n_jobs=-1)]: Done  42 tasks      | elapsed:   27.4s\n",
      "[Parallel(n_jobs=-1)]: Done 100 out of 100 | elapsed:   59.2s finished\n",
      "[Parallel(n_jobs=4)]: Using backend ThreadingBackend with 4 concurrent workers.\n",
      "[Parallel(n_jobs=4)]: Done  42 tasks      | elapsed:    0.9s\n",
      "[Parallel(n_jobs=4)]: Done 100 out of 100 | elapsed:    2.0s finished\n",
      "[Parallel(n_jobs=4)]: Using backend ThreadingBackend with 4 concurrent workers.\n",
      "[Parallel(n_jobs=4)]: Done  42 tasks      | elapsed:    0.4s\n",
      "[Parallel(n_jobs=4)]: Done 100 out of 100 | elapsed:    0.9s finished\n"
     ]
    },
    {
     "name": "stdout",
     "output_type": "stream",
     "text": [
      "train_roc \n",
      "0.8225263592419438\n",
      "valid_roc \n",
      "0.7363314138732366\n"
     ]
    }
   ],
   "source": [
    "from sklearn.ensemble import RandomForestClassifier\n",
    "\n",
    "# Make the random forest classifier\n",
    "rf = RandomForestClassifier(n_estimators = 100, max_depth=11, random_state = 50, verbose = 1, n_jobs = -1)\n",
    "\n",
    "rf.fit(f_train_X, f_train_y)\n",
    "\n",
    "f_train_pred = rf.predict_proba(f_train_X)\n",
    "f_valid_pred = rf.predict_proba(f_valid_X)\n",
    "import numpy as np\n",
    "from sklearn.metrics import roc_auc_score\n",
    "\n",
    "print('train_roc \\n' + str(roc_auc_score(f_train_y, f_train_pred[:,1])))\n",
    "print('valid_roc \\n' + str(roc_auc_score(f_valid_y, f_valid_pred[:,1])))\n"
   ]
  },
  {
   "cell_type": "code",
   "execution_count": 345,
   "metadata": {},
   "outputs": [
    {
     "name": "stderr",
     "output_type": "stream",
     "text": [
      "[Parallel(n_jobs=-1)]: Using backend LokyBackend with 4 concurrent workers.\n",
      "[Parallel(n_jobs=-1)]: Done  42 tasks      | elapsed:   44.8s\n",
      "[Parallel(n_jobs=-1)]: Done 100 out of 100 | elapsed:  1.4min finished\n",
      "[Parallel(n_jobs=4)]: Using backend ThreadingBackend with 4 concurrent workers.\n",
      "[Parallel(n_jobs=4)]: Done  42 tasks      | elapsed:    0.3s\n",
      "[Parallel(n_jobs=4)]: Done 100 out of 100 | elapsed:    0.8s finished\n",
      "[Parallel(n_jobs=-1)]: Using backend LokyBackend with 4 concurrent workers.\n",
      "[Parallel(n_jobs=-1)]: Done  42 tasks      | elapsed:   37.9s\n",
      "[Parallel(n_jobs=-1)]: Done 100 out of 100 | elapsed:  1.3min finished\n",
      "[Parallel(n_jobs=4)]: Using backend ThreadingBackend with 4 concurrent workers.\n",
      "[Parallel(n_jobs=4)]: Done  42 tasks      | elapsed:    0.3s\n",
      "[Parallel(n_jobs=4)]: Done 100 out of 100 | elapsed:    0.8s finished\n",
      "[Parallel(n_jobs=-1)]: Using backend LokyBackend with 4 concurrent workers.\n",
      "[Parallel(n_jobs=-1)]: Done  42 tasks      | elapsed:   36.4s\n",
      "[Parallel(n_jobs=-1)]: Done 100 out of 100 | elapsed:  1.2min finished\n",
      "[Parallel(n_jobs=4)]: Using backend ThreadingBackend with 4 concurrent workers.\n",
      "[Parallel(n_jobs=4)]: Done  42 tasks      | elapsed:    0.3s\n",
      "[Parallel(n_jobs=4)]: Done 100 out of 100 | elapsed:    0.7s finished\n",
      "[Parallel(n_jobs=-1)]: Using backend LokyBackend with 4 concurrent workers.\n",
      "[Parallel(n_jobs=-1)]: Done  42 tasks      | elapsed:   26.8s\n",
      "[Parallel(n_jobs=-1)]: Done 100 out of 100 | elapsed:  1.0min finished\n",
      "[Parallel(n_jobs=4)]: Using backend ThreadingBackend with 4 concurrent workers.\n",
      "[Parallel(n_jobs=4)]: Done  42 tasks      | elapsed:    0.3s\n",
      "[Parallel(n_jobs=4)]: Done 100 out of 100 | elapsed:    0.7s finished\n"
     ]
    },
    {
     "name": "stdout",
     "output_type": "stream",
     "text": [
      "[0.7395778  0.73334163 0.73510907 0.73465504]\n"
     ]
    }
   ],
   "source": [
    "cross(rf)"
   ]
  },
  {
   "cell_type": "code",
   "execution_count": 331,
   "metadata": {},
   "outputs": [
    {
     "name": "stderr",
     "output_type": "stream",
     "text": [
      "[Parallel(n_jobs=4)]: Using backend ThreadingBackend with 4 concurrent workers.\n",
      "[Parallel(n_jobs=4)]: Done  42 tasks      | elapsed:    0.4s\n",
      "[Parallel(n_jobs=4)]: Done 100 out of 100 | elapsed:    0.7s finished\n"
     ]
    }
   ],
   "source": [
    "clf = rf\n",
    "f_test_pred = clf.predict(final_test)\n",
    "# Submission dataframe\n",
    "submit = test[['SK_ID_CURR']]\n",
    "submit['TARGET'] = f_test_pred\n",
    "# Save the submission to a csv file\n",
    "submit.to_csv('rf_baseline.csv', index = False)"
   ]
  },
  {
   "cell_type": "markdown",
   "metadata": {},
   "source": [
    "## kaggle score of random_forest"
   ]
  },
  {
   "cell_type": "code",
   "execution_count": null,
   "metadata": {},
   "outputs": [],
   "source": [
    "0.50133"
   ]
  },
  {
   "cell_type": "code",
   "execution_count": 339,
   "metadata": {},
   "outputs": [
    {
     "name": "stdout",
     "output_type": "stream",
     "text": [
      "train_roc \n",
      "0.5831266464266416\n",
      "valid_roc \n",
      "0.5827508545424509\n"
     ]
    }
   ],
   "source": [
    "from sklearn.model_selection import cross_val_score\n",
    "from sklearn.linear_model import LogisticRegression\n",
    "\n",
    "# Make the model with the specified regularization parameter\n",
    "log_reg = LogisticRegression(C = 1)\n",
    "log_reg.fit(f_train_X, f_train_y)\n",
    "\n",
    "f_train_pred = log_reg.predict_proba(f_train_X)\n",
    "f_valid_pred = log_reg.predict_proba(f_valid_X)\n",
    "import numpy as np\n",
    "from sklearn.metrics import roc_auc_score\n",
    "\n",
    "print('train_roc \\n' + str(roc_auc_score(f_train_y, f_train_pred[:,1])))\n",
    "print('valid_roc \\n' + str(roc_auc_score(f_valid_y, f_valid_pred[:,1])))"
   ]
  },
  {
   "cell_type": "code",
   "execution_count": 346,
   "metadata": {},
   "outputs": [
    {
     "name": "stdout",
     "output_type": "stream",
     "text": [
      "[0.58476108 0.58154429 0.5842632  0.58147453]\n"
     ]
    }
   ],
   "source": [
    "cross(log_reg)"
   ]
  },
  {
   "cell_type": "code",
   "execution_count": 340,
   "metadata": {},
   "outputs": [],
   "source": [
    "clf = log_reg\n",
    "f_test_pred = clf.predict(final_test)\n",
    "# Submission dataframe\n",
    "submit = test[['SK_ID_CURR']]\n",
    "submit['TARGET'] = f_test_pred\n",
    "# Save the submission to a csv file\n",
    "submit.to_csv('log_reg_baseline.csv', index = False)"
   ]
  },
  {
   "cell_type": "markdown",
   "metadata": {},
   "source": [
    "## kaggle score of log_reg"
   ]
  },
  {
   "cell_type": "code",
   "execution_count": null,
   "metadata": {},
   "outputs": [],
   "source": [
    "0.50000"
   ]
  },
  {
   "cell_type": "markdown",
   "metadata": {},
   "source": [
    "## submitすると急激に下がる。　汎用性が確保できていないと思われる。　　　\n",
    "## 新たな特徴量を作り、　汎用性をあげる必要あり"
   ]
  },
  {
   "cell_type": "code",
   "execution_count": null,
   "metadata": {},
   "outputs": [],
   "source": []
  }
 ],
 "metadata": {
  "kernelspec": {
   "display_name": "Python 3",
   "language": "python",
   "name": "python3"
  },
  "language_info": {
   "codemirror_mode": {
    "name": "ipython",
    "version": 3
   },
   "file_extension": ".py",
   "mimetype": "text/x-python",
   "name": "python",
   "nbconvert_exporter": "python",
   "pygments_lexer": "ipython3",
   "version": "3.7.4"
  }
 },
 "nbformat": 4,
 "nbformat_minor": 2
}
