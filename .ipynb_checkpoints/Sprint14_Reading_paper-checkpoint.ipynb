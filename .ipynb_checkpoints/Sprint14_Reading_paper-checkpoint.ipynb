{
 "cells": [
  {
   "cell_type": "markdown",
   "metadata": {},
   "source": [
    "### 問題\n",
    "それぞれについてJupyter Notebookにマークダウン形式で記述してください"
   ]
  },
  {
   "cell_type": "markdown",
   "metadata": {},
   "source": [
    "### (1) 物体検出の分野にはどういった手法が存在したか。"
   ]
  },
  {
   "cell_type": "markdown",
   "metadata": {},
   "source": [
    "### Methods\n",
    "Methods for object detection generally fall into either machine learning-based approaches or deep learning-based approaches.   \n",
    "For Machine Learning approaches, it becomes necessary to first define features using one of the methods below,   \n",
    "then using a technique such as support vector machine (SVM) to do the classification.  \n",
    "On the other hand, deep learning techniques are able to do end-to-end object detection without specifically defining features,   \n",
    "and are typically based on convolutional neural networks (CNN).\n",
    "\n",
    "#### Machine learning approaches:\n",
    "Viola–Jones object detection framework based on Haar features  \n",
    "Scale-invariant feature transform (SIFT)  \n",
    "Histogram of oriented gradients (HOG) features[4]\n",
    "#### Deep learning approaches:  \n",
    "Region Proposals (R-CNN,[5] Fast R-CNN,[6] Faster R-CNN[7])  \n",
    "Single Shot MultiBox Detector (SSD) [8]  \n",
    "You Only Look Once (YOLO) [9][10][11]  \n",
    "Single-Shot Refinement Neural Network for Object Detection (RefineDet) [12]  \n",
    "Retina-Net [13]  \n",
    "Deformable convolutional networks [14"
   ]
  },
  {
   "cell_type": "markdown",
   "metadata": {},
   "source": [
    "### \n",
    "大きくわけわけ機械学習を使った手法と深層学習を使った手法に分けられる。  \n",
    "機械学習の手法の特徴は、処理は早いが最初に特徴量を定義してやる必要がある。  \n",
    "深層学習の手法は、比較的遅いがほぼ最初から最後まで自動でできる　。"
   ]
  },
  {
   "cell_type": "markdown",
   "metadata": {},
   "source": [
    "### (2) Fasterとあるが、どういった仕組みで高速化したのか。"
   ]
  },
  {
   "cell_type": "markdown",
   "metadata": {},
   "source": [
    "#### 1ステップ目の検出の段階で、RPNという手法を使うことで、高速化した。"
   ]
  },
  {
   "cell_type": "markdown",
   "metadata": {},
   "source": [
    "### (3) One-Stageの手法とTwo-Stageの手法はどう違うのか。"
   ]
  },
  {
   "cell_type": "markdown",
   "metadata": {},
   "source": [
    "#### One-Step Object Detection\n",
    "With the need of real time object detection, many one-step object detection architectures have been proposed,   \n",
    "like YOLO, YOLOv2, YOLOv3, SSD, RetinaNet etc. which try to combine the detection and classification step.\n",
    "These modification allow one-step detectors to run faster and also work on a global level.   \n",
    "However, since they do not work on every bounding box separately, this can cause them   \n",
    "to perform worse in case of smaller objects or similar object in close vicinity."
   ]
  },
  {
   "cell_type": "markdown",
   "metadata": {},
   "source": [
    "#### 検出作業と　分類を１ステップでやる手法  \n",
    "早いけど、精度が少し劣る。bounding_boxに対して検出したい物体が小さい場合や、似たような物体が近い距離に存在する場合。"
   ]
  },
  {
   "cell_type": "markdown",
   "metadata": {},
   "source": [
    "#### Two-Step Object Detection\n",
    "Two-Step Object Detection involves algorithms  \n",
    "that first identify bounding boxes which may potentially contain objects and then classify each bounding separately.\n",
    "The first step requires a Region Proposal Network, providing a number of regions which are then passed to  \n",
    "common DL based classification architectures. From the hierarchical grouping algorithm in RCNNs (which are extremely slow)   \n",
    "to using CNNs and ROI pooling in Fast RCNNs and anchors in Faster RCNNs"
   ]
  },
  {
   "cell_type": "markdown",
   "metadata": {},
   "source": [
    "#### ステップ１、(検出)   ステップ２、(分類)    の流れでやる手法\n",
    "遅い"
   ]
  },
  {
   "cell_type": "markdown",
   "metadata": {},
   "source": [
    "### (4) RPNとは何か。"
   ]
  },
  {
   "cell_type": "markdown",
   "metadata": {},
   "source": [
    "### RPN has a classifier and a regressor.     \n",
    "The authors have introduced the concept of anchors. Anchor is the central point of the sliding window.    \n",
    "Classifier determines the probability of a proposal having the target object.    \n",
    "Regression regresses the coordinates of the proposals. \n",
    "  \n",
    "### These anchors are assigned label based on two factors:  \n",
    "The anchors with highest Intersection-over-union overlap with a ground truth box.  \n",
    "The anchors with Intersection-Over-Union Overlap higher than 0.7."
   ]
  },
  {
   "cell_type": "markdown",
   "metadata": {},
   "source": [
    "### RPNは分類と回帰を実施します。\n",
    "スライディングウィンドウの中に、ターゲットが含まれているかどうかの分類をするために、ターゲットが含まれている　確率を決めます。\n",
    "スライディングウィンドウの中心にはアンカーボックスと呼ばれる　ものがあり、今回の場合は、サイズと形状がそれぞれ３種類あるので合計９個あります。\n",
    "そして、複数あるアンカーのうち、どれが一番適しているのかを回帰によって決めます。\n",
    "\n",
    "適切なアンカーを決めるにあたり、IOUという指標を使っています。\n",
    "IOUがもっとも高いアンカーを採用する。"
   ]
  },
  {
   "cell_type": "markdown",
   "metadata": {},
   "source": [
    "### (5) RoIプーリングとは何か。"
   ]
  },
  {
   "cell_type": "markdown",
   "metadata": {},
   "source": [
    "### reasion_proposalの次の段階の処理。\n",
    "やる意味としては、  \n",
    "最初に実施した畳こみから得られた特徴量マップを共有するため。  \n",
    "ROI (reasion of interest) プーリングすることで、  \n",
    "特徴量マップとreasion_proposalの形状がなじになり、  \n",
    "たたみこみから得られた特徴量マップを流用できる。"
   ]
  },
  {
   "cell_type": "markdown",
   "metadata": {},
   "source": [
    "### (6) Anchorのサイズはどうするのが適切か。"
   ]
  },
  {
   "cell_type": "code",
   "execution_count": null,
   "metadata": {},
   "outputs": [],
   "source": [
    "今回の実験では九種類用意している。\n",
    "３種類のアスペクト比と大きさを持ったアンカーを最初に決定している。"
   ]
  },
  {
   "cell_type": "markdown",
   "metadata": {},
   "source": [
    "### (7) 何というデータセットを使い、先行研究に比べどういった指標値が得られているか。"
   ]
  },
  {
   "cell_type": "markdown",
   "metadata": {},
   "source": [
    "#### mAPという評価指標を使用している。\n",
    "#### precition, recallの値を積分　した値で、適合率と再現性が高いほど上がる　。\n",
    "\n",
    "#### 使用データ\n",
    "#### PASCAL VOC\n",
    "#### MS COCO"
   ]
  },
  {
   "cell_type": "code",
   "execution_count": null,
   "metadata": {},
   "outputs": [],
   "source": []
  }
 ],
 "metadata": {
  "kernelspec": {
   "display_name": "Python 3",
   "language": "python",
   "name": "python3"
  },
  "language_info": {
   "codemirror_mode": {
    "name": "ipython",
    "version": 3
   },
   "file_extension": ".py",
   "mimetype": "text/x-python",
   "name": "python",
   "nbconvert_exporter": "python",
   "pygments_lexer": "ipython3",
   "version": "3.7.4"
  }
 },
 "nbformat": 4,
 "nbformat_minor": 2
}
