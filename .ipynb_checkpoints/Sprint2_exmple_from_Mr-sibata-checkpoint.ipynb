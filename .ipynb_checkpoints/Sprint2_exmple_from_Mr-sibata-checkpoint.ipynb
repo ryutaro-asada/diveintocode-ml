{
 "cells": [
  {
   "cell_type": "markdown",
   "metadata": {},
   "source": [
    "# sprint 機械学習スクラッチ 線形回帰"
   ]
  },
  {
   "cell_type": "code",
   "execution_count": 26,
   "metadata": {},
   "outputs": [],
   "source": [
    "import matplotlib.pyplot as plt\n",
    "%matplotlib inline\n",
    "import numpy as np\n",
    "import pandas as pd\n",
    "import seaborn as sns\n",
    "import missingno as msno\n",
    "from scipy import stats\n",
    "from sklearn.preprocessing import StandardScaler"
   ]
  },
  {
   "cell_type": "code",
   "execution_count": 20,
   "metadata": {},
   "outputs": [],
   "source": [
    "class ScratchLinearRegression():\n",
    "    \"\"\"\n",
    "    線形回帰のスクラッチ実装\n",
    "\n",
    "    Parameters\n",
    "    ----------\n",
    "    num_iter : int\n",
    "      イテレーション数\n",
    "    lr : float\n",
    "      学習率\n",
    "    no_bias : bool\n",
    "      バイアス項を入れない場合はTrue\n",
    "    verbose : bool\n",
    "      学習過程を出力する場合はTrue\n",
    "\n",
    "    Attributes\n",
    "    ----------\n",
    "    self.coef_ : 次の形のndarray, shape (n_features,)\n",
    "      パラメータ\n",
    "    self.loss : 次の形のndarray, shape (self.iter,)\n",
    "      学習用データに対する損失の記録\n",
    "    self.val_loss : 次の形のndarray, shape (self.iter,)\n",
    "      検証用データに対する損失の記録\n",
    "\n",
    "    \"\"\"\n",
    "\n",
    "    def __init__(self, num_iter, lr, bias=None, verbose=None):\n",
    "        # ハイパーパラメータを属性として記録\n",
    "        self.iter = num_iter\n",
    "        self.lr = lr\n",
    "        self.bias = bias\n",
    "        self.verbose = verbose\n",
    "        # 損失を記録する配列を用意\n",
    "        self.loss = np.zeros(self.iter)\n",
    "        self.val_loss = np.zeros(self.iter)\n",
    "        # self.coef_ = None とすることで、fitをを呼び出さなくてもcoefが使用できる（先にpredictやる時とか）\n",
    "        # self/h0も同様\n",
    "\n",
    "    def fit(self, X, y, X_val=None, y_val=None):\n",
    "        \"\"\"\n",
    "        線形回帰を学習する。検証用データが入力された場合はそれに対する損失と精度もイテレーションごとに計算する。\n",
    "\n",
    "        Parameters\n",
    "        ----------\n",
    "        X : 次の形のndarray, shape (n_samples, n_features)\n",
    "            学習用データの特徴量\n",
    "        y : 次の形のndarray, shape (n_samples, )\n",
    "            学習用データの正解値\n",
    "        X_val : 次の形のndarray, shape (n_samples, n_features)\n",
    "            検証用データの特徴量\n",
    "        y_val : 次の形のndarray, shape (n_samples, )\n",
    "            検証用データの正解値\n",
    "        \"\"\"\n",
    "        \n",
    "        # yの一次元化\n",
    "        y = y.ravel()\n",
    "        y_val = y_val.ravel()\n",
    "        \n",
    "        # 切片列を追加（切片の有無を選べる）\n",
    "        if not self.bias:   \n",
    "            X = np.concatenate([np.ones([X.shape[0], 1]), X], axis=1)\n",
    "            X_val = np.concatenate([np.ones([X_val.shape[0], 1]), X_val], axis=1)\n",
    "        \n",
    "        #パラメーターの初期値（平均０、分散１の正規分布）\n",
    "        self.coef_ = np.random.normal(0, 1, X.shape[1])\n",
    "        \n",
    "        for iter_count in range(self.iter):\n",
    "            if self.verbose:\n",
    "                #verboseをTrueにした際は学習過程を出力\n",
    "                print(\"{}回目の学習\".format(iter_count))\n",
    "            \n",
    "            # 過程関数\n",
    "            h0 = _linear_hypothesis(self, X)\n",
    "            h0_val = _linear_hypothesis(self, X_val)\n",
    "            # _linear_hypothesis　→　これだけでh0の更新、fit内部ではself.h0で更新後の値が呼び出せる、retunいらない\n",
    "            \n",
    "            # 最急降下法（error算出→勾配算出）\n",
    "            error = h0 - y\n",
    "            self.coef_ = _gradient_descent(self, X, error)\n",
    "            # self._gradient_descent →　これだけでself.coef_の更新、fit内部ではself.coef_で更新後の値が呼び出せる、retunいらない\n",
    "            \n",
    "            # costの記録\n",
    "            self.loss[iter_count] = loss_cal(h0 , y)\n",
    "            self.val_loss[iter_count] = loss_cal(h0_val , y_val)\n",
    "        \n",
    "\n",
    "    def predict(self, X):\n",
    "        \"\"\"\n",
    "        線形回帰を使い推定する。\n",
    "\n",
    "        Parameters\n",
    "        ----------\n",
    "        X : 次の形のndarray, shape (n_samples, n_features)\n",
    "            サンプル\n",
    "\n",
    "        Returns\n",
    "        -------\n",
    "            次の形のndarray, shape (n_samples, 1)\n",
    "            線形回帰による推定結果\n",
    "        \"\"\"\n",
    "        \n",
    "        h0 = np.dot(X, self.coef_.T)\n",
    "        \n",
    "        return h0\n"
   ]
  },
  {
   "cell_type": "markdown",
   "metadata": {},
   "source": [
    "# 【問題1】仮定関数\n",
    "以下の数式で表される線形回帰の仮定関数を実装してください。メソッドの雛形を用意してあります。"
   ]
  },
  {
   "cell_type": "code",
   "execution_count": 21,
   "metadata": {},
   "outputs": [],
   "source": [
    "def _linear_hypothesis(self, X):\n",
    "    \"\"\"\n",
    "    線形の仮定関数を計算する\n",
    "\n",
    "    Parameters\n",
    "    ----------\n",
    "    X : 次の形のndarray, shape (n_samples, n_features)\n",
    "      学習データ\n",
    "    \n",
    "    Attributes\n",
    "    ----------\n",
    "      \n",
    "    self.coef_ : 次の形のndarray, shape (n_features)\n",
    "      Xに対するパラメーター\n",
    "\n",
    "    Returns\n",
    "    -------\n",
    "    h0 : 次の形のndarray, shape (n_samples, 1)\n",
    "      線形の仮定関数による推定結果\n",
    "\n",
    "    \"\"\"\n",
    "\n",
    "    h0 = np.dot(X, self.coef_.T)\n",
    "    # coef_.Tでベクトルを転置すると予期せぬ結果が発生する\n",
    "    # →　だからベクトルの内積時は次元追加の方が良い（newaxis or reshape）\n",
    "    \n",
    "    return h0"
   ]
  },
  {
   "cell_type": "markdown",
   "metadata": {},
   "source": [
    "# 【問題2】最急降下法\n",
    "最急降下法により学習させる実装を行なってください。以下の式で表されるパラメータの更新式のメソッド_gradient_descentを追加し、fit\n",
    "メソッドから呼び出すようにしてください。"
   ]
  },
  {
   "cell_type": "code",
   "execution_count": 22,
   "metadata": {},
   "outputs": [],
   "source": [
    "def _gradient_descent(self, X, error):\n",
    "    \"\"\"\n",
    "    X : 次の形のndarray, shape (n_samples, n_features)\n",
    "      学習データ\n",
    "    \n",
    "    error : 次の形のndarray, shape (n_samples, 1)\n",
    "      trueとpredictの差\n",
    "      \n",
    "    self.lr : float\n",
    "      学習率\n",
    "    \n",
    "    self.coef_ : 次の形のndarray, shape (n_features)\n",
    "      Xに対するパラメーター\n",
    "    \n",
    "    Returns\n",
    "    -------\n",
    "    self.theta_ : 次の形のndarray, shape (n_samples, 1)\n",
    "      線形の仮定関数による推定結果\n",
    "      \n",
    "    \"\"\"\n",
    "    \n",
    "    self.coef_ = self.coef_ - self.lr*np.dot(X.T, error)/X.shape[0]\n",
    "    \n",
    "    return self.coef_"
   ]
  },
  {
   "cell_type": "markdown",
   "metadata": {},
   "source": [
    "# 【問題3】推定\n",
    "推定する仕組みを実装してください。ScratchLinearRegressionクラスの雛形に含まれるpredictメソッドに書き加えてください。\n",
    "\n",
    "仮定関数 hθ(x)の出力が推定結果です。"
   ]
  },
  {
   "cell_type": "markdown",
   "metadata": {},
   "source": [
    "# 【問題4】平均二乗誤差\n",
    "線形回帰の指標値として用いられる平均二乗誤差（mean square error, MSE）の関数を作成してください。\n",
    "\n",
    "平均二乗誤差関数は回帰問題全般で使える関数のため、ScratchLinearRegressionクラスのメソッドではなく、別の関数として作成してください。雛形を用意してあります。\n",
    "\n",
    "平均二乗誤差は以下の数式で表されます。"
   ]
  },
  {
   "cell_type": "code",
   "execution_count": 23,
   "metadata": {},
   "outputs": [],
   "source": [
    " def MSE(y_pred, y):\n",
    "    \"\"\"\n",
    "    平均二乗誤差の計算\n",
    "\n",
    "    Parameters\n",
    "    ----------\n",
    "    y_pred : 次の形のndarray, shape (n_samples,)\n",
    "      推定した値\n",
    "    y : 次の形のndarray, shape (n_samples,)\n",
    "      正解値\n",
    "\n",
    "    Returns\n",
    "    ----------\n",
    "    mse : numpy.float\n",
    "      平均二乗誤差\n",
    "    \"\"\"\n",
    "    mse = ((y_pred-y)**2).sum() / X.shape[0]\n",
    "\n",
    "    return mse"
   ]
  },
  {
   "cell_type": "markdown",
   "metadata": {},
   "source": [
    "# 【問題5】目的関数\n",
    "以下の数式で表される線形回帰の 目的関数（損失関数） を実装してください。そして、これをself.loss, self.val_lossに記録するようにしてください。\n",
    "\n",
    "目的関数（損失関数） J(θ)は次の式です。"
   ]
  },
  {
   "cell_type": "code",
   "execution_count": 24,
   "metadata": {},
   "outputs": [],
   "source": [
    "def loss_cal(y_pred , y):\n",
    "    \"\"\"\n",
    "    損失関数の計算と記録\n",
    "\n",
    "    Parameters\n",
    "    ----------\n",
    "    y_pred : 次の形のndarray, shape (n_samples,)\n",
    "      推定した値\n",
    "    y : 次の形のndarray, shape (n_samples,)\n",
    "      正解値\n",
    "\n",
    "    Returns\n",
    "    ----------\n",
    "    cost : numpy.float\n",
    "      平均二乗誤差\n",
    "    \"\"\"\n",
    "    loss = ((y_pred-y)**2).sum() / X.shape[0] / 2\n",
    "    \n",
    "    return loss"
   ]
  },
  {
   "cell_type": "markdown",
   "metadata": {},
   "source": [
    "# 【問題6】学習と推定\n",
    "機械学習スクラッチ入門のSprintで用意したHouse Pricesコンペティションのデータに対してスクラッチ実装の学習と推定を行なってください。\n",
    "\n",
    "scikit-learnによる実装と比べ、正しく動いているかを確認してください。"
   ]
  },
  {
   "cell_type": "code",
   "execution_count": 29,
   "metadata": {
    "scrolled": true
   },
   "outputs": [],
   "source": [
    "# データセットの準備\n",
    "df_origin = pd.read_csv('/Users/user/Downloads/house-prices-advanced-regression-techniques/train.csv')\n",
    "df = df_origin[[\"GrLivArea\", \"YearBuilt\", \"SalePrice\"]]\n",
    "X = df[[\"GrLivArea\", \"YearBuilt\"]]\n",
    "y = df[[\"SalePrice\"]]\n",
    "\n",
    "# 分割\n",
    "from sklearn.model_selection import train_test_split\n",
    "# ndarray変換\n",
    "X_array = X.values\n",
    "y_array = y.values\n",
    "X_train, X_valid, y_train, y_valid = train_test_split(\n",
    "    X_array, y_array, test_size=0.25, random_state=0)\n",
    "\n",
    "# 各特徴量の標準化\n",
    "# X、yを分けてインスタンス化\n",
    "scaler_X = StandardScaler()\n",
    "scaler_y = StandardScaler()\n",
    "X_train_std = scaler_X.fit_transform(X_train)\n",
    "X_valid_std = scaler_X.transform(X_valid)\n",
    "y_train_std = scaler_y.fit_transform(y_train)\n",
    "y_valid_std = scaler_y.transform(y_valid)"
   ]
  },
  {
   "cell_type": "markdown",
   "metadata": {},
   "source": [
    "## 対数などによる正規分布化は行なっていない"
   ]
  },
  {
   "cell_type": "code",
   "execution_count": 30,
   "metadata": {},
   "outputs": [],
   "source": [
    "# スクラッチの学習\n",
    "slrg = ScratchLinearRegression(5000, 0.001)\n",
    "slrg.fit(X_train_std, y_train_std, X_valid_std, y_valid_std)"
   ]
  },
  {
   "cell_type": "code",
   "execution_count": 31,
   "metadata": {},
   "outputs": [
    {
     "data": {
      "image/png": "[encoded data removed]",
      "text/plain": [
       "<Figure size 432x288 with 1 Axes>"
      ]
     },
     "metadata": {
      "needs_background": "light"
     },
     "output_type": "display_data"
    }
   ],
   "source": [
    "# グラフ化\n",
    "iter_list = [i for i in range(slrg.iter)]\n",
    "plt.scatter(iter_list, slrg.loss, label=\"train\")\n",
    "plt.scatter(iter_list, slrg.val_loss, label=\"valid\")\n",
    "plt.ylabel('loss')\n",
    "plt.xlabel('iter')\n",
    "plt.title('madel loss (StandardScaler)')\n",
    "plt.legend();"
   ]
  },
  {
   "cell_type": "code",
   "execution_count": 32,
   "metadata": {},
   "outputs": [
    {
     "name": "stdout",
     "output_type": "stream",
     "text": [
      "trainのloss : 0.12128019946860678\n",
      "validのloss : 0.05465227228002665\n"
     ]
    }
   ],
   "source": [
    "# 最終的なloss\n",
    "print(\"trainのloss : {}\".format(slrg.loss[-1]))\n",
    "print(\"validのloss : {}\".format(slrg.val_loss[-1]))"
   ]
  },
  {
   "cell_type": "markdown",
   "metadata": {},
   "source": [
    "# 【問題8】（アドバンス課題）バイアス項の除去\n",
    "バイアス項 θ0を抜くと学習がどう変化するか検証してください。また、線形回帰モデルにおけるバイアス項の役割の考察・調査を行ってください。"
   ]
  },
  {
   "cell_type": "code",
   "execution_count": 1,
   "metadata": {},
   "outputs": [
    {
     "ename": "NameError",
     "evalue": "name 'ScratchLinearRegression' is not defined",
     "output_type": "error",
     "traceback": [
      "\u001b[0;31m---------------------------------------------------------------------------\u001b[0m",
      "\u001b[0;31mNameError\u001b[0m                                 Traceback (most recent call last)",
      "\u001b[0;32m<ipython-input-1-50d9a9554735>\u001b[0m in \u001b[0;36m<module>\u001b[0;34m\u001b[0m\n\u001b[1;32m      1\u001b[0m \u001b[0;31m# バイアス項なし、学習過程あり　学習\u001b[0m\u001b[0;34m\u001b[0m\u001b[0;34m\u001b[0m\u001b[0;34m\u001b[0m\u001b[0m\n\u001b[0;32m----> 2\u001b[0;31m \u001b[0mslrg_no_bai\u001b[0m \u001b[0;34m=\u001b[0m \u001b[0mScratchLinearRegression\u001b[0m\u001b[0;34m(\u001b[0m\u001b[0;36m5000\u001b[0m\u001b[0;34m,\u001b[0m \u001b[0;36m0.001\u001b[0m\u001b[0;34m,\u001b[0m \u001b[0;32mTrue\u001b[0m\u001b[0;34m,\u001b[0m \u001b[0;32mTrue\u001b[0m\u001b[0;34m)\u001b[0m\u001b[0;34m\u001b[0m\u001b[0;34m\u001b[0m\u001b[0m\n\u001b[0m\u001b[1;32m      3\u001b[0m \u001b[0mslrg_no_bai\u001b[0m\u001b[0;34m.\u001b[0m\u001b[0mfit\u001b[0m\u001b[0;34m(\u001b[0m\u001b[0mX_train_std\u001b[0m\u001b[0;34m,\u001b[0m \u001b[0my_train_std\u001b[0m\u001b[0;34m,\u001b[0m \u001b[0mX_valid_std\u001b[0m\u001b[0;34m,\u001b[0m \u001b[0my_valid_std\u001b[0m\u001b[0;34m)\u001b[0m\u001b[0;34m\u001b[0m\u001b[0;34m\u001b[0m\u001b[0m\n",
      "\u001b[0;31mNameError\u001b[0m: name 'ScratchLinearRegression' is not defined"
     ]
    }
   ],
   "source": [
    "# バイアス項なし、学習過程あり　学習\n",
    "slrg_no_bai = ScratchLinearRegression(5000, 0.001, True, True)\n",
    "slrg_no_bai.fit(X_train_std, y_train_std, X_valid_std, y_valid_std)"
   ]
  },
  {
   "cell_type": "code",
   "execution_count": 34,
   "metadata": {
    "scrolled": true
   },
   "outputs": [
    {
     "data": {
      "image/png": "[encoded data removed]",
      "text/plain": [
       "<Figure size 432x288 with 1 Axes>"
      ]
     },
     "metadata": {
      "needs_background": "light"
     },
     "output_type": "display_data"
    }
   ],
   "source": [
    "# グラフ化、バイアス項なし\n",
    "iter_no_bai_list = [i for i in range(slrg_no_bai.iter)]\n",
    "plt.scatter(iter_no_bai_list, slrg_no_bai.loss, label=\"train\")\n",
    "plt.scatter(iter_no_bai_list, slrg_no_bai.val_loss, label=\"valid\")\n",
    "plt.ylabel('loss')\n",
    "plt.xlabel('iter')\n",
    "plt.title('madel loss, no baias (StandardScaler)')\n",
    "plt.legend();"
   ]
  },
  {
   "cell_type": "code",
   "execution_count": 35,
   "metadata": {},
   "outputs": [
    {
     "name": "stdout",
     "output_type": "stream",
     "text": [
      "trainのloss : 0.12114324716451233\n",
      "validのloss : 0.05494001334747673\n"
     ]
    }
   ],
   "source": [
    "# 最終的なloss バイアス項なし\n",
    "print(\"trainのloss : {}\".format(slrg_no_bai.loss[-1]))\n",
    "print(\"validのloss : {}\".format(slrg_no_bai.val_loss[-1]))"
   ]
  },
  {
   "cell_type": "markdown",
   "metadata": {},
   "source": [
    "# 【問題9】（アドバンス課題）特徴量の多次元化\n",
    "特徴量の二乗や三乗を入力に利用すると学習結果がどう変化するか検証してください。"
   ]
  },
  {
   "cell_type": "code",
   "execution_count": 36,
   "metadata": {},
   "outputs": [
    {
     "data": {
      "image/png": "[encoded data removed]",
      "text/plain": [
       "<Figure size 432x288 with 1 Axes>"
      ]
     },
     "metadata": {
      "needs_background": "light"
     },
     "output_type": "display_data"
    }
   ],
   "source": [
    "# 特徴量の２乗\n",
    "slrg_poly2 = ScratchLinearRegression(5000, 0.001)\n",
    "slrg_poly2.fit(X_train_std**2, y_train_std, X_valid_std**2, y_valid_std)\n",
    "\n",
    "iter_poly2_list = [i for i in range(slrg_poly2.iter)]\n",
    "plt.scatter(iter_poly2_list, slrg_poly2.loss, label=\"train\")\n",
    "plt.scatter(iter_poly2_list, slrg_poly2.val_loss, label=\"valid\")\n",
    "plt.ylabel('loss')\n",
    "plt.xlabel('iter')\n",
    "plt.title('madel loss (X**2)')\n",
    "plt.legend();"
   ]
  },
  {
   "cell_type": "code",
   "execution_count": 37,
   "metadata": {},
   "outputs": [
    {
     "name": "stdout",
     "output_type": "stream",
     "text": [
      "trainのloss : 0.33646211495784834\n",
      "validのloss : 0.14580768663866464\n"
     ]
    }
   ],
   "source": [
    "# 最終的なloss\n",
    "print(\"trainのloss : {}\".format(slrg_poly2.loss[-1]))\n",
    "print(\"validのloss : {}\".format(slrg_poly2.val_loss[-1]))"
   ]
  },
  {
   "cell_type": "code",
   "execution_count": 38,
   "metadata": {
    "scrolled": true
   },
   "outputs": [
    {
     "data": {
      "image/png": "[encoded data removed]",
      "text/plain": [
       "<Figure size 432x288 with 1 Axes>"
      ]
     },
     "metadata": {
      "needs_background": "light"
     },
     "output_type": "display_data"
    }
   ],
   "source": [
    "# 特徴量の３乗\n",
    "slrg_poly3 = ScratchLinearRegression(5000, 0.001)\n",
    "slrg_poly3.fit(X_train_std**3, y_train_std, X_valid_std**3, y_valid_std)\n",
    "\n",
    "iter_poly3_list = [i for i in range(slrg_poly3.iter)]\n",
    "plt.scatter(iter_poly3_list, slrg_poly3.loss, label=\"train\")\n",
    "plt.scatter(iter_poly3_list, slrg_poly3.val_loss, label=\"valid\")\n",
    "plt.ylabel('loss')\n",
    "plt.xlabel('iter')\n",
    "plt.title('madel loss (polinomia)')\n",
    "plt.legend();"
   ]
  },
  {
   "cell_type": "code",
   "execution_count": 39,
   "metadata": {},
   "outputs": [
    {
     "name": "stdout",
     "output_type": "stream",
     "text": [
      "trainのloss : 0.29045888109076845\n",
      "validのloss : 0.2351691665411854\n"
     ]
    }
   ],
   "source": [
    "# 最終的なloss\n",
    "print(\"trainのloss : {}\".format(slrg_poly3.loss[-1]))\n",
    "print(\"validのloss : {}\".format(slrg_poly3.val_loss[-1]))"
   ]
  },
  {
   "cell_type": "code",
   "execution_count": 40,
   "metadata": {},
   "outputs": [
    {
     "data": {
      "text/html": [
       "<div>\n",
       "<style scoped>\n",
       "    .dataframe tbody tr th:only-of-type {\n",
       "        vertical-align: middle;\n",
       "    }\n",
       "\n",
       "    .dataframe tbody tr th {\n",
       "        vertical-align: top;\n",
       "    }\n",
       "\n",
       "    .dataframe thead th {\n",
       "        text-align: right;\n",
       "    }\n",
       "</style>\n",
       "<table border=\"1\" class=\"dataframe\">\n",
       "  <thead>\n",
       "    <tr style=\"text-align: right;\">\n",
       "      <th></th>\n",
       "      <th>train</th>\n",
       "      <th>valid</th>\n",
       "    </tr>\n",
       "  </thead>\n",
       "  <tbody>\n",
       "    <tr>\n",
       "      <td>通常</td>\n",
       "      <td>0.121280</td>\n",
       "      <td>0.054652</td>\n",
       "    </tr>\n",
       "    <tr>\n",
       "      <td>バイアスなし</td>\n",
       "      <td>0.121143</td>\n",
       "      <td>0.054940</td>\n",
       "    </tr>\n",
       "    <tr>\n",
       "      <td>２乗</td>\n",
       "      <td>0.336462</td>\n",
       "      <td>0.145808</td>\n",
       "    </tr>\n",
       "    <tr>\n",
       "      <td>３乗</td>\n",
       "      <td>0.290459</td>\n",
       "      <td>0.235169</td>\n",
       "    </tr>\n",
       "  </tbody>\n",
       "</table>\n",
       "</div>"
      ],
      "text/plain": [
       "           train     valid\n",
       "通常      0.121280  0.054652\n",
       "バイアスなし  0.121143  0.054940\n",
       "２乗      0.336462  0.145808\n",
       "３乗      0.290459  0.235169"
      ]
     },
     "execution_count": 40,
     "metadata": {},
     "output_type": "execute_result"
    }
   ],
   "source": [
    "# それぞれの最終的なlossのまとめ\n",
    "loss = [slrg.loss[-1], slrg.val_loss[-1]]\n",
    "loss_no = [slrg_no_bai.loss[-1], slrg_no_bai.val_loss[-1]]\n",
    "loss_poly2 = [slrg_poly2.loss[-1], slrg_poly2.val_loss[-1]]\n",
    "loss_poly3 = [slrg_poly3.loss[-1], slrg_poly3.val_loss[-1]]\n",
    "\n",
    "loss_df = pd.DataFrame([loss, loss_no, loss_poly2, loss_poly3],\n",
    "                      index=['通常', 'バイアスなし', '２乗', '３乗'],\n",
    "                      columns=['train', 'valid'])\n",
    "loss_df"
   ]
  },
  {
   "cell_type": "markdown",
   "metadata": {},
   "source": [
    "特徴量をべき乗すると最終的なlossが大きい（収束するのは早いが）  \n",
    "→べき乗にするとグラフではどうなる？"
   ]
  },
  {
   "cell_type": "code",
   "execution_count": 41,
   "metadata": {},
   "outputs": [
    {
     "data": {
      "image/png": "[encoded data removed]",
      "text/plain": [
       "<Figure size 432x288 with 2 Axes>"
      ]
     },
     "metadata": {
      "needs_background": "light"
     },
     "output_type": "display_data"
    }
   ],
   "source": [
    "# poly前のグラフ\n",
    "plt.figure().suptitle(\"X vs y\", size=15)\n",
    "plt.subplot(121)\n",
    "plt.scatter(X_train_std[:, 0], y_train_std)\n",
    "plt.xlabel(X.columns[0])\n",
    "plt.ylabel(y.columns[0])\n",
    "plt.subplot(122)\n",
    "plt.scatter(X_train_std[:, 1], y_train_std)\n",
    "plt.xlabel(X.columns[1]);"
   ]
  },
  {
   "cell_type": "code",
   "execution_count": 42,
   "metadata": {},
   "outputs": [
    {
     "data": {
      "image/png": "[encoded data removed]",
      "text/plain": [
       "<Figure size 432x288 with 2 Axes>"
      ]
     },
     "metadata": {
      "needs_background": "light"
     },
     "output_type": "display_data"
    },
    {
     "data": {
      "image/png": "[encoded data removed]",
      "text/plain": [
       "<Figure size 432x288 with 2 Axes>"
      ]
     },
     "metadata": {
      "needs_background": "light"
     },
     "output_type": "display_data"
    }
   ],
   "source": [
    "# ２乗のグラフ\n",
    "plt.figure().suptitle(\"X**2 vs y\", size=15)\n",
    "plt.subplot(121)\n",
    "plt.scatter(X_train_std[:, 0]**2, y_train_std)\n",
    "plt.xlabel(X.columns[0])\n",
    "plt.ylabel(y.columns[0])\n",
    "plt.subplot(122)\n",
    "plt.scatter(X_train_std[:, 1]**2, y_train_std)\n",
    "plt.xlabel(X.columns[1])\n",
    "\n",
    "# ２乗のグラフ　スケールを調整\n",
    "plt.figure().suptitle(\"X**2(scale adjust) vs y\", size=15)\n",
    "plt.subplot(121)\n",
    "plt.scatter(X_train_std[:, 0]**2, y_train_std)\n",
    "plt.xlim(0, 8)\n",
    "plt.xlabel(X.columns[0])\n",
    "plt.ylabel(y.columns[0])\n",
    "plt.subplot(122)\n",
    "plt.scatter(X_train_std[:, 1]**2, y_train_std)\n",
    "plt.xlim(0, 6)\n",
    "plt.xlabel(X.columns[1]);"
   ]
  },
  {
   "cell_type": "code",
   "execution_count": 43,
   "metadata": {},
   "outputs": [
    {
     "data": {
      "image/png": "[encoded data removed]",
      "text/plain": [
       "<Figure size 432x288 with 2 Axes>"
      ]
     },
     "metadata": {
      "needs_background": "light"
     },
     "output_type": "display_data"
    },
    {
     "data": {
      "image/png": "[encoded data removed]",
      "text/plain": [
       "<Figure size 432x288 with 2 Axes>"
      ]
     },
     "metadata": {
      "needs_background": "light"
     },
     "output_type": "display_data"
    }
   ],
   "source": [
    "# 3乗のグラフ\n",
    "plt.figure().suptitle(\"X**3 vs y\", size=15)\n",
    "plt.subplot(121)\n",
    "plt.scatter(X_train_std[:, 0]**3, y_train_std)\n",
    "plt.xlabel(X.columns[0])\n",
    "plt.ylabel(y.columns[0])\n",
    "plt.subplot(122)\n",
    "plt.scatter(X_train_std[:, 1]**3, y_train_std)\n",
    "plt.xlabel(X.columns[1])\n",
    "\n",
    "# ２乗のグラフ　スケールを調整\n",
    "plt.figure().suptitle(\"X**3(scale adjust) vs y\", size=15)\n",
    "plt.subplot(121)\n",
    "plt.scatter(X_train_std[:, 0]**3, y_train_std)\n",
    "plt.xlim(-1, 7)\n",
    "plt.xlabel(X.columns[0])\n",
    "plt.ylabel(y.columns[0])\n",
    "plt.subplot(122)\n",
    "plt.scatter(X_train_std[:, 1]**3, y_train_std)\n",
    "plt.xlim(-4, 2)\n",
    "plt.xlabel(X.columns[1]);"
   ]
  },
  {
   "cell_type": "markdown",
   "metadata": {},
   "source": [
    "特徴量をべき乗することで分布が疎になる（外れ値が増える）  \n",
    "線型性も減少している  \n",
    "→そのため最終的なlossも高くなる（線型性の低下）"
   ]
  },
  {
   "cell_type": "markdown",
   "metadata": {},
   "source": [
    "# 【問題11】（アドバンス課題）局所最適解の問題\n",
    "最急降下法には一般的に局所最適解の問題があります。しかし、線形回帰では学習を続ければ必ず最適解を求めることができます。それはなぜか数式やグラフを用いて説明してください。"
   ]
  },
  {
   "cell_type": "markdown",
   "metadata": {},
   "source": [
    "目的関数である損失関数は、変数に対する２乗の関数。  \n",
    "そのため、２乗の関数は局所最適解を持たないため必ず最適解が求められる。"
   ]
  },
  {
   "cell_type": "code",
   "execution_count": null,
   "metadata": {},
   "outputs": [],
   "source": []
  }
 ],
 "metadata": {
  "kernelspec": {
   "display_name": "Python 3",
   "language": "python",
   "name": "python3"
  },
  "language_info": {
   "codemirror_mode": {
    "name": "ipython",
    "version": 3
   },
   "file_extension": ".py",
   "mimetype": "text/x-python",
   "name": "python",
   "nbconvert_exporter": "python",
   "pygments_lexer": "ipython3",
   "version": "3.7.4"
  }
 },
 "nbformat": 4,
 "nbformat_minor": 4
}
