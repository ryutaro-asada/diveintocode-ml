{
 "cells": [
  {
   "cell_type": "markdown",
   "metadata": {},
   "source": [
    "##  Week4 アヤメの分類"
   ]
  },
  {
   "cell_type": "markdown",
   "metadata": {},
   "source": [
    "各種　インポート"
   ]
  },
  {
   "cell_type": "code",
   "execution_count": 3,
   "metadata": {},
   "outputs": [],
   "source": [
    "import matplotlib.pyplot as plt\n",
    "import numpy as np\n",
    "import sklearn\n",
    "import pandas as pd"
   ]
  },
  {
   "cell_type": "code",
   "execution_count": 4,
   "metadata": {},
   "outputs": [],
   "source": [
    "from sklearn.datasets import load_iris\n",
    "iris_datasets = load_iris()"
   ]
  },
  {
   "cell_type": "markdown",
   "metadata": {},
   "source": [
    "## Pandasで特徴量とターゲットの読み込み"
   ]
  },
  {
   "cell_type": "code",
   "execution_count": 5,
   "metadata": {},
   "outputs": [],
   "source": [
    "X_pd = pd.DataFrame(iris_datasets.data, columns = ['sepal_length', 'sepal_width', 'petal_length', 'petal_width'])"
   ]
  },
  {
   "cell_type": "code",
   "execution_count": 6,
   "metadata": {},
   "outputs": [],
   "source": [
    "y_pd = pd.DataFrame(iris_datasets.target, columns = ['Species'])"
   ]
  },
  {
   "cell_type": "code",
   "execution_count": 7,
   "metadata": {},
   "outputs": [
    {
     "data": {
      "text/html": [
       "<div>\n",
       "<style scoped>\n",
       "    .dataframe tbody tr th:only-of-type {\n",
       "        vertical-align: middle;\n",
       "    }\n",
       "\n",
       "    .dataframe tbody tr th {\n",
       "        vertical-align: top;\n",
       "    }\n",
       "\n",
       "    .dataframe thead th {\n",
       "        text-align: right;\n",
       "    }\n",
       "</style>\n",
       "<table border=\"1\" class=\"dataframe\">\n",
       "  <thead>\n",
       "    <tr style=\"text-align: right;\">\n",
       "      <th></th>\n",
       "      <th>sepal_length</th>\n",
       "      <th>sepal_width</th>\n",
       "      <th>petal_length</th>\n",
       "      <th>petal_width</th>\n",
       "    </tr>\n",
       "  </thead>\n",
       "  <tbody>\n",
       "    <tr>\n",
       "      <td>0</td>\n",
       "      <td>5.1</td>\n",
       "      <td>3.5</td>\n",
       "      <td>1.4</td>\n",
       "      <td>0.2</td>\n",
       "    </tr>\n",
       "    <tr>\n",
       "      <td>1</td>\n",
       "      <td>4.9</td>\n",
       "      <td>3.0</td>\n",
       "      <td>1.4</td>\n",
       "      <td>0.2</td>\n",
       "    </tr>\n",
       "    <tr>\n",
       "      <td>2</td>\n",
       "      <td>4.7</td>\n",
       "      <td>3.2</td>\n",
       "      <td>1.3</td>\n",
       "      <td>0.2</td>\n",
       "    </tr>\n",
       "    <tr>\n",
       "      <td>3</td>\n",
       "      <td>4.6</td>\n",
       "      <td>3.1</td>\n",
       "      <td>1.5</td>\n",
       "      <td>0.2</td>\n",
       "    </tr>\n",
       "    <tr>\n",
       "      <td>4</td>\n",
       "      <td>5.0</td>\n",
       "      <td>3.6</td>\n",
       "      <td>1.4</td>\n",
       "      <td>0.2</td>\n",
       "    </tr>\n",
       "    <tr>\n",
       "      <td>...</td>\n",
       "      <td>...</td>\n",
       "      <td>...</td>\n",
       "      <td>...</td>\n",
       "      <td>...</td>\n",
       "    </tr>\n",
       "    <tr>\n",
       "      <td>145</td>\n",
       "      <td>6.7</td>\n",
       "      <td>3.0</td>\n",
       "      <td>5.2</td>\n",
       "      <td>2.3</td>\n",
       "    </tr>\n",
       "    <tr>\n",
       "      <td>146</td>\n",
       "      <td>6.3</td>\n",
       "      <td>2.5</td>\n",
       "      <td>5.0</td>\n",
       "      <td>1.9</td>\n",
       "    </tr>\n",
       "    <tr>\n",
       "      <td>147</td>\n",
       "      <td>6.5</td>\n",
       "      <td>3.0</td>\n",
       "      <td>5.2</td>\n",
       "      <td>2.0</td>\n",
       "    </tr>\n",
       "    <tr>\n",
       "      <td>148</td>\n",
       "      <td>6.2</td>\n",
       "      <td>3.4</td>\n",
       "      <td>5.4</td>\n",
       "      <td>2.3</td>\n",
       "    </tr>\n",
       "    <tr>\n",
       "      <td>149</td>\n",
       "      <td>5.9</td>\n",
       "      <td>3.0</td>\n",
       "      <td>5.1</td>\n",
       "      <td>1.8</td>\n",
       "    </tr>\n",
       "  </tbody>\n",
       "</table>\n",
       "<p>150 rows × 4 columns</p>\n",
       "</div>"
      ],
      "text/plain": [
       "     sepal_length  sepal_width  petal_length  petal_width\n",
       "0             5.1          3.5           1.4          0.2\n",
       "1             4.9          3.0           1.4          0.2\n",
       "2             4.7          3.2           1.3          0.2\n",
       "3             4.6          3.1           1.5          0.2\n",
       "4             5.0          3.6           1.4          0.2\n",
       "..            ...          ...           ...          ...\n",
       "145           6.7          3.0           5.2          2.3\n",
       "146           6.3          2.5           5.0          1.9\n",
       "147           6.5          3.0           5.2          2.0\n",
       "148           6.2          3.4           5.4          2.3\n",
       "149           5.9          3.0           5.1          1.8\n",
       "\n",
       "[150 rows x 4 columns]"
      ]
     },
     "execution_count": 7,
     "metadata": {},
     "output_type": "execute_result"
    }
   ],
   "source": [
    "X_pd"
   ]
  },
  {
   "cell_type": "code",
   "execution_count": 8,
   "metadata": {},
   "outputs": [
    {
     "data": {
      "text/html": [
       "<div>\n",
       "<style scoped>\n",
       "    .dataframe tbody tr th:only-of-type {\n",
       "        vertical-align: middle;\n",
       "    }\n",
       "\n",
       "    .dataframe tbody tr th {\n",
       "        vertical-align: top;\n",
       "    }\n",
       "\n",
       "    .dataframe thead th {\n",
       "        text-align: right;\n",
       "    }\n",
       "</style>\n",
       "<table border=\"1\" class=\"dataframe\">\n",
       "  <thead>\n",
       "    <tr style=\"text-align: right;\">\n",
       "      <th></th>\n",
       "      <th>Species</th>\n",
       "    </tr>\n",
       "  </thead>\n",
       "  <tbody>\n",
       "    <tr>\n",
       "      <td>0</td>\n",
       "      <td>0</td>\n",
       "    </tr>\n",
       "    <tr>\n",
       "      <td>1</td>\n",
       "      <td>0</td>\n",
       "    </tr>\n",
       "    <tr>\n",
       "      <td>2</td>\n",
       "      <td>0</td>\n",
       "    </tr>\n",
       "    <tr>\n",
       "      <td>3</td>\n",
       "      <td>0</td>\n",
       "    </tr>\n",
       "    <tr>\n",
       "      <td>4</td>\n",
       "      <td>0</td>\n",
       "    </tr>\n",
       "    <tr>\n",
       "      <td>...</td>\n",
       "      <td>...</td>\n",
       "    </tr>\n",
       "    <tr>\n",
       "      <td>145</td>\n",
       "      <td>2</td>\n",
       "    </tr>\n",
       "    <tr>\n",
       "      <td>146</td>\n",
       "      <td>2</td>\n",
       "    </tr>\n",
       "    <tr>\n",
       "      <td>147</td>\n",
       "      <td>2</td>\n",
       "    </tr>\n",
       "    <tr>\n",
       "      <td>148</td>\n",
       "      <td>2</td>\n",
       "    </tr>\n",
       "    <tr>\n",
       "      <td>149</td>\n",
       "      <td>2</td>\n",
       "    </tr>\n",
       "  </tbody>\n",
       "</table>\n",
       "<p>150 rows × 1 columns</p>\n",
       "</div>"
      ],
      "text/plain": [
       "     Species\n",
       "0          0\n",
       "1          0\n",
       "2          0\n",
       "3          0\n",
       "4          0\n",
       "..       ...\n",
       "145        2\n",
       "146        2\n",
       "147        2\n",
       "148        2\n",
       "149        2\n",
       "\n",
       "[150 rows x 1 columns]"
      ]
     },
     "execution_count": 8,
     "metadata": {},
     "output_type": "execute_result"
    }
   ],
   "source": [
    "y_pd"
   ]
  },
  {
   "cell_type": "markdown",
   "metadata": {},
   "source": [
    "## Xとyを結合するPandas"
   ]
  },
  {
   "cell_type": "code",
   "execution_count": 9,
   "metadata": {},
   "outputs": [
    {
     "data": {
      "text/html": [
       "<div>\n",
       "<style scoped>\n",
       "    .dataframe tbody tr th:only-of-type {\n",
       "        vertical-align: middle;\n",
       "    }\n",
       "\n",
       "    .dataframe tbody tr th {\n",
       "        vertical-align: top;\n",
       "    }\n",
       "\n",
       "    .dataframe thead th {\n",
       "        text-align: right;\n",
       "    }\n",
       "</style>\n",
       "<table border=\"1\" class=\"dataframe\">\n",
       "  <thead>\n",
       "    <tr style=\"text-align: right;\">\n",
       "      <th></th>\n",
       "      <th>sepal_length</th>\n",
       "      <th>sepal_width</th>\n",
       "      <th>petal_length</th>\n",
       "      <th>petal_width</th>\n",
       "      <th>Species</th>\n",
       "    </tr>\n",
       "  </thead>\n",
       "  <tbody>\n",
       "    <tr>\n",
       "      <td>0</td>\n",
       "      <td>5.1</td>\n",
       "      <td>3.5</td>\n",
       "      <td>1.4</td>\n",
       "      <td>0.2</td>\n",
       "      <td>0</td>\n",
       "    </tr>\n",
       "    <tr>\n",
       "      <td>1</td>\n",
       "      <td>4.9</td>\n",
       "      <td>3.0</td>\n",
       "      <td>1.4</td>\n",
       "      <td>0.2</td>\n",
       "      <td>0</td>\n",
       "    </tr>\n",
       "    <tr>\n",
       "      <td>2</td>\n",
       "      <td>4.7</td>\n",
       "      <td>3.2</td>\n",
       "      <td>1.3</td>\n",
       "      <td>0.2</td>\n",
       "      <td>0</td>\n",
       "    </tr>\n",
       "    <tr>\n",
       "      <td>3</td>\n",
       "      <td>4.6</td>\n",
       "      <td>3.1</td>\n",
       "      <td>1.5</td>\n",
       "      <td>0.2</td>\n",
       "      <td>0</td>\n",
       "    </tr>\n",
       "    <tr>\n",
       "      <td>4</td>\n",
       "      <td>5.0</td>\n",
       "      <td>3.6</td>\n",
       "      <td>1.4</td>\n",
       "      <td>0.2</td>\n",
       "      <td>0</td>\n",
       "    </tr>\n",
       "  </tbody>\n",
       "</table>\n",
       "</div>"
      ],
      "text/plain": [
       "   sepal_length  sepal_width  petal_length  petal_width  Species\n",
       "0           5.1          3.5           1.4          0.2        0\n",
       "1           4.9          3.0           1.4          0.2        0\n",
       "2           4.7          3.2           1.3          0.2        0\n",
       "3           4.6          3.1           1.5          0.2        0\n",
       "4           5.0          3.6           1.4          0.2        0"
      ]
     },
     "execution_count": 9,
     "metadata": {},
     "output_type": "execute_result"
    }
   ],
   "source": [
    "df_pd = pd.concat([X_pd,y_pd], axis = 1)\n",
    "df_pd.head()"
   ]
  },
  {
   "cell_type": "markdown",
   "metadata": {},
   "source": [
    "## 【課題1】練習のために特徴量とカテゴリを選択  \n",
    "選び方は合計18通りありますが、以下の組み合わせで練習することにします。  \n",
    "irisデータセットをWeek3同様に取得した後、データフレームからこれらを抜き出してください。   \n",
    "virgicolorとvirginica  \n",
    "sepal_lengthとpetal_length  \n",
    "《実際の問題では？》  \n",
    "実際の問題を解く上でも結果の可視化は有効です。しかし、そのために学習や推  \n",
    "に使う特徴量を2つに絞るのは望ましくありません。そのため学習や推定は多次  \n",
    "で行い、可視化をする際にだけ主成分分析などの特徴抽出手法を適用するとい  \n",
    "たことが行われます。また、Week3で利用した散布図行列を使い可視化すること  \n",
    "可能です"
   ]
  },
  {
   "cell_type": "markdown",
   "metadata": {},
   "source": [
    "##  virgicolorとvirginicaかつ  \n",
    "##  sepal_lengthとpetal_lengthの部分\n",
    "#  だけ抽出Pandas"
   ]
  },
  {
   "cell_type": "code",
   "execution_count": 10,
   "metadata": {},
   "outputs": [
    {
     "data": {
      "text/html": [
       "<div>\n",
       "<style scoped>\n",
       "    .dataframe tbody tr th:only-of-type {\n",
       "        vertical-align: middle;\n",
       "    }\n",
       "\n",
       "    .dataframe tbody tr th {\n",
       "        vertical-align: top;\n",
       "    }\n",
       "\n",
       "    .dataframe thead th {\n",
       "        text-align: right;\n",
       "    }\n",
       "</style>\n",
       "<table border=\"1\" class=\"dataframe\">\n",
       "  <thead>\n",
       "    <tr style=\"text-align: right;\">\n",
       "      <th></th>\n",
       "      <th>sepal_length</th>\n",
       "      <th>petal_length</th>\n",
       "      <th>Species</th>\n",
       "    </tr>\n",
       "  </thead>\n",
       "  <tbody>\n",
       "    <tr>\n",
       "      <td>50</td>\n",
       "      <td>7.0</td>\n",
       "      <td>4.7</td>\n",
       "      <td>1</td>\n",
       "    </tr>\n",
       "    <tr>\n",
       "      <td>51</td>\n",
       "      <td>6.4</td>\n",
       "      <td>4.5</td>\n",
       "      <td>1</td>\n",
       "    </tr>\n",
       "    <tr>\n",
       "      <td>52</td>\n",
       "      <td>6.9</td>\n",
       "      <td>4.9</td>\n",
       "      <td>1</td>\n",
       "    </tr>\n",
       "    <tr>\n",
       "      <td>53</td>\n",
       "      <td>5.5</td>\n",
       "      <td>4.0</td>\n",
       "      <td>1</td>\n",
       "    </tr>\n",
       "    <tr>\n",
       "      <td>54</td>\n",
       "      <td>6.5</td>\n",
       "      <td>4.6</td>\n",
       "      <td>1</td>\n",
       "    </tr>\n",
       "    <tr>\n",
       "      <td>...</td>\n",
       "      <td>...</td>\n",
       "      <td>...</td>\n",
       "      <td>...</td>\n",
       "    </tr>\n",
       "    <tr>\n",
       "      <td>145</td>\n",
       "      <td>6.7</td>\n",
       "      <td>5.2</td>\n",
       "      <td>2</td>\n",
       "    </tr>\n",
       "    <tr>\n",
       "      <td>146</td>\n",
       "      <td>6.3</td>\n",
       "      <td>5.0</td>\n",
       "      <td>2</td>\n",
       "    </tr>\n",
       "    <tr>\n",
       "      <td>147</td>\n",
       "      <td>6.5</td>\n",
       "      <td>5.2</td>\n",
       "      <td>2</td>\n",
       "    </tr>\n",
       "    <tr>\n",
       "      <td>148</td>\n",
       "      <td>6.2</td>\n",
       "      <td>5.4</td>\n",
       "      <td>2</td>\n",
       "    </tr>\n",
       "    <tr>\n",
       "      <td>149</td>\n",
       "      <td>5.9</td>\n",
       "      <td>5.1</td>\n",
       "      <td>2</td>\n",
       "    </tr>\n",
       "  </tbody>\n",
       "</table>\n",
       "<p>100 rows × 3 columns</p>\n",
       "</div>"
      ],
      "text/plain": [
       "     sepal_length  petal_length  Species\n",
       "50            7.0           4.7        1\n",
       "51            6.4           4.5        1\n",
       "52            6.9           4.9        1\n",
       "53            5.5           4.0        1\n",
       "54            6.5           4.6        1\n",
       "..            ...           ...      ...\n",
       "145           6.7           5.2        2\n",
       "146           6.3           5.0        2\n",
       "147           6.5           5.2        2\n",
       "148           6.2           5.4        2\n",
       "149           5.9           5.1        2\n",
       "\n",
       "[100 rows x 3 columns]"
      ]
     },
     "execution_count": 10,
     "metadata": {},
     "output_type": "execute_result"
    }
   ],
   "source": [
    "df_pd_dlpre = df_pd.drop(['sepal_width', 'petal_width'], axis = 1)\n",
    "df_pd_dl = df_pd_dlpre.drop(range(0,50))\n",
    "df_pd_dl"
   ]
  },
  {
   "cell_type": "markdown",
   "metadata": {},
   "source": [
    "## 【問題2】データの分析  \n",
    "まずはデータの分析を行いますが、これはWeek3の課題1で行いました。その際出力した散布図行列を見ることで、先ほどの18通りそれぞれの散布図も確認できます。sepal_lengthとpetal_lengthを使い、virgicolorとvirginicaを分類するのは少し難しそうな状況であることが分かるはずです。ここでは復習を兼ねて、抜き出したデータの散布図と箱ひげ図（boxplot）、バイオリン図（violinplot）を表示してください。  \n",
    "《実際の問題では？》  \n",
    "このデータ分析の結果を元に前処理として特徴量エンジニアリングを行っていきます。\n",
    "今回はsepal_lengthとpetal_lengthを抜き出しましたが、分析した上で、問題を少々難しくするための前処理をしたと言えます。"
   ]
  },
  {
   "cell_type": "markdown",
   "metadata": {},
   "source": [
    "## 散布図　特徴をXとyにとる、品種は色分けする"
   ]
  },
  {
   "cell_type": "code",
   "execution_count": 12,
   "metadata": {},
   "outputs": [
    {
     "data": {
      "text/plain": [
       "<matplotlib.legend.Legend at 0xa1b40d250>"
      ]
     },
     "execution_count": 12,
     "metadata": {},
     "output_type": "execute_result"
    },
    {
     "data": {
      "image/png": "[encoded data removed]",
      "text/plain": [
       "<Figure size 432x288 with 1 Axes>"
      ]
     },
     "metadata": {
      "needs_background": "light"
     },
     "output_type": "display_data"
    }
   ],
   "source": [
    "labels = ['sepal_length', 'petal_length']\n",
    "targets = ['virgicolor', 'virginica']\n",
    "\n",
    "fig, axes = plt.subplots() # subplotsを使うと複数のグラフをまとめられる\n",
    "axes.set_title(labels[0]+' and '+labels[1])\n",
    "axes.set(xlabel=labels[0]+'[cm]', ylabel=labels[1]+'[cm]')\n",
    "axes.scatter(df_pd_dl[df_pd_dl['Species']==1][labels[0]], df_pd_dl[df_pd_dl['Species']==1][labels[1]], c = 'blue', label= targets[0])\n",
    "#x軸に1のセパル、y軸に１のペタル\n",
    "axes.scatter(df_pd_dl[df_pd_dl['Species']==2][labels[0]], df_pd_dl[df_pd_dl['Species']==2][labels[1]], c = 'green', label= targets[1])\n",
    "#x軸に２のセパル、y軸に２のペタル\n",
    "axes.legend()\n",
    "# 凡例　にラベルを出力"
   ]
  },
  {
   "cell_type": "markdown",
   "metadata": {},
   "source": [
    "## Violin Figure 各品種の特徴量の分布をみる。"
   ]
  },
  {
   "cell_type": "code",
   "execution_count": 13,
   "metadata": {},
   "outputs": [
    {
     "data": {
      "image/png": "[encoded data removed]",
      "text/plain": [
       "<Figure size 432x288 with 1 Axes>"
      ]
     },
     "metadata": {
      "needs_background": "light"
     },
     "output_type": "display_data"
    },
    {
     "data": {
      "image/png": "[encoded data removed]",
      "text/plain": [
       "<Figure size 432x288 with 1 Axes>"
      ]
     },
     "metadata": {
      "needs_background": "light"
     },
     "output_type": "display_data"
    }
   ],
   "source": [
    "# 特徴量を一つずつ選び、バイオリン図を使ってラベルごとのデータの分布を可視化する\n",
    "\n",
    "import seaborn as sns\n",
    "targets = 'Species'\n",
    " \n",
    "sns.violinplot(data = df_pd_dl, x = targets, y = 'sepal_length')\n",
    "plt.show()\n",
    "\n",
    "sns.violinplot(data = df_pd_dl, x = targets, y = 'petal_length')\n",
    "plt.show()\n"
   ]
  },
  {
   "cell_type": "markdown",
   "metadata": {},
   "source": [
    "## Box Plot"
   ]
  },
  {
   "cell_type": "code",
   "execution_count": 14,
   "metadata": {},
   "outputs": [
    {
     "data": {
      "image/png": "[encoded data removed]",
      "text/plain": [
       "<Figure size 432x288 with 1 Axes>"
      ]
     },
     "metadata": {
      "needs_background": "light"
     },
     "output_type": "display_data"
    },
    {
     "data": {
      "image/png": "[encoded data removed]",
      "text/plain": [
       "<Figure size 432x288 with 1 Axes>"
      ]
     },
     "metadata": {
      "needs_background": "light"
     },
     "output_type": "display_data"
    }
   ],
   "source": [
    "features = [\"sepal_length\", \"petal_length\"]\n",
    "\n",
    "for feature in features:\n",
    "    plt.boxplot([df_pd_dl[df_pd_dl[\"Species\"]== 1][feature], df_pd_dl[df_pd_dl[\"Species\"]== 2][feature]])\n",
    "    plt.xticks([1, 2],['versicolor', 'virginica'] )\n",
    "    plt.title(\"BOXPLOT of iris's {}\".format(feature))\n",
    "    plt.ylabel(feature+'[cm]')\n",
    "    plt.xlabel('Species')\n",
    "    plt.show()"
   ]
  },
  {
   "cell_type": "markdown",
   "metadata": {},
   "source": [
    "##  【問題3】前処理・訓練用データと検証用データの分割  \n",
    "前処理の一貫として、訓練用（train）データと検証用（validation）データの分割を行います。今回は訓練用データ75%、検証用データ25%として分割してください。  \n",
    "scikit-learnのtrain_test_splitが利用できます。公式ドキュメントのExamplesを参考に動かしてください。  \n",
    "sklearn.model_selection.train_test_split — scikit-learn 0.21.3 documentation  \n",
    "\n",
    "《注意点》  \n",
    "データの分析まではPandasのDataFrameを使用してきました。しかし、scikit-learnはNumPyのndarrayを想定して作られています。そのため、この段階でndarrayへの変換を行いましょう。特徴量（説明変数）をX、正解（目的変数）をyというndarrayに格納します。  \n",
    "\n",
    "《分割する理由》  \n",
    "分類問題の目的は未知のデータを正しく分類することです。その目的が達成できているかを確認するため、実際には答えの分かっているデータの一部を学習には使わず残しておきます。この学習に使用していないデータで推定を行い、そこから求めた指標値によって検証します。学習に使うデータを訓練用データ、検証に使うデータが検証用データで、一般的に7対3から8対2程度の割合にします。"
   ]
  },
  {
   "cell_type": "markdown",
   "metadata": {},
   "source": [
    "##  DataFrameをarray化する。　次元は変えない。"
   ]
  },
  {
   "cell_type": "code",
   "execution_count": 15,
   "metadata": {},
   "outputs": [],
   "source": [
    "data_numpy =  df_pd_dl.values#array\n",
    "X = data_numpy[:, 0 :2]\n",
    "y = data_numpy[:, -1].reshape(100,1)"
   ]
  },
  {
   "cell_type": "markdown",
   "metadata": {},
   "source": [
    "##  trainと testで分ける"
   ]
  },
  {
   "cell_type": "code",
   "execution_count": 16,
   "metadata": {},
   "outputs": [],
   "source": [
    "from sklearn.model_selection import train_test_split\n",
    "X_train, X_test, y_train, y_test = train_test_split(X, y, test_size=0.25, random_state=42)"
   ]
  },
  {
   "cell_type": "code",
   "execution_count": 17,
   "metadata": {},
   "outputs": [
    {
     "name": "stdout",
     "output_type": "stream",
     "text": [
      "X_trainは(75, 2)\n",
      "X_testは(25, 2)\n",
      "y_trainは(75, 1)\n",
      "y_testは(25, 1)\n"
     ]
    }
   ],
   "source": [
    "print('X_trainは{}'.format(X_train.shape))\n",
    "print('X_testは{}'.format(X_test.shape))\n",
    "print('y_trainは{}'.format(y_train.shape))\n",
    "print('y_testは{}'.format(y_test.shape))"
   ]
  },
  {
   "cell_type": "markdown",
   "metadata": {},
   "source": [
    "## 問題4】前処理・標準化  \n",
    "分類精度をあげるための加工を行います。手法ごとに適切な方法は異なりますが、ここでは一  \n",
    "として 標準化 を行うことにします。  \n",
    "標準化を行うライブラリもscikit-learnに用意されています。これを使って標準化してください  \n",
    "sklearn.model_selection.train_test_split — scikit-learn 0.21.3 documentation  \n",
    "《注意点》  \n",
    "標準化は訓練用のデータでfitを行い、訓練用、検証用双方のデータにtransformを行います。検証用データは学習の段階には存在しない未知のデータの代わりなので、標準化のための平均や標準偏差の計算に使ってはいけません。  \n",
    "《実際の問題での前処理は？》  \n",
    "アヤメのデータセットのように綺麗で扱いやすい状況で提供されることはまずありません。分析を行いながら、様々な加工が必要になってきます。例えばWeek3の課題2で行った欠損値の確認の後、場合により欠損値の補間も行います。外れ値の確認や、複数のデータセットの整理などもあります。"
   ]
  },
  {
   "cell_type": "markdown",
   "metadata": {},
   "source": [
    "## 標準化前"
   ]
  },
  {
   "cell_type": "code",
   "execution_count": 18,
   "metadata": {},
   "outputs": [
    {
     "data": {
      "text/plain": [
       "Text(0, 0.5, 'frequense')"
      ]
     },
     "execution_count": 18,
     "metadata": {},
     "output_type": "execute_result"
    },
    {
     "data": {
      "image/png": "[encoded data removed]",
      "text/plain": [
       "<Figure size 360x720 with 2 Axes>"
      ]
     },
     "metadata": {
      "needs_background": "light"
     },
     "output_type": "display_data"
    }
   ],
   "source": [
    "fig = plt.figure(figsize = (5,10))\n",
    "\n",
    "ax = fig.add_subplot(2,1,1)\n",
    "ax.hist(X_train[:,0], bins=20)\n",
    "ax.set_title('sepal_length')\n",
    "ax.set_xlabel('length')\n",
    "ax.set_ylabel('frequense')\n",
    "\n",
    "ax2 = fig.add_subplot(2,1,2)\n",
    "ax2.hist(X_train[:,1], bins=20)\n",
    "ax2.set_title('petal_length')\n",
    "ax2.set_xlabel('length')\n",
    "ax2.set_ylabel('frequense')\n",
    "\n",
    "# fig.show()"
   ]
  },
  {
   "cell_type": "markdown",
   "metadata": {},
   "source": [
    "##  標準化　"
   ]
  },
  {
   "cell_type": "code",
   "execution_count": 19,
   "metadata": {},
   "outputs": [
    {
     "name": "stdout",
     "output_type": "stream",
     "text": [
      "sepal_length_train_nom = (75, 1)\n",
      "petal_length_train_nom = (75, 1)\n",
      "y_train = (75, 1)\n"
     ]
    }
   ],
   "source": [
    "from sklearn.preprocessing import StandardScaler\n",
    "sc = StandardScaler()\n",
    "X_train_nom = sc.fit_transform(X_train)#X_train 標準化\n",
    "X_test_nom = sc.ransform(X_test)\n",
    "sepal_length_train_nom = X_train_nom[:,0:1]# to get 2D\n",
    "petal_length_train_nom = X_train_nom[:, 1:2]# to get 2D\n",
    "\n",
    "print('sepal_length_train_nom = {}'.format(sepal_length_train_nom.shape))\n",
    "print('petal_length_train_nom = {}'.format(petal_length_train_nom.shape))\n",
    "print('y_train = {}'.format(y_train.shape))"
   ]
  },
  {
   "cell_type": "code",
   "execution_count": 20,
   "metadata": {},
   "outputs": [
    {
     "data": {
      "text/plain": [
       "Text(0, 0.5, 'frequense')"
      ]
     },
     "execution_count": 20,
     "metadata": {},
     "output_type": "execute_result"
    },
    {
     "data": {
      "image/png": "[encoded data removed]",
      "text/plain": [
       "<Figure size 360x720 with 2 Axes>"
      ]
     },
     "metadata": {
      "needs_background": "light"
     },
     "output_type": "display_data"
    }
   ],
   "source": [
    "from sklearn.preprocessing import StandardScaler\n",
    "\n",
    "fig = plt.figure(figsize = (5,10))\n",
    "\n",
    "ax = fig.add_subplot(2,1,1)\n",
    "ax.hist(sepal_length_train_nom, bins=20)\n",
    "ax.set_title('sepal_length_nomalized')\n",
    "ax.set_xlabel('length')\n",
    "ax.set_ylabel('frequense')\n",
    "\n",
    "ax2 = fig.add_subplot(2,1,2)\n",
    "ax2.hist(petal_length_train_nom, bins=20)\n",
    "ax2.set_title('petal_length_nomalized')\n",
    "ax2.set_xlabel('length')\n",
    "ax2.set_ylabel('frequense')\n"
   ]
  },
  {
   "cell_type": "code",
   "execution_count": null,
   "metadata": {},
   "outputs": [],
   "source": []
  },
  {
   "cell_type": "code",
   "execution_count": 21,
   "metadata": {},
   "outputs": [
    {
     "name": "stdout",
     "output_type": "stream",
     "text": [
      "予測した品種は[2. 2. 2. 1. 1. 1. 1. 2. 1. 1. 1. 1. 1. 2. 2. 1. 1. 1. 1. 1. 2. 1. 1. 1.\n",
      " 2.]\n",
      "実際の品種は[2. 2. 2. 1. 1. 1. 1. 2. 1. 1. 1. 1. 2. 1. 2. 1. 2. 2. 1. 1. 2. 2. 1. 1.\n",
      " 2.]\n"
     ]
    }
   ],
   "source": [
    "from sklearn.neighbors import KNeighborsClassifier\n",
    "knn = KNeighborsClassifier(n_neighbors=4)\n",
    "knn.fit(X_train, y_train.ravel())\n",
    "\n",
    "# X_test_sepal_petal = np.concatenate([X_test[:,0:1],X_test[:,2:3]],1)\n",
    "\n",
    "# print(knn.predict(X_test))\n",
    "      \n",
    "predict = knn.predict(X_test)\n",
    "print('予測した品種は{}'.format(predict))#予測\n",
    "print('実際の品種は{}'.format(y_test.ravel()))"
   ]
  },
  {
   "cell_type": "code",
   "execution_count": 32,
   "metadata": {},
   "outputs": [
    {
     "name": "stdout",
     "output_type": "stream",
     "text": [
      "Accuracy_score = 0.8\n",
      "Precision_score = 0.7647058823529411\n",
      "Recall_score = 0.9285714285714286\n",
      "F1_score = 0.8387096774193549\n",
      "Confusion_matrix = [[13  1]\n",
      " [ 4  7]]\n"
     ]
    }
   ],
   "source": [
    "from sklearn.metrics import accuracy_score\n",
    "from sklearn.metrics import precision_score\n",
    "from sklearn.metrics import recall_score\n",
    "from sklearn.metrics import f1_score\n",
    "from sklearn.metrics import confusion_matrix\n",
    "\n",
    "print('Accuracy_score = {}'.format(accuracy_score(y_test, predict)))\n",
    "print('Precision_score = {}'.format(precision_score(y_test, predict)))\n",
    "print('Recall_score = {}'.format(recall_score(y_test, predict)))\n",
    "print('F1_score = {}'.format(f1_score(y_test, predict)))\n",
    "print('Confusion_matrix = {}'.format(confusion_matrix(y_test, predict)))"
   ]
  },
  {
   "cell_type": "markdown",
   "metadata": {},
   "source": [
    "###  Accuracy_score \n",
    "マルチラベル分類では、この関数はサブセットの精度を計算します。サンプルに対して予測されるラベルのセットは、y_trueの対応するラベルのセットと正確に一致する必要があります。　　\n",
    "\n",
    "accuracy = 正解数　　/  サンプル数　　\n",
    "\n",
    "\n",
    "###  Precision_score\n",
    "精度は比tp /（tp + fp）です。ここで、tpは真陽性の数、fpは偽陽性の数です。精度とは、直感的には、分類器が負のサンプルを正として分類しない能力です。\n",
    "最適な値は1で、最悪の値は0です。　　\n",
    "\n",
    "= 実際の陽性のサンプル数/予測した陽性数＋実際の陽性数\n",
    "\n",
    "\n",
    "###  Recall_score\n",
    "リコールは比率tp /（tp + fn）です。ここで、tpは真陽性の数、fnは偽陰性の数です。リコールは直観的には、すべての陽性サンプルを見つける分類器の機能です。\n",
    "最適な値は1で、最悪の値は0です。　　\n",
    "\n",
    "= 実際の陽性のサンプル数/予測した陰性数＋実際の陽性数\n",
    "\n",
    "###   F1_score\n",
    "F1スコアは、精度と再現率の加重平均として解釈できます。F1スコアは、1で最高値に、0で最悪値に達します。F1スコアに対する精度と再現率の相対的な寄与は等しくなります。 F1スコアの式は次のとおりです。\n",
    "F1 = 2 *（精度*再呼び出し）/（精度+再呼び出し）\n",
    "マルチクラスおよびマルチラベルの場合、これは、平均パラメーターに応じて重み付けされた各クラスのF1スコアの平均です。\n",
    "\n",
    "###   Confusion_matrix\n",
    "定義により、混同行列は、グループ内にあることがわかっており、グループ内にあると予測される観測値の数に等しいものです。\n",
    "したがって、バイナリ分類では、真のネガティブのカウントは、偽のネガティブは、真のポジティブは、偽のポジティブはです。"
   ]
  },
  {
   "cell_type": "code",
   "execution_count": null,
   "metadata": {},
   "outputs": [],
   "source": []
  },
  {
   "cell_type": "code",
   "execution_count": null,
   "metadata": {},
   "outputs": [],
   "source": []
  },
  {
   "cell_type": "code",
   "execution_count": 23,
   "metadata": {},
   "outputs": [],
   "source": [
    "import matplotlib.pyplot as plt\n",
    "from matplotlib.colors import ListedColormap\n",
    "import matplotlib.patches as mpatches\n",
    "\n",
    "def decision_region(X, y, model, step=0.01, title='decision region', xlabel='xlabel', ylabel='ylabel', target_names=['versicolor', 'virginica']):\n",
    "    \"\"\"\n",
    "    2値分類を2次元の特徴量で学習したモデルの決定領域を描く。\n",
    "    背景の色が学習したモデルによる推定値から描画される。\n",
    "    散布図の点は訓練データまたは検証データである。\n",
    "\n",
    "    Parameters\n",
    "    ----------------\n",
    "    X : ndarray, shape(n_samples, 2)\n",
    "        特徴量\n",
    "    y : ndarray, shape(n_samples,)\n",
    "        ラベル\n",
    "    model : object\n",
    "        学習したモデルのインスンタスを入れる\n",
    "    step : float, (default : 0.1)\n",
    "        推定値を計算する間隔を設定する\n",
    "    title : str\n",
    "        グラフのタイトルの文章を与える\n",
    "    xlabel, ylabel : str\n",
    "        軸ラベルの文章を与える\n",
    "    target_names= : list of str\n",
    "        凡例の一覧を与える\n",
    "    \"\"\"\n",
    "    # setting\n",
    "    scatter_color = ['red', 'blue']\n",
    "    contourf_color = ['pink', 'skyblue']\n",
    "    n_class = 2\n",
    "\n",
    "    # pred\n",
    "    mesh_f0, mesh_f1  = np.meshgrid(np.arange(np.min(X[:,0])-0.5, np.max(X[:,0])+0.5, step), np.arange(np.min(X[:,1])-0.5, np.max(X[:,1])+0.5, step))\n",
    "    mesh = np.c_[np.ravel(mesh_f0),np.ravel(mesh_f1)]\n",
    "    y_pred = model.predict(mesh).reshape(mesh_f0.shape)\n",
    "\n",
    "    # plot\n",
    "    plt.title(title)\n",
    "    plt.xlabel(xlabel)\n",
    "    plt.ylabel(ylabel)\n",
    "    plt.contourf(mesh_f0, mesh_f1, y_pred, n_class-1, cmap=ListedColormap(contourf_color))\n",
    "    plt.contour(mesh_f0, mesh_f1, y_pred, n_class-1, colors='y', linewidths=3, alpha=0.5)\n",
    "    for i, target in enumerate(set(y)):\n",
    "        plt.scatter(X[y==target][:, 0], X[y==target][:, 1], s=80, color=scatter_color[i], label=target_names[i], marker='o')\n",
    "    patches = [mpatches.Patch(color=scatter_color[i], label=target_names[i]) for i in range(n_class)]\n",
    "    plt.legend(handles=patches)\n",
    "    plt.legend()\n",
    "    plt.show()"
   ]
  },
  {
   "cell_type": "code",
   "execution_count": 24,
   "metadata": {},
   "outputs": [
    {
     "data": {
      "image/png": "[encoded data removed]",
      "text/plain": [
       "<Figure size 432x288 with 1 Axes>"
      ]
     },
     "metadata": {
      "needs_background": "light"
     },
     "output_type": "display_data"
    }
   ],
   "source": [
    "decision_region(X_train, y_train.ravel(), knn)"
   ]
  },
  {
   "cell_type": "markdown",
   "metadata": {},
   "source": [
    "# 【問題8】他の手法の学習\n",
    "以下の全ての手法について学習・推定・評価・可視化を行ってください。そして、指標値を１つの表  \n",
    "まとめてください。その表と決定領域を利用して結果を簡単に考察してください。どの手法がどの  \n",
    "標値で良かったかや、どういった決定領域になっていたかを述べてください。\n",
    "  \n",
    "  最近傍法  \n",
    "  ロジスティック回帰  \n",
    "  SVM  \n",
    "  決定木  \n",
    "  ランダムフォレスト  \n",
    "  公式ドキュメントへのリンクは以下です。それぞれ調整すべき引数（ハイパーパラメータ）がありま  \n",
    "  が、この課題では扱いません。まずはデフォルトの値で実行してください。\n",
    "  \n",
    "  sklearn.neighbors.KNeighborsClassifier — scikit-learn 0.21.3 documentation  \n",
    "  sklearn.linear_model.LogisticRegression — scikit-learn 0.21.3 documentation  \n",
    "  sklearn.svm.SVC — scikit-learn 0.21.3 documentation  \n",
    "  sklearn.tree.DecisionTreeClassifier — scikit-learn 0.21.3 documentation  \n",
    "  sklearn.ensemble.RandomForestClassifier — scikit-learn 0.21.3 documentation  \n",
    "  《実際の問題では？》\n",
    "  \n",
    "  ハイパーパラメータの調整は パラメータチューニング と呼ばれる工程で、その手法としてグリッ  \n",
    "  サーチなどが存在します。"
   ]
  },
  {
   "cell_type": "markdown",
   "metadata": {},
   "source": [
    "# 学習"
   ]
  },
  {
   "cell_type": "code",
   "execution_count": 26,
   "metadata": {},
   "outputs": [
    {
     "name": "stderr",
     "output_type": "stream",
     "text": [
      "/opt/anaconda3/lib/python3.7/site-packages/sklearn/linear_model/logistic.py:432: FutureWarning: Default solver will be changed to 'lbfgs' in 0.22. Specify a solver to silence this warning.\n",
      "  FutureWarning)\n",
      "/opt/anaconda3/lib/python3.7/site-packages/sklearn/svm/base.py:193: FutureWarning: The default value of gamma will change from 'auto' to 'scale' in version 0.22 to account better for unscaled features. Set gamma explicitly to 'auto' or 'scale' to avoid this warning.\n",
      "  \"avoid this warning.\", FutureWarning)\n",
      "/opt/anaconda3/lib/python3.7/site-packages/sklearn/ensemble/forest.py:245: FutureWarning: The default value of n_estimators will change from 10 in version 0.20 to 100 in 0.22.\n",
      "  \"10 in version 0.20 to 100 in 0.22.\", FutureWarning)\n"
     ]
    },
    {
     "data": {
      "text/plain": [
       "RandomForestClassifier(bootstrap=True, class_weight=None, criterion='gini',\n",
       "                       max_depth=None, max_features='auto', max_leaf_nodes=None,\n",
       "                       min_impurity_decrease=0.0, min_impurity_split=None,\n",
       "                       min_samples_leaf=1, min_samples_split=2,\n",
       "                       min_weight_fraction_leaf=0.0, n_estimators=10,\n",
       "                       n_jobs=None, oob_score=False, random_state=None,\n",
       "                       verbose=0, warm_start=False)"
      ]
     },
     "execution_count": 26,
     "metadata": {},
     "output_type": "execute_result"
    }
   ],
   "source": [
    "from sklearn.neighbors import KNeighborsClassifier\n",
    "from sklearn.linear_model import LogisticRegression\n",
    "from sklearn.svm import SVC\n",
    "from sklearn.tree import DecisionTreeClassifier\n",
    "from sklearn.ensemble import RandomForestClassifier\n",
    "\n",
    "#最近傍法\n",
    "from sklearn.neighbors import KNeighborsClassifier\n",
    "knn = KNeighborsClassifier(n_neighbors=3)\n",
    "knn.fit(X_train, y_train.ravel())\n",
    "\n",
    "#ロジスティック回帰\n",
    "lgr= LogisticRegression()\n",
    "lgr.fit(X_train, y_train.ravel())\n",
    "\n",
    "#SVM\n",
    "svc = SVC()\n",
    "svc.fit(X_train, y_train.ravel())\n",
    "\n",
    "#決定木\n",
    "dtc = DecisionTreeClassifier(random_state=0)\n",
    "dtc.fit(X_train, y_train.ravel())\n",
    "\n",
    "#ランダムフォレスト\n",
    "rdf = RandomForestClassifier()\n",
    "rdf.fit(X_train, y_train.ravel())\n"
   ]
  },
  {
   "cell_type": "markdown",
   "metadata": {},
   "source": [
    " #  推定 "
   ]
  },
  {
   "cell_type": "code",
   "execution_count": 31,
   "metadata": {},
   "outputs": [
    {
     "name": "stdout",
     "output_type": "stream",
     "text": [
      "KNeighborsClassifier\n",
      "予測した品種は[2. 2. 2. 1. 1. 1. 2. 2. 1. 1. 1. 1. 2. 2. 2. 1. 1. 1. 1. 1. 2. 1. 1. 1.\n",
      " 2.]\n",
      "LogisticRegression\n",
      "予測した品種は[2. 2. 2. 1. 1. 1. 2. 2. 1. 1. 1. 1. 2. 2. 2. 1. 1. 2. 1. 1. 2. 2. 1. 1.\n",
      " 2.]\n",
      "SVC\n",
      "予測した品種は[2. 2. 2. 1. 1. 1. 2. 2. 1. 1. 1. 1. 2. 2. 2. 1. 1. 2. 1. 1. 2. 1. 1. 1.\n",
      " 2.]\n",
      " DecisionTreeClassifier\n",
      "予測した品種は[2. 2. 2. 1. 1. 1. 1. 2. 1. 1. 1. 1. 1. 2. 2. 1. 1. 2. 1. 1. 2. 1. 1. 1.\n",
      " 2.]\n",
      "RandomForestClassifier\n",
      "予測した品種は[2. 2. 2. 1. 1. 1. 1. 2. 1. 1. 1. 1. 1. 2. 2. 1. 1. 1. 1. 1. 2. 1. 1. 1.\n",
      " 2.]\n",
      "実際の品種は[2. 2. 2. 1. 1. 1. 1. 2. 1. 1. 1. 1. 2. 1. 2. 1. 2. 2. 1. 1. 2. 2. 1. 1.\n",
      " 2.]\n"
     ]
    }
   ],
   "source": [
    "predict_knn = knn.predict(X_test)\n",
    "print('KNeighborsClassifier')\n",
    "print('予測した品種は{}'.format(predict_knn))#予測\n",
    "\n",
    "predict_lgr = lgr.predict(X_test)\n",
    "print('LogisticRegression')\n",
    "print('予測した品種は{}'.format(predict_lgr))#予測\n",
    "\n",
    "predict_svc = svc.predict(X_test)\n",
    "print('SVC')\n",
    "print('予測した品種は{}'.format(predict_svc))#予測\n",
    "\n",
    "predict_dtc = dtc.predict(X_test)\n",
    "print(' DecisionTreeClassifier')\n",
    "print('予測した品種は{}'.format(predict_dtc))#予測\n",
    "\n",
    "predict_rdf = rdf.predict(X_test)\n",
    "print('RandomForestClassifier')\n",
    "print('予測した品種は{}'.format(predict_rdf))#予測\n",
    "\n",
    "print('実際の品種は{}'.format(y_test.ravel()))\n"
   ]
  },
  {
   "cell_type": "markdown",
   "metadata": {},
   "source": [
    "#  評価"
   ]
  },
  {
   "cell_type": "code",
   "execution_count": 42,
   "metadata": {},
   "outputs": [
    {
     "data": {
      "text/plain": [
       "array([[1, 2, 3, 4],\n",
       "       [5, 6, 7, 8]])"
      ]
     },
     "execution_count": 42,
     "metadata": {},
     "output_type": "execute_result"
    }
   ],
   "source": [
    "lust = [1,2,3,4,5,6,7,8]\n",
    "np_lust = np.array(lust)\n",
    "np_lust.reshape(2,4)"
   ]
  },
  {
   "cell_type": "code",
   "execution_count": 33,
   "metadata": {},
   "outputs": [
    {
     "name": "stdout",
     "output_type": "stream",
     "text": [
      "KNeighborsClassifier\n",
      "Accuracy_score = 0.8\n",
      "Precision_score = 0.8\n",
      "Recall_score = 0.8571428571428571\n",
      "F1_score = 0.8275862068965518\n",
      "Confusion_matrix = [[12  2]\n",
      " [ 3  8]]\n",
      "LogisticRegression\n",
      "Accuracy_score = 0.88\n",
      "Precision_score = 0.9230769230769231\n",
      "Recall_score = 0.8571428571428571\n",
      "F1_score = 0.888888888888889\n",
      "Confusion_matrix = [[12  2]\n",
      " [ 1 10]]\n",
      "SVC\n",
      "Accuracy_score = 0.84\n",
      "Precision_score = 0.8571428571428571\n",
      "Recall_score = 0.8571428571428571\n",
      "F1_score = 0.8571428571428571\n",
      "Confusion_matrix = [[12  2]\n",
      " [ 2  9]]\n",
      "DecisionTreeClassifier\n",
      "Accuracy_score = 0.84\n",
      "Precision_score = 0.8125\n",
      "Recall_score = 0.9285714285714286\n",
      "F1_score = 0.8666666666666666\n",
      "Confusion_matrix = [[13  1]\n",
      " [ 3  8]]\n",
      "RandomForestClassifier\n",
      "Accuracy_score = 0.8\n",
      "Precision_score = 0.7647058823529411\n",
      "Recall_score = 0.9285714285714286\n",
      "F1_score = 0.8387096774193549\n",
      "Confusion_matrix = [[13  1]\n",
      " [ 4  7]]\n"
     ]
    }
   ],
   "source": [
    "from sklearn.metrics import accuracy_score\n",
    "from sklearn.metrics import precision_score\n",
    "from sklearn.metrics import recall_score\n",
    "from sklearn.metrics import f1_score\n",
    "from sklearn.metrics import confusion_matrix\n",
    "\n",
    "print('KNeighborsClassifier')\n",
    "print('Accuracy_score = {}'.format(accuracy_score(y_test, predict_knn)))\n",
    "print('Precision_score = {}'.format(precision_score(y_test, predict_knn)))\n",
    "print('Recall_score = {}'.format(recall_score(y_test, predict_knn)))\n",
    "print('F1_score = {}'.format(f1_score(y_test, predict_knn)))\n",
    "print('Confusion_matrix = {}'.format(confusion_matrix(y_test, predict_knn)))\n",
    "\n",
    "print('LogisticRegression')\n",
    "print('Accuracy_score = {}'.format(accuracy_score(y_test, predict_lgr)))\n",
    "print('Precision_score = {}'.format(precision_score(y_test, predict_lgr)))\n",
    "print('Recall_score = {}'.format(recall_score(y_test, predict_lgr)))\n",
    "print('F1_score = {}'.format(f1_score(y_test, predict_lgr)))\n",
    "print('Confusion_matrix = {}'.format(confusion_matrix(y_test, predict_lgr)))\n",
    "\n",
    "print('SVC')\n",
    "print('Accuracy_score = {}'.format(accuracy_score(y_test, predict_svc)))\n",
    "print('Precision_score = {}'.format(precision_score(y_test, predict_svc)))\n",
    "print('Recall_score = {}'.format(recall_score(y_test, predict_svc)))\n",
    "print('F1_score = {}'.format(f1_score(y_test, predict_svc)))\n",
    "print('Confusion_matrix = {}'.format(confusion_matrix(y_test, predict_svc)))\n",
    "\n",
    "print('DecisionTreeClassifier')\n",
    "print('Accuracy_score = {}'.format(accuracy_score(y_test, predict_dtc)))\n",
    "print('Precision_score = {}'.format(precision_score(y_test, predict_dtc)))\n",
    "print('Recall_score = {}'.format(recall_score(y_test, predict_dtc)))\n",
    "print('F1_score = {}'.format(f1_score(y_test, predict_dtc)))\n",
    "print('Confusion_matrix = {}'.format(confusion_matrix(y_test, predict_dtc)))\n",
    "\n",
    "print('RandomForestClassifier')\n",
    "print('Accuracy_score = {}'.format(accuracy_score(y_test, predict_rdf)))\n",
    "print('Precision_score = {}'.format(precision_score(y_test, predict_rdf)))\n",
    "print('Recall_score = {}'.format(recall_score(y_test, predict_rdf)))\n",
    "print('F1_score = {}'.format(f1_score(y_test, predict_rdf)))\n",
    "print('Confusion_matrix = {}'.format(confusion_matrix(y_test, predict_rdf)))\n"
   ]
  },
  {
   "cell_type": "markdown",
   "metadata": {},
   "source": [
    "### 各評価で一番高かったモデルは、  \n",
    "Accuracy_score  = LogisticRegression  \n",
    "Precision_score　 = LogisticRegression  \n",
    "Recall_score = DecisionTreeClassifier,RandomForestClassifier  \n",
    "F1_score = LogisticRegression  \n",
    "LogisticRegression  がもっとも予測制度が高いため適している。（現段階では）"
   ]
  },
  {
   "cell_type": "markdown",
   "metadata": {},
   "source": [
    "# 可視化"
   ]
  },
  {
   "cell_type": "markdown",
   "metadata": {},
   "source": [
    "# 最近傍法"
   ]
  },
  {
   "cell_type": "code",
   "execution_count": 34,
   "metadata": {},
   "outputs": [
    {
     "data": {
      "image/png": "[encoded data removed]",
      "text/plain": [
       "<Figure size 432x288 with 1 Axes>"
      ]
     },
     "metadata": {
      "needs_background": "light"
     },
     "output_type": "display_data"
    }
   ],
   "source": [
    "decision_region(X_train, y_train.ravel(), knn)"
   ]
  },
  {
   "cell_type": "markdown",
   "metadata": {},
   "source": [
    "# ロジスティック回帰"
   ]
  },
  {
   "cell_type": "code",
   "execution_count": 35,
   "metadata": {},
   "outputs": [
    {
     "data": {
      "image/png": "[encoded data removed]",
      "text/plain": [
       "<Figure size 432x288 with 1 Axes>"
      ]
     },
     "metadata": {
      "needs_background": "light"
     },
     "output_type": "display_data"
    }
   ],
   "source": [
    "decision_region(X_train, y_train.ravel(), lgr)"
   ]
  },
  {
   "cell_type": "markdown",
   "metadata": {},
   "source": [
    "# SVM"
   ]
  },
  {
   "cell_type": "code",
   "execution_count": 36,
   "metadata": {},
   "outputs": [
    {
     "data": {
      "image/png": "[encoded data removed]",
      "text/plain": [
       "<Figure size 432x288 with 1 Axes>"
      ]
     },
     "metadata": {
      "needs_background": "light"
     },
     "output_type": "display_data"
    }
   ],
   "source": [
    "decision_region(X_train, y_train.ravel(), svc)"
   ]
  },
  {
   "cell_type": "markdown",
   "metadata": {},
   "source": [
    "# 決定木"
   ]
  },
  {
   "cell_type": "code",
   "execution_count": 37,
   "metadata": {},
   "outputs": [
    {
     "data": {
      "image/png": "[encoded data removed]",
      "text/plain": [
       "<Figure size 432x288 with 1 Axes>"
      ]
     },
     "metadata": {
      "needs_background": "light"
     },
     "output_type": "display_data"
    }
   ],
   "source": [
    "decision_region(X_train, y_train.ravel(), dtc)"
   ]
  },
  {
   "cell_type": "markdown",
   "metadata": {},
   "source": [
    "# ランダムフォレスト"
   ]
  },
  {
   "cell_type": "code",
   "execution_count": 38,
   "metadata": {},
   "outputs": [
    {
     "data": {
      "image/png": "[encoded data removed]",
      "text/plain": [
       "<Figure size 432x288 with 1 Axes>"
      ]
     },
     "metadata": {
      "needs_background": "light"
     },
     "output_type": "display_data"
    }
   ],
   "source": [
    "decision_region(X_train, y_train.ravel(), rdf)"
   ]
  },
  {
   "cell_type": "markdown",
   "metadata": {},
   "source": []
  }
 ],
 "metadata": {
  "kernelspec": {
   "display_name": "Python 3",
   "language": "python",
   "name": "python3"
  },
  "language_info": {
   "codemirror_mode": {
    "name": "ipython",
    "version": 3
   },
   "file_extension": ".py",
   "mimetype": "text/x-python",
   "name": "python",
   "nbconvert_exporter": "python",
   "pygments_lexer": "ipython3",
   "version": "3.7.4"
  }
 },
 "nbformat": 4,
 "nbformat_minor": 2
}
