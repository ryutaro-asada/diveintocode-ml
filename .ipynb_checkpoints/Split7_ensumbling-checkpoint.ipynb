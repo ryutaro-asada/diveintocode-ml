{
 "cells": [
  {
   "cell_type": "markdown",
   "metadata": {},
   "source": [
    "# sprint7 アンサンブル学習"
   ]
  },
  {
   "cell_type": "code",
   "execution_count": 4,
   "metadata": {},
   "outputs": [],
   "source": [
    "import numpy as np\n",
    "import pandas as pd"
   ]
  },
  {
   "cell_type": "code",
   "execution_count": 18,
   "metadata": {},
   "outputs": [],
   "source": [
    "data = pd.read_csv('/Users/user/Downloads/house-prices-advanced-regression-techniques/train.csv')"
   ]
  },
  {
   "cell_type": "markdown",
   "metadata": {},
   "source": [
    "## 【問題1】ブレンディングのスクラッチ実装\n",
    "ブレンディング をスクラッチ実装し、単一モデルより精度があがる例を 最低3つ 示してください。精度があがるとは、検証用データに対する平均二乗誤差（MSE）が小さくなることを指します。"
   ]
  },
  {
   "cell_type": "code",
   "execution_count": 19,
   "metadata": {},
   "outputs": [
    {
     "data": {
      "text/html": [
       "<div>\n",
       "<style scoped>\n",
       "    .dataframe tbody tr th:only-of-type {\n",
       "        vertical-align: middle;\n",
       "    }\n",
       "\n",
       "    .dataframe tbody tr th {\n",
       "        vertical-align: top;\n",
       "    }\n",
       "\n",
       "    .dataframe thead th {\n",
       "        text-align: right;\n",
       "    }\n",
       "</style>\n",
       "<table border=\"1\" class=\"dataframe\">\n",
       "  <thead>\n",
       "    <tr style=\"text-align: right;\">\n",
       "      <th></th>\n",
       "      <th>Id</th>\n",
       "      <th>MSSubClass</th>\n",
       "      <th>MSZoning</th>\n",
       "      <th>LotFrontage</th>\n",
       "      <th>LotArea</th>\n",
       "      <th>Street</th>\n",
       "      <th>Alley</th>\n",
       "      <th>LotShape</th>\n",
       "      <th>LandContour</th>\n",
       "      <th>Utilities</th>\n",
       "      <th>...</th>\n",
       "      <th>PoolArea</th>\n",
       "      <th>PoolQC</th>\n",
       "      <th>Fence</th>\n",
       "      <th>MiscFeature</th>\n",
       "      <th>MiscVal</th>\n",
       "      <th>MoSold</th>\n",
       "      <th>YrSold</th>\n",
       "      <th>SaleType</th>\n",
       "      <th>SaleCondition</th>\n",
       "      <th>SalePrice</th>\n",
       "    </tr>\n",
       "  </thead>\n",
       "  <tbody>\n",
       "    <tr>\n",
       "      <td>0</td>\n",
       "      <td>1</td>\n",
       "      <td>60</td>\n",
       "      <td>RL</td>\n",
       "      <td>65.0</td>\n",
       "      <td>8450</td>\n",
       "      <td>Pave</td>\n",
       "      <td>NaN</td>\n",
       "      <td>Reg</td>\n",
       "      <td>Lvl</td>\n",
       "      <td>AllPub</td>\n",
       "      <td>...</td>\n",
       "      <td>0</td>\n",
       "      <td>NaN</td>\n",
       "      <td>NaN</td>\n",
       "      <td>NaN</td>\n",
       "      <td>0</td>\n",
       "      <td>2</td>\n",
       "      <td>2008</td>\n",
       "      <td>WD</td>\n",
       "      <td>Normal</td>\n",
       "      <td>208500</td>\n",
       "    </tr>\n",
       "    <tr>\n",
       "      <td>1</td>\n",
       "      <td>2</td>\n",
       "      <td>20</td>\n",
       "      <td>RL</td>\n",
       "      <td>80.0</td>\n",
       "      <td>9600</td>\n",
       "      <td>Pave</td>\n",
       "      <td>NaN</td>\n",
       "      <td>Reg</td>\n",
       "      <td>Lvl</td>\n",
       "      <td>AllPub</td>\n",
       "      <td>...</td>\n",
       "      <td>0</td>\n",
       "      <td>NaN</td>\n",
       "      <td>NaN</td>\n",
       "      <td>NaN</td>\n",
       "      <td>0</td>\n",
       "      <td>5</td>\n",
       "      <td>2007</td>\n",
       "      <td>WD</td>\n",
       "      <td>Normal</td>\n",
       "      <td>181500</td>\n",
       "    </tr>\n",
       "    <tr>\n",
       "      <td>2</td>\n",
       "      <td>3</td>\n",
       "      <td>60</td>\n",
       "      <td>RL</td>\n",
       "      <td>68.0</td>\n",
       "      <td>11250</td>\n",
       "      <td>Pave</td>\n",
       "      <td>NaN</td>\n",
       "      <td>IR1</td>\n",
       "      <td>Lvl</td>\n",
       "      <td>AllPub</td>\n",
       "      <td>...</td>\n",
       "      <td>0</td>\n",
       "      <td>NaN</td>\n",
       "      <td>NaN</td>\n",
       "      <td>NaN</td>\n",
       "      <td>0</td>\n",
       "      <td>9</td>\n",
       "      <td>2008</td>\n",
       "      <td>WD</td>\n",
       "      <td>Normal</td>\n",
       "      <td>223500</td>\n",
       "    </tr>\n",
       "    <tr>\n",
       "      <td>3</td>\n",
       "      <td>4</td>\n",
       "      <td>70</td>\n",
       "      <td>RL</td>\n",
       "      <td>60.0</td>\n",
       "      <td>9550</td>\n",
       "      <td>Pave</td>\n",
       "      <td>NaN</td>\n",
       "      <td>IR1</td>\n",
       "      <td>Lvl</td>\n",
       "      <td>AllPub</td>\n",
       "      <td>...</td>\n",
       "      <td>0</td>\n",
       "      <td>NaN</td>\n",
       "      <td>NaN</td>\n",
       "      <td>NaN</td>\n",
       "      <td>0</td>\n",
       "      <td>2</td>\n",
       "      <td>2006</td>\n",
       "      <td>WD</td>\n",
       "      <td>Abnorml</td>\n",
       "      <td>140000</td>\n",
       "    </tr>\n",
       "    <tr>\n",
       "      <td>4</td>\n",
       "      <td>5</td>\n",
       "      <td>60</td>\n",
       "      <td>RL</td>\n",
       "      <td>84.0</td>\n",
       "      <td>14260</td>\n",
       "      <td>Pave</td>\n",
       "      <td>NaN</td>\n",
       "      <td>IR1</td>\n",
       "      <td>Lvl</td>\n",
       "      <td>AllPub</td>\n",
       "      <td>...</td>\n",
       "      <td>0</td>\n",
       "      <td>NaN</td>\n",
       "      <td>NaN</td>\n",
       "      <td>NaN</td>\n",
       "      <td>0</td>\n",
       "      <td>12</td>\n",
       "      <td>2008</td>\n",
       "      <td>WD</td>\n",
       "      <td>Normal</td>\n",
       "      <td>250000</td>\n",
       "    </tr>\n",
       "    <tr>\n",
       "      <td>...</td>\n",
       "      <td>...</td>\n",
       "      <td>...</td>\n",
       "      <td>...</td>\n",
       "      <td>...</td>\n",
       "      <td>...</td>\n",
       "      <td>...</td>\n",
       "      <td>...</td>\n",
       "      <td>...</td>\n",
       "      <td>...</td>\n",
       "      <td>...</td>\n",
       "      <td>...</td>\n",
       "      <td>...</td>\n",
       "      <td>...</td>\n",
       "      <td>...</td>\n",
       "      <td>...</td>\n",
       "      <td>...</td>\n",
       "      <td>...</td>\n",
       "      <td>...</td>\n",
       "      <td>...</td>\n",
       "      <td>...</td>\n",
       "      <td>...</td>\n",
       "    </tr>\n",
       "    <tr>\n",
       "      <td>1455</td>\n",
       "      <td>1456</td>\n",
       "      <td>60</td>\n",
       "      <td>RL</td>\n",
       "      <td>62.0</td>\n",
       "      <td>7917</td>\n",
       "      <td>Pave</td>\n",
       "      <td>NaN</td>\n",
       "      <td>Reg</td>\n",
       "      <td>Lvl</td>\n",
       "      <td>AllPub</td>\n",
       "      <td>...</td>\n",
       "      <td>0</td>\n",
       "      <td>NaN</td>\n",
       "      <td>NaN</td>\n",
       "      <td>NaN</td>\n",
       "      <td>0</td>\n",
       "      <td>8</td>\n",
       "      <td>2007</td>\n",
       "      <td>WD</td>\n",
       "      <td>Normal</td>\n",
       "      <td>175000</td>\n",
       "    </tr>\n",
       "    <tr>\n",
       "      <td>1456</td>\n",
       "      <td>1457</td>\n",
       "      <td>20</td>\n",
       "      <td>RL</td>\n",
       "      <td>85.0</td>\n",
       "      <td>13175</td>\n",
       "      <td>Pave</td>\n",
       "      <td>NaN</td>\n",
       "      <td>Reg</td>\n",
       "      <td>Lvl</td>\n",
       "      <td>AllPub</td>\n",
       "      <td>...</td>\n",
       "      <td>0</td>\n",
       "      <td>NaN</td>\n",
       "      <td>MnPrv</td>\n",
       "      <td>NaN</td>\n",
       "      <td>0</td>\n",
       "      <td>2</td>\n",
       "      <td>2010</td>\n",
       "      <td>WD</td>\n",
       "      <td>Normal</td>\n",
       "      <td>210000</td>\n",
       "    </tr>\n",
       "    <tr>\n",
       "      <td>1457</td>\n",
       "      <td>1458</td>\n",
       "      <td>70</td>\n",
       "      <td>RL</td>\n",
       "      <td>66.0</td>\n",
       "      <td>9042</td>\n",
       "      <td>Pave</td>\n",
       "      <td>NaN</td>\n",
       "      <td>Reg</td>\n",
       "      <td>Lvl</td>\n",
       "      <td>AllPub</td>\n",
       "      <td>...</td>\n",
       "      <td>0</td>\n",
       "      <td>NaN</td>\n",
       "      <td>GdPrv</td>\n",
       "      <td>Shed</td>\n",
       "      <td>2500</td>\n",
       "      <td>5</td>\n",
       "      <td>2010</td>\n",
       "      <td>WD</td>\n",
       "      <td>Normal</td>\n",
       "      <td>266500</td>\n",
       "    </tr>\n",
       "    <tr>\n",
       "      <td>1458</td>\n",
       "      <td>1459</td>\n",
       "      <td>20</td>\n",
       "      <td>RL</td>\n",
       "      <td>68.0</td>\n",
       "      <td>9717</td>\n",
       "      <td>Pave</td>\n",
       "      <td>NaN</td>\n",
       "      <td>Reg</td>\n",
       "      <td>Lvl</td>\n",
       "      <td>AllPub</td>\n",
       "      <td>...</td>\n",
       "      <td>0</td>\n",
       "      <td>NaN</td>\n",
       "      <td>NaN</td>\n",
       "      <td>NaN</td>\n",
       "      <td>0</td>\n",
       "      <td>4</td>\n",
       "      <td>2010</td>\n",
       "      <td>WD</td>\n",
       "      <td>Normal</td>\n",
       "      <td>142125</td>\n",
       "    </tr>\n",
       "    <tr>\n",
       "      <td>1459</td>\n",
       "      <td>1460</td>\n",
       "      <td>20</td>\n",
       "      <td>RL</td>\n",
       "      <td>75.0</td>\n",
       "      <td>9937</td>\n",
       "      <td>Pave</td>\n",
       "      <td>NaN</td>\n",
       "      <td>Reg</td>\n",
       "      <td>Lvl</td>\n",
       "      <td>AllPub</td>\n",
       "      <td>...</td>\n",
       "      <td>0</td>\n",
       "      <td>NaN</td>\n",
       "      <td>NaN</td>\n",
       "      <td>NaN</td>\n",
       "      <td>0</td>\n",
       "      <td>6</td>\n",
       "      <td>2008</td>\n",
       "      <td>WD</td>\n",
       "      <td>Normal</td>\n",
       "      <td>147500</td>\n",
       "    </tr>\n",
       "  </tbody>\n",
       "</table>\n",
       "<p>1460 rows × 81 columns</p>\n",
       "</div>"
      ],
      "text/plain": [
       "        Id  MSSubClass MSZoning  LotFrontage  LotArea Street Alley LotShape  \\\n",
       "0        1          60       RL         65.0     8450   Pave   NaN      Reg   \n",
       "1        2          20       RL         80.0     9600   Pave   NaN      Reg   \n",
       "2        3          60       RL         68.0    11250   Pave   NaN      IR1   \n",
       "3        4          70       RL         60.0     9550   Pave   NaN      IR1   \n",
       "4        5          60       RL         84.0    14260   Pave   NaN      IR1   \n",
       "...    ...         ...      ...          ...      ...    ...   ...      ...   \n",
       "1455  1456          60       RL         62.0     7917   Pave   NaN      Reg   \n",
       "1456  1457          20       RL         85.0    13175   Pave   NaN      Reg   \n",
       "1457  1458          70       RL         66.0     9042   Pave   NaN      Reg   \n",
       "1458  1459          20       RL         68.0     9717   Pave   NaN      Reg   \n",
       "1459  1460          20       RL         75.0     9937   Pave   NaN      Reg   \n",
       "\n",
       "     LandContour Utilities  ... PoolArea PoolQC  Fence MiscFeature MiscVal  \\\n",
       "0            Lvl    AllPub  ...        0    NaN    NaN         NaN       0   \n",
       "1            Lvl    AllPub  ...        0    NaN    NaN         NaN       0   \n",
       "2            Lvl    AllPub  ...        0    NaN    NaN         NaN       0   \n",
       "3            Lvl    AllPub  ...        0    NaN    NaN         NaN       0   \n",
       "4            Lvl    AllPub  ...        0    NaN    NaN         NaN       0   \n",
       "...          ...       ...  ...      ...    ...    ...         ...     ...   \n",
       "1455         Lvl    AllPub  ...        0    NaN    NaN         NaN       0   \n",
       "1456         Lvl    AllPub  ...        0    NaN  MnPrv         NaN       0   \n",
       "1457         Lvl    AllPub  ...        0    NaN  GdPrv        Shed    2500   \n",
       "1458         Lvl    AllPub  ...        0    NaN    NaN         NaN       0   \n",
       "1459         Lvl    AllPub  ...        0    NaN    NaN         NaN       0   \n",
       "\n",
       "     MoSold YrSold  SaleType  SaleCondition  SalePrice  \n",
       "0         2   2008        WD         Normal     208500  \n",
       "1         5   2007        WD         Normal     181500  \n",
       "2         9   2008        WD         Normal     223500  \n",
       "3         2   2006        WD        Abnorml     140000  \n",
       "4        12   2008        WD         Normal     250000  \n",
       "...     ...    ...       ...            ...        ...  \n",
       "1455      8   2007        WD         Normal     175000  \n",
       "1456      2   2010        WD         Normal     210000  \n",
       "1457      5   2010        WD         Normal     266500  \n",
       "1458      4   2010        WD         Normal     142125  \n",
       "1459      6   2008        WD         Normal     147500  \n",
       "\n",
       "[1460 rows x 81 columns]"
      ]
     },
     "execution_count": 19,
     "metadata": {},
     "output_type": "execute_result"
    }
   ],
   "source": [
    "data"
   ]
  },
  {
   "cell_type": "code",
   "execution_count": 20,
   "metadata": {},
   "outputs": [
    {
     "data": {
      "text/plain": [
       "Index(['Id', 'MSSubClass', 'MSZoning', 'LotFrontage', 'LotArea', 'Street',\n",
       "       'Alley', 'LotShape', 'LandContour', 'Utilities', 'LotConfig',\n",
       "       'LandSlope', 'Neighborhood', 'Condition1', 'Condition2', 'BldgType',\n",
       "       'HouseStyle', 'OverallQual', 'OverallCond', 'YearBuilt', 'YearRemodAdd',\n",
       "       'RoofStyle', 'RoofMatl', 'Exterior1st', 'Exterior2nd', 'MasVnrType',\n",
       "       'MasVnrArea', 'ExterQual', 'ExterCond', 'Foundation', 'BsmtQual',\n",
       "       'BsmtCond', 'BsmtExposure', 'BsmtFinType1', 'BsmtFinSF1',\n",
       "       'BsmtFinType2', 'BsmtFinSF2', 'BsmtUnfSF', 'TotalBsmtSF', 'Heating',\n",
       "       'HeatingQC', 'CentralAir', 'Electrical', '1stFlrSF', '2ndFlrSF',\n",
       "       'LowQualFinSF', 'GrLivArea', 'BsmtFullBath', 'BsmtHalfBath', 'FullBath',\n",
       "       'HalfBath', 'BedroomAbvGr', 'KitchenAbvGr', 'KitchenQual',\n",
       "       'TotRmsAbvGrd', 'Functional', 'Fireplaces', 'FireplaceQu', 'GarageType',\n",
       "       'GarageYrBlt', 'GarageFinish', 'GarageCars', 'GarageArea', 'GarageQual',\n",
       "       'GarageCond', 'PavedDrive', 'WoodDeckSF', 'OpenPorchSF',\n",
       "       'EnclosedPorch', '3SsnPorch', 'ScreenPorch', 'PoolArea', 'PoolQC',\n",
       "       'Fence', 'MiscFeature', 'MiscVal', 'MoSold', 'YrSold', 'SaleType',\n",
       "       'SaleCondition', 'SalePrice'],\n",
       "      dtype='object')"
      ]
     },
     "execution_count": 20,
     "metadata": {},
     "output_type": "execute_result"
    }
   ],
   "source": [
    "data.columns"
   ]
  },
  {
   "cell_type": "code",
   "execution_count": 21,
   "metadata": {},
   "outputs": [],
   "source": [
    "X_pd =  data[['YearBuilt', 'GrLivArea']]"
   ]
  },
  {
   "cell_type": "code",
   "execution_count": 22,
   "metadata": {},
   "outputs": [],
   "source": [
    "y_pd = data[['SalePrice']]"
   ]
  },
  {
   "cell_type": "code",
   "execution_count": 23,
   "metadata": {},
   "outputs": [],
   "source": [
    "X_np = np.array(X_pd)\n",
    "y_np = np.array(y_pd)"
   ]
  },
  {
   "cell_type": "code",
   "execution_count": null,
   "metadata": {},
   "outputs": [],
   "source": []
  },
  {
   "cell_type": "code",
   "execution_count": 24,
   "metadata": {},
   "outputs": [],
   "source": [
    "from sklearn.model_selection import train_test_split"
   ]
  },
  {
   "cell_type": "code",
   "execution_count": 25,
   "metadata": {},
   "outputs": [],
   "source": [
    "X_train, X_valid, y_train, y_valid = train_test_split(X_np, y_np, test_size = 0.2, random_state = 23)"
   ]
  },
  {
   "cell_type": "code",
   "execution_count": 26,
   "metadata": {},
   "outputs": [
    {
     "name": "stdout",
     "output_type": "stream",
     "text": [
      "(1168, 2) (292, 2) (1168, 1) (292, 1)\n"
     ]
    }
   ],
   "source": [
    "print(X_train.shape, X_valid.shape, y_train.shape, y_valid.shape)"
   ]
  },
  {
   "cell_type": "code",
   "execution_count": 27,
   "metadata": {},
   "outputs": [],
   "source": [
    "from sklearn.linear_model import LinearRegression\n",
    "from sklearn.tree import DecisionTreeRegressor\n",
    "from sklearn.svm import SVR\n",
    "from sklearn.metrics import mean_squared_error\n",
    "\n",
    "# 使用する三つのモデル\n",
    "lr_reg = LinearRegression()\n",
    "dt_reg = DecisionTreeRegressor(random_state=0)\n",
    "sv_reg = SVR(kernel='linear', C=100, gamma='auto')\n",
    "\n",
    "# モデルのリスト\n",
    "regression_model_list = [lr_reg, dt_reg, sv_reg]"
   ]
  },
  {
   "cell_type": "code",
   "execution_count": null,
   "metadata": {},
   "outputs": [],
   "source": []
  },
  {
   "cell_type": "code",
   "execution_count": 28,
   "metadata": {},
   "outputs": [
    {
     "name": "stderr",
     "output_type": "stream",
     "text": [
      "/opt/anaconda3/lib/python3.7/site-packages/sklearn/utils/validation.py:724: DataConversionWarning: A column-vector y was passed when a 1d array was expected. Please change the shape of y to (n_samples, ), for example using ravel().\n",
      "  y = column_or_1d(y, warn=True)\n"
     ]
    }
   ],
   "source": [
    "# モデルごとの評価のリスト\n",
    "each_model_eval = []\n",
    "\n",
    "# モデルごとの予測値のリスト\n",
    "each_pred = []\n",
    "\n",
    "# 各モデルで学習、予測、評価、リストに格納\n",
    "for reg in regression_model_list:\n",
    "    reg.fit(X_train, y_train)\n",
    "    y_pred = reg.predict(X_valid)\n",
    "    each_pred.append(y_pred)\n",
    "    mse = mean_squared_error(y_valid, y_pred)\n",
    "    each_model_eval.append(round(mse))"
   ]
  },
  {
   "cell_type": "code",
   "execution_count": 29,
   "metadata": {},
   "outputs": [
    {
     "name": "stdout",
     "output_type": "stream",
     "text": [
      "　　　　　　　　線形、　　　　　　　　決定木、　　サポートベクター\n",
      "[1.57832557 2.05827467 1.64719642]\n"
     ]
    }
   ],
   "source": [
    "print('　　　　　　　　線形、　　　　　　　　決定木、　　サポートベクター')\n",
    "print(np.array(each_model_eval)/(10**9))"
   ]
  },
  {
   "cell_type": "code",
   "execution_count": 30,
   "metadata": {},
   "outputs": [
    {
     "data": {
      "text/plain": [
       "3"
      ]
     },
     "execution_count": 30,
     "metadata": {},
     "output_type": "execute_result"
    }
   ],
   "source": [
    "len(each_pred)"
   ]
  },
  {
   "cell_type": "code",
   "execution_count": 31,
   "metadata": {},
   "outputs": [
    {
     "data": {
      "text/plain": [
       "(292,)"
      ]
     },
     "execution_count": 31,
     "metadata": {},
     "output_type": "execute_result"
    }
   ],
   "source": [
    "each_pred[0].ravel().shape"
   ]
  },
  {
   "cell_type": "code",
   "execution_count": 32,
   "metadata": {},
   "outputs": [
    {
     "data": {
      "text/plain": [
       "(292,)"
      ]
     },
     "execution_count": 32,
     "metadata": {},
     "output_type": "execute_result"
    }
   ],
   "source": [
    "each_pred[1].shape"
   ]
  },
  {
   "cell_type": "code",
   "execution_count": 33,
   "metadata": {},
   "outputs": [
    {
     "data": {
      "text/plain": [
       "(292,)"
      ]
     },
     "execution_count": 33,
     "metadata": {},
     "output_type": "execute_result"
    }
   ],
   "source": [
    "each_pred[2].shape"
   ]
  },
  {
   "cell_type": "markdown",
   "metadata": {},
   "source": [
    "# 1"
   ]
  },
  {
   "cell_type": "code",
   "execution_count": 34,
   "metadata": {},
   "outputs": [
    {
     "name": "stdout",
     "output_type": "stream",
     "text": [
      "1.394671869\n"
     ]
    }
   ],
   "source": [
    "#全部の平均プレンド\n",
    "y_pred_mean =(each_pred[0].ravel() + each_pred[1] + each_pred[2])/3\n",
    "\n",
    "mean_mse = mean_squared_error(y_valid, y_pred_mean)\n",
    "\n",
    "print(round(mean_mse)/(10**9))"
   ]
  },
  {
   "cell_type": "code",
   "execution_count": 35,
   "metadata": {},
   "outputs": [
    {
     "name": "stdout",
     "output_type": "stream",
     "text": [
      "1.528195098\n"
     ]
    }
   ],
   "source": [
    "#重み適当のプレンド\n",
    "y_pred_weigh1 =(each_pred[0].ravel()*0.9 + each_pred[1]*0.05 + each_pred[2]*0.05)\n",
    "weigh1_mse = mean_squared_error(y_valid, y_pred_weigh1)\n",
    "print(round(weigh1_mse)/(10**9))"
   ]
  },
  {
   "cell_type": "markdown",
   "metadata": {},
   "source": [
    "# 2"
   ]
  },
  {
   "cell_type": "code",
   "execution_count": 36,
   "metadata": {},
   "outputs": [
    {
     "name": "stdout",
     "output_type": "stream",
     "text": [
      "1.414080851\n"
     ]
    }
   ],
   "source": [
    "y_pred_weigh1 =(each_pred[0].ravel()*0.1 + each_pred[1]*0.45 + each_pred[2]*0.45)\n",
    "weigh1_mse = mean_squared_error(y_valid, y_pred_weigh1)\n",
    "print(round(weigh1_mse)/(10**9))"
   ]
  },
  {
   "cell_type": "markdown",
   "metadata": {},
   "source": [
    "# 3"
   ]
  },
  {
   "cell_type": "code",
   "execution_count": 37,
   "metadata": {},
   "outputs": [
    {
     "name": "stdout",
     "output_type": "stream",
     "text": [
      "1.492791103\n"
     ]
    }
   ],
   "source": [
    "y_pred_weigh1 =(each_pred[0].ravel()*0.3 + each_pred[1]*0.6 + each_pred[2]*0.1)\n",
    "weigh1_mse = mean_squared_error(y_valid, y_pred_weigh1)\n",
    "print(round(weigh1_mse)/(10**9))"
   ]
  },
  {
   "cell_type": "markdown",
   "metadata": {},
   "source": [
    "## 【問題2】バギングのスクラッチ実装\n",
    "バギング をスクラッチ実装し、単一モデルより精度があがる例を 最低1つ 示してください。"
   ]
  },
  {
   "cell_type": "code",
   "execution_count": 38,
   "metadata": {},
   "outputs": [],
   "source": [
    "# バギングに使用する　モデル\n",
    "dt_reg = DecisionTreeRegressor(random_state=0)\n",
    "\n",
    "# サンプルを１００回ランダム　で抽出し、評価値の変動を確認する。\n",
    "for _ in range(100):\n",
    "    \n",
    "#     ランダム抽出\n",
    "    X_train, X_valid, y_train, y_valid = train_test_split(X_np, y_np, test_size = 0.2, shuffle=True)\n",
    "    \n",
    "#     その都度学習\n",
    "    dt_reg.fit(X_train, y_train)\n",
    "    \n",
    "#     その都度予測\n",
    "    y_pred = dt_reg.predict(X_valid)\n",
    "    \n",
    "#     その都度評価\n",
    "    mse = mean_squared_error(y_valid, y_pred)\n",
    "    \n",
    "#     その都度、評価値をリストに格納\n",
    "    each_model_eval.append(round(mse))"
   ]
  },
  {
   "cell_type": "code",
   "execution_count": 39,
   "metadata": {},
   "outputs": [
    {
     "name": "stdout",
     "output_type": "stream",
     "text": [
      "[1.57832557 2.05827467 1.64719642 2.56090033 2.6241242  2.59012917\n",
      " 2.76301276 2.60648718 3.0512994  2.69897948 2.86541392 3.00661435\n",
      " 2.96912658 2.99643161 3.60009466 4.59727977 5.2868387  3.38387827\n",
      " 2.59327593 2.44978467 2.80698315 2.63077067 2.50153408 3.38066697\n",
      " 2.50054301 2.79776636 2.39794904 2.35449805 2.55247005 4.31828681\n",
      " 2.87986651 2.94930232 2.20918929 2.36485967 2.73139417 4.6849169\n",
      " 2.77095288 2.54050016 2.65606813 3.75632373 4.66290502 2.64292376\n",
      " 2.78867076 4.34003058 3.19190668 4.38510475 2.87497197 2.63367437\n",
      " 2.59522521 3.39472612 5.21752901 2.20073872 3.76941105 1.65564803\n",
      " 3.07781113 3.05564832 2.80277403 2.76600483 3.52458372 3.43161229\n",
      " 2.87142493 4.4797571  1.96275793 3.16372043 2.49139584 2.53415361\n",
      " 2.31348621 2.74900465 2.86122697 3.40306033 3.19704428 2.54185436\n",
      " 5.30819525 2.71474124 2.80938379 2.65681515 3.46195265 2.5582805\n",
      " 3.67966811 3.38578604 2.59396182 2.80433879 3.55615595 2.46530412\n",
      " 2.61360257 3.01799365 2.43401644 2.6467958  2.15820234 2.83334996\n",
      " 3.11086563 2.74789034 2.98187363 3.38277748 2.8935478  2.70041737\n",
      " 3.43283245 2.68873115 3.08597464 2.59959059 2.80324867 4.38770006\n",
      " 2.72915021]\n"
     ]
    }
   ],
   "source": [
    "# 評価のリスト\n",
    "print(np.array(each_model_eval)/(10**9))"
   ]
  },
  {
   "cell_type": "markdown",
   "metadata": {},
   "source": [
    "## いくつか２以下の数値があるので精度が改善されているものがある"
   ]
  },
  {
   "cell_type": "markdown",
   "metadata": {},
   "source": [
    "## 【問題3】スタッキングのスクラッチ実装\n",
    "スタッキング をスクラッチ実装し、単一モデルより精度があがる例を 最低1つ 示してください"
   ]
  },
  {
   "cell_type": "code",
   "execution_count": 40,
   "metadata": {},
   "outputs": [],
   "source": [
    "# 対数変換\n",
    "X_log = np.log(X_np)\n",
    "y_log = np.log(y_np)"
   ]
  },
  {
   "cell_type": "code",
   "execution_count": 105,
   "metadata": {},
   "outputs": [],
   "source": [
    "# train と　valid にデータを分割\n",
    "X_train, X_valid, y_train, y_valid = train_test_split(X_log, y_log, test_size = 0.2, random_state = 23)"
   ]
  },
  {
   "cell_type": "code",
   "execution_count": 106,
   "metadata": {},
   "outputs": [
    {
     "name": "stdout",
     "output_type": "stream",
     "text": [
      "(1168, 2) (1168, 1) (292, 2) (292, 1)\n"
     ]
    }
   ],
   "source": [
    "# それぞれの形状は\n",
    "print(X_train.shape, y_train.shape, X_valid.shape, y_valid.shape)"
   ]
  },
  {
   "cell_type": "code",
   "execution_count": 154,
   "metadata": {},
   "outputs": [
    {
     "data": {
      "text/plain": [
       "292.0"
      ]
     },
     "execution_count": 154,
     "metadata": {},
     "output_type": "execute_result"
    }
   ],
   "source": [
    "1168/4"
   ]
  },
  {
   "cell_type": "markdown",
   "metadata": {},
   "source": [
    "# <img src=\"/Users/user/Downloads/Stacking.jpeg\">"
   ]
  },
  {
   "cell_type": "markdown",
   "metadata": {},
   "source": [
    "## Leaning!"
   ]
  },
  {
   "cell_type": "code",
   "execution_count": 133,
   "metadata": {},
   "outputs": [
    {
     "name": "stderr",
     "output_type": "stream",
     "text": [
      "/opt/anaconda3/lib/python3.7/site-packages/sklearn/utils/validation.py:724: DataConversionWarning: A column-vector y was passed when a 1d array was expected. Please change the shape of y to (n_samples, ), for example using ravel().\n",
      "  y = column_or_1d(y, warn=True)\n",
      "/opt/anaconda3/lib/python3.7/site-packages/sklearn/utils/validation.py:724: DataConversionWarning: A column-vector y was passed when a 1d array was expected. Please change the shape of y to (n_samples, ), for example using ravel().\n",
      "  y = column_or_1d(y, warn=True)\n",
      "/opt/anaconda3/lib/python3.7/site-packages/sklearn/utils/validation.py:724: DataConversionWarning: A column-vector y was passed when a 1d array was expected. Please change the shape of y to (n_samples, ), for example using ravel().\n",
      "  y = column_or_1d(y, warn=True)\n",
      "/opt/anaconda3/lib/python3.7/site-packages/sklearn/utils/validation.py:724: DataConversionWarning: A column-vector y was passed when a 1d array was expected. Please change the shape of y to (n_samples, ), for example using ravel().\n",
      "  y = column_or_1d(y, warn=True)\n"
     ]
    }
   ],
   "source": [
    "from sklearn.model_selection import KFold\n",
    "\n",
    "# 使用するモデル三個\n",
    "lr_reg = LinearRegression()\n",
    "dt_reg = DecisionTreeRegressor(random_state=0)\n",
    "sv_reg = SVR(kernel='linear', C=100, gamma='auto')\n",
    "\n",
    "# モデルのリスト化\n",
    "regression_model_list = [lr_reg, dt_reg, sv_reg]\n",
    "\n",
    "# モデル毎、　K_hold毎の予測値を格納したい。\n",
    "# 行はtrainの行数と列数はモデル数\n",
    "pred_box = np.zeros([X_train.shape[0], 3])\n",
    "\n",
    "# K_holdの設定　、４個、　シャッフル使う、　ランダム　は保持\n",
    "kf = KFold(n_splits=4, shuffle=True, random_state=1)\n",
    "\n",
    "# リストの格納位置指定用\n",
    "count_model = 0\n",
    "count_hold = 0\n",
    "\n",
    "# モデルを保持するためのリスト\n",
    "model_keep = []\n",
    "\n",
    "# 各モデルごとにK_Holdを使って推測値をだし、リストに格納する。\n",
    "for reg in regression_model_list:\n",
    "    for train, test in kf.split(X_train):\n",
    "        \n",
    "#         k_holdのtrainのインデックス部分にあるデータの学習\n",
    "        reg.fit(X_train[train], y_train[train])\n",
    "        \n",
    "#         その都度学習したモデルをキープしときたい。\n",
    "        model_keep.append(reg)\n",
    "        \n",
    "#         その都度予測する。K_holdのtest部分から予測\n",
    "        y_pred = reg.predict(X_train[test])\n",
    "        \n",
    "#         格納arrayの位置を指定して毎度格納していく、\n",
    "#         K_hold毎に下に移動する。\n",
    "#         モデルが切り替わると列を移動する。\n",
    "        pred_box[292*count_hold:(292+292*count_hold), count_model] = y_pred.ravel()  #ravel()は一次元出ないと入れられないので\n",
    "        \n",
    "        count_hold += 1#K_hold毎にカウント\n",
    "        \n",
    "    count_hold = 0 #モデルが変わったら0に戻す\n",
    "    \n",
    "    count_model += 1  #モデルを切り替える時にカウント"
   ]
  },
  {
   "cell_type": "code",
   "execution_count": 136,
   "metadata": {},
   "outputs": [
    {
     "data": {
      "text/plain": [
       "(1168, 3)"
      ]
     },
     "execution_count": 136,
     "metadata": {},
     "output_type": "execute_result"
    }
   ],
   "source": [
    "# 予測値のHako\n",
    "pred_box.shape"
   ]
  },
  {
   "cell_type": "code",
   "execution_count": 137,
   "metadata": {},
   "outputs": [
    {
     "data": {
      "text/plain": [
       "[LinearRegression(copy_X=True, fit_intercept=True, n_jobs=None, normalize=False),\n",
       " LinearRegression(copy_X=True, fit_intercept=True, n_jobs=None, normalize=False),\n",
       " LinearRegression(copy_X=True, fit_intercept=True, n_jobs=None, normalize=False),\n",
       " LinearRegression(copy_X=True, fit_intercept=True, n_jobs=None, normalize=False),\n",
       " DecisionTreeRegressor(criterion='mse', max_depth=None, max_features=None,\n",
       "                       max_leaf_nodes=None, min_impurity_decrease=0.0,\n",
       "                       min_impurity_split=None, min_samples_leaf=1,\n",
       "                       min_samples_split=2, min_weight_fraction_leaf=0.0,\n",
       "                       presort=False, random_state=0, splitter='best'),\n",
       " DecisionTreeRegressor(criterion='mse', max_depth=None, max_features=None,\n",
       "                       max_leaf_nodes=None, min_impurity_decrease=0.0,\n",
       "                       min_impurity_split=None, min_samples_leaf=1,\n",
       "                       min_samples_split=2, min_weight_fraction_leaf=0.0,\n",
       "                       presort=False, random_state=0, splitter='best'),\n",
       " DecisionTreeRegressor(criterion='mse', max_depth=None, max_features=None,\n",
       "                       max_leaf_nodes=None, min_impurity_decrease=0.0,\n",
       "                       min_impurity_split=None, min_samples_leaf=1,\n",
       "                       min_samples_split=2, min_weight_fraction_leaf=0.0,\n",
       "                       presort=False, random_state=0, splitter='best'),\n",
       " DecisionTreeRegressor(criterion='mse', max_depth=None, max_features=None,\n",
       "                       max_leaf_nodes=None, min_impurity_decrease=0.0,\n",
       "                       min_impurity_split=None, min_samples_leaf=1,\n",
       "                       min_samples_split=2, min_weight_fraction_leaf=0.0,\n",
       "                       presort=False, random_state=0, splitter='best'),\n",
       " SVR(C=100, cache_size=200, coef0=0.0, degree=3, epsilon=0.1, gamma='auto',\n",
       "     kernel='linear', max_iter=-1, shrinking=True, tol=0.001, verbose=False),\n",
       " SVR(C=100, cache_size=200, coef0=0.0, degree=3, epsilon=0.1, gamma='auto',\n",
       "     kernel='linear', max_iter=-1, shrinking=True, tol=0.001, verbose=False),\n",
       " SVR(C=100, cache_size=200, coef0=0.0, degree=3, epsilon=0.1, gamma='auto',\n",
       "     kernel='linear', max_iter=-1, shrinking=True, tol=0.001, verbose=False),\n",
       " SVR(C=100, cache_size=200, coef0=0.0, degree=3, epsilon=0.1, gamma='auto',\n",
       "     kernel='linear', max_iter=-1, shrinking=True, tol=0.001, verbose=False)]"
      ]
     },
     "execution_count": 137,
     "metadata": {},
     "output_type": "execute_result"
    }
   ],
   "source": [
    "# キープされたモデルたち\n",
    "model_keep"
   ]
  },
  {
   "cell_type": "code",
   "execution_count": 138,
   "metadata": {},
   "outputs": [
    {
     "name": "stderr",
     "output_type": "stream",
     "text": [
      "/opt/anaconda3/lib/python3.7/site-packages/sklearn/utils/validation.py:724: DataConversionWarning: A column-vector y was passed when a 1d array was expected. Please change the shape of y to (n_samples, ), for example using ravel().\n",
      "  y = column_or_1d(y, warn=True)\n"
     ]
    },
    {
     "data": {
      "text/plain": [
       "SVR(C=90, cache_size=200, coef0=0.0, degree=3, epsilon=0.1, gamma='auto',\n",
       "    kernel='linear', max_iter=-1, shrinking=True, tol=0.001, verbose=False)"
      ]
     },
     "execution_count": 138,
     "metadata": {},
     "output_type": "execute_result"
    }
   ],
   "source": [
    "# アンサンブルのtrainの最後の学習\n",
    "# とりあえずサポートベクターでいい（一番　強そうなヤツ）\n",
    "svr = SVR(kernel='linear', C=90, gamma='auto')\n",
    "svr.fit(pred_box, y_train)"
   ]
  },
  {
   "cell_type": "markdown",
   "metadata": {},
   "source": [
    "## Predict!"
   ]
  },
  {
   "cell_type": "markdown",
   "metadata": {},
   "source": [
    "## valid_data　から予測する"
   ]
  },
  {
   "cell_type": "markdown",
   "metadata": {},
   "source": [
    "##### １、Learningの時にK_holdを使って学習した時の全部の学習済みモデル　を使用して同じvalid_dataからそれぞれに予測値をだす。\n",
    "##### ２、今回　は４分割、３モデルなので全部で１２個の予測値がある。\n",
    "##### ３、同じモデルの予測値は平均し、４個を１個の予測値に変換する。つまり全部で予測データ　が３個残ることになる。\n",
    "##### ４、その３個の予測データを列毎に並べ、Learningのパートで最後に学習したサポートベクターで予測値をだす。"
   ]
  },
  {
   "cell_type": "code",
   "execution_count": 139,
   "metadata": {},
   "outputs": [
    {
     "data": {
      "text/plain": [
       "12"
      ]
     },
     "execution_count": 139,
     "metadata": {},
     "output_type": "execute_result"
    }
   ],
   "source": [
    "kf.n_splits*3"
   ]
  },
  {
   "cell_type": "code",
   "execution_count": 140,
   "metadata": {},
   "outputs": [
    {
     "data": {
      "text/plain": [
       "292"
      ]
     },
     "execution_count": 140,
     "metadata": {},
     "output_type": "execute_result"
    }
   ],
   "source": [
    "X_valid.shape[0]"
   ]
  },
  {
   "cell_type": "code",
   "execution_count": 141,
   "metadata": {},
   "outputs": [],
   "source": [
    "# １２個の学習済みモデルを使ってvalidデータを使って予測した予測値を格納するためのarray\n",
    "each_model_pred_included = np.zeros([X_valid.shape[0], kf.n_splits*3])\n",
    "\n",
    "# 列を切り替えn　使用する。\n",
    "count_columns = 0\n",
    "\n",
    "# １２個のモデルでイテレーション\n",
    "for model_khold in model_keep:\n",
    "    \n",
    "#     予測\n",
    "    k_hold_pred = model_khold.predict(X_valid)\n",
    "    \n",
    "#     予測毎に格納する\n",
    "    each_model_pred_included[0:X_valid.shape[0], count_columns] = k_hold_pred.ravel()\n",
    "    \n",
    "#     列切り替えカウント\n",
    "    count_columns += 1\n",
    "    "
   ]
  },
  {
   "cell_type": "code",
   "execution_count": 142,
   "metadata": {},
   "outputs": [
    {
     "data": {
      "text/plain": [
       "(292, 12)"
      ]
     },
     "execution_count": 142,
     "metadata": {},
     "output_type": "execute_result"
    }
   ],
   "source": [
    "each_model_pred_included.shape"
   ]
  },
  {
   "cell_type": "code",
   "execution_count": 143,
   "metadata": {},
   "outputs": [
    {
     "name": "stdout",
     "output_type": "stream",
     "text": [
      "(292, 4) (292, 4) (292, 4)\n"
     ]
    }
   ],
   "source": [
    "# モデル毎に予測値を抜き出す。\n",
    "print(each_model_pred_included[:, :4].shape,\n",
    "          each_model_pred_included[:, 4:8].shape,\n",
    "          each_model_pred_included[:, 8:12].shape)"
   ]
  },
  {
   "cell_type": "code",
   "execution_count": 150,
   "metadata": {},
   "outputs": [
    {
     "data": {
      "text/plain": [
       "(292, 3)"
      ]
     },
     "execution_count": 150,
     "metadata": {},
     "output_type": "execute_result"
    }
   ],
   "source": [
    "# 各モデルの平均予測値を格納するためのarray\n",
    "test_data =  np.zeros([292, 3])\n",
    "\n",
    "# 書き換え作業\n",
    "test_data[:, 0] = model1 = each_model_pred_included[:, :4].mean(1)\n",
    "test_data[:, 1] = model2 = each_model_pred_included[:, 4:8].mean(1)\n",
    "test_data[:, 2] = model3 = each_model_pred_included[:, 8:12].mean(1)\n",
    "\n",
    "test_data.shape"
   ]
  },
  {
   "cell_type": "code",
   "execution_count": 151,
   "metadata": {},
   "outputs": [
    {
     "data": {
      "text/plain": [
       "array([[12.10878924, 12.06527492, 12.10610257],\n",
       "       [11.99961687, 12.36307639, 12.005136  ],\n",
       "       [11.90845012, 11.92337811, 11.9153449 ],\n",
       "       [11.82752099, 11.56076279, 11.83925889],\n",
       "       [11.8560292 , 11.8493977 , 11.86489167],\n",
       "       [12.35724708, 12.52452638, 12.34580248],\n",
       "       [11.46566603, 11.51292546, 11.49025915],\n",
       "       [12.70081931, 12.8583197 , 12.67659787],\n",
       "       [11.69530188, 11.80931948, 11.7101493 ],\n",
       "       [12.46215343, 12.88664104, 12.44664036],\n",
       "       [12.08013428, 12.07539432, 12.07974281],\n",
       "       [12.37952736, 12.20607265, 12.36802211],\n",
       "       [12.12713157, 12.05815252, 12.12609723],\n",
       "       [12.11625339, 12.06527492, 12.11329299],\n",
       "       [11.38808658, 10.54270639, 11.41603231],\n",
       "       [11.20013902, 10.858999  , 11.23479243],\n",
       "       [11.7916681 , 11.8493977 , 11.80425978],\n",
       "       [11.87085214, 12.04941884, 11.87831485],\n",
       "       [11.58587954, 11.26446411, 11.60638673],\n",
       "       [12.00924255, 11.55214618, 12.01459397],\n",
       "       [12.36180861, 12.66980666, 12.34993129],\n",
       "       [11.71265844, 11.7905572 , 11.72677874],\n",
       "       [12.07677224, 12.01370075, 12.07570213],\n",
       "       [12.5071908 , 12.46071486, 12.49046914],\n",
       "       [11.7714308 , 11.8493977 , 11.7849027 ],\n",
       "       [11.51255474, 11.3736634 , 11.53478653],\n",
       "       [11.06829844, 11.58988651, 11.10778683],\n",
       "       [11.64146602, 11.71069598, 11.65756549],\n",
       "       [11.74705178, 11.8313792 , 11.76164831],\n",
       "       [11.86574719, 11.9316358 , 11.87335228],\n",
       "       [11.60964364, 11.8386256 , 11.62736086],\n",
       "       [12.47617517, 12.52352588, 12.46019209],\n",
       "       [11.194931  , 11.35040654, 11.23187806],\n",
       "       [11.95207117, 12.08672589, 11.9576382 ],\n",
       "       [12.25071714, 12.16002871, 12.24300226],\n",
       "       [12.43000957, 12.887127  , 12.41554282],\n",
       "       [12.1895889 , 11.74403719, 12.18540746],\n",
       "       [12.02296003, 11.89478071, 12.02588197],\n",
       "       [11.94626846, 11.9511804 , 11.95141502],\n",
       "       [12.03540071, 11.89818787, 12.0355379 ],\n",
       "       [11.92206277, 11.77528973, 11.9307041 ],\n",
       "       [12.20565163, 12.01460943, 12.2009709 ],\n",
       "       [12.23379   , 11.85651517, 12.22870837],\n",
       "       [12.25212018, 12.16002871, 12.24510876],\n",
       "       [11.67834561, 11.89818787, 11.69541563],\n",
       "       [12.0109758 , 11.89818787, 12.01214141],\n",
       "       [11.66095057, 11.67419361, 11.67665075],\n",
       "       [12.12737858, 12.40656151, 12.12821232],\n",
       "       [12.29367957, 12.47800636, 12.28421243],\n",
       "       [12.09313135, 11.68613049, 12.09253217],\n",
       "       [11.73673483, 11.81303006, 11.75015348],\n",
       "       [12.01370783, 12.04355372, 12.01597646],\n",
       "       [11.85377023, 12.25486281, 11.8642225 ],\n",
       "       [12.18680098, 12.11224884, 12.18151857],\n",
       "       [12.41123384, 12.20856953, 12.40082877],\n",
       "       [12.40091792, 12.42118403, 12.38773897],\n",
       "       [12.68249541, 12.8583197 , 12.65890176],\n",
       "       [11.26343036, 11.19821472, 11.29548608],\n",
       "       [12.36155623, 12.41044104, 12.34959986],\n",
       "       [11.87616605, 11.79708525, 11.88263033],\n",
       "       [11.73002816, 11.75194237, 11.74328535],\n",
       "       [11.65218423, 11.69441334, 11.6692954 ],\n",
       "       [12.35571289, 12.72932079, 12.34410331],\n",
       "       [11.68972655, 11.54829261, 11.70642537],\n",
       "       [11.80427697, 11.85034872, 11.81302283],\n",
       "       [12.10774453, 12.02718519, 12.10527287],\n",
       "       [11.40217412, 11.39582322, 11.42704912],\n",
       "       [12.30789954, 12.38421883, 12.29799922],\n",
       "       [11.8846029 , 11.96400108, 11.89169596],\n",
       "       [11.77478526, 11.86358234, 11.7861305 ],\n",
       "       [12.24592938, 12.05524976, 12.24004143],\n",
       "       [11.59162974, 11.6307085 , 11.6102338 ],\n",
       "       [12.10042958, 11.87059991, 12.0998325 ],\n",
       "       [12.42806505, 12.27839331, 12.41402335],\n",
       "       [11.73952866, 11.87583096, 11.75185224],\n",
       "       [12.29728911, 12.10625231, 12.28813201],\n",
       "       [12.10625163, 12.15477935, 12.10512641],\n",
       "       [12.13464412, 12.10071213, 12.13274728],\n",
       "       [12.16668709, 12.17921519, 12.16209806],\n",
       "       [11.53336839, 11.65268741, 11.55447222],\n",
       "       [11.75882503, 11.8313792 , 11.77303599],\n",
       "       [12.42517115, 12.6165253 , 12.41132424],\n",
       "       [11.37641063, 11.32055357, 11.40368091],\n",
       "       [12.11215371, 11.99226042, 12.11166865],\n",
       "       [12.41297617, 12.27792808, 12.39944353],\n",
       "       [12.25085851, 12.46651198, 12.24569541],\n",
       "       [12.30115215, 12.10625231, 12.29180904],\n",
       "       [12.27789208, 12.16785143, 12.26918062],\n",
       "       [11.99677567, 11.99535161, 11.9998449 ],\n",
       "       [12.0057989 , 11.88448902, 12.00706589],\n",
       "       [12.30536476, 12.28765263, 12.29765828],\n",
       "       [11.35111309, 11.69940503, 11.37976929],\n",
       "       [11.63571103, 11.48246626, 11.65206652],\n",
       "       [12.52961588, 12.73963776, 12.51229419],\n",
       "       [11.5466479 , 11.6127708 , 11.56740131],\n",
       "       [11.80956998, 12.31716669, 11.82164321],\n",
       "       [12.59334391, 12.6181823 , 12.57390806],\n",
       "       [11.89254039, 11.87756858, 11.90006389],\n",
       "       [11.84766332, 11.53272809, 11.85665166],\n",
       "       [11.66732537, 11.71993963, 11.6824765 ],\n",
       "       [11.7071686 , 11.62625415, 11.72322776],\n",
       "       [12.24522566, 12.00817818, 12.23766796],\n",
       "       [11.62995311, 11.73206099, 11.64656476],\n",
       "       [11.30275514, 10.97678203, 11.33392281],\n",
       "       [12.30748873, 12.34583459, 12.29782463],\n",
       "       [11.91984437, 11.8493977 , 11.92595997],\n",
       "       [11.65734265, 11.75978554, 11.67587791],\n",
       "       [12.01572144, 11.89818787, 12.01671302],\n",
       "       [12.61927682, 12.7367009 , 12.59809001],\n",
       "       [11.729684  , 11.85651517, 11.74317992],\n",
       "       [12.12123423, 12.23076526, 12.1195147 ],\n",
       "       [11.9319782 , 12.12269104, 11.93965453],\n",
       "       [11.80262975, 12.34583459, 11.81491146],\n",
       "       [12.09498399, 12.06527492, 12.0928919 ],\n",
       "       [11.63911104, 11.74403719, 11.65693032],\n",
       "       [12.1174903 , 12.06527492, 12.11448454],\n",
       "       [11.99950197, 12.06104687, 12.0017548 ],\n",
       "       [11.70810479, 11.79433792, 11.7219855 ],\n",
       "       [11.56601729, 11.47729829, 11.58725288],\n",
       "       [12.04988111, 12.17561344, 12.05082316],\n",
       "       [11.73942615, 11.81303006, 11.7527461 ],\n",
       "       [12.348911  , 12.66980666, 12.33750667],\n",
       "       [12.05517201, 12.27839331, 12.0565956 ],\n",
       "       [11.87816069, 11.56076279, 11.88794908],\n",
       "       [12.11533368, 11.98227263, 12.11262794],\n",
       "       [11.84105025, 11.79708525, 11.84898027],\n",
       "       [12.01663888, 11.89818787, 12.01755256],\n",
       "       [12.34041363, 11.8313792 , 12.32945355],\n",
       "       [12.06736078, 11.87059991, 12.06820185],\n",
       "       [12.26462493, 12.13296417, 12.25648849],\n",
       "       [12.13844873, 12.1281111 , 12.13502811],\n",
       "       [11.65555247, 11.77143616, 11.6706869 ],\n",
       "       [12.66810869, 12.79917571, 12.64499845],\n",
       "       [11.64146602, 11.71069598, 11.65756549],\n",
       "       [11.5609516 , 11.26446411, 11.58255786],\n",
       "       [11.83837974, 12.25486281, 11.84939644],\n",
       "       [12.04044221, 11.34450681, 12.04043872],\n",
       "       [11.65775913, 11.28978191, 11.67402869],\n",
       "       [11.89790968, 11.48760766, 11.90569023],\n",
       "       [12.10913718, 12.20557252, 12.10657025],\n",
       "       [11.7584629 , 11.56171563, 11.77144844],\n",
       "       [12.3496053 , 12.40081672, 12.33964537],\n",
       "       [12.22513722, 12.07823927, 12.21836043],\n",
       "       [12.27885039, 12.16002871, 12.270636  ],\n",
       "       [12.508757  , 12.47990931, 12.49166753],\n",
       "       [11.91522733, 11.97665948, 11.92169272],\n",
       "       [12.28014453, 12.06681058, 12.27130626],\n",
       "       [11.90584909, 11.66992921, 11.91374904],\n",
       "       [12.49315963, 12.56723749, 12.47677505],\n",
       "       [12.35560958, 12.66980666, 12.3439596 ],\n",
       "       [11.88996019, 12.02873863, 11.89726192],\n",
       "       [12.17191452, 11.82704253, 12.16842613],\n",
       "       [12.2956919 , 12.43320822, 12.28654904],\n",
       "       [12.36037165, 12.41044104, 12.34850286],\n",
       "       [11.5588222 , 11.60823564, 11.58078462],\n",
       "       [12.26269534, 12.46458334, 12.25454119],\n",
       "       [12.25950689, 12.30138283, 12.2515139 ],\n",
       "       [12.01781353, 11.55214618, 12.02294341],\n",
       "       [12.27740659, 12.16785143, 12.26871293],\n",
       "       [11.61488021, 11.58524613, 11.63478683],\n",
       "       [11.88279691, 12.01339763, 11.89085903],\n",
       "       [11.96737637, 11.87409031, 11.97129925],\n",
       "       [12.37981394, 12.41472304, 12.36754175],\n",
       "       [12.49581766, 12.73963776, 12.47978   ],\n",
       "       [12.32371885, 12.69158046, 12.31328258],\n",
       "       [11.84803206, 12.25486281, 11.85864873],\n",
       "       [11.68094132, 11.45899712, 11.69590838],\n",
       "       [12.34085706, 11.8313792 , 12.32988072],\n",
       "       [12.35749103, 12.13618652, 12.34608181],\n",
       "       [11.86137357, 11.56076279, 11.87173142],\n",
       "       [12.447626  , 12.4292162 , 12.4326899 ],\n",
       "       [12.55863635, 12.69250311, 12.53989488],\n",
       "       [12.35751962, 12.67576373, 12.34588798],\n",
       "       [11.67579734, 11.56076279, 11.69254642],\n",
       "       [12.14323412, 12.23076526, 12.14066296],\n",
       "       [12.18882834, 12.14950229, 12.18356015],\n",
       "       [11.71043127, 11.81303006, 11.72485993],\n",
       "       [11.63852116, 11.73606902, 11.65495371],\n",
       "       [11.85212861, 11.96400108, 11.86136082],\n",
       "       [12.05465107, 12.06104687, 12.05456979],\n",
       "       [11.58565315, 11.66907415, 11.60570808],\n",
       "       [12.00989632, 12.08672589, 12.01154525],\n",
       "       [11.64881943, 11.37939407, 11.66568934],\n",
       "       [11.73910556, 11.54829261, 11.75362487],\n",
       "       [12.22338225, 12.05524976, 12.21832117],\n",
       "       [11.97331542, 11.58524613, 11.98054256],\n",
       "       [11.89536411, 11.87756858, 11.90278406],\n",
       "       [11.74804198, 11.820116  , 11.75987406],\n",
       "       [12.2364845 , 12.08953883, 12.22982379],\n",
       "       [11.94005236, 11.91772368, 11.94601477],\n",
       "       [12.58419455, 12.69250311, 12.56433857],\n",
       "       [12.27068149, 12.26434155, 12.2627222 ],\n",
       "       [12.3835429 , 12.33655251, 12.37086852],\n",
       "       [11.80223567, 12.10348606, 11.8128448 ],\n",
       "       [12.24290026, 12.52452638, 12.23636085],\n",
       "       [11.9552987 , 11.88448902, 11.95886096],\n",
       "       [12.13261561, 11.98292909, 12.12989762],\n",
       "       [12.44986589, 12.38002595, 12.43533539],\n",
       "       [11.65555247, 11.77143616, 11.6706869 ],\n",
       "       [12.44002367, 12.44862659, 12.4254106 ],\n",
       "       [11.92029743, 11.66992921, 11.9276218 ],\n",
       "       [11.70977481, 11.69107165, 11.72345916],\n",
       "       [12.23188592, 12.36734079, 12.22508301],\n",
       "       [12.26608327, 12.13296417, 12.25789334],\n",
       "       [11.54160821, 11.40166983, 11.56373896],\n",
       "       [11.4013152 , 11.3736634 , 11.42767216],\n",
       "       [12.4164507 , 12.50539916, 12.40310118],\n",
       "       [11.30329355, 11.32659589, 11.33425639],\n",
       "       [11.86832548, 11.8493977 , 11.87669175],\n",
       "       [12.20970738, 12.32829028, 12.2036292 ],\n",
       "       [12.33535287, 12.67576373, 12.32453415],\n",
       "       [12.32937346, 12.69158046, 12.31868563],\n",
       "       [12.26683466, 12.26434155, 12.25897199],\n",
       "       [11.60967475, 11.44035477, 11.62766237],\n",
       "       [12.38130864, 12.33655251, 12.36876038],\n",
       "       [11.93023613, 11.9697172 , 11.93651317],\n",
       "       [11.39066121, 11.39582322, 11.41604839],\n",
       "       [12.35293725, 12.66980666, 12.34138527],\n",
       "       [12.17771582, 12.05815252, 12.1731214 ],\n",
       "       [11.40217412, 11.39582322, 11.42704912],\n",
       "       [12.38888083, 11.97035031, 12.37707726],\n",
       "       [12.28657643, 12.15477935, 12.27883818],\n",
       "       [11.89637691, 11.62625415, 11.90250086],\n",
       "       [12.21381389, 12.32829028, 12.20754084],\n",
       "       [12.09302138, 11.87862358, 12.09108966],\n",
       "       [12.36883133, 12.16785143, 12.35691762],\n",
       "       [11.82632091, 11.9697172 , 11.83609194],\n",
       "       [11.82077845, 11.7745202 , 11.83012236],\n",
       "       [12.2068849 , 12.09848743, 12.2008217 ],\n",
       "       [12.29079475, 12.3327053 , 12.2815659 ],\n",
       "       [11.71629628, 11.8313792 , 11.7302379 ],\n",
       "       [12.5492836 , 13.12603064, 12.53048687],\n",
       "       [11.4963473 , 11.37939407, 11.52004559],\n",
       "       [11.44730209, 11.7745202 , 11.47138046],\n",
       "       [12.20216235, 12.02873863, 12.1961839 ],\n",
       "       [11.93964233, 11.97665948, 11.94525753],\n",
       "       [11.38436602, 11.51192496, 11.41217099],\n",
       "       [11.64428786, 11.73606902, 11.66046386],\n",
       "       [11.96468799, 11.73606902, 11.96902393],\n",
       "       [12.30318771, 12.35449265, 12.29354858],\n",
       "       [11.97806358, 12.36307639, 11.98432688],\n",
       "       [12.35827252, 12.66980666, 12.34652488],\n",
       "       [11.82610345, 11.81303006, 11.83610867],\n",
       "       [12.28645593, 12.07767093, 12.27738619],\n",
       "       [11.6903162 , 11.82407989, 11.70444455],\n",
       "       [12.03351117, 11.98292909, 12.03604617],\n",
       "       [11.88730982, 11.88448902, 11.89507043],\n",
       "       [11.7101115 , 10.59663473, 11.72564813],\n",
       "       [12.38624134, 12.67576373, 12.37355639],\n",
       "       [12.09475507, 11.73606902, 12.09468184],\n",
       "       [11.82806197, 11.9381932 , 11.83813138],\n",
       "       [11.64117882, 11.74006104, 11.65755899],\n",
       "       [12.29836978, 12.38421883, 12.28881895],\n",
       "       [11.90602601, 12.01066585, 11.9127837 ],\n",
       "       [11.50974459, 11.56646623, 11.53148763],\n",
       "       [12.34923335, 12.24288662, 12.33794982],\n",
       "       [11.61694013, 11.68855803, 11.63543521],\n",
       "       [11.67405699, 11.86446223, 11.68995589],\n",
       "       [11.65555247, 11.77143616, 11.6706869 ],\n",
       "       [11.48980356, 11.681824  , 11.51360356],\n",
       "       [11.9174959 , 11.89478071, 11.92510601],\n",
       "       [11.60111962, 11.8386256 , 11.61901398],\n",
       "       [12.3276249 , 12.4292162 , 12.31695703],\n",
       "       [11.67960236, 11.68266824, 11.69479919],\n",
       "       [11.5509208 , 11.58896015, 11.57129001],\n",
       "       [11.97974876, 11.99535161, 11.98362243],\n",
       "       [12.14393924, 12.04060821, 12.14201711],\n",
       "       [11.27507549, 11.35040654, 11.30861183],\n",
       "       [12.09243017, 12.09625778, 12.09105234],\n",
       "       [11.24731569, 10.858999  , 11.27987036],\n",
       "       [12.32515361, 12.22587527, 12.31506339],\n",
       "       [11.82133857, 11.79810441, 11.82976911],\n",
       "       [12.33013539, 12.42801548, 12.31946381],\n",
       "       [11.70957861, 11.95761129, 11.72304542],\n",
       "       [12.3620937 , 12.54254488, 12.35087102],\n",
       "       [12.12005563, 12.1281111 , 12.11708828],\n",
       "       [11.87061365, 11.82407989, 11.8804943 ],\n",
       "       [11.52547225, 11.75194237, 11.5491231 ],\n",
       "       [11.85878364, 11.8913619 , 11.86722871],\n",
       "       [12.12329911, 11.81303006, 12.12181833],\n",
       "       [11.63571103, 11.48246626, 11.65206652],\n",
       "       [12.52856338, 12.56723749, 12.51088044],\n",
       "       [12.66220028, 12.69158046, 12.6398384 ],\n",
       "       [12.62821825, 12.71640215, 12.60696938],\n",
       "       [12.44225971, 12.27839331, 12.42796369],\n",
       "       [11.55534974, 11.7745202 , 11.575239  ],\n",
       "       [12.22513722, 12.07823927, 12.21836043],\n",
       "       [12.12085908, 12.2370867 , 12.11821654],\n",
       "       [12.21419373, 12.22587527, 12.20808398],\n",
       "       [11.73176944, 11.8196746 , 11.74785478],\n",
       "       [11.93445822, 11.9697172 , 11.94053508],\n",
       "       [11.54626216, 11.8386256 , 11.56625858]])"
      ]
     },
     "execution_count": 151,
     "metadata": {},
     "output_type": "execute_result"
    }
   ],
   "source": [
    "# いちよ中身の確認\n",
    "test_data"
   ]
  },
  {
   "cell_type": "code",
   "execution_count": 152,
   "metadata": {},
   "outputs": [],
   "source": [
    "# まとめたデータを使って予測\n",
    "y_ensmble_pred = svr.predict(test_data)"
   ]
  },
  {
   "cell_type": "code",
   "execution_count": 153,
   "metadata": {},
   "outputs": [
    {
     "data": {
      "text/plain": [
       "0.13686276262205335"
      ]
     },
     "execution_count": 153,
     "metadata": {},
     "output_type": "execute_result"
    }
   ],
   "source": [
    "# 評価する\n",
    "mse = mean_squared_error(y_valid, y_ensmble_pred)\n",
    "mse"
   ]
  },
  {
   "cell_type": "code",
   "execution_count": 29,
   "metadata": {},
   "outputs": [
    {
     "name": "stdout",
     "output_type": "stream",
     "text": [
      "　　　　　　　　線形、　　　　　　　　決定木、　　サポートベクター\n",
      "[1.57832557 2.05827467 1.64719642]\n"
     ]
    }
   ],
   "source": [
    "print('　　　　　　　　線形、　　　　　　　　決定木、　　サポートベクター')\n",
    "print(np.array(each_model_eval)/(10**9))"
   ]
  },
  {
   "cell_type": "markdown",
   "metadata": {},
   "source": [
    "改善された。"
   ]
  },
  {
   "cell_type": "code",
   "execution_count": null,
   "metadata": {},
   "outputs": [],
   "source": []
  }
 ],
 "metadata": {
  "kernelspec": {
   "display_name": "Python 3",
   "language": "python",
   "name": "python3"
  },
  "language_info": {
   "codemirror_mode": {
    "name": "ipython",
    "version": 3
   },
   "file_extension": ".py",
   "mimetype": "text/x-python",
   "name": "python",
   "nbconvert_exporter": "python",
   "pygments_lexer": "ipython3",
   "version": "3.7.4"
  }
 },
 "nbformat": 4,
 "nbformat_minor": 2
}
