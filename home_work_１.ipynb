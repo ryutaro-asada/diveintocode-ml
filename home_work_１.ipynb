{
 "cells": [
  {
   "cell_type": "code",
   "execution_count": 1,
   "metadata": {},
   "outputs": [
    {
     "name": "stdout",
     "output_type": "stream",
     "text": [
      "厚さ：0.00016メートル\n"
     ]
    }
   ],
   "source": [
    "#問題１\n",
    "\"\"\"\n",
    "紙を一回おった時の暑さを計算するコード\n",
    "\"\"\"\n",
    "\n",
    "THICKNESS  = 0.00008\n",
    "\n",
    "folded_thickness = THICKNESS *2\n",
    "\n",
    "print('厚さ：{}メートル'.format(folded_thickness))"
   ]
  },
  {
   "cell_type": "code",
   "execution_count": 2,
   "metadata": {},
   "outputs": [
    {
     "name": "stdout",
     "output_type": "stream",
     "text": [
      "厚さ:  0.00万キロメートル\n"
     ]
    }
   ],
   "source": [
    "#問題２\n",
    "#メートルを万キロメートルに返還して小数点以下2桁で表示する\n",
    "print('厚さ: {: .2f}万キロメートル'.format(folded_thickness/10**7))"
   ]
  },
  {
   "cell_type": "code",
   "execution_count": 3,
   "metadata": {},
   "outputs": [
    {
     "name": "stdout",
     "output_type": "stream",
     "text": [
      "おった回数は43回で届いた\n"
     ]
    }
   ],
   "source": [
    "#問題３　\n",
    "#for文を使用して作成　月に到達するまでの回数は？\n",
    "\n",
    "moon_distance_from_earth = 384400  #Km\n",
    "THICKNESS  = 0.00008\n",
    "#メートルをキロメートルに返還して小数点以下2桁で表示する\n",
    "THICKNESS_km = THICKNESS/10**3\n",
    "\n",
    "for i in range( 100):\n",
    "    folded_thickness = THICKNESS_km *(2**i)\n",
    "    if folded_thickness >= moon_distance_from_earth:\n",
    "        print('おった回数は{}回で届いた'.format(i))\n",
    "        break\n",
    "        \n",
    "    \n"
   ]
  },
  {
   "cell_type": "code",
   "execution_count": 5,
   "metadata": {},
   "outputs": [
    {
     "name": "stdout",
     "output_type": "stream",
     "text": [
      "おった回数は43回で届いた\n",
      "time : 0.00044798851013183594[s]\n"
     ]
    }
   ],
   "source": [
    "#問題４　時間の比較\n",
    "import time\n",
    "start = time.time()\n",
    "#####\n",
    "# ここに比較したいコードを貼り付ける\n",
    "#####\n",
    "moon_distance_from_earth = 384400  #Km\n",
    "THICKNESS  = 0.00008\n",
    "#メートルをキロメートルに返還して小数点以下2桁で表示する\n",
    "THICKNESS_km = THICKNESS/10**3\n",
    "\n",
    "for i in range( 100):\n",
    "    folded_thickness = THICKNESS_km *(2**i)\n",
    "    if folded_thickness >= moon_distance_from_earth:\n",
    "        print('おった回数は{}回で届いた'.format(i))\n",
    "        break\n",
    "        \n",
    "\n",
    "elapsed_time = time.time() - start\n",
    "print(\"time : {}[s]\".format(elapsed_time))"
   ]
  },
  {
   "cell_type": "code",
   "execution_count": 5,
   "metadata": {},
   "outputs": [
    {
     "name": "stdout",
     "output_type": "stream",
     "text": [
      "おった回数は43回で届いた\n",
      "おった回数は43回で届いた\n",
      "136 µs ± 0 ns per loop (mean ± std. dev. of 1 run, 2 loops each)\n"
     ]
    }
   ],
   "source": [
    "%%timeit -r 1 -n 2\n",
    "\n",
    "moon_distance_from_earth = 384400  #Km\n",
    "THICKNESS  = 0.00008\n",
    "#メートルをキロメートルに返還して小数点以下2桁で表示する\n",
    "THICKNESS_km = THICKNESS/10**3\n",
    "\n",
    "for i in range( 100):\n",
    "    folded_thickness = THICKNESS_km *(2**i)\n",
    "    if folded_thickness >= moon_distance_from_earth:\n",
    "        print('おった回数は{}回で届いた'.format(i))\n",
    "        break\n",
    "        "
   ]
  },
  {
   "cell_type": "code",
   "execution_count": 12,
   "metadata": {},
   "outputs": [
    {
     "name": "stdout",
     "output_type": "stream",
     "text": [
      "おった回数は43回で届いた\n",
      "listの数は44個です\n",
      "[8e-05, 8e-08, 1.6e-07, 3.2e-07, 6.4e-07, 1.28e-06, 2.56e-06, 5.12e-06, 1.024e-05, 2.048e-05, 4.096e-05, 8.192e-05, 0.00016384, 0.00032768, 0.00065536, 0.00131072, 0.00262144, 0.00524288, 0.01048576, 0.02097152, 0.04194304, 0.08388608, 0.16777216, 0.33554432, 0.67108864, 1.34217728, 2.68435456, 5.36870912, 10.73741824, 21.47483648, 42.94967296, 85.89934592, 171.79869184, 343.59738368, 687.19476736, 1374.38953472, 2748.77906944, 5497.55813888, 10995.11627776, 21990.23255552, 43980.46511104, 87960.93022208, 175921.86044416, 351843.72088832, 703687.44177664]\n"
     ]
    }
   ],
   "source": [
    "#問題５　リストへ保存\n",
    "moon_distance_from_earth = 384400  #Km\n",
    "THICKNESS  = 0.00008\n",
    "#メートルをキロメートルに返還して小数点以下2桁で表示する\n",
    "THICKNESS_km = THICKNESS/(10**3)\n",
    "void = [0.00008]\n",
    "for i in range( 100):\n",
    "    folded_thickness = THICKNESS_km *(2**i)\n",
    "    void.append(folded_thickness)\n",
    "    if folded_thickness >= moon_distance_from_earth:\n",
    "        print('おった回数は{}回で届いた'.format(i))\n",
    "        print('listの数は{}個です'.format(len(void)-1))\n",
    "        break\n",
    "print(void)"
   ]
  },
  {
   "cell_type": "code",
   "execution_count": 14,
   "metadata": {},
   "outputs": [
    {
     "data": {
      "text/plain": [
       "<function matplotlib.pyplot.show(*args, **kw)>"
      ]
     },
     "execution_count": 14,
     "metadata": {},
     "output_type": "execute_result"
    },
    {
     "data": {
      "image/png": "[encoded data removed]",
      "text/plain": [
       "<Figure size 432x288 with 1 Axes>"
      ]
     },
     "metadata": {
      "needs_background": "light"
     },
     "output_type": "display_data"
    }
   ],
   "source": [
    "#問題６グラフの表示\n",
    "\n",
    "import matplotlib.pyplot as plt\n",
    "%matplotlib inline\n",
    "\n",
    "plt.title('thickness of folded paper')\n",
    "plt.xlabel('number of folds')\n",
    "plt.ylabel('thickness[m]')\n",
    "plt.plot(void, color = 'red' )\n",
    "plt.show"
   ]
  },
  {
   "cell_type": "code",
   "execution_count": 16,
   "metadata": {},
   "outputs": [
    {
     "data": {
      "image/png": "[encoded data removed]",
      "text/plain": [
       "<Figure size 432x288 with 1 Axes>"
      ]
     },
     "metadata": {
      "needs_background": "light"
     },
     "output_type": "display_data"
    }
   ],
   "source": [
    "#問題７グラフのカスタマイズ\n",
    "\n",
    "plt.title('thickness of folded paper')\n",
    "plt.xlabel('number of folds')\n",
    "plt.hlines([384400], xmin=1, xmax=46)  # 月の距離\n",
    "plt.ylabel('thickness[m]')\n",
    "plt.plot(void, color = 'gold', marker = '^' , linestyle= '--')\n",
    "plt.tick_params(axis='y', labelsize='x-large', direction = 'in') # 軸の値に関する設定を行う\n",
    "plt.show()"
   ]
  },
  {
   "cell_type": "code",
   "execution_count": null,
   "metadata": {},
   "outputs": [],
   "source": []
  }
 ],
 "metadata": {
  "kernelspec": {
   "display_name": "Python 3",
   "language": "python",
   "name": "python3"
  },
  "language_info": {
   "codemirror_mode": {
    "name": "ipython",
    "version": 3
   },
   "file_extension": ".py",
   "mimetype": "text/x-python",
   "name": "python",
   "nbconvert_exporter": "python",
   "pygments_lexer": "ipython3",
   "version": "3.7.4"
  }
 },
 "nbformat": 4,
 "nbformat_minor": 2
}
