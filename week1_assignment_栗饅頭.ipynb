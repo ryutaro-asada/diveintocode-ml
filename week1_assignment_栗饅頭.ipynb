{
 "cells": [
  {
   "cell_type": "markdown",
   "metadata": {},
   "source": [
    "問題】栗まんじゅうが太陽系を覆う日\n",
    "1個の栗まんじゅうにバイバインを振りかけた場合、太陽系が栗まんじゅうで覆われるのは何分後でしょうか。これを計算するプログラムを作成してください。\n",
    "\n",
    "栗まんじゅうや太陽系の体積を調査した上で仮定して計算してください。栗まんじゅうの隙間や重力などは考えず、問題を単純化して構いません。\n",
    "\n",
    "ボールにバイバインを振りかけた時、東京ドームが一杯になる時間など他の状況にも適用できるような汎用的なプログラムを作成してください。また、グラフを表示するなど分かりやすいノートブックを作成してください。"
   ]
  },
  {
   "cell_type": "code",
   "execution_count": 4,
   "metadata": {},
   "outputs": [],
   "source": [
    "#クリマンが何かをおおうまでにかかる時間式\n",
    "def time_kuriman_covering(kuri_v_m, something_v_m):\n",
    "    \n",
    "    v = kuri_v_m\n",
    "    count = 0\n",
    "    \n",
    "    #太陽系超えるまで\n",
    "    while v <= something_v_m:\n",
    "        v *= 2\n",
    "        count += 1\n",
    "        \n",
    "    return count*5"
   ]
  },
  {
   "cell_type": "code",
   "execution_count": 7,
   "metadata": {},
   "outputs": [
    {
     "data": {
      "text/plain": [
       "85"
      ]
     },
     "execution_count": 7,
     "metadata": {},
     "output_type": "execute_result"
    }
   ],
   "source": [
    "time_kuriman_covering(100, 10000000)"
   ]
  },
  {
   "cell_type": "code",
   "execution_count": 11,
   "metadata": {},
   "outputs": [
    {
     "name": "stdout",
     "output_type": "stream",
     "text": [
      "クリマンが覆うまでの時間は720分です。\n"
     ]
    }
   ],
   "source": [
    "#栗まんじゅうの体積(「栗きんとん　すや」の栗まんじゅう)\n",
    "#60mm × 40mm × 30mmの長方形として計算\n",
    "#メートル換算\n",
    "kuri_v_m = 60*40*30/(10**6)\n",
    "\n",
    "#太陽系の体積(http://www2u.biglobe.ne.jp/~rachi/uni_wi.htm#sun_gp)\n",
    "#太陽を中心に一番遠い冥王星までで、約５９億１５１０万キロメートル\n",
    "#これを半径として球体として計算\n",
    "#メートル換算\n",
    "import math\n",
    "solar_system_v_m = 4/3*math.pi*(5.9151*10**13)**3\n",
    "    \n",
    "\n",
    "print('クリマンが覆うまでの時間は{}分です。'.format\n",
    "    (time_kuriman_covering(kuri_v_m, solar_system_v_m)))"
   ]
  },
  {
   "cell_type": "code",
   "execution_count": null,
   "metadata": {},
   "outputs": [],
   "source": []
  }
 ],
 "metadata": {
  "kernelspec": {
   "display_name": "Python 3",
   "language": "python",
   "name": "python3"
  },
  "language_info": {
   "codemirror_mode": {
    "name": "ipython",
    "version": 3
   },
   "file_extension": ".py",
   "mimetype": "text/x-python",
   "name": "python",
   "nbconvert_exporter": "python",
   "pygments_lexer": "ipython3",
   "version": "3.7.4"
  }
 },
 "nbformat": 4,
 "nbformat_minor": 2
}
